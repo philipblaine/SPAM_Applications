{
 "cells": [
  {
   "cell_type": "code",
   "execution_count": 1,
   "metadata": {},
   "outputs": [
    {
     "name": "stderr",
     "output_type": "stream",
     "text": [
      "INFO: 2021-03-08 22:20:14,072 Initialized ParametricRealField(names = ['mu'], values = [8])\n"
     ]
    }
   ],
   "source": [
    "    load_attach_path(\"/mnt/c/users/phili/SAGEMATH/SPAM_Applications\")\n",
    "    load(\"startup.sage\")\n",
    "    \n",
    "    K.<mu> = ParametricRealField([8])\n",
    "\n",
    "    p = MixedIntegerLinearProgram(solver = (\"GLPK\", \"InteractiveLP\"), maximization=True, base_ring=K)  \n",
    "    x = p.new_variable(integer=False, nonnegative=True)\n",
    "    \n",
    "    #x0, x1, x2 are portfolio weights\n",
    "    #x3-x26 are constraint variables\n",
    "    #x27-75 are slack variables\n",
    "\n",
    "    num_cols = 3\n",
    "\n",
    "    col1 = [1,1003/1000,1005/1000,1007/1000,1002/1000,1001/1000,1005/1000,1004/1000,1004/1000,1008/1000,1007/1000,1002/1000,1002/1000,1002/1000,1002/1000,1,1002/1000,1004/1000,1004/1000,999/1000,997/1000,1007/1000,996/1000,1002/1000]; col2 = [1044/1000,1015/1000,1024/1000,1027/1000,1040/1000,995/1000,1044/1000,1060/1000,1,1030/1000,963/1000,1005/1000,960/1000,1035/1000,1047/1000,978/1000,1048/1000,1029/1000,1076/1000,1002/1000,1008/1000,958/1000,1056/1000,980/1000]; col3 = [1068/1000,1051/1000,1062/1000,980/1000,991/1000,969/1000,1086/1000,1043/1000,963/1000,949/1000,1034/1000,1022/1000,972/1000,1050/1000,1042/1000,908/1000,1146/1000,1018/1000,1015/1000,909/1000,1063/1000,1064/1000,1071/1000,1070/1000]\n",
    "\n",
    "\n",
    "    r1sum = 0; r2sum = 0; r3sum = 0\n",
    "\n",
    "    for i in range(len(col1)):\n",
    "        r1sum += col1[i]\n",
    "\n",
    "    for j in range(len(col2)):\n",
    "        r2sum += col2[j]\n",
    "\n",
    "    for k in range(len(col3)):\n",
    "        r3sum += col3[k]\n",
    "        \n",
    "\n",
    "    r1 = r1sum/24; r2 = r2sum/24; r3 = r3sum/24\n",
    "\n",
    "    x0 = 1 - x[2] - x[1]\n",
    "    \n",
    "    p.add_constraint(x0 >= 0)\n",
    "   \n",
    "    for t in range(3,27,1):\n",
    "        p.add_constraint((-x[t] <= (x0*(col1[t-3]-r1) + x[1]*(col2[t-3]-r2) + x[2]*(col3[t-3]-r3))))\n",
    "        \n",
    "    for t in range(3,27,1):\n",
    "        p.add_constraint((x[t] >= (x0*(col1[t-3]-r1) + x[1]*(col2[t-3]-r2) + x[2]*(col3[t-3]-r3))))\n",
    "\n",
    "  \n",
    "   \n"
   ]
  },
  {
   "cell_type": "code",
   "execution_count": 2,
   "metadata": {
    "scrolled": false
   },
   "outputs": [
    {
     "name": "stderr",
     "output_type": "stream",
     "text": [
      "INFO: 2021-03-08 22:20:18,056 New constraint: -mu < 0\n",
      "INFO: 2021-03-08 22:20:18,058 New constraint: -mu + 4800/4813 < 0\n",
      "INFO: 2021-03-08 22:20:18,060 New constraint: mu - 24000/481 < 0\n"
     ]
    }
   ],
   "source": [
    " p.set_objective(mu*(x0*r1 + x[1]*r2 + x[2]*r3) - ((1/24) * sum([x[o] for o in range(3,27,1)])))"
   ]
  },
  {
   "cell_type": "code",
   "execution_count": null,
   "metadata": {},
   "outputs": [],
   "source": []
  },
  {
   "cell_type": "code",
   "execution_count": 7,
   "metadata": {},
   "outputs": [],
   "source": [
    "lp = setup_portfolio_lp([[1,1003/1000,1005/1000,1007/1000,1002/1000,1001/1000,1005/1000,1004/1000,1004/1000,1008/1000,1007/1000,1002/1000,1002/1000,1002/1000,1002/1000,1,1002/1000,1004/1000,1004/1000,999/1000,997/1000,1007/1000,996/1000,1002/1000],[1044/1000,1015/1000,1024/1000,1027/1000,1040/1000,995/1000,1044/1000,1060/1000,1,1030/1000,963/1000,1005/1000,960/1000,1035/1000,1047/1000,978/1000,1048/1000,1029/1000,1076/1000,1002/1000,1008/1000,958/1000,1056/1000,980/1000],[1068/1000,1051/1000,1062/1000,980/1000,991/1000,969/1000,1086/1000,1043/1000,963/1000,949/1000,1034/1000,1022/1000,972/1000,1050/1000,1042/1000,908/1000,1146/1000,1018/1000,1015/1000,909/1000,1063/1000,1064/1000,1071/1000,1070/1000]],mu)"
   ]
  },
  {
   "cell_type": "code",
   "execution_count": 8,
   "metadata": {},
   "outputs": [
    {
     "data": {
      "text/plain": [
       "False"
      ]
     },
     "execution_count": 8,
     "metadata": {},
     "output_type": "execute_result"
    }
   ],
   "source": [
    "lp == p"
   ]
  },
  {
   "cell_type": "code",
   "execution_count": 9,
   "metadata": {},
   "outputs": [
    {
     "name": "stdout",
     "output_type": "stream",
     "text": [
      "Maximization:\n",
      "  (-481/24000*mu)~ x1 (-61/12000*mu)~ x2 -1/24 x3 -1/24 x4 -1/24 x5 -1/24 x6 -1/24 x7 -1/24 x8 -1/24 x9 -1/24 x10 -1/24 x11 -1/24 x12 -1/24 x13 -1/24 x14 -1/24 x15 -1/24 x16 -1/24 x17 -1/24 x18 -1/24 x19 -1/24 x20 -1/24 x21 -1/24 x22 -1/24 x23 -1/24 x24 -1/24 x25 -1/24 x26 + (4091/4000*mu)~ \n",
      "\n",
      "\n",
      "Constraints:\n",
      "  x1 + x2 <= 1\n",
      "  -17/250 x1 - 3/125 x2 - x3 <= 15801/8000\n",
      "  17/250 x1 + 3/125 x2 - x3 <= -15801/8000\n",
      "  -6/125 x1 - 9/250 x2 - x4 <= 15937/8000\n",
      "  6/125 x1 + 9/250 x2 - x4 <= -15937/8000\n",
      "  -57/1000 x1 - 19/500 x2 - x5 <= 15849/8000\n",
      "  57/1000 x1 + 19/500 x2 - x5 <= -15849/8000\n",
      "  27/1000 x1 + 47/1000 x2 - x6 <= 3301/1600\n",
      "  -27/1000 x1 - 47/1000 x2 - x6 <= -3301/1600\n",
      "  11/1000 x1 + 49/1000 x2 - x7 <= 16417/8000\n",
      "  -11/1000 x1 - 49/1000 x2 - x7 <= -16417/8000\n",
      "  4/125 x1 + 13/500 x2 - x8 <= 16593/8000\n",
      "  -4/125 x1 - 13/500 x2 - x8 <= -16593/8000\n",
      "  -81/1000 x1 - 21/500 x2 - x9 <= 15657/8000\n",
      "  81/1000 x1 + 21/500 x2 - x9 <= -15657/8000\n",
      "  -39/1000 x1 + 17/1000 x2 - x10 <= 16001/8000\n",
      "  39/1000 x1 - 17/1000 x2 - x10 <= -16001/8000\n",
      "  41/1000 x1 + 37/1000 x2 - x11 <= 16641/8000\n",
      "  -41/1000 x1 - 37/1000 x2 - x11 <= -16641/8000\n",
      "  59/1000 x1 + 81/1000 x2 - x12 <= 16753/8000\n",
      "  -59/1000 x1 - 81/1000 x2 - x12 <= -16753/8000\n",
      "  -27/1000 x1 - 71/1000 x2 - x13 <= 16073/8000\n",
      "  27/1000 x1 + 71/1000 x2 - x13 <= -16073/8000\n",
      "  -1/50 x1 - 17/1000 x2 - x14 <= 16169/8000\n",
      "  1/50 x1 + 17/1000 x2 - x14 <= -16169/8000\n",
      "  3/100 x1 - 3/250 x2 - x15 <= 16569/8000\n",
      "  -3/100 x1 + 3/250 x2 - x15 <= -16569/8000\n",
      "  -6/125 x1 - 3/200 x2 - x16 <= 3189/1600\n",
      "  6/125 x1 + 3/200 x2 - x16 <= -3189/1600\n",
      "  -1/25 x1 + 1/200 x2 - x17 <= 16009/8000\n",
      "  1/25 x1 - 1/200 x2 - x17 <= -16009/8000\n",
      "  23/250 x1 + 7/100 x2 - x18 <= 17081/8000\n",
      "  -23/250 x1 - 7/100 x2 - x18 <= -17081/8000\n",
      "  -18/125 x1 - 49/500 x2 - x19 <= 15177/8000\n",
      "  18/125 x1 + 49/500 x2 - x19 <= -15177/8000\n",
      "  -7/500 x1 + 11/1000 x2 - x20 <= 16201/8000\n",
      "  7/500 x1 - 11/1000 x2 - x20 <= -16201/8000\n",
      "  -11/1000 x1 + 61/1000 x2 - x21 <= 649/320\n",
      "  11/1000 x1 - 61/1000 x2 - x21 <= -649/320\n",
      "  9/100 x1 + 93/1000 x2 - x22 <= 17073/8000\n",
      "  -9/100 x1 - 93/1000 x2 - x22 <= -17073/8000\n",
      "  -33/500 x1 - 11/200 x2 - x23 <= 15841/8000\n",
      "  33/500 x1 + 11/200 x2 - x23 <= -15841/8000\n",
      "  -57/1000 x1 - 53/500 x2 - x24 <= 15833/8000\n",
      "  57/1000 x1 + 53/500 x2 - x24 <= -15833/8000\n",
      "  -3/40 x1 - 3/200 x2 - x25 <= 15777/8000\n",
      "  3/40 x1 + 3/200 x2 - x25 <= -15777/8000\n",
      "  -17/250 x1 - 9/100 x2 - x26 <= 3157/1600\n",
      "  17/250 x1 + 9/100 x2 - x26 <= -3157/1600\n",
      "Variables:\n",
      "  x1 = x_0 is a continuous variable (min=0, max=+oo)\n",
      "  x2 = x_1 is a continuous variable (min=0, max=+oo)\n",
      "  x3 = x_2 is a continuous variable (min=0, max=+oo)\n",
      "  x4 = x_3 is a continuous variable (min=0, max=+oo)\n",
      "  x5 = x_4 is a continuous variable (min=0, max=+oo)\n",
      "  x6 = x_5 is a continuous variable (min=0, max=+oo)\n",
      "  x7 = x_6 is a continuous variable (min=0, max=+oo)\n",
      "  x8 = x_7 is a continuous variable (min=0, max=+oo)\n",
      "  x9 = x_8 is a continuous variable (min=0, max=+oo)\n",
      "  x10 = x_9 is a continuous variable (min=0, max=+oo)\n",
      "  x11 = x_10 is a continuous variable (min=0, max=+oo)\n",
      "  x12 = x_11 is a continuous variable (min=0, max=+oo)\n",
      "  x13 = x_12 is a continuous variable (min=0, max=+oo)\n",
      "  x14 = x_13 is a continuous variable (min=0, max=+oo)\n",
      "  x15 = x_14 is a continuous variable (min=0, max=+oo)\n",
      "  x16 = x_15 is a continuous variable (min=0, max=+oo)\n",
      "  x17 = x_16 is a continuous variable (min=0, max=+oo)\n",
      "  x18 = x_17 is a continuous variable (min=0, max=+oo)\n",
      "  x19 = x_18 is a continuous variable (min=0, max=+oo)\n",
      "  x20 = x_19 is a continuous variable (min=0, max=+oo)\n",
      "  x21 = x_20 is a continuous variable (min=0, max=+oo)\n",
      "  x22 = x_21 is a continuous variable (min=0, max=+oo)\n",
      "  x23 = x_22 is a continuous variable (min=0, max=+oo)\n",
      "  x24 = x_23 is a continuous variable (min=0, max=+oo)\n",
      "  x25 = x_24 is a continuous variable (min=0, max=+oo)\n",
      "  x26 = x_25 is a continuous variable (min=0, max=+oo)\n"
     ]
    }
   ],
   "source": [
    "lp.show()"
   ]
  },
  {
   "cell_type": "code",
   "execution_count": 5,
   "metadata": {},
   "outputs": [
    {
     "name": "stdout",
     "output_type": "stream",
     "text": [
      "Maximization:\n",
      "  (481/24000*mu)~ x1 + (359/24000*mu)~ x2 -1/24 x3 -1/24 x4 -1/24 x5 -1/24 x6 -1/24 x7 -1/24 x8 -1/24 x9 -1/24 x10 -1/24 x11 -1/24 x12 -1/24 x13 -1/24 x14 -1/24 x15 -1/24 x16 -1/24 x17 -1/24 x18 -1/24 x19 -1/24 x20 -1/24 x21 -1/24 x22 -1/24 x23 -1/24 x24 -1/24 x25 -1/24 x26 + (4813/4800*mu)~ \n",
      "\n",
      "\n",
      "Constraints:\n",
      "  x1 + x2 <= 1\n",
      "  -1151/24000 x1 - 697/24000 x2 - x3 <= -13/4800\n",
      "  -671/24000 x1 + 71/24000 x2 - x4 <= 7/24000\n",
      "  -887/24000 x1 - 97/24000 x2 - x5 <= 11/4800\n",
      "  1129/24000 x1 - 121/24000 x2 - x6 <= 103/24000\n",
      "  149/4800 x1 - 553/24000 x2 - x7 <= -17/24000\n",
      "  1249/24000 x1 + 503/24000 x2 - x8 <= -41/24000\n",
      "  -1463/24000 x1 - 577/24000 x2 - x9 <= 11/4800\n",
      "  -91/4800 x1 - 197/4800 x2 - x10 <= 31/24000\n",
      "  293/4800 x1 + 91/4800 x2 - x11 <= 31/24000\n",
      "  1897/24000 x1 - 169/24000 x2 - x12 <= 127/24000\n",
      "  -167/24000 x1 + 283/4800 x2 - x13 <= 103/24000\n",
      "  1/24000 x1 + 287/24000 x2 - x14 <= -17/24000\n",
      "  1201/24000 x1 + 1367/24000 x2 - x15 <= -17/24000\n",
      "  -671/24000 x1 - 433/24000 x2 - x16 <= -17/24000\n",
      "  -479/24000 x1 - 721/24000 x2 - x17 <= -17/24000\n",
      "  2689/24000 x1 + 887/24000 x2 - x18 <= -13/4800\n",
      "  -119/960 x1 - 149/4800 x2 - x19 <= -17/24000\n",
      "  29/4800 x1 - 241/24000 x2 - x20 <= 31/24000\n",
      "  217/24000 x1 - 1369/24000 x2 - x21 <= 31/24000\n",
      "  2641/24000 x1 + 287/24000 x2 - x22 <= -89/24000\n",
      "  -1103/24000 x1 + 19/4800 x2 - x23 <= -137/24000\n",
      "  -887/24000 x1 + 307/4800 x2 - x24 <= 103/24000\n",
      "  -1319/24000 x1 - 1081/24000 x2 - x25 <= -161/24000\n",
      "  -1151/24000 x1 + 887/24000 x2 - x26 <= -17/24000\n",
      "  1151/24000 x1 + 697/24000 x2 - x3 <= 13/4800\n",
      "  671/24000 x1 - 71/24000 x2 - x4 <= -7/24000\n",
      "  887/24000 x1 + 97/24000 x2 - x5 <= -11/4800\n",
      "  -1129/24000 x1 + 121/24000 x2 - x6 <= -103/24000\n",
      "  -149/4800 x1 + 553/24000 x2 - x7 <= 17/24000\n",
      "  -1249/24000 x1 - 503/24000 x2 - x8 <= 41/24000\n",
      "  1463/24000 x1 + 577/24000 x2 - x9 <= -11/4800\n",
      "  91/4800 x1 + 197/4800 x2 - x10 <= -31/24000\n",
      "  -293/4800 x1 - 91/4800 x2 - x11 <= -31/24000\n",
      "  -1897/24000 x1 + 169/24000 x2 - x12 <= -127/24000\n",
      "  167/24000 x1 - 283/4800 x2 - x13 <= -103/24000\n",
      "  -1/24000 x1 - 287/24000 x2 - x14 <= 17/24000\n",
      "  -1201/24000 x1 - 1367/24000 x2 - x15 <= 17/24000\n",
      "  671/24000 x1 + 433/24000 x2 - x16 <= 17/24000\n",
      "  479/24000 x1 + 721/24000 x2 - x17 <= 17/24000\n",
      "  -2689/24000 x1 - 887/24000 x2 - x18 <= 13/4800\n",
      "  119/960 x1 + 149/4800 x2 - x19 <= 17/24000\n",
      "  -29/4800 x1 + 241/24000 x2 - x20 <= -31/24000\n",
      "  -217/24000 x1 + 1369/24000 x2 - x21 <= -31/24000\n",
      "  -2641/24000 x1 - 287/24000 x2 - x22 <= 89/24000\n",
      "  1103/24000 x1 - 19/4800 x2 - x23 <= 137/24000\n",
      "  887/24000 x1 - 307/4800 x2 - x24 <= -103/24000\n",
      "  1319/24000 x1 + 1081/24000 x2 - x25 <= 161/24000\n",
      "  1151/24000 x1 - 887/24000 x2 - x26 <= 17/24000\n",
      "Variables:\n",
      "  x1 = x_0 is a continuous variable (min=0, max=+oo)\n",
      "  x2 = x_1 is a continuous variable (min=0, max=+oo)\n",
      "  x3 = x_2 is a continuous variable (min=0, max=+oo)\n",
      "  x4 = x_3 is a continuous variable (min=0, max=+oo)\n",
      "  x5 = x_4 is a continuous variable (min=0, max=+oo)\n",
      "  x6 = x_5 is a continuous variable (min=0, max=+oo)\n",
      "  x7 = x_6 is a continuous variable (min=0, max=+oo)\n",
      "  x8 = x_7 is a continuous variable (min=0, max=+oo)\n",
      "  x9 = x_8 is a continuous variable (min=0, max=+oo)\n",
      "  x10 = x_9 is a continuous variable (min=0, max=+oo)\n",
      "  x11 = x_10 is a continuous variable (min=0, max=+oo)\n",
      "  x12 = x_11 is a continuous variable (min=0, max=+oo)\n",
      "  x13 = x_12 is a continuous variable (min=0, max=+oo)\n",
      "  x14 = x_13 is a continuous variable (min=0, max=+oo)\n",
      "  x15 = x_14 is a continuous variable (min=0, max=+oo)\n",
      "  x16 = x_15 is a continuous variable (min=0, max=+oo)\n",
      "  x17 = x_16 is a continuous variable (min=0, max=+oo)\n",
      "  x18 = x_17 is a continuous variable (min=0, max=+oo)\n",
      "  x19 = x_18 is a continuous variable (min=0, max=+oo)\n",
      "  x20 = x_19 is a continuous variable (min=0, max=+oo)\n",
      "  x21 = x_20 is a continuous variable (min=0, max=+oo)\n",
      "  x22 = x_21 is a continuous variable (min=0, max=+oo)\n",
      "  x23 = x_22 is a continuous variable (min=0, max=+oo)\n",
      "  x24 = x_23 is a continuous variable (min=0, max=+oo)\n",
      "  x25 = x_24 is a continuous variable (min=0, max=+oo)\n",
      "  x26 = x_25 is a continuous variable (min=0, max=+oo)\n"
     ]
    }
   ],
   "source": [
    "p.show()"
   ]
  },
  {
   "cell_type": "code",
   "execution_count": null,
   "metadata": {},
   "outputs": [],
   "source": []
  }
 ],
 "metadata": {
  "kernelspec": {
   "display_name": "SageMath 9.3.beta6",
   "language": "sage",
   "name": "sagemath"
  },
  "language_info": {
   "codemirror_mode": {
    "name": "ipython",
    "version": 3
   },
   "file_extension": ".py",
   "mimetype": "text/x-python",
   "name": "python",
   "nbconvert_exporter": "python",
   "pygments_lexer": "ipython3",
   "version": "3.8.5"
  }
 },
 "nbformat": 4,
 "nbformat_minor": 4
}
