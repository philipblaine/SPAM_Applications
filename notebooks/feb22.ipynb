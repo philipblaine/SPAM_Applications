{
 "cells": [
  {
   "cell_type": "code",
   "execution_count": 1,
   "metadata": {},
   "outputs": [
    {
     "name": "stderr",
     "output_type": "stream",
     "text": [
      "INFO: 2021-02-25 15:40:52,293 Initialized ParametricRealField(names = ['mu'], values = [8])\n",
      "INFO: 2021-02-25 15:40:52,473 New constraint: -mu < 0\n",
      "INFO: 2021-02-25 15:40:52,474 New constraint: -mu + 4800/4813 < 0\n",
      "INFO: 2021-02-25 15:40:52,476 New constraint: mu - 24000/359 < 0\n",
      "INFO: 2021-02-25 15:40:52,477 New constraint: mu - 24000/481 < 0\n"
     ]
    }
   ],
   "source": [
    "    load_attach_path(\"/mnt/c/users/phili/SAGEMATH/SPAM_Applications\")\n",
    "    load(\"startup.sage\")\n",
    "    \n",
    "    K.<mu> = ParametricRealField([8])\n",
    "      \n",
    "\n",
    "    if base_ring is None:\n",
    "        base_ring = mu.parent()\n",
    "\n",
    "    p2 = MixedIntegerLinearProgram(solver=(\"GLPK\", \"InteractiveLP\"),maximization=True, base_ring=K)\n",
    "\n",
    "    x = p2.new_variable(integer=False, nonnegative=True)\n",
    "    #x0, x1, x2, x3, x4, x5, x6, x7, x8 are portfolio weights\n",
    "    #x9-x32 are constraint variables\n",
    "\n",
    "    num_cols = 9\n",
    "\n",
    "    col1 = [1,1003/1000,1005/1000,1007/1000,1002/1000,1001/1000,1005/1000,1004/1000,1004/1000,1008/1000,1007/1000,1002/1000,1002/1000,1002/1000,1002/1000,1,1002/1000,1004/1000,1004/1000,999/1000,997/1000,1007/1000,996/1000,1002/1000]; col2 = [1044/1000,1015/1000,1024/1000,1027/1000,1040/1000,995/1000,1044/1000,1060/1000,1,1030/1000,963/1000,1005/1000,960/1000,1035/1000,1047/1000,978/1000,1048/1000,1029/1000,1076/1000,1002/1000,1008/1000,958/1000,1056/1000,980/1000]; col3 = [1068/1000,1051/1000,1062/1000,980/1000,991/1000,969/1000,1086/1000,1043/1000,963/1000,949/1000,1034/1000,1022/1000,972/1000,1050/1000,1042/1000,908/1000,1146/1000,1018/1000,1015/1000,909/1000,1063/1000,1064/1000,1071/1000,1070/1000]; col4 = [1016/1000,1039/1000,994/1000,971/1000,1009/1000,1030/1000,1007/1000,1023/1000,1040/1000,1012/1000,1023/1000,995/1000,962/1000,1043/1000,1003/1000,1021/1000,1009/1000,1,1048/1000,1030/1000,1009/1000,983/1000,1016/1000,1012/1000]; col5 = [1035/1000,1046/1000,1008/1000,989/1000,1021/1000,997/1000,1024/1000,1028/1000,1038/1000,1011/1000,943/1000,999/1000,983/1000,1021/1000,1044/1000,1031/1000,1003/1000,1005/1000,1058/1000,986/1000,1017/1000,976/1000,1038/1000,974/1000]; col6 = [1032/1000,1047/1000,1010/1000,973/1000,1020/1000,989/1000,1028/1000,1040/1000,1040/1000,1070/1000,974/1000,995/1000,935/1000,987/1000,1023/1000,1002/1000,1034/1000,969/1000,1063/1000,977/1000,1002/1000,991/1000,1057/1000,987/1000]; col7 = [1004/1000,1028/1000,1021/1000,985/1000,1020/1000,1020/1000,991/1000,1018/1000,999/1000,1039/1000,1016/1000,1018/1000,1002/1000,1010/1000,1008/1000,1008/1000,1002/1000,1001/1000,1009/1000,996/1000,1014/1000,983/1000,1032/1000,981/1000]; col8 = [987/1000,1049/1000,1036/1000,1053/1000,996/1000,999/1000,1026/1000,1053/1000,985/1000,1028/1000,1048/1000,1023/1000,1016/1000,1016/1000,954/1000,1013/1000,1024/1000,1009/1000,999/1000,936/1000,1042/1000,1006/1000,1023/1000,1059/1000]; col9 = [1014/1000,1073/1000,1002/1000,977/1000,1030/1000,1007/1000,999/1000,1003/1000,1015/1000,1029/1000,1055/1000,1,979/1000,969/1000,987/1000,1012/1000,1013/1000,1035/1000,1012/1000,969/1000,995/1000,996/1000,1023/1000,994/1000]\n",
    "\n",
    "    r1sum = 0; r2sum = 0; r3sum = 0; r4sum = 0; r5sum = 0; r6sum = 0; r7sum = 0; r8sum = 0; r9sum = 0\n",
    "\n",
    "    for i in range(len(col1)):\n",
    "        r1sum += col1[i]\n",
    "\n",
    "    for j in range(len(col2)):\n",
    "        r2sum += col2[j]\n",
    "\n",
    "    for k in range(len(col3)):\n",
    "        r3sum += col3[k]\n",
    "\n",
    "    for ii in range(len(col4)):\n",
    "        r4sum += col4[ii]\n",
    "\n",
    "    for iii in range(len(col5)):\n",
    "        r5sum += col5[iii]\n",
    "\n",
    "    for jj in range(len(col6)):\n",
    "        r6sum += col6[jj]\n",
    "\n",
    "    for jjj in range(len(col7)):\n",
    "        r7sum += col7[jjj]\n",
    "\n",
    "    for kk in range(len(col8)):\n",
    "        r8sum += col8[kk]\n",
    "\n",
    "    for iiii in range(len(col9)):\n",
    "        r9sum += col9[iiii]\n",
    "        \n",
    "\n",
    "    r1 = r1sum/24; r2 = r2sum/24; r3 = r3sum/24; r4 = r4sum/24; r5 = r5sum/24; r6 = r6sum/24; r7 = r7sum/24; r8 = r8sum/24; r9 = r9sum/24\n",
    "\n",
    "    #p2.add_constraint(x[0]+x[1]+x[2]+x[3]+x[4]+x[5]+x[6]+x[7]+x[8] == 1)\n",
    "    x0 = 1 - x[1] - x[2] - x[3] - x[4] - x[5] - x[6] -x[7] - x[8]\n",
    "    p2.add_constraint(x0 >= 0)\n",
    "\n",
    "    for t in range(9,33):\n",
    "        p2.add_constraint(-x[t] <= x0*(col1[t-9]-r1) + x[1]*(col2[t-9]-r2) + x[2]*(col3[t-9]-r3) + x[3]*(col4[t-9]-r4)+ x[4]*(col5[t-9]-r5)+ x[5]*(col6[t-9]-r6)+ x[6]*(col7[t-9]-r7)+ x[7]*(col8[t-9]-r8)+ x[8]*(col9[t-9]-r9))\n",
    "\n",
    "    for tt in range(9,33):\n",
    "        p2.add_constraint(x[tt] >= x0*(col1[tt-9]-r1) + x[1]*(col2[tt-9]-r2) + x[2]*(col3[tt-9]-r3) + x[3]*(col4[tt-9]-r4)+ x[4]*(col5[tt-9]-r5)+ x[5]*(col6[tt-9]-r6)+ x[6]*(col7[tt-9]-r7)+ x[7]*(col8[tt-9]-r8)+ x[8]*(col9[tt-9]-r9))\n",
    "\n",
    "\n",
    "    p2.set_objective(mu*(x0*r1 + x[1]*r2 + x[2]*r3 + x[3]*r4 + x[4]*r5 + x[5]*r6 + x[6]*r7 + x[7]*r8 + x[8]*r9) - ((1/24) * sum([x[o] for o in range(9,33)])))\n",
    "\n",
    "    \n",
    "    \n",
    "\n",
    "\t\t"
   ]
  },
  {
   "cell_type": "code",
   "execution_count": 2,
   "metadata": {},
   "outputs": [],
   "source": [
    "import pdb"
   ]
  },
  {
   "cell_type": "code",
   "execution_count": 3,
   "metadata": {},
   "outputs": [
    {
     "name": "stdout",
     "output_type": "stream",
     "text": [
      "> <string>(1)<module>()\n",
      "(Pdb) \n",
      "(Pdb) \n",
      "(Pdb) continue\n"
     ]
    },
    {
     "name": "stderr",
     "output_type": "stream",
     "text": [
      "INFO: 2021-02-25 15:42:09,954 New constraint: mu - 124437259319/8536966368 < 0\n",
      "INFO: 2021-02-25 15:42:10,067 New constraint: -mu + 57167378345/19886594064 < 0\n",
      "INFO: 2021-02-25 15:42:10,069 New constraint: -mu + 411856974065/105269879076 < 0\n",
      "INFO: 2021-02-25 15:42:10,070 New constraint: -mu + 238839926455/39773188128 < 0\n",
      "INFO: 2021-02-25 15:42:36,817 New constraint: -mu + 156317/19681 < 0\n",
      "INFO: 2021-02-25 15:42:36,927 New constraint: mu - 512620/59043 < 0\n",
      "INFO: 2021-02-25 15:43:07,675 New constraint: mu - 6023/732 < 0\n"
     ]
    }
   ],
   "source": [
    "%display latex\n",
    "sol = p2.solve()"
   ]
  },
  {
   "cell_type": "code",
   "execution_count": 4,
   "metadata": {},
   "outputs": [
    {
     "data": {
      "text/html": [
       "<html><script type=\"math/tex; mode=display\">\\newcommand{\\Bold}[1]{\\mathbf{#1}}\\frac{1661}{1625} \\mu - \\frac{196421}{4758000}</script></html>"
      ],
      "text/latex": [
       "\\begin{math}\n",
       "\\newcommand{\\Bold}[1]{\\mathbf{#1}}\\frac{1661}{1625} \\mu - \\frac{196421}{4758000}\n",
       "\\end{math}"
      ],
      "text/plain": [
       "(1661/1625*mu - 196421/4758000)~"
      ]
     },
     "execution_count": 4,
     "metadata": {},
     "output_type": "execute_result"
    }
   ],
   "source": [
    "sol"
   ]
  },
  {
   "cell_type": "code",
   "execution_count": 5,
   "metadata": {},
   "outputs": [
    {
     "data": {
      "text/html": [
       "<html><script type=\"math/tex; mode=display\">\\newcommand{\\Bold}[1]{\\mathbf{#1}}\\left[\\frac{93}{793}, \\frac{700}{793}, 0, 0, 0, 0, 0, 0\\right]</script></html>"
      ],
      "text/latex": [
       "\\begin{math}\n",
       "\\newcommand{\\Bold}[1]{\\mathbf{#1}}\\left[\\frac{93}{793}, \\frac{700}{793}, 0, 0, 0, 0, 0, 0\\right]\n",
       "\\end{math}"
      ],
      "text/plain": [
       "[93/793, 700/793, 0, 0, 0, 0, 0, 0]"
      ]
     },
     "execution_count": 5,
     "metadata": {},
     "output_type": "execute_result"
    }
   ],
   "source": [
    "p2.get_values(x[1],x[2], x[3], x[4], x[5], x[6], x[7], x[8])"
   ]
  },
  {
   "cell_type": "code",
   "execution_count": null,
   "metadata": {},
   "outputs": [],
   "source": [
    "from sage.numerical.backends.generic_backend import get_solver\n",
    "h = p2.get_backend()\n",
    "b = h.backends[0]\n",
    "bb = h.backends[1]"
   ]
  },
  {
   "cell_type": "code",
   "execution_count": null,
   "metadata": {},
   "outputs": [],
   "source": [
    "p2.number_of_variables()"
   ]
  },
  {
   "cell_type": "code",
   "execution_count": null,
   "metadata": {},
   "outputs": [],
   "source": [
    "lp = bb.interactive_lp_problem()\n",
    "st = lp.standard_form()\n"
   ]
  },
  {
   "cell_type": "code",
   "execution_count": null,
   "metadata": {},
   "outputs": [],
   "source": [
    "lp"
   ]
  },
  {
   "cell_type": "code",
   "execution_count": null,
   "metadata": {},
   "outputs": [],
   "source": [
    "st.run_revised_simplex_method()"
   ]
  },
  {
   "cell_type": "code",
   "execution_count": null,
   "metadata": {},
   "outputs": [],
   "source": [
    "c = K.make_proof_cell()"
   ]
  },
  {
   "cell_type": "code",
   "execution_count": null,
   "metadata": {},
   "outputs": [],
   "source": [
    "c.bsa"
   ]
  },
  {
   "cell_type": "code",
   "execution_count": null,
   "metadata": {},
   "outputs": [],
   "source": [
    "K.get_lt()"
   ]
  },
  {
   "cell_type": "code",
   "execution_count": null,
   "metadata": {},
   "outputs": [],
   "source": [
    "bsa = c.bsa"
   ]
  },
  {
   "cell_type": "code",
   "execution_count": null,
   "metadata": {},
   "outputs": [],
   "source": [
    "list(bsa.eq_poly())"
   ]
  },
  {
   "cell_type": "code",
   "execution_count": null,
   "metadata": {},
   "outputs": [],
   "source": [
    "list(bsa.le_poly())"
   ]
  },
  {
   "cell_type": "code",
   "execution_count": null,
   "metadata": {},
   "outputs": [],
   "source": [
    "list(bsa.lt_poly())[0]"
   ]
  },
  {
   "cell_type": "code",
   "execution_count": null,
   "metadata": {},
   "outputs": [],
   "source": [
    "mu = var('mu')\n",
    "sol = solve(732*mu - 6023, mu)\n",
    "type(sol)"
   ]
  },
  {
   "cell_type": "code",
   "execution_count": null,
   "metadata": {},
   "outputs": [],
   "source": [
    "K.get_lt_factor()"
   ]
  },
  {
   "cell_type": "code",
   "execution_count": null,
   "metadata": {},
   "outputs": [],
   "source": [
    "complex = SemialgebraicComplex(portfolio2, ['mu'], find_region_type=result_concrete_value, default_var_bound=(0,10))\n",
    "complex.bfs_completion(var_value=[1], flip_ineq_step=1/100, check_completion=False,wall_crossing_method=\"heuristic\", goto_lower_dim=False)"
   ]
  },
  {
   "cell_type": "code",
   "execution_count": null,
   "metadata": {},
   "outputs": [],
   "source": [
    "for i in complex.components:\n",
    "    print(i)"
   ]
  },
  {
   "cell_type": "code",
   "execution_count": null,
   "metadata": {},
   "outputs": [],
   "source": []
  }
 ],
 "metadata": {
  "kernelspec": {
   "display_name": "SageMath 9.3.beta6",
   "language": "sage",
   "name": "sagemath"
  },
  "language_info": {
   "codemirror_mode": {
    "name": "ipython",
    "version": 3
   },
   "file_extension": ".py",
   "mimetype": "text/x-python",
   "name": "python",
   "nbconvert_exporter": "python",
   "pygments_lexer": "ipython3",
   "version": "3.8.5"
  }
 },
 "nbformat": 4,
 "nbformat_minor": 4
}
