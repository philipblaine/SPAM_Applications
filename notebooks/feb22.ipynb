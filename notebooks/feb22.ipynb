{
 "cells": [
  {
   "cell_type": "code",
   "execution_count": null,
   "metadata": {},
   "outputs": [],
   "source": [
    "load_attach_path(\"/mnt/c/users/phili/SAGEMATH/SPAM_Applications\")\n",
    "load(\"startup.sage\")\n",
    "    \n",
    "K.<mu> = ParametricRealField([8])\n",
    "      "
   ]
  },
  {
   "cell_type": "code",
   "execution_count": null,
   "metadata": {},
   "outputs": [],
   "source": [
    "hist_data = [[1,1003/1000,1005/1000,1007/1000,1002/1000,1001/1000,1005/1000,1004/1000,1004/1000,1008/1000,1007/1000,1002/1000,1002/1000,1002/1000,1002/1000,1,1002/1000,1004/1000,1004/1000,999/1000,997/1000,1007/1000,996/1000,1002/1000],[1044/1000,1015/1000,1024/1000,1027/1000,1040/1000,995/1000,1044/1000,1060/1000,1,1030/1000,963/1000,1005/1000,960/1000,1035/1000,1047/1000,978/1000,1048/1000,1029/1000,1076/1000,1002/1000,1008/1000,958/1000,1056/1000,980/1000],[1068/1000,1051/1000,1062/1000,980/1000,991/1000,969/1000,1086/1000,1043/1000,963/1000,949/1000,1034/1000,1022/1000,972/1000,1050/1000,1042/1000,908/1000,1146/1000,1018/1000,1015/1000,909/1000,1063/1000,1064/1000,1071/1000,1070/1000],[1016/1000,1039/1000,994/1000,971/1000,1009/1000,1030/1000,1007/1000,1023/1000,1040/1000,1012/1000,1023/1000,995/1000,962/1000,1043/1000,1003/1000,1021/1000,1009/1000,1,1048/1000,1030/1000,1009/1000,983/1000,1016/1000,1012/1000],[1035/1000,1046/1000,1008/1000,989/1000,1021/1000,997/1000,1024/1000,1028/1000,1038/1000,1011/1000,943/1000,999/1000,983/1000,1021/1000,1044/1000,1031/1000,1003/1000,1005/1000,1058/1000,986/1000,1017/1000,976/1000,1038/1000,974/1000],[1032/1000,1047/1000,1010/1000,973/1000,1020/1000,989/1000,1028/1000,1040/1000,1040/1000,1070/1000,974/1000,995/1000,935/1000,987/1000,1023/1000,1002/1000,1034/1000,969/1000,1063/1000,977/1000,1002/1000,991/1000,1057/1000,987/1000],[1004/1000,1028/1000,1021/1000,985/1000,1020/1000,1020/1000,991/1000,1018/1000,999/1000,1039/1000,1016/1000,1018/1000,1002/1000,1010/1000,1008/1000,1008/1000,1002/1000,1001/1000,1009/1000,996/1000,1014/1000,983/1000,1032/1000,981/1000],[987/1000,1049/1000,1036/1000,1053/1000,996/1000,999/1000,1026/1000,1053/1000,985/1000,1028/1000,1048/1000,1023/1000,1016/1000,1016/1000,954/1000,1013/1000,1024/1000,1009/1000,999/1000,936/1000,1042/1000,1006/1000,1023/1000,1059/1000],[1014/1000,1073/1000,1002/1000,977/1000,1030/1000,1007/1000,999/1000,1003/1000,1015/1000,1029/1000,1055/1000,1,979/1000,969/1000,987/1000,1012/1000,1013/1000,1035/1000,1012/1000,969/1000,995/1000,996/1000,1023/1000,994/1000]]"
   ]
  },
  {
   "cell_type": "code",
   "execution_count": null,
   "metadata": {},
   "outputs": [],
   "source": [
    "load(\"setup_portfolio_lp.sage\")\n",
    "lp = setup_portfolio_lp(hist_data,mu)"
   ]
  },
  {
   "cell_type": "code",
   "execution_count": null,
   "metadata": {},
   "outputs": [],
   "source": [
    "lp.show()\n"
   ]
  },
  {
   "cell_type": "code",
   "execution_count": null,
   "metadata": {},
   "outputs": [],
   "source": [
    "p2.show()\n"
   ]
  },
  {
   "cell_type": "code",
   "execution_count": null,
   "metadata": {},
   "outputs": [],
   "source": [
    "dev1"
   ]
  },
  {
   "cell_type": "code",
   "execution_count": null,
   "metadata": {},
   "outputs": [],
   "source": [
    "dev2"
   ]
  },
  {
   "cell_type": "code",
   "execution_count": null,
   "metadata": {},
   "outputs": [],
   "source": [
    "r1"
   ]
  },
  {
   "cell_type": "code",
   "execution_count": null,
   "metadata": {},
   "outputs": [],
   "source": [
    "p2.show()"
   ]
  },
  {
   "cell_type": "code",
   "execution_count": null,
   "metadata": {},
   "outputs": [],
   "source": []
  },
  {
   "cell_type": "code",
   "execution_count": null,
   "metadata": {},
   "outputs": [],
   "source": [
    "r2"
   ]
  },
  {
   "cell_type": "code",
   "execution_count": null,
   "metadata": {},
   "outputs": [],
   "source": [
    "r3"
   ]
  },
  {
   "cell_type": "code",
   "execution_count": null,
   "metadata": {},
   "outputs": [],
   "source": [
    "r4"
   ]
  },
  {
   "cell_type": "code",
   "execution_count": null,
   "metadata": {},
   "outputs": [],
   "source": [
    "r5"
   ]
  },
  {
   "cell_type": "code",
   "execution_count": null,
   "metadata": {},
   "outputs": [],
   "source": [
    "r6"
   ]
  },
  {
   "cell_type": "code",
   "execution_count": null,
   "metadata": {},
   "outputs": [],
   "source": [
    "r7"
   ]
  },
  {
   "cell_type": "code",
   "execution_count": null,
   "metadata": {},
   "outputs": [],
   "source": [
    "r8"
   ]
  },
  {
   "cell_type": "code",
   "execution_count": null,
   "metadata": {},
   "outputs": [],
   "source": [
    "r9"
   ]
  },
  {
   "cell_type": "code",
   "execution_count": null,
   "metadata": {},
   "outputs": [],
   "source": [
    "import pdb"
   ]
  },
  {
   "cell_type": "code",
   "execution_count": null,
   "metadata": {},
   "outputs": [],
   "source": [
    "%display latex\n",
    "sol = p2.solve()"
   ]
  },
  {
   "cell_type": "code",
   "execution_count": null,
   "metadata": {},
   "outputs": [],
   "source": [
    "sol"
   ]
  },
  {
   "cell_type": "code",
   "execution_count": null,
   "metadata": {},
   "outputs": [],
   "source": [
    "lp = portfolio_lp(9,24,[[1,1003/1000,1005/1000,1007/1000,1002/1000,1001/1000,1005/1000,1004/1000,1004/1000,1008/1000,1007/1000,1002/1000,1002/1000,1002/1000,1002/1000,1,1002/1000,1004/1000,1004/1000,999/1000,997/1000,1007/1000,996/1000,1002/1000],[1044/1000,1015/1000,1024/1000,1027/1000,1040/1000,995/1000,1044/1000,1060/1000,1,1030/1000,963/1000,1005/1000,960/1000,1035/1000,1047/1000,978/1000,1048/1000,1029/1000,1076/1000,1002/1000,1008/1000,958/1000,1056/1000,980/1000],[1068/1000,1051/1000,1062/1000,980/1000,991/1000,969/1000,1086/1000,1043/1000,963/1000,949/1000,1034/1000,1022/1000,972/1000,1050/1000,1042/1000,908/1000,1146/1000,1018/1000,1015/1000,909/1000,1063/1000,1064/1000,1071/1000,1070/1000],[1016/1000,1039/1000,994/1000,971/1000,1009/1000,1030/1000,1007/1000,1023/1000,1040/1000,1012/1000,1023/1000,995/1000,962/1000,1043/1000,1003/1000,1021/1000,1009/1000,1,1048/1000,1030/1000,1009/1000,983/1000,1016/1000,1012/1000],[1035/1000,1046/1000,1008/1000,989/1000,1021/1000,997/1000,1024/1000,1028/1000,1038/1000,1011/1000,943/1000,999/1000,983/1000,1021/1000,1044/1000,1031/1000,1003/1000,1005/1000,1058/1000,986/1000,1017/1000,976/1000,1038/1000,974/1000],[1032/1000,1047/1000,1010/1000,973/1000,1020/1000,989/1000,1028/1000,1040/1000,1040/1000,1070/1000,974/1000,995/1000,935/1000,987/1000,1023/1000,1002/1000,1034/1000,969/1000,1063/1000,977/1000,1002/1000,991/1000,1057/1000,987/1000],[1004/1000,1028/1000,1021/1000,985/1000,1020/1000,1020/1000,991/1000,1018/1000,999/1000,1039/1000,1016/1000,1018/1000,1002/1000,1010/1000,1008/1000,1008/1000,1002/1000,1001/1000,1009/1000,996/1000,1014/1000,983/1000,1032/1000,981/1000],[987/1000,1049/1000,1036/1000,1053/1000,996/1000,999/1000,1026/1000,1053/1000,985/1000,1028/1000,1048/1000,1023/1000,1016/1000,1016/1000,954/1000,1013/1000,1024/1000,1009/1000,999/1000,936/1000,1042/1000,1006/1000,1023/1000,1059/1000],[1014/1000,1073/1000,1002/1000,977/1000,1030/1000,1007/1000,999/1000,1003/1000,1015/1000,1029/1000,1055/1000,1,979/1000,969/1000,987/1000,1012/1000,1013/1000,1035/1000,1012/1000,969/1000,995/1000,996/1000,1023/1000,994/1000]],8)"
   ]
  },
  {
   "cell_type": "code",
   "execution_count": null,
   "metadata": {},
   "outputs": [],
   "source": [
    "%display latex\n",
    "lp.show()"
   ]
  },
  {
   "cell_type": "code",
   "execution_count": null,
   "metadata": {},
   "outputs": [],
   "source": [
    "p2.show()"
   ]
  },
  {
   "cell_type": "code",
   "execution_count": null,
   "metadata": {},
   "outputs": [],
   "source": [
    "p2.get_values(x[1],x[2], x[3], x[4], x[5], x[6], x[7], x[8])"
   ]
  },
  {
   "cell_type": "code",
   "execution_count": null,
   "metadata": {},
   "outputs": [],
   "source": [
    "from sage.numerical.backends.generic_backend import get_solver\n",
    "h = p2.get_backend()\n",
    "b = h.backends[0]\n",
    "bb = h.backends[1]"
   ]
  },
  {
   "cell_type": "code",
   "execution_count": null,
   "metadata": {},
   "outputs": [],
   "source": [
    "p2.number_of_variables()"
   ]
  },
  {
   "cell_type": "code",
   "execution_count": null,
   "metadata": {},
   "outputs": [],
   "source": [
    "lp = bb.interactive_lp_problem()\n",
    "st = lp.standard_form()\n"
   ]
  },
  {
   "cell_type": "code",
   "execution_count": null,
   "metadata": {},
   "outputs": [],
   "source": [
    "lp"
   ]
  },
  {
   "cell_type": "code",
   "execution_count": null,
   "metadata": {},
   "outputs": [],
   "source": [
    "st.run_revised_simplex_method()"
   ]
  },
  {
   "cell_type": "code",
   "execution_count": null,
   "metadata": {},
   "outputs": [],
   "source": [
    "c = K.make_proof_cell()"
   ]
  },
  {
   "cell_type": "code",
   "execution_count": null,
   "metadata": {},
   "outputs": [],
   "source": [
    "c.bsa"
   ]
  },
  {
   "cell_type": "code",
   "execution_count": null,
   "metadata": {},
   "outputs": [],
   "source": [
    "K.get_lt()"
   ]
  },
  {
   "cell_type": "code",
   "execution_count": null,
   "metadata": {},
   "outputs": [],
   "source": [
    "bsa = c.bsa"
   ]
  },
  {
   "cell_type": "code",
   "execution_count": null,
   "metadata": {},
   "outputs": [],
   "source": [
    "list(bsa.eq_poly())"
   ]
  },
  {
   "cell_type": "code",
   "execution_count": null,
   "metadata": {},
   "outputs": [],
   "source": [
    "list(bsa.le_poly())"
   ]
  },
  {
   "cell_type": "code",
   "execution_count": null,
   "metadata": {},
   "outputs": [],
   "source": [
    "list(bsa.lt_poly())"
   ]
  },
  {
   "cell_type": "code",
   "execution_count": null,
   "metadata": {},
   "outputs": [],
   "source": [
    "mu = var('mu')\n",
    "sol = solve(732*mu - 6023, mu)\n",
    "type(sol)"
   ]
  },
  {
   "cell_type": "code",
   "execution_count": null,
   "metadata": {},
   "outputs": [],
   "source": [
    "K.get_lt_factor()"
   ]
  },
  {
   "cell_type": "code",
   "execution_count": null,
   "metadata": {},
   "outputs": [],
   "source": [
    "complex = SemialgebraicComplex(portfolio2, ['mu'], find_region_type=result_concrete_value, default_var_bound=(0,10))\n",
    "complex.bfs_completion(var_value=[1], flip_ineq_step=1/100, check_completion=False,wall_crossing_method=\"heuristic\", goto_lower_dim=False)"
   ]
  },
  {
   "cell_type": "code",
   "execution_count": null,
   "metadata": {},
   "outputs": [],
   "source": [
    "for i in complex.components:\n",
    "    print(i)"
   ]
  },
  {
   "cell_type": "code",
   "execution_count": null,
   "metadata": {},
   "outputs": [],
   "source": []
  }
 ],
 "metadata": {
  "kernelspec": {
   "display_name": "SageMath 9.3.beta6",
   "language": "sage",
   "name": "sagemath"
  },
  "language_info": {
   "codemirror_mode": {
    "name": "ipython",
    "version": 3
   },
   "file_extension": ".py",
   "mimetype": "text/x-python",
   "name": "python",
   "nbconvert_exporter": "python",
   "pygments_lexer": "ipython3",
   "version": "3.8.5"
  }
 },
 "nbformat": 4,
 "nbformat_minor": 4
}
