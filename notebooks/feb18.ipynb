{
 "cells": [
  {
   "cell_type": "code",
   "execution_count": 1,
   "metadata": {},
   "outputs": [
    {
     "name": "stderr",
     "output_type": "stream",
     "text": [
      "INFO: 2021-02-23 15:27:56,242 Initialized ParametricRealField(names = ['mu'], values = [1])\n",
      "INFO: 2021-02-23 15:27:56,385 New constraint: -mu < 0\n",
      "INFO: 2021-02-23 15:27:56,386 New constraint: -mu + 4800/4813 < 0\n",
      "INFO: 2021-02-23 15:27:56,387 New constraint: mu - 24000/481 < 0\n"
     ]
    }
   ],
   "source": [
    "    load(\"startup.sage\")\n",
    "    \n",
    "    K.<mu> = ParametricRealField([1])\n",
    "\n",
    "    p = MixedIntegerLinearProgram(solver = (\"GLPK\", \"InteractiveLP\"), maximization=True, base_ring=K)  \n",
    "    x = p.new_variable(integer=False, nonnegative=True)\n",
    "    \n",
    "    #x0, x1, x2 are portfolio weights\n",
    "    #x3-x26 are constraint variables\n",
    "    #x27-75 are slack variables\n",
    "\n",
    "    num_cols = 3\n",
    "\n",
    "    col1 = [1,1003/1000,1005/1000,1007/1000,1002/1000,1001/1000,1005/1000,1004/1000,1004/1000,1008/1000,1007/1000,1002/1000,1002/1000,1002/1000,1002/1000,1,1002/1000,1004/1000,1004/1000,999/1000,997/1000,1007/1000,996/1000,1002/1000]; col2 = [1044/1000,1015/1000,1024/1000,1027/1000,1040/1000,995/1000,1044/1000,1060/1000,1,1030/1000,963/1000,1005/1000,960/1000,1035/1000,1047/1000,978/1000,1048/1000,1029/1000,1076/1000,1002/1000,1008/1000,958/1000,1056/1000,980/1000]; col3 = [1068/1000,1051/1000,1062/1000,980/1000,991/1000,969/1000,1086/1000,1043/1000,963/1000,949/1000,1034/1000,1022/1000,972/1000,1050/1000,1042/1000,908/1000,1146/1000,1018/1000,1015/1000,909/1000,1063/1000,1064/1000,1071/1000,1070/1000]\n",
    "\n",
    "\n",
    "    r1sum = 0; r2sum = 0; r3sum = 0\n",
    "\n",
    "    for i in range(len(col1)):\n",
    "        r1sum += col1[i]\n",
    "\n",
    "    for j in range(len(col2)):\n",
    "        r2sum += col2[j]\n",
    "\n",
    "    for k in range(len(col3)):\n",
    "        r3sum += col3[k]\n",
    "        \n",
    "\n",
    "    r1 = r1sum/24; r2 = r2sum/24; r3 = r3sum/24\n",
    "\n",
    "    x0 = 1 - x[2] - x[1]\n",
    "    \n",
    "    p.add_constraint(x0 >= 0)\n",
    "   \n",
    "    for t in range(3,27,1):\n",
    "        p.add_constraint((-x[t] <= (x0*(col1[t-3]-r1) + x[1]*(col2[t-3]-r2) + x[2]*(col3[t-3]-r3))))\n",
    "        \n",
    "    for t in range(3,27,1):\n",
    "        p.add_constraint((x[t] >= (x0*(col1[t-3]-r1) + x[1]*(col2[t-3]-r2) + x[2]*(col3[t-3]-r3))))\n",
    "\n",
    "  \n",
    "    p.set_objective(mu*(x0*r1 + x[1]*r2 + x[2]*r3) - ((1/24) * sum([x[o] for o in range(3,27,1)])))\n"
   ]
  },
  {
   "cell_type": "code",
   "execution_count": 2,
   "metadata": {},
   "outputs": [
    {
     "name": "stderr",
     "output_type": "stream",
     "text": [
      "INFO: 2021-02-23 15:28:16,622 New constraint: mu - 6491/1290 < 0\n",
      "INFO: 2021-02-23 15:28:16,713 New constraint: mu - 875591/839856 < 0\n",
      "INFO: 2021-02-23 15:28:18,462 New constraint: mu - 95041/92571 < 0\n"
     ]
    },
    {
     "data": {
      "text/html": [
       "<html><script type=\"math/tex; mode=display\">\\newcommand{\\Bold}[1]{\\mathbf{#1}}\\frac{40258073}{40076000} \\mu - \\frac{826853}{240456000}</script></html>"
      ],
      "text/latex": [
       "\\begin{math}\n",
       "\\newcommand{\\Bold}[1]{\\mathbf{#1}}\\frac{40258073}{40076000} \\mu - \\frac{826853}{240456000}\n",
       "\\end{math}"
      ],
      "text/plain": [
       "(40258073/40076000*mu - 826853/240456000)~"
      ]
     },
     "execution_count": 2,
     "metadata": {},
     "output_type": "execute_result"
    }
   ],
   "source": [
    "%display latex\n",
    "p.solve()"
   ]
  },
  {
   "cell_type": "code",
   "execution_count": 3,
   "metadata": {},
   "outputs": [
    {
     "data": {
      "text/html": [
       "<html><script type=\"math/tex; mode=display\">\\newcommand{\\Bold}[1]{\\mathbf{#1}}\\left[\\frac{3079}{40076}, \\frac{1371}{40076}\\right]</script></html>"
      ],
      "text/latex": [
       "\\begin{math}\n",
       "\\newcommand{\\Bold}[1]{\\mathbf{#1}}\\left[\\frac{3079}{40076}, \\frac{1371}{40076}\\right]\n",
       "\\end{math}"
      ],
      "text/plain": [
       "[3079/40076, 1371/40076]"
      ]
     },
     "execution_count": 3,
     "metadata": {},
     "output_type": "execute_result"
    }
   ],
   "source": [
    "p.get_values(x[1],x[2])"
   ]
  },
  {
   "cell_type": "code",
   "execution_count": null,
   "metadata": {},
   "outputs": [],
   "source": [
    "from sage.numerical.backends.generic_backend import get_solver\n",
    "h = p.get_backend()\n",
    "b = h.backends[0]\n",
    "bb = h.backends[1]"
   ]
  },
  {
   "cell_type": "code",
   "execution_count": null,
   "metadata": {},
   "outputs": [],
   "source": [
    "p.number_of_variables()"
   ]
  },
  {
   "cell_type": "code",
   "execution_count": null,
   "metadata": {},
   "outputs": [],
   "source": [
    "lp = bb.interactive_lp_problem()\n",
    "st = lp.standard_form()\n"
   ]
  },
  {
   "cell_type": "code",
   "execution_count": null,
   "metadata": {},
   "outputs": [],
   "source": [
    "%display latex"
   ]
  },
  {
   "cell_type": "code",
   "execution_count": null,
   "metadata": {},
   "outputs": [],
   "source": [
    "lp"
   ]
  },
  {
   "cell_type": "code",
   "execution_count": null,
   "metadata": {},
   "outputs": [],
   "source": [
    "h.ncols()\n"
   ]
  },
  {
   "cell_type": "code",
   "execution_count": null,
   "metadata": {},
   "outputs": [],
   "source": [
    "h.nrows()"
   ]
  },
  {
   "cell_type": "code",
   "execution_count": null,
   "metadata": {},
   "outputs": [],
   "source": []
  },
  {
   "cell_type": "code",
   "execution_count": null,
   "metadata": {},
   "outputs": [],
   "source": [
    "d = st.final_revised_dictionary()\n"
   ]
  },
  {
   "cell_type": "code",
   "execution_count": null,
   "metadata": {},
   "outputs": [],
   "source": [
    "d.is_feasible()"
   ]
  },
  {
   "cell_type": "code",
   "execution_count": null,
   "metadata": {},
   "outputs": [],
   "source": [
    "d.is_optimal()"
   ]
  },
  {
   "cell_type": "code",
   "execution_count": null,
   "metadata": {},
   "outputs": [],
   "source": [
    "d.basic_solution()"
   ]
  },
  {
   "cell_type": "code",
   "execution_count": null,
   "metadata": {},
   "outputs": [],
   "source": [
    "st.n_variables()\n"
   ]
  },
  {
   "cell_type": "code",
   "execution_count": null,
   "metadata": {
    "scrolled": true
   },
   "outputs": [],
   "source": [
    "p.solve()"
   ]
  },
  {
   "cell_type": "code",
   "execution_count": 4,
   "metadata": {},
   "outputs": [],
   "source": [
    "c = K.make_proof_cell()"
   ]
  },
  {
   "cell_type": "code",
   "execution_count": 5,
   "metadata": {},
   "outputs": [
    {
     "data": {
      "text/html": [
       "<html><script type=\"math/tex; mode=display\">\\newcommand{\\Bold}[1]{\\mathbf{#1}}\\verb|BasicSemialgebraicSet_veronese(BasicSemialgebraicSet_polyhedral_ppl_NNC_Polyhedron(Constraint_System|\\phantom{\\verb!x!}\\verb|{-92571*x0+95041>0,|\\phantom{\\verb!x!}\\verb|4813*x0-4800>0},|\\phantom{\\verb!x!}\\verb|names=[x0]),|\\phantom{\\verb!x!}\\verb|polynomial_map=[mu])|</script></html>"
      ],
      "text/latex": [
       "\\begin{math}\n",
       "\\newcommand{\\Bold}[1]{\\mathbf{#1}}\\verb|BasicSemialgebraicSet_veronese(BasicSemialgebraicSet_polyhedral_ppl_NNC_Polyhedron(Constraint_System|\\phantom{\\verb!x!}\\verb|{-92571*x0+95041>0,|\\phantom{\\verb!x!}\\verb|4813*x0-4800>0},|\\phantom{\\verb!x!}\\verb|names=[x0]),|\\phantom{\\verb!x!}\\verb|polynomial_map=[mu])|\n",
       "\\end{math}"
      ],
      "text/plain": [
       "BasicSemialgebraicSet_veronese(BasicSemialgebraicSet_polyhedral_ppl_NNC_Polyhedron(Constraint_System {-92571*x0+95041>0, 4813*x0-4800>0}, names=[x0]), polynomial_map=[mu])"
      ]
     },
     "execution_count": 5,
     "metadata": {},
     "output_type": "execute_result"
    }
   ],
   "source": [
    "c.bsa"
   ]
  },
  {
   "cell_type": "code",
   "execution_count": null,
   "metadata": {},
   "outputs": [],
   "source": [
    "K.get_lt()"
   ]
  },
  {
   "cell_type": "code",
   "execution_count": 6,
   "metadata": {},
   "outputs": [],
   "source": [
    "bsa = c.bsa"
   ]
  },
  {
   "cell_type": "code",
   "execution_count": 7,
   "metadata": {},
   "outputs": [
    {
     "data": {
      "text/html": [
       "<html><script type=\"math/tex; mode=display\">\\newcommand{\\Bold}[1]{\\mathbf{#1}}\\left[92571 \\mu - 95041, -4813 \\mu + 4800\\right]</script></html>"
      ],
      "text/latex": [
       "\\begin{math}\n",
       "\\newcommand{\\Bold}[1]{\\mathbf{#1}}\\left[92571 \\mu - 95041, -4813 \\mu + 4800\\right]\n",
       "\\end{math}"
      ],
      "text/plain": [
       "[92571*mu - 95041, -4813*mu + 4800]"
      ]
     },
     "execution_count": 7,
     "metadata": {},
     "output_type": "execute_result"
    }
   ],
   "source": [
    "list(bsa.lt_poly())"
   ]
  },
  {
   "cell_type": "code",
   "execution_count": null,
   "metadata": {},
   "outputs": [],
   "source": [
    "K.get_lt_factor()"
   ]
  },
  {
   "cell_type": "code",
   "execution_count": 10,
   "metadata": {},
   "outputs": [
    {
     "name": "stderr",
     "output_type": "stream",
     "text": [
      "INFO: 2021-02-22 17:24:21,709 Initialized ParametricRealField(names = ['mu'], values = [1])\n",
      "INFO: 2021-02-22 17:24:21,710 New constraint: -mu < 0\n",
      "INFO: 2021-02-22 17:24:21,794 Initialized ParametricRealField(names = ['mu'], values = [-1/1000])\n",
      "INFO: 2021-02-22 17:24:21,795 New constraint: mu < 0\n"
     ]
    }
   ],
   "source": [
    "complex = SemialgebraicComplex(portfolio, ['mu'], find_region_type=result_concrete_value, default_var_bound=(0,10))\n",
    "complex.bfs_completion(var_value=[1], flip_ineq_step=1/1000, check_completion=False,wall_crossing_method=\"heuristic\", goto_lower_dim=False)"
   ]
  },
  {
   "cell_type": "code",
   "execution_count": 17,
   "metadata": {},
   "outputs": [
    {
     "data": {
      "text/html": [
       "<html><script type=\"math/tex; mode=display\">\\newcommand{\\Bold}[1]{\\mathbf{#1}}\\left[\\verb|SemialgebraicComplexComponent(var_value=(1,),|\\phantom{\\verb!x!}\\verb|region_type=(None,),|\\phantom{\\verb!x!}\\verb|polyhedral,|\\phantom{\\verb!x!}\\verb|0|\\phantom{\\verb!x!}\\verb|eqs,|\\phantom{\\verb!x!}\\verb|1|\\phantom{\\verb!x!}\\verb|strict-ins,|\\phantom{\\verb!x!}\\verb|0|\\phantom{\\verb!x!}\\verb|nonstrict-ins)|, \\verb|SemialgebraicComplexComponent(var_value=(-1/1000,),|\\phantom{\\verb!x!}\\verb|region_type=(None,),|\\phantom{\\verb!x!}\\verb|polyhedral,|\\phantom{\\verb!x!}\\verb|0|\\phantom{\\verb!x!}\\verb|eqs,|\\phantom{\\verb!x!}\\verb|1|\\phantom{\\verb!x!}\\verb|strict-ins,|\\phantom{\\verb!x!}\\verb|0|\\phantom{\\verb!x!}\\verb|nonstrict-ins)|\\right]</script></html>"
      ],
      "text/latex": [
       "\\begin{math}\n",
       "\\newcommand{\\Bold}[1]{\\mathbf{#1}}\\left[\\verb|SemialgebraicComplexComponent(var_value=(1,),|\\phantom{\\verb!x!}\\verb|region_type=(None,),|\\phantom{\\verb!x!}\\verb|polyhedral,|\\phantom{\\verb!x!}\\verb|0|\\phantom{\\verb!x!}\\verb|eqs,|\\phantom{\\verb!x!}\\verb|1|\\phantom{\\verb!x!}\\verb|strict-ins,|\\phantom{\\verb!x!}\\verb|0|\\phantom{\\verb!x!}\\verb|nonstrict-ins)|, \\verb|SemialgebraicComplexComponent(var_value=(-1/1000,),|\\phantom{\\verb!x!}\\verb|region_type=(None,),|\\phantom{\\verb!x!}\\verb|polyhedral,|\\phantom{\\verb!x!}\\verb|0|\\phantom{\\verb!x!}\\verb|eqs,|\\phantom{\\verb!x!}\\verb|1|\\phantom{\\verb!x!}\\verb|strict-ins,|\\phantom{\\verb!x!}\\verb|0|\\phantom{\\verb!x!}\\verb|nonstrict-ins)|\\right]\n",
       "\\end{math}"
      ],
      "text/plain": [
       "[SemialgebraicComplexComponent(var_value=(1,), region_type=(None,), polyhedral, 0 eqs, 1 strict-ins, 0 nonstrict-ins),\n",
       " SemialgebraicComplexComponent(var_value=(-1/1000,), region_type=(None,), polyhedral, 0 eqs, 1 strict-ins, 0 nonstrict-ins)]"
      ]
     },
     "execution_count": 17,
     "metadata": {},
     "output_type": "execute_result"
    }
   ],
   "source": [
    "complex.components"
   ]
  },
  {
   "cell_type": "code",
   "execution_count": null,
   "metadata": {},
   "outputs": [],
   "source": []
  }
 ],
 "metadata": {
  "kernelspec": {
   "display_name": "SageMath 9.3.beta6",
   "language": "sage",
   "name": "sagemath"
  },
  "language_info": {
   "codemirror_mode": {
    "name": "ipython",
    "version": 3
   },
   "file_extension": ".py",
   "mimetype": "text/x-python",
   "name": "python",
   "nbconvert_exporter": "python",
   "pygments_lexer": "ipython3",
   "version": "3.8.5"
  }
 },
 "nbformat": 4,
 "nbformat_minor": 4
}
