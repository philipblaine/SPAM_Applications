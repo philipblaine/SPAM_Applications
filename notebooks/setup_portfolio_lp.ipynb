{
 "cells": [
  {
   "cell_type": "code",
   "execution_count": null,
   "metadata": {},
   "outputs": [],
   "source": [
    "load_attach_path(\"/mnt/c/users/phili/SAGEMATH/SPAM_Applications\")\n",
    "load(\"startup.sage\")\n",
    "\n",
    "K.<mu> = ParametricRealField([1])"
   ]
  },
  {
   "cell_type": "code",
   "execution_count": null,
   "metadata": {},
   "outputs": [],
   "source": [
    "hist_data = ((1,1003/1000),(1044/1000,1015/1000),(1068/1000,1051/1000))"
   ]
  },
  {
   "cell_type": "code",
   "execution_count": null,
   "metadata": {},
   "outputs": [],
   "source": [
    "n = len(hist_data)\n",
    "T = len(hist_data[0])\n",
    "lp = MixedIntegerLinearProgram(solver=\"InteractiveLP\",maximization=True,base_ring=mu.parent())\n",
    "x_var = lp.new_variable(nonnegative=True)\n",
    "x = [x_var[j] for j in range(n-1)]\n",
    "x.append(1-sum(x))\n",
    "lp.add_constraint(x[-1]>=0)\n",
    "y = lp.new_variable(nonnegative=True)\n",
    "exp_return = [sum(r)/T for r in hist_data]\n",
    "for t in range(T):\n",
    "    dev = sum(x[j]*(hist_data[j][t] - exp_return[j]) for j in range(n))\n",
    "    lp.add_constraint(dev <= y[t])\n",
    "    lp.add_constraint(dev >= -y[t])\n",
    "reward = sum([x[j]*exp_return[j] for j in range(n)])\n",
    "risk = sum([y[t] for t in range(T)])/T\n",
    "obj_fun = mu*reward-risk\n"
   ]
  },
  {
   "cell_type": "code",
   "execution_count": null,
   "metadata": {},
   "outputs": [],
   "source": [
    "    n = len(hist_data)\n",
    "    T = len(hist_data[0])\n",
    "    lp = MixedIntegerLinearProgram(solver=(\"GLPK\", \"InteractiveLP\"),\n",
    "                                   maximization=True, base_ring=mu.parent())\n",
    "    x_var = lp.new_variable(nonnegative=True)\n",
    "    x = [x_var[j] for j in range(n - 1)]\n",
    "    x.append(1 - sum(x))\n",
    "    lp.add_constraint(x[-1] >= 0)\n",
    "    y = lp.new_variable(nonnegative=True)\n",
    "    exp_return = [sum(r) / T for r in hist_data]\n",
    "    for t in range(T):\n",
    "        dev = sum(x[j] * (hist_data[j][t] - exp_return[j]) for j in range(n))\n",
    "        lp.add_constraint(dev <= y[t])\n",
    "        lp.add_constraint(dev >= -y[t])\n",
    "    reward = sum([x[j] * exp_return[j] for j in range(n)])\n",
    "    risk = sum([y[t] for t in range(T)]) / T\n",
    "    obj_fun = mu * reward - risk\n"
   ]
  },
  {
   "cell_type": "code",
   "execution_count": null,
   "metadata": {},
   "outputs": [],
   "source": [
    "lp = setup_portfolio_lp(hist_data,mu)"
   ]
  },
  {
   "cell_type": "code",
   "execution_count": null,
   "metadata": {},
   "outputs": [],
   "source": [
    "b = lp.get"
   ]
  },
  {
   "cell_type": "code",
   "execution_count": null,
   "metadata": {},
   "outputs": [],
   "source": [
    "lp"
   ]
  },
  {
   "cell_type": "code",
   "execution_count": null,
   "metadata": {},
   "outputs": [],
   "source": [
    "sol = lp.solve()"
   ]
  },
  {
   "cell_type": "code",
   "execution_count": null,
   "metadata": {},
   "outputs": [],
   "source": [
    "lp.set_objective(obj_fun)"
   ]
  },
  {
   "cell_type": "code",
   "execution_count": null,
   "metadata": {},
   "outputs": [],
   "source": [
    "obj_fun"
   ]
  },
  {
   "cell_type": "code",
   "execution_count": null,
   "metadata": {},
   "outputs": [],
   "source": [
    "lp.set_objective?"
   ]
  },
  {
   "cell_type": "code",
   "execution_count": null,
   "metadata": {},
   "outputs": [],
   "source": [
    "%display typeset"
   ]
  },
  {
   "cell_type": "code",
   "execution_count": null,
   "metadata": {},
   "outputs": [],
   "source": [
    "sol = lp.solve()"
   ]
  },
  {
   "cell_type": "code",
   "execution_count": null,
   "metadata": {},
   "outputs": [],
   "source": [
    "c = K.make_proof_cell()"
   ]
  },
  {
   "cell_type": "code",
   "execution_count": null,
   "metadata": {},
   "outputs": [],
   "source": [
    "bsa = c.bsa"
   ]
  },
  {
   "cell_type": "code",
   "execution_count": null,
   "metadata": {},
   "outputs": [],
   "source": [
    "list(bsa.lt_poly())"
   ]
  },
  {
   "cell_type": "code",
   "execution_count": null,
   "metadata": {},
   "outputs": [],
   "source": [
    "list(bsa.le_poly())"
   ]
  },
  {
   "cell_type": "code",
   "execution_count": null,
   "metadata": {},
   "outputs": [],
   "source": [
    "list(bsa.eq_poly())"
   ]
  },
  {
   "cell_type": "code",
   "execution_count": null,
   "metadata": {},
   "outputs": [],
   "source": [
    "h =lp.get_backend()\n",
    "optsol = h.get_variable_value()\n",
    "return optsol._val\n",
    "\n",
    "bdd_bsa provide with mu>0\n"
   ]
  }
 ],
 "metadata": {
  "kernelspec": {
   "display_name": "SageMath 9.3.beta6",
   "language": "sage",
   "name": "sagemath"
  },
  "language_info": {
   "codemirror_mode": {
    "name": "ipython",
    "version": 3
   },
   "file_extension": ".py",
   "mimetype": "text/x-python",
   "name": "python",
   "nbconvert_exporter": "python",
   "pygments_lexer": "ipython3",
   "version": "3.8.5"
  }
 },
 "nbformat": 4,
 "nbformat_minor": 4
}
