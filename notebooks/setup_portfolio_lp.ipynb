{
 "cells": [
  {
   "cell_type": "code",
   "execution_count": 7,
   "metadata": {},
   "outputs": [
    {
     "name": "stderr",
     "output_type": "stream",
     "text": [
      "INFO: 2021-03-09 18:04:37,200 Initialized ParametricRealField(names = ['mu'], values = [1])\n"
     ]
    }
   ],
   "source": [
    "load_attach_path(\"/mnt/c/users/phili/SAGEMATH/SPAM_Applications\")\n",
    "load(\"startup.sage\")\n",
    "\n",
    "K.<mu> = ParametricRealField([1])"
   ]
  },
  {
   "cell_type": "code",
   "execution_count": 8,
   "metadata": {},
   "outputs": [],
   "source": [
    "hist_data = ((1,1003/1000),(1044/1000,1015/1000),(1068/1000,1051/1000))"
   ]
  },
  {
   "cell_type": "code",
   "execution_count": null,
   "metadata": {},
   "outputs": [],
   "source": [
    "n = len(hist_data)\n",
    "T = len(hist_data[0])\n",
    "lp = MixedIntegerLinearProgram(solver=(\"GLPK\",\"InteractiveLP\"),maximization=True,base_ring=mu.parent())\n",
    "x_var = lp.new_variable(nonnegative=True)\n",
    "x = [x_var[j] for j in range(n-1)]\n",
    "x.append(1-sum(x))\n",
    "lp.add_constraint(x[-1]>=0)\n",
    "y = lp.new_variable(nonnegative=True)\n",
    "exp_return = [sum(r)/T for r in hist_data]\n",
    "for t in range(T):\n",
    "    dev = sum(x[j]*(hist_data[j][t] - exp_return[j]) for j in range(n))\n",
    "    lp.add_constraint(dev <= y[t])\n",
    "    lp.add_constraint(dev >= -y[t])\n",
    "reward = sum([x[j]*exp_return[j] for j in range(n)])\n",
    "risk = sum([y[t] for t in range(T)])/T\n",
    "obj_fun = mu*reward-risk\n"
   ]
  },
  {
   "cell_type": "code",
   "execution_count": 3,
   "metadata": {},
   "outputs": [],
   "source": [
    "    n = len(hist_data)\n",
    "    T = len(hist_data[0])\n",
    "    lp = MixedIntegerLinearProgram(solver=(\"GLPK\", \"InteractiveLP\"),\n",
    "                                   maximization=True, base_ring=mu.parent())\n",
    "    x_var = lp.new_variable(nonnegative=True)\n",
    "    x = [x_var[j] for j in range(n - 1)]\n",
    "    x.append(1 - sum(x))\n",
    "    lp.add_constraint(x[-1] >= 0)\n",
    "    y = lp.new_variable(nonnegative=True)\n",
    "    exp_return = [sum(r) / T for r in hist_data]\n",
    "    for t in range(T):\n",
    "        dev = sum(x[j] * (hist_data[j][t] - exp_return[j]) for j in range(n))\n",
    "        lp.add_constraint(dev <= y[t])\n",
    "        lp.add_constraint(dev >= -y[t])\n",
    "    reward = sum([x[j] * exp_return[j] for j in range(n)])\n",
    "    risk = sum([y[t] for t in range(T)]) / T\n",
    "    obj_fun = mu * reward - risk\n"
   ]
  },
  {
   "cell_type": "code",
   "execution_count": 9,
   "metadata": {},
   "outputs": [],
   "source": [
    "lp = setup_portfolio_lp(hist_data,mu)"
   ]
  },
  {
   "cell_type": "code",
   "execution_count": 10,
   "metadata": {},
   "outputs": [
    {
     "name": "stderr",
     "output_type": "stream",
     "text": [
      "INFO: 2021-03-09 18:05:16,097 New constraint: -mu < 0\n"
     ]
    },
    {
     "data": {
      "text/plain": [
       "Linear Program (maximization, 4 variables, 5 constraints)"
      ]
     },
     "execution_count": 10,
     "metadata": {},
     "output_type": "execute_result"
    }
   ],
   "source": [
    "lp"
   ]
  },
  {
   "cell_type": "code",
   "execution_count": 11,
   "metadata": {},
   "outputs": [
    {
     "name": "stderr",
     "output_type": "stream",
     "text": [
      "INFO: 2021-03-09 18:08:04,263 New constraint: -mu + 5/58 < 0\n",
      "INFO: 2021-03-09 18:08:04,279 New constraint: -mu + 5/29 < 0\n"
     ]
    }
   ],
   "source": [
    "sol = lp.solve()"
   ]
  },
  {
   "cell_type": "code",
   "execution_count": 4,
   "metadata": {},
   "outputs": [
    {
     "name": "stderr",
     "output_type": "stream",
     "text": [
      "INFO: 2021-03-09 17:53:43,230 New constraint: -mu < 0\n",
      "INFO: 2021-03-09 17:53:43,231 New constraint: -mu + 2000/2119 < 0\n",
      "INFO: 2021-03-09 17:53:43,233 New constraint: mu - 500/29 < 0\n"
     ]
    }
   ],
   "source": [
    "lp.set_objective(obj_fun)"
   ]
  },
  {
   "cell_type": "code",
   "execution_count": 5,
   "metadata": {},
   "outputs": [
    {
     "data": {
      "text/plain": [
       "(2119/2000*mu)~ - (29/500*mu)~*x_0 - (3/100*mu)~*x_1 - 1/2*x_2 - 1/2*x_3"
      ]
     },
     "execution_count": 5,
     "metadata": {},
     "output_type": "execute_result"
    }
   ],
   "source": [
    "obj_fun"
   ]
  },
  {
   "cell_type": "code",
   "execution_count": 6,
   "metadata": {},
   "outputs": [],
   "source": [
    "lp.set_objective?"
   ]
  },
  {
   "cell_type": "code",
   "execution_count": null,
   "metadata": {},
   "outputs": [],
   "source": [
    "%display latex"
   ]
  },
  {
   "cell_type": "code",
   "execution_count": null,
   "metadata": {},
   "outputs": [],
   "source": [
    "sol = lp.solve()"
   ]
  },
  {
   "cell_type": "code",
   "execution_count": 12,
   "metadata": {},
   "outputs": [],
   "source": [
    "c = K.make_proof_cell()"
   ]
  },
  {
   "cell_type": "code",
   "execution_count": 13,
   "metadata": {},
   "outputs": [],
   "source": [
    "bsa = c.bsa"
   ]
  },
  {
   "cell_type": "code",
   "execution_count": 14,
   "metadata": {},
   "outputs": [
    {
     "data": {
      "text/plain": [
       "[-29*mu + 5]"
      ]
     },
     "execution_count": 14,
     "metadata": {},
     "output_type": "execute_result"
    }
   ],
   "source": [
    "list(bsa.lt_poly())"
   ]
  },
  {
   "cell_type": "code",
   "execution_count": 15,
   "metadata": {},
   "outputs": [
    {
     "data": {
      "text/plain": [
       "[]"
      ]
     },
     "execution_count": 15,
     "metadata": {},
     "output_type": "execute_result"
    }
   ],
   "source": [
    "list(bsa.le_poly())"
   ]
  },
  {
   "cell_type": "code",
   "execution_count": 16,
   "metadata": {},
   "outputs": [
    {
     "data": {
      "text/plain": [
       "[]"
      ]
     },
     "execution_count": 16,
     "metadata": {},
     "output_type": "execute_result"
    }
   ],
   "source": [
    "list(bsa.eq_poly())"
   ]
  },
  {
   "cell_type": "code",
   "execution_count": null,
   "metadata": {},
   "outputs": [],
   "source": [
    "h =lp.get_backend()\n",
    "optsol = h.get_variable_value()\n",
    "return optsol._val\n",
    "\n",
    "bdd_bsa provide with mu>0\n"
   ]
  }
 ],
 "metadata": {
  "kernelspec": {
   "display_name": "SageMath 9.3.beta6",
   "language": "sage",
   "name": "sagemath"
  },
  "language_info": {
   "codemirror_mode": {
    "name": "ipython",
    "version": 3
   },
   "file_extension": ".py",
   "mimetype": "text/x-python",
   "name": "python",
   "nbconvert_exporter": "python",
   "pygments_lexer": "ipython3",
   "version": "3.8.5"
  }
 },
 "nbformat": 4,
 "nbformat_minor": 4
}
