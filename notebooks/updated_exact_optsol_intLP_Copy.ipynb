{
 "cells": [
  {
   "cell_type": "code",
   "execution_count": 1,
   "metadata": {},
   "outputs": [],
   "source": [
    "# input matrix A should be the same as program-reconstructed matrix LP_A\n",
    "# here, since A has at least one \"0\" entry, LP.constraints() does not display this\n",
    "# and so LP_A does not record the \"0\" entry, resulting in LP_A being non-square\n",
    "\n",
    "from sage.numerical.interactive_simplex_method import *\n",
    "from sage.numerical.backends.generic_backend import get_solver\n",
    "\n",
    "c = vector((91/53, 1/100, 1/100, 1/100, 1/100, 1/100, 1/9, 3/44, 17/75, 1/100))\n",
    "Y = vector((5/68, 1/100, 29/36, 37/14, 67/18, 1/100, 11/21, 1/100, 44/83, 5/38))\n",
    "A = Matrix([[ 13/17,  84/95, -39/46,  72/65, -45/16,  -43/6,  23/57,  11/15,  64/97, -49/26],\n",
    "[  82/9, -73/42, -55/58,   -8/5,  57/23,  53/51,  77/19,  65/28,   32/3, -11/21],\n",
    "[ 41/14,  100/3, -86/75,   -4/3,  87/65, -97/82,  34/81,      6,      1, -96/17],\n",
    "[  97/2,  -23/5, -26/45,  13/28, -21/19, -32/13, -47/43, -46/17, -15/11,  23/49],\n",
    "[-16/27,    1/7,  -5/33,     50,  75/61,  68/55,   9/10, -88/47, -82/69, -15/49],\n",
    "[ 35/27,  -7/92,   1/46,  -13/2,  27/34, -69/65,   49/2,   92/3,  60/61,  26/15],\n",
    "[ 13/70,      0, -52/23, -92/73,   -1/2,  41/23,  -1/83, -36/11,  11/96, -29/47],\n",
    "[  10/7,  15/41, -97/99,  69/16,   38/5, -89/67, -43/19, -81/94,   4/45,  77/79],\n",
    "[-45/17,  45/97,  59/58,   8/67, -39/71, -25/44,  97/28,   -7/2,    7/5,  43/17],\n",
    "[ 81/74, -97/76,  94/15,  29/13,   7/34, -50/93,  53/35,  44/17,  -6/89, -78/37]])\n"
   ]
  },
  {
   "cell_type": "code",
   "execution_count": 2,
   "metadata": {},
   "outputs": [
    {
     "data": {
      "text/plain": [
       "(91/53, 1/100, 1/100, 1/100, 1/100, 1/100, 1/9, 3/44, 17/75, 1/100)"
      ]
     },
     "execution_count": 2,
     "metadata": {},
     "output_type": "execute_result"
    }
   ],
   "source": [
    "c"
   ]
  },
  {
   "cell_type": "code",
   "execution_count": 3,
   "metadata": {},
   "outputs": [
    {
     "data": {
      "text/plain": [
       "(5/68, 1/100, 29/36, 37/14, 67/18, 1/100, 11/21, 1/100, 44/83, 5/38)"
      ]
     },
     "execution_count": 3,
     "metadata": {},
     "output_type": "execute_result"
    }
   ],
   "source": [
    "Y"
   ]
  },
  {
   "cell_type": "code",
   "execution_count": 4,
   "metadata": {},
   "outputs": [
    {
     "data": {
      "text/plain": [
       "[ 13/17  84/95 -39/46  72/65 -45/16  -43/6  23/57  11/15  64/97 -49/26]\n",
       "[  82/9 -73/42 -55/58   -8/5  57/23  53/51  77/19  65/28   32/3 -11/21]\n",
       "[ 41/14  100/3 -86/75   -4/3  87/65 -97/82  34/81      6      1 -96/17]\n",
       "[  97/2  -23/5 -26/45  13/28 -21/19 -32/13 -47/43 -46/17 -15/11  23/49]\n",
       "[-16/27    1/7  -5/33     50  75/61  68/55   9/10 -88/47 -82/69 -15/49]\n",
       "[ 35/27  -7/92   1/46  -13/2  27/34 -69/65   49/2   92/3  60/61  26/15]\n",
       "[ 13/70      0 -52/23 -92/73   -1/2  41/23  -1/83 -36/11  11/96 -29/47]\n",
       "[  10/7  15/41 -97/99  69/16   38/5 -89/67 -43/19 -81/94   4/45  77/79]\n",
       "[-45/17  45/97  59/58   8/67 -39/71 -25/44  97/28   -7/2    7/5  43/17]\n",
       "[ 81/74 -97/76  94/15  29/13   7/34 -50/93  53/35  44/17  -6/89 -78/37]"
      ]
     },
     "execution_count": 4,
     "metadata": {},
     "output_type": "execute_result"
    }
   ],
   "source": [
    "# here, A has one \"0\" entry\n",
    "A"
   ]
  },
  {
   "cell_type": "code",
   "execution_count": 5,
   "metadata": {},
   "outputs": [],
   "source": [
    "LP = MixedIntegerLinearProgram(maximization=True,solver=\"GLPK\")\n",
    "x = LP.new_variable(nonnegative=True)\n",
    "LP.add_constraint(A*x <= Y)\n",
    "LP.set_objective(c)"
   ]
  },
  {
   "cell_type": "code",
   "execution_count": 6,
   "metadata": {},
   "outputs": [
    {
     "data": {
      "text/plain": [
       "0.04203870150737101"
      ]
     },
     "execution_count": 6,
     "metadata": {},
     "output_type": "execute_result"
    }
   ],
   "source": [
    "LP.solver_parameter(\"simplex_or_intopt\", \"simplex_only\")\n",
    "LP.solve()"
   ]
  },
  {
   "cell_type": "code",
   "execution_count": 7,
   "metadata": {},
   "outputs": [],
   "source": [
    "b = LP.get_backend()"
   ]
  },
  {
   "cell_type": "code",
   "execution_count": 8,
   "metadata": {},
   "outputs": [],
   "source": [
    "basic_vars = [(i+1) for i in range(b.ncols()) if b.is_variable_basic(i)]+[(b.nrows()+j+1) for j in range(b.nrows()) if b.is_slack_variable_basic(j)]"
   ]
  },
  {
   "cell_type": "code",
   "execution_count": 9,
   "metadata": {},
   "outputs": [],
   "source": [
    "LP_A = []\n",
    "LP_Y = []"
   ]
  },
  {
   "cell_type": "code",
   "execution_count": 10,
   "metadata": {},
   "outputs": [],
   "source": [
    "    for i in range(len(LP.constraints())):\n",
    "        \n",
    "        A_list = []\n",
    "\n",
    "        for j in range(len(LP.constraints()[i][1][1])):\n",
    "            \n",
    "            A_list.append(Rational(LP.constraints()[i][1][1][-(j+1)]))\n",
    "            \n",
    "            \n",
    "        \n",
    "        if A_list != []:\n",
    "            LP_A.append(A_list)\n",
    "            \n",
    "        \n",
    "        \n",
    "        if Rational(LP.constraints()[i][2])!= 0:\n",
    "            LP_Y.append(Rational(LP.constraints()[i][2]))\n",
    "            \n"
   ]
  },
  {
   "cell_type": "code",
   "execution_count": 11,
   "metadata": {},
   "outputs": [
    {
     "data": {
      "text/plain": [
       "[[13/17, 84/95, -39/46, 72/65, -45/16, -43/6, 23/57, 11/15, 64/97, -49/26],\n",
       " [82/9, -73/42, -55/58, -8/5, 57/23, 53/51, 77/19, 65/28, 32/3, -11/21],\n",
       " [41/14, 100/3, -86/75, -4/3, 87/65, -97/82, 34/81, 6, 1, -96/17],\n",
       " [97/2, -23/5, -26/45, 13/28, -21/19, -32/13, -47/43, -46/17, -15/11, 23/49],\n",
       " [-16/27, 1/7, -5/33, 50, 75/61, 68/55, 9/10, -88/47, -82/69, -15/49],\n",
       " [35/27, -7/92, 1/46, -13/2, 27/34, -69/65, 49/2, 92/3, 60/61, 26/15],\n",
       " [13/70, -52/23, -92/73, -1/2, 41/23, -1/83, -36/11, 11/96, -29/47],\n",
       " [10/7, 15/41, -97/99, 69/16, 38/5, -89/67, -43/19, -81/94, 4/45, 77/79],\n",
       " [-45/17, 45/97, 59/58, 8/67, -39/71, -25/44, 97/28, -7/2, 7/5, 43/17],\n",
       " [81/74, -97/76, 94/15, 29/13, 7/34, -50/93, 53/35, 44/17, -6/89, -78/37]]"
      ]
     },
     "execution_count": 11,
     "metadata": {},
     "output_type": "execute_result"
    }
   ],
   "source": [
    "\n",
    "# after construction, LP_A omits the \"0\" entry\n",
    "LP_A"
   ]
  },
  {
   "cell_type": "code",
   "execution_count": 12,
   "metadata": {},
   "outputs": [
    {
     "data": {
      "text/plain": [
       "[ 13/17  84/95 -39/46  72/65 -45/16  -43/6  23/57  11/15  64/97 -49/26]\n",
       "[  82/9 -73/42 -55/58   -8/5  57/23  53/51  77/19  65/28   32/3 -11/21]\n",
       "[ 41/14  100/3 -86/75   -4/3  87/65 -97/82  34/81      6      1 -96/17]\n",
       "[  97/2  -23/5 -26/45  13/28 -21/19 -32/13 -47/43 -46/17 -15/11  23/49]\n",
       "[-16/27    1/7  -5/33     50  75/61  68/55   9/10 -88/47 -82/69 -15/49]\n",
       "[ 35/27  -7/92   1/46  -13/2  27/34 -69/65   49/2   92/3  60/61  26/15]\n",
       "[ 13/70      0 -52/23 -92/73   -1/2  41/23  -1/83 -36/11  11/96 -29/47]\n",
       "[  10/7  15/41 -97/99  69/16   38/5 -89/67 -43/19 -81/94   4/45  77/79]\n",
       "[-45/17  45/97  59/58   8/67 -39/71 -25/44  97/28   -7/2    7/5  43/17]\n",
       "[ 81/74 -97/76  94/15  29/13   7/34 -50/93  53/35  44/17  -6/89 -78/37]"
      ]
     },
     "execution_count": 12,
     "metadata": {},
     "output_type": "execute_result"
    }
   ],
   "source": [
    "A"
   ]
  },
  {
   "cell_type": "code",
   "execution_count": 13,
   "metadata": {},
   "outputs": [],
   "source": [
    "    LP_c = []\n",
    "\n",
    "    for j in range(LP.number_of_variables()):\n",
    "        if b.objective_coefficient(j) != []:\n",
    "            LP_c.append(Rational(b.objective_coefficient(j)))\n",
    "            #print(c)"
   ]
  },
  {
   "cell_type": "code",
   "execution_count": 14,
   "metadata": {},
   "outputs": [
    {
     "ename": "ValueError",
     "evalue": "inconsistent number of columns: should be 10 but got 9",
     "output_type": "error",
     "traceback": [
      "\u001b[0;31m---------------------------------------------------------------------------\u001b[0m",
      "\u001b[0;31mValueError\u001b[0m                                Traceback (most recent call last)",
      "\u001b[0;32m<ipython-input-14-46bdd7721161>\u001b[0m in \u001b[0;36m<module>\u001b[0;34m\u001b[0m\n\u001b[0;32m----> 1\u001b[0;31m \u001b[0mP\u001b[0m \u001b[0;34m=\u001b[0m \u001b[0mInteractiveLPProblemStandardForm\u001b[0m\u001b[0;34m(\u001b[0m\u001b[0mLP_A\u001b[0m\u001b[0;34m,\u001b[0m \u001b[0mLP_Y\u001b[0m\u001b[0;34m,\u001b[0m \u001b[0mLP_c\u001b[0m\u001b[0;34m)\u001b[0m\u001b[0;34m\u001b[0m\u001b[0;34m\u001b[0m\u001b[0m\n\u001b[0m",
      "\u001b[0;32m/mnt/c/users/phili/SAGEMATH/sage-9.2/local/lib/python3.8/site-packages/sage/numerical/interactive_simplex_method.py\u001b[0m in \u001b[0;36m__init__\u001b[0;34m(self, A, b, c, x, problem_type, slack_variables, auxiliary_variable, base_ring, is_primal, objective_name, objective_constant_term)\u001b[0m\n\u001b[1;32m   1977\u001b[0m             raise ValueError(\"problems in standard form must be of (negative) \"\n\u001b[1;32m   1978\u001b[0m                              \"maximization type\")\n\u001b[0;32m-> 1979\u001b[0;31m         super(InteractiveLPProblemStandardForm, self).__init__(\n\u001b[0m\u001b[1;32m   1980\u001b[0m             \u001b[0mA\u001b[0m\u001b[0;34m,\u001b[0m \u001b[0mb\u001b[0m\u001b[0;34m,\u001b[0m \u001b[0mc\u001b[0m\u001b[0;34m,\u001b[0m \u001b[0mx\u001b[0m\u001b[0;34m,\u001b[0m\u001b[0;34m\u001b[0m\u001b[0;34m\u001b[0m\u001b[0m\n\u001b[1;32m   1981\u001b[0m             \u001b[0mproblem_type\u001b[0m\u001b[0;34m=\u001b[0m\u001b[0mproblem_type\u001b[0m\u001b[0;34m,\u001b[0m\u001b[0;34m\u001b[0m\u001b[0;34m\u001b[0m\u001b[0m\n",
      "\u001b[0;32m/mnt/c/users/phili/SAGEMATH/sage-9.2/local/lib/python3.8/site-packages/sage/numerical/interactive_simplex_method.py\u001b[0m in \u001b[0;36m__init__\u001b[0;34m(self, A, b, c, x, constraint_type, variable_type, problem_type, base_ring, is_primal, objective_constant_term)\u001b[0m\n\u001b[1;32m    646\u001b[0m         \"\"\"\n\u001b[1;32m    647\u001b[0m         \u001b[0msuper\u001b[0m\u001b[0;34m(\u001b[0m\u001b[0mInteractiveLPProblem\u001b[0m\u001b[0;34m,\u001b[0m \u001b[0mself\u001b[0m\u001b[0;34m)\u001b[0m\u001b[0;34m.\u001b[0m\u001b[0m__init__\u001b[0m\u001b[0;34m(\u001b[0m\u001b[0;34m)\u001b[0m\u001b[0;34m\u001b[0m\u001b[0;34m\u001b[0m\u001b[0m\n\u001b[0;32m--> 648\u001b[0;31m         \u001b[0mA\u001b[0m \u001b[0;34m=\u001b[0m \u001b[0mmatrix\u001b[0m\u001b[0;34m(\u001b[0m\u001b[0mA\u001b[0m\u001b[0;34m)\u001b[0m\u001b[0;34m\u001b[0m\u001b[0;34m\u001b[0m\u001b[0m\n\u001b[0m\u001b[1;32m    649\u001b[0m         \u001b[0mb\u001b[0m \u001b[0;34m=\u001b[0m \u001b[0mvector\u001b[0m\u001b[0;34m(\u001b[0m\u001b[0mb\u001b[0m\u001b[0;34m)\u001b[0m\u001b[0;34m\u001b[0m\u001b[0;34m\u001b[0m\u001b[0m\n\u001b[1;32m    650\u001b[0m         \u001b[0mc\u001b[0m \u001b[0;34m=\u001b[0m \u001b[0mvector\u001b[0m\u001b[0;34m(\u001b[0m\u001b[0mc\u001b[0m\u001b[0;34m)\u001b[0m\u001b[0;34m\u001b[0m\u001b[0;34m\u001b[0m\u001b[0m\n",
      "\u001b[0;32m/mnt/c/users/phili/SAGEMATH/sage-9.2/local/lib/python3.8/site-packages/sage/matrix/constructor.pyx\u001b[0m in \u001b[0;36msage.matrix.constructor.matrix (build/cythonized/sage/matrix/constructor.c:2529)\u001b[0;34m()\u001b[0m\n\u001b[1;32m    633\u001b[0m     \"\"\"\n\u001b[1;32m    634\u001b[0m     \u001b[0mimmutable\u001b[0m \u001b[0;34m=\u001b[0m \u001b[0mkwds\u001b[0m\u001b[0;34m.\u001b[0m\u001b[0mpop\u001b[0m\u001b[0;34m(\u001b[0m\u001b[0;34m'immutable'\u001b[0m\u001b[0;34m,\u001b[0m \u001b[0;32mFalse\u001b[0m\u001b[0;34m)\u001b[0m\u001b[0;34m\u001b[0m\u001b[0;34m\u001b[0m\u001b[0m\n\u001b[0;32m--> 635\u001b[0;31m     \u001b[0mM\u001b[0m \u001b[0;34m=\u001b[0m \u001b[0mMatrixArgs\u001b[0m\u001b[0;34m(\u001b[0m\u001b[0;34m*\u001b[0m\u001b[0margs\u001b[0m\u001b[0;34m,\u001b[0m \u001b[0;34m**\u001b[0m\u001b[0mkwds\u001b[0m\u001b[0;34m)\u001b[0m\u001b[0;34m.\u001b[0m\u001b[0mmatrix\u001b[0m\u001b[0;34m(\u001b[0m\u001b[0;34m)\u001b[0m\u001b[0;34m\u001b[0m\u001b[0;34m\u001b[0m\u001b[0m\n\u001b[0m\u001b[1;32m    636\u001b[0m     \u001b[0;32mif\u001b[0m \u001b[0mimmutable\u001b[0m\u001b[0;34m:\u001b[0m\u001b[0;34m\u001b[0m\u001b[0;34m\u001b[0m\u001b[0m\n\u001b[1;32m    637\u001b[0m         \u001b[0mM\u001b[0m\u001b[0;34m.\u001b[0m\u001b[0mset_immutable\u001b[0m\u001b[0;34m(\u001b[0m\u001b[0;34m)\u001b[0m\u001b[0;34m\u001b[0m\u001b[0;34m\u001b[0m\u001b[0m\n",
      "\u001b[0;32m/mnt/c/users/phili/SAGEMATH/sage-9.2/local/lib/python3.8/site-packages/sage/matrix/args.pyx\u001b[0m in \u001b[0;36msage.matrix.args.MatrixArgs.matrix (build/cythonized/sage/matrix/args.c:7770)\u001b[0;34m()\u001b[0m\n\u001b[1;32m    650\u001b[0m             \u001b[0;32mTrue\u001b[0m\u001b[0;34m\u001b[0m\u001b[0;34m\u001b[0m\u001b[0m\n\u001b[1;32m    651\u001b[0m         \"\"\"\n\u001b[0;32m--> 652\u001b[0;31m         \u001b[0mself\u001b[0m\u001b[0;34m.\u001b[0m\u001b[0mfinalize\u001b[0m\u001b[0;34m(\u001b[0m\u001b[0;34m)\u001b[0m\u001b[0;34m\u001b[0m\u001b[0;34m\u001b[0m\u001b[0m\n\u001b[0m\u001b[1;32m    653\u001b[0m \u001b[0;34m\u001b[0m\u001b[0m\n\u001b[1;32m    654\u001b[0m         \u001b[0mcdef\u001b[0m \u001b[0mMatrix\u001b[0m \u001b[0mM\u001b[0m\u001b[0;34m\u001b[0m\u001b[0;34m\u001b[0m\u001b[0m\n",
      "\u001b[0;32m/mnt/c/users/phili/SAGEMATH/sage-9.2/local/lib/python3.8/site-packages/sage/matrix/args.pyx\u001b[0m in \u001b[0;36msage.matrix.args.MatrixArgs.finalize (build/cythonized/sage/matrix/args.c:10107)\u001b[0;34m()\u001b[0m\n\u001b[1;32m    913\u001b[0m             \u001b[0;31m# really need to look at the entries.\u001b[0m\u001b[0;34m\u001b[0m\u001b[0;34m\u001b[0m\u001b[0;34m\u001b[0m\u001b[0m\n\u001b[1;32m    914\u001b[0m             \u001b[0;32mif\u001b[0m \u001b[0mself\u001b[0m\u001b[0;34m.\u001b[0m\u001b[0mtyp\u001b[0m \u001b[0;34m==\u001b[0m \u001b[0mMA_ENTRIES_SEQ_SEQ\u001b[0m\u001b[0;34m:\u001b[0m\u001b[0;34m\u001b[0m\u001b[0;34m\u001b[0m\u001b[0m\n\u001b[0;32m--> 915\u001b[0;31m                 \u001b[0mself\u001b[0m\u001b[0;34m.\u001b[0m\u001b[0mfinalize_seq_seq\u001b[0m\u001b[0;34m(\u001b[0m\u001b[0;34m)\u001b[0m\u001b[0;34m\u001b[0m\u001b[0;34m\u001b[0m\u001b[0m\n\u001b[0m\u001b[1;32m    916\u001b[0m             \u001b[0;32melif\u001b[0m \u001b[0mself\u001b[0m\u001b[0;34m.\u001b[0m\u001b[0mtyp\u001b[0m \u001b[0;34m==\u001b[0m \u001b[0mMA_ENTRIES_SEQ_FLAT\u001b[0m\u001b[0;34m:\u001b[0m\u001b[0;34m\u001b[0m\u001b[0;34m\u001b[0m\u001b[0m\n\u001b[1;32m    917\u001b[0m                 \u001b[0mself\u001b[0m\u001b[0;34m.\u001b[0m\u001b[0mfinalize_seq_scalar\u001b[0m\u001b[0;34m(\u001b[0m\u001b[0;34m)\u001b[0m\u001b[0;34m\u001b[0m\u001b[0;34m\u001b[0m\u001b[0m\n",
      "\u001b[0;32m/mnt/c/users/phili/SAGEMATH/sage-9.2/local/lib/python3.8/site-packages/sage/matrix/args.pyx\u001b[0m in \u001b[0;36msage.matrix.args.MatrixArgs.finalize_seq_seq (build/cythonized/sage/matrix/args.c:13547)\u001b[0;34m()\u001b[0m\n\u001b[1;32m   1129\u001b[0m                 \u001b[0mc\u001b[0m \u001b[0;34m+=\u001b[0m \u001b[0;36m1\u001b[0m\u001b[0;34m\u001b[0m\u001b[0;34m\u001b[0m\u001b[0m\n\u001b[1;32m   1130\u001b[0m                 \u001b[0mentries\u001b[0m\u001b[0;34m.\u001b[0m\u001b[0mappend\u001b[0m\u001b[0;34m(\u001b[0m\u001b[0mentry\u001b[0m\u001b[0;34m)\u001b[0m\u001b[0;34m\u001b[0m\u001b[0;34m\u001b[0m\u001b[0m\n\u001b[0;32m-> 1131\u001b[0;31m             \u001b[0mself\u001b[0m\u001b[0;34m.\u001b[0m\u001b[0mset_ncols\u001b[0m\u001b[0;34m(\u001b[0m\u001b[0mc\u001b[0m\u001b[0;34m)\u001b[0m\u001b[0;34m\u001b[0m\u001b[0;34m\u001b[0m\u001b[0m\n\u001b[0m\u001b[1;32m   1132\u001b[0m \u001b[0;34m\u001b[0m\u001b[0m\n\u001b[1;32m   1133\u001b[0m         \u001b[0mself\u001b[0m\u001b[0;34m.\u001b[0m\u001b[0mset_seq_flat\u001b[0m\u001b[0;34m(\u001b[0m\u001b[0mentries\u001b[0m\u001b[0;34m)\u001b[0m\u001b[0;34m\u001b[0m\u001b[0;34m\u001b[0m\u001b[0m\n",
      "\u001b[0;32m/mnt/c/users/phili/SAGEMATH/sage-9.2/local/lib/python3.8/site-packages/sage/matrix/args.pxd\u001b[0m in \u001b[0;36msage.matrix.args.MatrixArgs.set_ncols (build/cythonized/sage/matrix/args.c:17815)\u001b[0;34m()\u001b[0m\n\u001b[1;32m     90\u001b[0m         \u001b[0mcdef\u001b[0m \u001b[0mlong\u001b[0m \u001b[0mp\u001b[0m \u001b[0;34m=\u001b[0m \u001b[0mself\u001b[0m\u001b[0;34m.\u001b[0m\u001b[0mncols\u001b[0m\u001b[0;34m\u001b[0m\u001b[0;34m\u001b[0m\u001b[0m\n\u001b[1;32m     91\u001b[0m         \u001b[0;32mif\u001b[0m \u001b[0mp\u001b[0m \u001b[0;34m!=\u001b[0m \u001b[0;34m-\u001b[0m\u001b[0;36m1\u001b[0m \u001b[0;32mand\u001b[0m \u001b[0mp\u001b[0m \u001b[0;34m!=\u001b[0m \u001b[0mn\u001b[0m\u001b[0;34m:\u001b[0m\u001b[0;34m\u001b[0m\u001b[0;34m\u001b[0m\u001b[0m\n\u001b[0;32m---> 92\u001b[0;31m             \u001b[0;32mraise\u001b[0m \u001b[0mValueError\u001b[0m\u001b[0;34m(\u001b[0m\u001b[0;34mf\"inconsistent number of columns: should be {p} but got {n}\"\u001b[0m\u001b[0;34m)\u001b[0m\u001b[0;34m\u001b[0m\u001b[0;34m\u001b[0m\u001b[0m\n\u001b[0m\u001b[1;32m     93\u001b[0m         \u001b[0mself\u001b[0m\u001b[0;34m.\u001b[0m\u001b[0mncols\u001b[0m \u001b[0;34m=\u001b[0m \u001b[0mn\u001b[0m\u001b[0;34m\u001b[0m\u001b[0;34m\u001b[0m\u001b[0m\n\u001b[1;32m     94\u001b[0m \u001b[0;34m\u001b[0m\u001b[0m\n",
      "\u001b[0;31mValueError\u001b[0m: inconsistent number of columns: should be 10 but got 9"
     ]
    }
   ],
   "source": [
    "P = InteractiveLPProblemStandardForm(LP_A, LP_Y, LP_c)"
   ]
  },
  {
   "cell_type": "code",
   "execution_count": null,
   "metadata": {},
   "outputs": [],
   "source": [
    "D = P.dictionary(*basic_vars)"
   ]
  },
  {
   "cell_type": "code",
   "execution_count": null,
   "metadata": {},
   "outputs": [],
   "source": [
    "D.is_optimal()"
   ]
  },
  {
   "cell_type": "code",
   "execution_count": null,
   "metadata": {},
   "outputs": [],
   "source": [
    "D.basic_solution()"
   ]
  }
 ],
 "metadata": {
  "kernelspec": {
   "display_name": "SageMath 9.2",
   "language": "sage",
   "name": "sagemath"
  },
  "language_info": {
   "codemirror_mode": {
    "name": "ipython",
    "version": 3
   },
   "file_extension": ".py",
   "mimetype": "text/x-python",
   "name": "python",
   "nbconvert_exporter": "python",
   "pygments_lexer": "ipython3",
   "version": "3.8.5"
  }
 },
 "nbformat": 4,
 "nbformat_minor": 4
}
