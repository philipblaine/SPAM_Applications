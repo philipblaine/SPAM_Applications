{
 "cells": [
  {
   "cell_type": "code",
   "execution_count": 1,
   "metadata": {},
   "outputs": [],
   "source": [
    "load_attach_path(\"/mnt/c/users/phili/SAGEMATH/SPAM_Applications\")\n",
    "load(\"startup.sage\")\n",
    "\n",
    "igp.debug_new_factors = False"
   ]
  },
  {
   "cell_type": "code",
   "execution_count": null,
   "metadata": {},
   "outputs": [],
   "source": [
    "K.<mu> = ParametricRealField([10])"
   ]
  },
  {
   "cell_type": "code",
   "execution_count": null,
   "metadata": {},
   "outputs": [],
   "source": [
    "A = ([1, 1, 1, 0, 0], [-1, -1, -1, 0, 0], [1/2, 1, 1/8, -1, 0], [-1/2, -1, -1/8, -1, 0], [-1/2, -1, -1/8, 0, -1], [1/2, 1, 1/8, 0, -1])\n",
    "b = (1, -1, 0, 0, 0, 0)\n",
    "c = (7/6*mu, 4/3*mu, 7/8*mu, -1/2, -1/2)\n",
    "#c = (7/6*10, 4/3*10, 7/8*10, -1/2, -1/2)\n",
    "P = InteractiveLPProblem(A, b, c, [\"x1\", \"x2\", \"x3\", \"y1\", \"y2\"], variable_type=\">=\", problem_type='max')"
   ]
  },
  {
   "cell_type": "code",
   "execution_count": null,
   "metadata": {},
   "outputs": [],
   "source": [
    "%display typeset"
   ]
  },
  {
   "cell_type": "code",
   "execution_count": null,
   "metadata": {},
   "outputs": [],
   "source": [
    "P"
   ]
  },
  {
   "cell_type": "code",
   "execution_count": null,
   "metadata": {},
   "outputs": [],
   "source": [
    "lp = P.standard_form()"
   ]
  },
  {
   "cell_type": "code",
   "execution_count": null,
   "metadata": {},
   "outputs": [],
   "source": [
    "lp.run_simplex_method()"
   ]
  },
  {
   "cell_type": "code",
   "execution_count": null,
   "metadata": {},
   "outputs": [],
   "source": [
    "FD = lp.final_dictionary()"
   ]
  },
  {
   "cell_type": "code",
   "execution_count": null,
   "metadata": {},
   "outputs": [],
   "source": [
    "FD"
   ]
  },
  {
   "cell_type": "code",
   "execution_count": 2,
   "metadata": {},
   "outputs": [
    {
     "name": "stderr",
     "output_type": "stream",
     "text": [
      "INFO: 2021-03-27 13:04:55,988 Initialized ParametricRealField(names = ['mu'], values = [10])\n",
      "INFO: 2021-03-27 13:04:55,992 New constraint: -mu < 0\n",
      "INFO: 2021-03-27 13:04:56,034 New constraint: -mu + 8/7 < 0\n",
      "INFO: 2021-03-27 13:04:56,036 New constraint: -mu + 24/7 < 0\n",
      "INFO: 2021-03-27 13:04:56,126 Initialized ParametricRealField(names = ['mu'], values = [2399/700])\n",
      "INFO: 2021-03-27 13:04:56,128 New constraint: -mu < 0\n",
      "INFO: 2021-03-27 13:04:56,139 New constraint: -mu + 8/7 < 0\n",
      "INFO: 2021-03-27 13:04:56,140 New constraint: mu - 24/7 < 0\n",
      "INFO: 2021-03-27 13:04:56,141 New constraint: -mu + 24/11 < 0\n",
      "INFO: 2021-03-27 13:04:56,179 New constraint: -mu + 3 < 0\n",
      "INFO: 2021-03-27 13:04:56,202 Initialized ParametricRealField(names = ['mu'], values = [299/100])\n",
      "INFO: 2021-03-27 13:04:56,203 New constraint: -mu < 0\n",
      "INFO: 2021-03-27 13:04:56,215 New constraint: -mu + 8/7 < 0\n",
      "INFO: 2021-03-27 13:04:56,216 New constraint: mu - 24/7 < 0\n",
      "INFO: 2021-03-27 13:04:56,217 New constraint: -mu + 24/11 < 0\n",
      "INFO: 2021-03-27 13:04:56,253 New constraint: mu - 3 < 0\n",
      "INFO: 2021-03-27 13:04:56,264 Initialized ParametricRealField(names = ['mu'], values = [2399/1100])\n",
      "INFO: 2021-03-27 13:04:56,265 New constraint: -mu < 0\n",
      "INFO: 2021-03-27 13:04:56,276 New constraint: -mu + 8/7 < 0\n",
      "INFO: 2021-03-27 13:04:56,277 New constraint: mu - 24/7 < 0\n",
      "INFO: 2021-03-27 13:04:56,278 New constraint: mu - 24/11 < 0\n",
      "INFO: 2021-03-27 13:04:56,303 New constraint: -mu + 9/7 < 0\n",
      "INFO: 2021-03-27 13:04:56,306 New constraint: -mu + 21/11 < 0\n",
      "INFO: 2021-03-27 13:04:56,326 Initialized ParametricRealField(names = ['mu'], values = [2099/1100])\n",
      "INFO: 2021-03-27 13:04:56,327 New constraint: -mu < 0\n",
      "INFO: 2021-03-27 13:04:56,338 New constraint: -mu + 8/7 < 0\n",
      "INFO: 2021-03-27 13:04:56,340 New constraint: mu - 24/7 < 0\n",
      "INFO: 2021-03-27 13:04:56,341 New constraint: mu - 24/11 < 0\n",
      "INFO: 2021-03-27 13:04:56,367 New constraint: -mu + 9/7 < 0\n",
      "INFO: 2021-03-27 13:04:56,370 New constraint: mu - 21/11 < 0\n",
      "INFO: 2021-03-27 13:04:56,390 Initialized ParametricRealField(names = ['mu'], values = [899/700])\n",
      "INFO: 2021-03-27 13:04:56,391 New constraint: -mu < 0\n",
      "INFO: 2021-03-27 13:04:56,402 New constraint: -mu + 8/7 < 0\n",
      "INFO: 2021-03-27 13:04:56,403 New constraint: mu - 24/7 < 0\n",
      "INFO: 2021-03-27 13:04:56,404 New constraint: mu - 24/11 < 0\n",
      "INFO: 2021-03-27 13:04:56,431 New constraint: mu - 9/7 < 0\n",
      "INFO: 2021-03-27 13:04:56,440 Initialized ParametricRealField(names = ['mu'], values = [799/700])\n",
      "INFO: 2021-03-27 13:04:56,441 New constraint: -mu < 0\n",
      "INFO: 2021-03-27 13:04:56,452 New constraint: mu - 8/7 < 0\n"
     ]
    }
   ],
   "source": [
    "hist_data = ((5/3,2/3),(7/3,1/3),(1,3/4))\n",
    "bddbsa = BasicSemialgebraicSet_veronese(poly_ring=PolynomialRing(QQ, ['mu']))\n",
    "bddbsa.add_linear_constraint((-1,), 0, operator.lt)\n",
    "complex = SemialgebraicComplex(setup_portfolio_lp, ['mu'], find_region_type=solve_for_optimal_portfolio, bddbsa=bddbsa, hist_data=hist_data)\n",
    "complex.bfs_completion(var_value=[10])\n"
   ]
  },
  {
   "cell_type": "code",
   "execution_count": null,
   "metadata": {},
   "outputs": [],
   "source": [
    "complex"
   ]
  },
  {
   "cell_type": "code",
   "execution_count": null,
   "metadata": {},
   "outputs": [],
   "source": [
    "complex.components[1].bsa.lt_poly\n",
    "#check le, eq_poly to make sure they're empty\n",
    "#output interval, concrete value, optsol"
   ]
  },
  {
   "cell_type": "code",
   "execution_count": null,
   "metadata": {},
   "outputs": [],
   "source": [
    "(0, 8/7):   (0,0,1)\n",
    "(8/7, 9/7): (1,0,0)\n",
    "(9/7, 21/11):(1,0,0)\n",
    "(21/11,24/11):(1,0,0)\n",
    "(24/11,3): (0,1,0)\n",
    "(3,24/7): (0,1,0)\n",
    "(24/7,inf): (0,1,0)"
   ]
  }
 ],
 "metadata": {
  "kernelspec": {
   "display_name": "SageMath 9.3.beta6",
   "language": "sage",
   "name": "sagemath"
  },
  "language_info": {
   "codemirror_mode": {
    "name": "ipython",
    "version": 3
   },
   "file_extension": ".py",
   "mimetype": "text/x-python",
   "name": "python",
   "nbconvert_exporter": "python",
   "pygments_lexer": "ipython3",
   "version": "3.8.5"
  }
 },
 "nbformat": 4,
 "nbformat_minor": 4
}
