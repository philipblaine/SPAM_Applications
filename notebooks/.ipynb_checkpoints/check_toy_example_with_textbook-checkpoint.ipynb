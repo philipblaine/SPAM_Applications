{
 "cells": [
  {
   "cell_type": "code",
   "execution_count": 1,
   "metadata": {},
   "outputs": [],
   "source": [
    "load_attach_path(\"/mnt/c/users/phili/SAGEMATH/SPAM_Applications\")\n",
    "load(\"startup.sage\")\n"
   ]
  },
  {
   "cell_type": "code",
   "execution_count": 2,
   "metadata": {},
   "outputs": [
    {
     "name": "stderr",
     "output_type": "stream",
     "text": [
      "INFO: 2021-03-25 14:07:52,446 Initialized ParametricRealField(names = ['mu'], values = [10])\n"
     ]
    }
   ],
   "source": [
    "K.<mu> = ParametricRealField([10])"
   ]
  },
  {
   "cell_type": "code",
   "execution_count": 3,
   "metadata": {},
   "outputs": [],
   "source": [
    "A = ([1, 1, 1, 0, 0], [-1, -1, -1, 0, 0], [1/2, 1, 1/8, -1, 0], [-1/2, -1, -1/8, -1, 0], [-1/2, -1, -1/8, 0, -1], [1/2, 1, 1/8, 0, -1])\n",
    "b = (1, -1, 0, 0, 0, 0)\n",
    "c = (7/6*mu, 4/3*mu, 7/8*mu, -1/2, -1/2)\n",
    "#c = (7/6*10, 4/3*10, 7/8*10, -1/2, -1/2)\n",
    "P = InteractiveLPProblem(A, b, c, [\"x1\", \"x2\", \"x3\", \"y1\", \"y2\"], variable_type=\">=\", problem_type='max')"
   ]
  },
  {
   "cell_type": "code",
   "execution_count": 4,
   "metadata": {},
   "outputs": [],
   "source": [
    "%display typeset"
   ]
  },
  {
   "cell_type": "code",
   "execution_count": 5,
   "metadata": {},
   "outputs": [
    {
     "name": "stderr",
     "output_type": "stream",
     "text": [
      "INFO: 2021-03-25 14:08:00,213 New constraint: -mu < 0\n"
     ]
    },
    {
     "name": "stdout",
     "output_type": "stream",
     "text": [
      "--Return--\n",
      "> /home/philipblaine/.sage/temp/DESKTOP-27I4PM7/544/parametric.sagey6ud14lw.py(1109)record_factor()->None\n",
      "-> pdb.set_trace()\n",
      "(Pdb) p mu\n",
      "*** NameError: name 'mu' is not defined\n",
      "(Pdb) up\n",
      "> /home/philipblaine/.sage/temp/DESKTOP-27I4PM7/544/parametric.sagey6ud14lw.py(964)assume_comparison()\n",
      "-> self.record_factor(new_fac, op)\n",
      "(Pdb) down\n",
      "> /home/philipblaine/.sage/temp/DESKTOP-27I4PM7/544/parametric.sagey6ud14lw.py(1109)record_factor()->None\n",
      "-> pdb.set_trace()\n",
      "(Pdb) down\n",
      "*** Newest frame\n",
      "(Pdb) up\n",
      "> /home/philipblaine/.sage/temp/DESKTOP-27I4PM7/544/parametric.sagey6ud14lw.py(964)assume_comparison()\n",
      "-> self.record_factor(new_fac, op)\n",
      "(Pdb) up\n",
      "> /mnt/c/users/phili/SAGEMATH/cutgeneratingfunctionology/cutgeneratingfunctionology/spam/parametric_real_field_element.py(151)_richcmp_()\n",
      "-> left.parent().assume_comparison(left, operator.lt, right)\n",
      "(Pdb) down\n",
      "> /home/philipblaine/.sage/temp/DESKTOP-27I4PM7/544/parametric.sagey6ud14lw.py(964)assume_comparison()\n",
      "-> self.record_factor(new_fac, op)\n",
      "(Pdb) dow\n",
      "*** NameError: name 'dow' is not defined\n",
      "(Pdb) down\n",
      "> /home/philipblaine/.sage/temp/DESKTOP-27I4PM7/544/parametric.sagey6ud14lw.py(1109)record_factor()->None\n",
      "-> pdb.set_trace()\n",
      "(Pdb) up\n",
      "> /home/philipblaine/.sage/temp/DESKTOP-27I4PM7/544/parametric.sagey6ud14lw.py(964)assume_comparison()\n",
      "-> self.record_factor(new_fac, op)\n",
      "(Pdb) p new_fac\n",
      "-mu\n",
      "(Pdb) p op\n",
      "<built-in function lt>\n",
      "(Pdb) p self\n",
      "ParametricRealField(names = ['mu'], values = [10])\n",
      "(Pdb) up\n",
      "> /mnt/c/users/phili/SAGEMATH/cutgeneratingfunctionology/cutgeneratingfunctionology/spam/parametric_real_field_element.py(151)_richcmp_()\n",
      "-> left.parent().assume_comparison(left, operator.lt, right)\n",
      "(Pdb) p left\n",
      "0\n",
      "(Pdb) p left.parent()\n",
      "ParametricRealField(names = ['mu'], values = [10])\n",
      "(Pdb) p operator\n",
      "<module 'operator' from '/usr/lib/python3.8/operator.py'>\n",
      "(Pdb) p right\n",
      "(7/6*mu)~\n",
      "(Pdb) up\n",
      "> /mnt/c/users/phili/SAGEMATH/sage-9.3.beta7/local/lib/python3.8/site-packages/sage/numerical/interactive_simplex_method.py(305)_latex_product()\n",
      "-> if c == 0:\n",
      "(Pdb) p c\n",
      "(7/6*mu)~\n",
      "(Pdb) up\n",
      "> /mnt/c/users/phili/SAGEMATH/sage-9.3.beta7/local/lib/python3.8/site-packages/sage/numerical/interactive_simplex_method.py(778)_latex_()\n",
      "-> lines.append(_latex_product(c, x, head=head, tail=tail) + r\"\\\\\")\n",
      "(Pdb) p c\n",
      "((7/6*mu)~, (4/3*mu)~, (7/8*mu)~, -1/2, -1/2)\n",
      "(Pdb) p x\n",
      "(x1, x2, x3, y1, y2)\n",
      "(Pdb) p head\n",
      "[' \\\\max']\n",
      "(Pdb) p tail\n",
      "['', '']\n",
      "(Pdb) p r\n",
      "*** NameError: name 'r' is not defined\n",
      "(Pdb) p lines\n",
      "['\\\\begin{array}{l}', '\\\\begin{array}{lcrcrcrcrcrcl}']\n",
      "(Pdb) up\n",
      "> /mnt/c/users/phili/SAGEMATH/sage-9.3.beta7/local/lib/python3.8/site-packages/sage/misc/latex.py(921)__call__()\n",
      "-> return LatexExpr(x._latex_())\n",
      "(Pdb) p x\n",
      "LP problem (use typeset mode to see details)\n",
      "(Pdb) up\n",
      "> /mnt/c/users/phili/SAGEMATH/sage-9.3.beta7/local/lib/python3.8/site-packages/sage/misc/latex.py(1949)eval()\n",
      "-> x = latex(x, combine_all=combine_all)\n",
      "(Pdb) p x\n",
      "LP problem (use typeset mode to see details)\n",
      "(Pdb) up\n",
      "> /mnt/c/users/phili/SAGEMATH/sage-9.3.beta7/local/lib/python3.8/site-packages/sage/repl/rich_output/backend_base.py(484)latex_formatter()\n",
      "-> mathjax = MathJax().eval(obj, mode='plain', combine_all=False)\n",
      "(Pdb) p obj\n",
      "LP problem (use typeset mode to see details)\n",
      "(Pdb) up\n",
      "> /mnt/c/users/phili/SAGEMATH/sage-9.3.beta7/local/lib/python3.8/site-packages/sage/repl/rich_output/display_manager.py(538)_preferred_text_formatter()\n",
      "-> out = self._backend.latex_formatter(obj, **kwds)\n",
      "(Pdb) p self\n",
      "The Sage display manager using the IPython notebook backend\n",
      "(Pdb) down\n",
      "> /mnt/c/users/phili/SAGEMATH/sage-9.3.beta7/local/lib/python3.8/site-packages/sage/repl/rich_output/backend_base.py(484)latex_formatter()\n",
      "-> mathjax = MathJax().eval(obj, mode='plain', combine_all=False)\n",
      "(Pdb) down\n",
      "> /mnt/c/users/phili/SAGEMATH/sage-9.3.beta7/local/lib/python3.8/site-packages/sage/misc/latex.py(1949)eval()\n",
      "-> x = latex(x, combine_all=combine_all)\n",
      "(Pdb) down\n",
      "> /mnt/c/users/phili/SAGEMATH/sage-9.3.beta7/local/lib/python3.8/site-packages/sage/misc/latex.py(921)__call__()\n",
      "-> return LatexExpr(x._latex_())\n",
      "(Pdb) down\n",
      "> /mnt/c/users/phili/SAGEMATH/sage-9.3.beta7/local/lib/python3.8/site-packages/sage/numerical/interactive_simplex_method.py(778)_latex_()\n",
      "-> lines.append(_latex_product(c, x, head=head, tail=tail) + r\"\\\\\")\n",
      "(Pdb) down\n",
      "> /mnt/c/users/phili/SAGEMATH/sage-9.3.beta7/local/lib/python3.8/site-packages/sage/numerical/interactive_simplex_method.py(305)_latex_product()\n",
      "-> if c == 0:\n",
      "(Pdb) down\n",
      "> /mnt/c/users/phili/SAGEMATH/cutgeneratingfunctionology/cutgeneratingfunctionology/spam/parametric_real_field_element.py(151)_richcmp_()\n",
      "-> left.parent().assume_comparison(left, operator.lt, right)\n",
      "(Pdb) p left\n",
      "0\n",
      "(Pdb) p right\n",
      "(7/6*mu)~\n",
      "(Pdb) up\n",
      "> /mnt/c/users/phili/SAGEMATH/sage-9.3.beta7/local/lib/python3.8/site-packages/sage/numerical/interactive_simplex_method.py(305)_latex_product()\n",
      "-> if c == 0:\n",
      "(Pdb) down\n",
      "> /mnt/c/users/phili/SAGEMATH/cutgeneratingfunctionology/cutgeneratingfunctionology/spam/parametric_real_field_element.py(151)_richcmp_()\n",
      "-> left.parent().assume_comparison(left, operator.lt, right)\n",
      "(Pdb) down\n",
      "> /home/philipblaine/.sage/temp/DESKTOP-27I4PM7/544/parametric.sagey6ud14lw.py(964)assume_comparison()\n",
      "-> self.record_factor(new_fac, op)\n",
      "(Pdb) p new_fac\n",
      "-mu\n",
      "(Pdb) p op\n",
      "<built-in function lt>\n",
      "(Pdb) up\n",
      "> /mnt/c/users/phili/SAGEMATH/cutgeneratingfunctionology/cutgeneratingfunctionology/spam/parametric_real_field_element.py(151)_richcmp_()\n",
      "-> left.parent().assume_comparison(left, operator.lt, right)\n",
      "(Pdb) p lt\n",
      "*** NameError: name 'lt' is not defined\n",
      "(Pdb) p operator\n",
      "<module 'operator' from '/usr/lib/python3.8/operator.py'>\n",
      "(Pdb) p right\n",
      "(7/6*mu)~\n",
      "(Pdb) p left\n",
      "0\n",
      "(Pdb) up\n",
      "> /mnt/c/users/phili/SAGEMATH/sage-9.3.beta7/local/lib/python3.8/site-packages/sage/numerical/interactive_simplex_method.py(305)_latex_product()\n",
      "-> if c == 0:\n",
      "(Pdb) p c\n",
      "(7/6*mu)~\n",
      "(Pdb) up\n",
      "> /mnt/c/users/phili/SAGEMATH/sage-9.3.beta7/local/lib/python3.8/site-packages/sage/numerical/interactive_simplex_method.py(778)_latex_()\n",
      "-> lines.append(_latex_product(c, x, head=head, tail=tail) + r\"\\\\\")\n",
      "(Pdb) p c\n",
      "((7/6*mu)~, (4/3*mu)~, (7/8*mu)~, -1/2, -1/2)\n",
      "(Pdb) continue\n"
     ]
    },
    {
     "name": "stderr",
     "output_type": "stream",
     "text": [
      "INFO: 2021-03-25 14:25:37,698 New constraint: -mu + 6/7 < 0\n"
     ]
    },
    {
     "name": "stdout",
     "output_type": "stream",
     "text": [
      "--Return--\n",
      "> /home/philipblaine/.sage/temp/DESKTOP-27I4PM7/544/parametric.sagey6ud14lw.py(1109)record_factor()->None\n",
      "-> pdb.set_trace()\n",
      "(Pdb) continue\n"
     ]
    },
    {
     "name": "stderr",
     "output_type": "stream",
     "text": [
      "INFO: 2021-03-25 14:25:39,930 New constraint: -mu + 8/7 < 0\n"
     ]
    },
    {
     "name": "stdout",
     "output_type": "stream",
     "text": [
      "--Return--\n",
      "> /home/philipblaine/.sage/temp/DESKTOP-27I4PM7/544/parametric.sagey6ud14lw.py(1109)record_factor()->None\n",
      "-> pdb.set_trace()\n",
      "(Pdb) continue\n"
     ]
    },
    {
     "data": {
      "text/html": [
       "<html><script type=\"math/tex; mode=display\">\\newcommand{\\Bold}[1]{\\mathbf{#1}}\\begin{array}{l}\n",
       "\\begin{array}{lcrcrcrcrcrcl}\n",
       " \\max \\mspace{-6mu}&\\mspace{-6mu}  \\mspace{-6mu}&\\mspace{-6mu} \\frac{7}{6} \\mu x_{1} \\mspace{-6mu}&\\mspace{-6mu} + \\mspace{-6mu}&\\mspace{-6mu} \\frac{4}{3} \\mu x_{2} \\mspace{-6mu}&\\mspace{-6mu} + \\mspace{-6mu}&\\mspace{-6mu} \\frac{7}{8} \\mu x_{3} \\mspace{-6mu}&\\mspace{-6mu} - \\mspace{-6mu}&\\mspace{-6mu} \\frac{1}{2} y_{1} \\mspace{-6mu}&\\mspace{-6mu} - \\mspace{-6mu}&\\mspace{-6mu} \\frac{1}{2} y_{2} \\mspace{-6mu}&\\mspace{-6mu}  \\mspace{-6mu}&\\mspace{-6mu} \\\\\n",
       " \\mspace{-6mu}&\\mspace{-6mu}  \\mspace{-6mu}&\\mspace{-6mu} x_{1} \\mspace{-6mu}&\\mspace{-6mu} + \\mspace{-6mu}&\\mspace{-6mu} x_{2} \\mspace{-6mu}&\\mspace{-6mu} + \\mspace{-6mu}&\\mspace{-6mu} x_{3} \\mspace{-6mu}&\\mspace{-6mu}  \\mspace{-6mu}&\\mspace{-6mu}  \\mspace{-6mu}&\\mspace{-6mu}  \\mspace{-6mu}&\\mspace{-6mu}  \\mspace{-6mu}&\\mspace{-6mu} \\leq \\mspace{-6mu}&\\mspace{-6mu} 1 \\\\\n",
       " \\mspace{-6mu}&\\mspace{-6mu} - \\mspace{-6mu}&\\mspace{-6mu} x_{1} \\mspace{-6mu}&\\mspace{-6mu} - \\mspace{-6mu}&\\mspace{-6mu} x_{2} \\mspace{-6mu}&\\mspace{-6mu} - \\mspace{-6mu}&\\mspace{-6mu} x_{3} \\mspace{-6mu}&\\mspace{-6mu}  \\mspace{-6mu}&\\mspace{-6mu}  \\mspace{-6mu}&\\mspace{-6mu}  \\mspace{-6mu}&\\mspace{-6mu}  \\mspace{-6mu}&\\mspace{-6mu} \\leq \\mspace{-6mu}&\\mspace{-6mu} -1 \\\\\n",
       " \\mspace{-6mu}&\\mspace{-6mu}  \\mspace{-6mu}&\\mspace{-6mu} \\frac{1}{2} x_{1} \\mspace{-6mu}&\\mspace{-6mu} + \\mspace{-6mu}&\\mspace{-6mu} x_{2} \\mspace{-6mu}&\\mspace{-6mu} + \\mspace{-6mu}&\\mspace{-6mu} \\frac{1}{8} x_{3} \\mspace{-6mu}&\\mspace{-6mu} - \\mspace{-6mu}&\\mspace{-6mu} y_{1} \\mspace{-6mu}&\\mspace{-6mu}  \\mspace{-6mu}&\\mspace{-6mu}  \\mspace{-6mu}&\\mspace{-6mu} \\leq \\mspace{-6mu}&\\mspace{-6mu} 0 \\\\\n",
       " \\mspace{-6mu}&\\mspace{-6mu} - \\mspace{-6mu}&\\mspace{-6mu} \\frac{1}{2} x_{1} \\mspace{-6mu}&\\mspace{-6mu} - \\mspace{-6mu}&\\mspace{-6mu} x_{2} \\mspace{-6mu}&\\mspace{-6mu} - \\mspace{-6mu}&\\mspace{-6mu} \\frac{1}{8} x_{3} \\mspace{-6mu}&\\mspace{-6mu} - \\mspace{-6mu}&\\mspace{-6mu} y_{1} \\mspace{-6mu}&\\mspace{-6mu}  \\mspace{-6mu}&\\mspace{-6mu}  \\mspace{-6mu}&\\mspace{-6mu} \\leq \\mspace{-6mu}&\\mspace{-6mu} 0 \\\\\n",
       " \\mspace{-6mu}&\\mspace{-6mu} - \\mspace{-6mu}&\\mspace{-6mu} \\frac{1}{2} x_{1} \\mspace{-6mu}&\\mspace{-6mu} - \\mspace{-6mu}&\\mspace{-6mu} x_{2} \\mspace{-6mu}&\\mspace{-6mu} - \\mspace{-6mu}&\\mspace{-6mu} \\frac{1}{8} x_{3} \\mspace{-6mu}&\\mspace{-6mu}  \\mspace{-6mu}&\\mspace{-6mu}  \\mspace{-6mu}&\\mspace{-6mu} - \\mspace{-6mu}&\\mspace{-6mu} y_{2} \\mspace{-6mu}&\\mspace{-6mu} \\leq \\mspace{-6mu}&\\mspace{-6mu} 0 \\\\\n",
       " \\mspace{-6mu}&\\mspace{-6mu}  \\mspace{-6mu}&\\mspace{-6mu} \\frac{1}{2} x_{1} \\mspace{-6mu}&\\mspace{-6mu} + \\mspace{-6mu}&\\mspace{-6mu} x_{2} \\mspace{-6mu}&\\mspace{-6mu} + \\mspace{-6mu}&\\mspace{-6mu} \\frac{1}{8} x_{3} \\mspace{-6mu}&\\mspace{-6mu}  \\mspace{-6mu}&\\mspace{-6mu}  \\mspace{-6mu}&\\mspace{-6mu} - \\mspace{-6mu}&\\mspace{-6mu} y_{2} \\mspace{-6mu}&\\mspace{-6mu} \\leq \\mspace{-6mu}&\\mspace{-6mu} 0 \\\\\n",
       "\\end{array} \\\\\n",
       "x_{1}, x_{2}, x_{3}, y_{1}, y_{2} \\geq 0\n",
       "\\end{array}</script></html>"
      ],
      "text/latex": [
       "\\begin{math}\n",
       "\\newcommand{\\Bold}[1]{\\mathbf{#1}}\\begin{array}{l}\n",
       "\\begin{array}{lcrcrcrcrcrcl}\n",
       " \\max \\mspace{-6mu}&\\mspace{-6mu}  \\mspace{-6mu}&\\mspace{-6mu} \\frac{7}{6} \\mu x_{1} \\mspace{-6mu}&\\mspace{-6mu} + \\mspace{-6mu}&\\mspace{-6mu} \\frac{4}{3} \\mu x_{2} \\mspace{-6mu}&\\mspace{-6mu} + \\mspace{-6mu}&\\mspace{-6mu} \\frac{7}{8} \\mu x_{3} \\mspace{-6mu}&\\mspace{-6mu} - \\mspace{-6mu}&\\mspace{-6mu} \\frac{1}{2} y_{1} \\mspace{-6mu}&\\mspace{-6mu} - \\mspace{-6mu}&\\mspace{-6mu} \\frac{1}{2} y_{2} \\mspace{-6mu}&\\mspace{-6mu}  \\mspace{-6mu}&\\mspace{-6mu} \\\\\n",
       " \\mspace{-6mu}&\\mspace{-6mu}  \\mspace{-6mu}&\\mspace{-6mu} x_{1} \\mspace{-6mu}&\\mspace{-6mu} + \\mspace{-6mu}&\\mspace{-6mu} x_{2} \\mspace{-6mu}&\\mspace{-6mu} + \\mspace{-6mu}&\\mspace{-6mu} x_{3} \\mspace{-6mu}&\\mspace{-6mu}  \\mspace{-6mu}&\\mspace{-6mu}  \\mspace{-6mu}&\\mspace{-6mu}  \\mspace{-6mu}&\\mspace{-6mu}  \\mspace{-6mu}&\\mspace{-6mu} \\leq \\mspace{-6mu}&\\mspace{-6mu} 1 \\\\\n",
       " \\mspace{-6mu}&\\mspace{-6mu} - \\mspace{-6mu}&\\mspace{-6mu} x_{1} \\mspace{-6mu}&\\mspace{-6mu} - \\mspace{-6mu}&\\mspace{-6mu} x_{2} \\mspace{-6mu}&\\mspace{-6mu} - \\mspace{-6mu}&\\mspace{-6mu} x_{3} \\mspace{-6mu}&\\mspace{-6mu}  \\mspace{-6mu}&\\mspace{-6mu}  \\mspace{-6mu}&\\mspace{-6mu}  \\mspace{-6mu}&\\mspace{-6mu}  \\mspace{-6mu}&\\mspace{-6mu} \\leq \\mspace{-6mu}&\\mspace{-6mu} -1 \\\\\n",
       " \\mspace{-6mu}&\\mspace{-6mu}  \\mspace{-6mu}&\\mspace{-6mu} \\frac{1}{2} x_{1} \\mspace{-6mu}&\\mspace{-6mu} + \\mspace{-6mu}&\\mspace{-6mu} x_{2} \\mspace{-6mu}&\\mspace{-6mu} + \\mspace{-6mu}&\\mspace{-6mu} \\frac{1}{8} x_{3} \\mspace{-6mu}&\\mspace{-6mu} - \\mspace{-6mu}&\\mspace{-6mu} y_{1} \\mspace{-6mu}&\\mspace{-6mu}  \\mspace{-6mu}&\\mspace{-6mu}  \\mspace{-6mu}&\\mspace{-6mu} \\leq \\mspace{-6mu}&\\mspace{-6mu} 0 \\\\\n",
       " \\mspace{-6mu}&\\mspace{-6mu} - \\mspace{-6mu}&\\mspace{-6mu} \\frac{1}{2} x_{1} \\mspace{-6mu}&\\mspace{-6mu} - \\mspace{-6mu}&\\mspace{-6mu} x_{2} \\mspace{-6mu}&\\mspace{-6mu} - \\mspace{-6mu}&\\mspace{-6mu} \\frac{1}{8} x_{3} \\mspace{-6mu}&\\mspace{-6mu} - \\mspace{-6mu}&\\mspace{-6mu} y_{1} \\mspace{-6mu}&\\mspace{-6mu}  \\mspace{-6mu}&\\mspace{-6mu}  \\mspace{-6mu}&\\mspace{-6mu} \\leq \\mspace{-6mu}&\\mspace{-6mu} 0 \\\\\n",
       " \\mspace{-6mu}&\\mspace{-6mu} - \\mspace{-6mu}&\\mspace{-6mu} \\frac{1}{2} x_{1} \\mspace{-6mu}&\\mspace{-6mu} - \\mspace{-6mu}&\\mspace{-6mu} x_{2} \\mspace{-6mu}&\\mspace{-6mu} - \\mspace{-6mu}&\\mspace{-6mu} \\frac{1}{8} x_{3} \\mspace{-6mu}&\\mspace{-6mu}  \\mspace{-6mu}&\\mspace{-6mu}  \\mspace{-6mu}&\\mspace{-6mu} - \\mspace{-6mu}&\\mspace{-6mu} y_{2} \\mspace{-6mu}&\\mspace{-6mu} \\leq \\mspace{-6mu}&\\mspace{-6mu} 0 \\\\\n",
       " \\mspace{-6mu}&\\mspace{-6mu}  \\mspace{-6mu}&\\mspace{-6mu} \\frac{1}{2} x_{1} \\mspace{-6mu}&\\mspace{-6mu} + \\mspace{-6mu}&\\mspace{-6mu} x_{2} \\mspace{-6mu}&\\mspace{-6mu} + \\mspace{-6mu}&\\mspace{-6mu} \\frac{1}{8} x_{3} \\mspace{-6mu}&\\mspace{-6mu}  \\mspace{-6mu}&\\mspace{-6mu}  \\mspace{-6mu}&\\mspace{-6mu} - \\mspace{-6mu}&\\mspace{-6mu} y_{2} \\mspace{-6mu}&\\mspace{-6mu} \\leq \\mspace{-6mu}&\\mspace{-6mu} 0 \\\\\n",
       "\\end{array} \\\\\n",
       "x_{1}, x_{2}, x_{3}, y_{1}, y_{2} \\geq 0\n",
       "\\end{array}\n",
       "\\end{math}"
      ],
      "text/plain": [
       "LP problem (use typeset mode to see details)"
      ]
     },
     "execution_count": 5,
     "metadata": {},
     "output_type": "execute_result"
    }
   ],
   "source": [
    "P"
   ]
  },
  {
   "cell_type": "code",
   "execution_count": null,
   "metadata": {},
   "outputs": [],
   "source": [
    "lp = P.standard_form()"
   ]
  },
  {
   "cell_type": "code",
   "execution_count": null,
   "metadata": {},
   "outputs": [],
   "source": [
    "lp.run_simplex_method()"
   ]
  },
  {
   "cell_type": "code",
   "execution_count": null,
   "metadata": {},
   "outputs": [],
   "source": [
    "FD = lp.final_dictionary()"
   ]
  },
  {
   "cell_type": "code",
   "execution_count": null,
   "metadata": {},
   "outputs": [],
   "source": [
    "FD"
   ]
  },
  {
   "cell_type": "code",
   "execution_count": 6,
   "metadata": {},
   "outputs": [
    {
     "name": "stderr",
     "output_type": "stream",
     "text": [
      "INFO: 2021-03-25 14:25:54,972 Initialized ParametricRealField(names = ['mu'], values = [10])\n",
      "INFO: 2021-03-25 14:25:54,973 New constraint: -mu < 0\n"
     ]
    },
    {
     "name": "stdout",
     "output_type": "stream",
     "text": [
      "--Return--\n",
      "> /home/philipblaine/.sage/temp/DESKTOP-27I4PM7/544/parametric.sagey6ud14lw.py(1109)record_factor()->None\n",
      "-> pdb.set_trace()\n",
      "(Pdb) up\n",
      "> /home/philipblaine/.sage/temp/DESKTOP-27I4PM7/544/parametric.sagey6ud14lw.py(964)assume_comparison()\n",
      "-> self.record_factor(new_fac, op)\n",
      "(Pdb) up\n",
      "> /mnt/c/users/phili/SAGEMATH/cutgeneratingfunctionology/cutgeneratingfunctionology/spam/parametric_real_field_element.py(153)_richcmp_()\n",
      "-> left.parent().assume_comparison(right, operator.lt, left)\n",
      "(Pdb) up\n",
      "> /home/philipblaine/.sage/temp/DESKTOP-27I4PM7/544/parametric.sagey6ud14lw.py(1722)<listcomp>()\n",
      "-> pt = [p(*K.gens()) for p in polynomial_map]\n",
      "(Pdb) down\n",
      "> /mnt/c/users/phili/SAGEMATH/cutgeneratingfunctionology/cutgeneratingfunctionology/spam/parametric_real_field_element.py(153)_richcmp_()\n",
      "-> left.parent().assume_comparison(right, operator.lt, left)\n",
      "(Pdb) down\n",
      "> /home/philipblaine/.sage/temp/DESKTOP-27I4PM7/544/parametric.sagey6ud14lw.py(964)assume_comparison()\n",
      "-> self.record_factor(new_fac, op)\n",
      "(Pdb) down\n",
      "> /home/philipblaine/.sage/temp/DESKTOP-27I4PM7/544/parametric.sagey6ud14lw.py(1109)record_factor()->None\n",
      "-> pdb.set_trace()\n",
      "(Pdb) down\n",
      "*** Newest frame\n",
      "(Pdb) up\n",
      "> /home/philipblaine/.sage/temp/DESKTOP-27I4PM7/544/parametric.sagey6ud14lw.py(964)assume_comparison()\n",
      "-> self.record_factor(new_fac, op)\n",
      "(Pdb) p new_fac\n",
      "-mu\n",
      "(Pdb) p op\n",
      "<built-in function lt>\n",
      "(Pdb) up\n",
      "> /mnt/c/users/phili/SAGEMATH/cutgeneratingfunctionology/cutgeneratingfunctionology/spam/parametric_real_field_element.py(153)_richcmp_()\n",
      "-> left.parent().assume_comparison(right, operator.lt, left)\n",
      "(Pdb) p right\n",
      "0\n",
      "(Pdb) p left\n",
      "(mu)~\n",
      "(Pdb) up\n",
      "> /home/philipblaine/.sage/temp/DESKTOP-27I4PM7/544/parametric.sagey6ud14lw.py(1722)<listcomp>()\n",
      "-> pt = [p(*K.gens()) for p in polynomial_map]\n",
      "(Pdb) p p\n",
      "mu\n",
      "(Pdb) p pt\n",
      "*** NameError: name 'pt' is not defined\n",
      "(Pdb) up\n",
      "> /home/philipblaine/.sage/temp/DESKTOP-27I4PM7/544/parametric.sagey6ud14lw.py(1722)_construct_field_and_test_point()\n",
      "-> pt = [p(*K.gens()) for p in polynomial_map]\n",
      "(Pdb) up\n",
      "> /home/philipblaine/.sage/temp/DESKTOP-27I4PM7/544/parametric.sagey6ud14lw.py(1760)__init__()\n",
      "-> K, pt, test_point = self._construct_field_and_test_point(family, var_value, polynomial_map)\n",
      "(Pdb) p \n",
      "*** SyntaxError: unexpected EOF while parsing\n",
      "(Pdb) p K\n",
      "*** NameError: name 'K' is not defined\n",
      "(Pdb) p self\n",
      "(Pdb) p family\n",
      "ParametricFamily(setup_portfolio_lp, default_values=(('hist_data', ((5/3, 2/3), (7/3, 1/3), (1, 3/4))), ('mu', None)), names=('mu',))\n",
      "(Pdb) p var_value\n",
      "(10,)\n",
      "(Pdb) p polynomial_map\n",
      "[mu]\n",
      "(Pdb) up\n",
      "> /mnt/c/users/phili/SAGEMATH/cutgeneratingfunctionology/cutgeneratingfunctionology/igp/class_call.py(14)__classcall__()\n",
      "-> instance = typecall(cls, *args, **options)\n",
      "(Pdb) p cls\n",
      "<class 'cutgeneratingfunctionology.igp.ProofCell'>\n",
      "(Pdb) up\n",
      "> /home/philipblaine/.sage/temp/DESKTOP-27I4PM7/544/parametric.sagey6ud14lw.py(1673)__classcall__()\n",
      "-> return super(ProofCell, cls).__classcall__(cls, family, var_value, find_region_type, bddbsa, polynomial_map)\n",
      "(Pdb) up\n",
      "> /home/philipblaine/.sage/temp/DESKTOP-27I4PM7/544/parametric.sagey6ud14lw.py(2160)add_new_component()\n",
      "-> new_component = self._cell_class(self.family, var_value,\n",
      "(Pdb) p self\n",
      "SemialgebraicComplex with 0 components\n",
      "(Pdb) up\n",
      "> /home/philipblaine/.sage/temp/DESKTOP-27I4PM7/544/parametric.sagey6ud14lw.py(2406)bfs_completion()\n",
      "-> self.add_new_component(var_value, bddbsa=bddbsa, polynomial_map=polynomial_map, pos_poly=no_crossing, flip_ineq_step=flip_ineq_step, wall_crossing_method=wall_crossing_method, goto_lower_dim=goto_lower_dim, num_eq=num_eq)\n",
      "(Pdb) up\n",
      "> <ipython-input-6-90787c1f3857>(5)<module>()\n",
      "-> complex.bfs_completion(var_value=[Integer(10)])\n",
      "(Pdb) up\n",
      "> /mnt/c/users/phili/SAGEMATH/sage-9.3.beta7/local/lib/python3.8/site-packages/IPython/core/interactiveshell.py(3331)run_code()\n",
      "-> exec(code_obj, self.user_global_ns, self.user_ns)\n",
      "(Pdb) p code_obj\n",
      "<code object <module> at 0x7fa4134ffdf0, file \"<ipython-input-6-90787c1f3857>\", line 5>\n",
      "(Pdb) up\n",
      "> /mnt/c/users/phili/SAGEMATH/sage-9.3.beta7/local/lib/python3.8/site-packages/IPython/core/interactiveshell.py(3254)run_ast_nodes()\n",
      "-> if (await self.run_code(code, result,  async_=asy)):\n",
      "(Pdb) up\n",
      "> /mnt/c/users/phili/SAGEMATH/sage-9.3.beta7/local/lib/python3.8/site-packages/IPython/core/interactiveshell.py(3062)run_cell_async()\n",
      "-> has_raised = await self.run_ast_nodes(code_ast.body, cell_name,\n",
      "(Pdb) up\n",
      "> /mnt/c/users/phili/SAGEMATH/sage-9.3.beta7/local/lib/python3.8/site-packages/IPython/core/async_helpers.py(68)_pseudo_sync_runner()\n",
      "-> coro.send(None)\n",
      "(Pdb) down\n",
      "> /mnt/c/users/phili/SAGEMATH/sage-9.3.beta7/local/lib/python3.8/site-packages/IPython/core/interactiveshell.py(3062)run_cell_async()\n",
      "-> has_raised = await self.run_ast_nodes(code_ast.body, cell_name,\n",
      "(Pdb) down\n",
      "> /mnt/c/users/phili/SAGEMATH/sage-9.3.beta7/local/lib/python3.8/site-packages/IPython/core/interactiveshell.py(3254)run_ast_nodes()\n",
      "-> if (await self.run_code(code, result,  async_=asy)):\n",
      "(Pdb) down\n",
      "> /mnt/c/users/phili/SAGEMATH/sage-9.3.beta7/local/lib/python3.8/site-packages/IPython/core/interactiveshell.py(3331)run_code()\n",
      "-> exec(code_obj, self.user_global_ns, self.user_ns)\n",
      "(Pdb) down\n",
      "> <ipython-input-6-90787c1f3857>(5)<module>()\n",
      "-> complex.bfs_completion(var_value=[Integer(10)])\n",
      "(Pdb) down\n",
      "> /home/philipblaine/.sage/temp/DESKTOP-27I4PM7/544/parametric.sagey6ud14lw.py(2406)bfs_completion()\n",
      "-> self.add_new_component(var_value, bddbsa=bddbsa, polynomial_map=polynomial_map, pos_poly=no_crossing, flip_ineq_step=flip_ineq_step, wall_crossing_method=wall_crossing_method, goto_lower_dim=goto_lower_dim, num_eq=num_eq)\n",
      "(Pdb) down\n",
      "> /home/philipblaine/.sage/temp/DESKTOP-27I4PM7/544/parametric.sagey6ud14lw.py(2160)add_new_component()\n",
      "-> new_component = self._cell_class(self.family, var_value,\n",
      "(Pdb) down\n",
      "> /home/philipblaine/.sage/temp/DESKTOP-27I4PM7/544/parametric.sagey6ud14lw.py(1673)__classcall__()\n",
      "-> return super(ProofCell, cls).__classcall__(cls, family, var_value, find_region_type, bddbsa, polynomial_map)\n",
      "(Pdb) down\n",
      "> /mnt/c/users/phili/SAGEMATH/cutgeneratingfunctionology/cutgeneratingfunctionology/igp/class_call.py(14)__classcall__()\n",
      "-> instance = typecall(cls, *args, **options)\n",
      "(Pdb) down\n",
      "> /home/philipblaine/.sage/temp/DESKTOP-27I4PM7/544/parametric.sagey6ud14lw.py(1760)__init__()\n",
      "-> K, pt, test_point = self._construct_field_and_test_point(family, var_value, polynomial_map)\n",
      "(Pdb) down\n",
      "> /home/philipblaine/.sage/temp/DESKTOP-27I4PM7/544/parametric.sagey6ud14lw.py(1722)_construct_field_and_test_point()\n",
      "-> pt = [p(*K.gens()) for p in polynomial_map]\n",
      "(Pdb) down\n",
      "> /home/philipblaine/.sage/temp/DESKTOP-27I4PM7/544/parametric.sagey6ud14lw.py(1722)<listcomp>()\n",
      "-> pt = [p(*K.gens()) for p in polynomial_map]\n",
      "(Pdb) down\n",
      "> /mnt/c/users/phili/SAGEMATH/cutgeneratingfunctionology/cutgeneratingfunctionology/spam/parametric_real_field_element.py(153)_richcmp_()\n",
      "-> left.parent().assume_comparison(right, operator.lt, left)\n",
      "(Pdb) down\n",
      "> /home/philipblaine/.sage/temp/DESKTOP-27I4PM7/544/parametric.sagey6ud14lw.py(964)assume_comparison()\n",
      "-> self.record_factor(new_fac, op)\n",
      "(Pdb) p self\n",
      "ParametricRealField(names = ['mu'], values = [10])\n",
      "(Pdb) up\n",
      "> /mnt/c/users/phili/SAGEMATH/cutgeneratingfunctionology/cutgeneratingfunctionology/spam/parametric_real_field_element.py(153)_richcmp_()\n",
      "-> left.parent().assume_comparison(right, operator.lt, left)\n",
      "(Pdb) p left\n",
      "(mu)~\n",
      "(Pdb) p right\n",
      "0\n",
      "(Pdb) p left\n",
      "(mu)~\n",
      "(Pdb) down\n",
      "> /home/philipblaine/.sage/temp/DESKTOP-27I4PM7/544/parametric.sagey6ud14lw.py(964)assume_comparison()\n",
      "-> self.record_factor(new_fac, op)\n",
      "(Pdb) up\n",
      "> /mnt/c/users/phili/SAGEMATH/cutgeneratingfunctionology/cutgeneratingfunctionology/spam/parametric_real_field_element.py(153)_richcmp_()\n",
      "-> left.parent().assume_comparison(right, operator.lt, left)\n",
      "(Pdb) up\n",
      "> /home/philipblaine/.sage/temp/DESKTOP-27I4PM7/544/parametric.sagey6ud14lw.py(1722)<listcomp>()\n",
      "-> pt = [p(*K.gens()) for p in polynomial_map]\n",
      "(Pdb) p p\n",
      "mu\n",
      "(Pdb) p *K.gens()\n",
      "*** SyntaxError: invalid syntax\n",
      "(Pdb) p K.gens()\n",
      "[(mu)~]\n",
      "(Pdb) p polynomial_map\n",
      "*** NameError: name 'polynomial_map' is not defined\n",
      "(Pdb) up\n",
      "> /home/philipblaine/.sage/temp/DESKTOP-27I4PM7/544/parametric.sagey6ud14lw.py(1722)_construct_field_and_test_point()\n",
      "-> pt = [p(*K.gens()) for p in polynomial_map]\n"
     ]
    },
    {
     "name": "stdout",
     "output_type": "stream",
     "text": [
      "(Pdb) continue\n"
     ]
    },
    {
     "name": "stderr",
     "output_type": "stream",
     "text": [
      "INFO: 2021-03-25 14:28:31,689 New constraint: -mu + 8/7 < 0\n"
     ]
    },
    {
     "name": "stdout",
     "output_type": "stream",
     "text": [
      "--Return--\n",
      "> /home/philipblaine/.sage/temp/DESKTOP-27I4PM7/544/parametric.sagey6ud14lw.py(1109)record_factor()->None\n",
      "-> pdb.set_trace()\n",
      "(Pdb) up\n",
      "> /home/philipblaine/.sage/temp/DESKTOP-27I4PM7/544/parametric.sagey6ud14lw.py(964)assume_comparison()\n",
      "-> self.record_factor(new_fac, op)\n",
      "(Pdb) p new_fac\n",
      "-mu + 8/7\n",
      "(Pdb) p op\n",
      "<built-in function lt>\n",
      "(Pdb) up\n",
      "> /mnt/c/users/phili/SAGEMATH/cutgeneratingfunctionology/cutgeneratingfunctionology/spam/parametric_real_field_element.py(153)_richcmp_()\n",
      "-> left.parent().assume_comparison(right, operator.lt, left)\n",
      "(Pdb) p left\n",
      "(7/8*mu)~\n",
      "(Pdb) p right\n",
      "1\n",
      "(Pdb) up\n",
      "> /mnt/c/users/phili/SAGEMATH/cutgeneratingfunctionology/cutgeneratingfunctionology/spam/parametric_real_field_element.py(61)__init__()\n",
      "-> RR(value)\n",
      "(Pdb) p value\n"
     ]
    },
    {
     "name": "stderr",
     "output_type": "stream",
     "text": [
      "INFO: 2021-03-25 14:29:04,350 New constraint: -mu + 24/7 < 0\n"
     ]
    },
    {
     "name": "stdout",
     "output_type": "stream",
     "text": [
      "(7/8*mu)~ + (7/24*mu)~*x_0 + (11/24*mu)~*x_1 - 1/2*x_2 - 1/2*x_3\n",
      "(Pdb) up\n",
      "> /mnt/c/users/phili/SAGEMATH/sage-9.3.beta7/local/lib/python3.8/site-packages/sage/categories/sets_cat.py(993)_element_constructor_from_element_class()\n",
      "-> return self.element_class(self, *args, **keywords)\n",
      "(Pdb) p self\n",
      "ParametricRealField(names = ['mu'], values = [10])\n",
      "(Pdb) up\n",
      "> <string>(38)setup_portfolio_lp()\n",
      "(Pdb) up\n",
      "> /mnt/c/users/phili/SAGEMATH/cutgeneratingfunctionology/cutgeneratingfunctionology/igp/parametric_family.py(164)_element_constructor_()\n",
      "-> element = self._construct_function(**values)\n",
      "(Pdb) down\n",
      "> <string>(38)setup_portfolio_lp()\n",
      "(Pdb) down\n",
      "> /mnt/c/users/phili/SAGEMATH/sage-9.3.beta7/local/lib/python3.8/site-packages/sage/categories/sets_cat.py(993)_element_constructor_from_element_class()\n",
      "-> return self.element_class(self, *args, **keywords)\n",
      "(Pdb) down\n",
      "> /mnt/c/users/phili/SAGEMATH/cutgeneratingfunctionology/cutgeneratingfunctionology/spam/parametric_real_field_element.py(61)__init__()\n",
      "-> RR(value)\n",
      "(Pdb) p value\n",
      "(7/8*mu)~ + (7/24*mu)~*x_0 + (11/24*mu)~*x_1 - 1/2*x_2 - 1/2*x_3\n",
      "(Pdb) contineu\n",
      "*** NameError: name 'contineu' is not defined\n",
      "(Pdb) continue\n"
     ]
    },
    {
     "name": "stderr",
     "output_type": "stream",
     "text": [
      "INFO: 2021-03-25 14:30:40,506 Initialized ParametricRealField(names = ['mu'], values = [2399/700])\n",
      "INFO: 2021-03-25 14:30:40,508 New constraint: -mu < 0\n"
     ]
    },
    {
     "name": "stdout",
     "output_type": "stream",
     "text": [
      "--Return--\n",
      "> /home/philipblaine/.sage/temp/DESKTOP-27I4PM7/544/parametric.sagey6ud14lw.py(1109)record_factor()->None\n",
      "-> pdb.set_trace()\n",
      "(Pdb) exit\n"
     ]
    },
    {
     "ename": "BdbQuit",
     "evalue": "",
     "output_type": "error",
     "traceback": [
      "\u001b[0;31m---------------------------------------------------------------------------\u001b[0m",
      "\u001b[0;31mBdbQuit\u001b[0m                                   Traceback (most recent call last)",
      "\u001b[0;32m<ipython-input-6-90787c1f3857>\u001b[0m in \u001b[0;36m<module>\u001b[0;34m\u001b[0m\n\u001b[1;32m      3\u001b[0m \u001b[0mbddbsa\u001b[0m\u001b[0;34m.\u001b[0m\u001b[0madd_linear_constraint\u001b[0m\u001b[0;34m(\u001b[0m\u001b[0;34m(\u001b[0m\u001b[0;34m-\u001b[0m\u001b[0mInteger\u001b[0m\u001b[0;34m(\u001b[0m\u001b[0;36m1\u001b[0m\u001b[0;34m)\u001b[0m\u001b[0;34m,\u001b[0m\u001b[0;34m)\u001b[0m\u001b[0;34m,\u001b[0m \u001b[0mInteger\u001b[0m\u001b[0;34m(\u001b[0m\u001b[0;36m0\u001b[0m\u001b[0;34m)\u001b[0m\u001b[0;34m,\u001b[0m \u001b[0moperator\u001b[0m\u001b[0;34m.\u001b[0m\u001b[0mlt\u001b[0m\u001b[0;34m)\u001b[0m\u001b[0;34m\u001b[0m\u001b[0;34m\u001b[0m\u001b[0m\n\u001b[1;32m      4\u001b[0m \u001b[0mcomplex\u001b[0m \u001b[0;34m=\u001b[0m \u001b[0mSemialgebraicComplex\u001b[0m\u001b[0;34m(\u001b[0m\u001b[0msetup_portfolio_lp\u001b[0m\u001b[0;34m,\u001b[0m \u001b[0;34m[\u001b[0m\u001b[0;34m'mu'\u001b[0m\u001b[0;34m]\u001b[0m\u001b[0;34m,\u001b[0m \u001b[0mfind_region_type\u001b[0m\u001b[0;34m=\u001b[0m\u001b[0msolve_for_optimal_portfolio\u001b[0m\u001b[0;34m,\u001b[0m \u001b[0mbddbsa\u001b[0m\u001b[0;34m=\u001b[0m\u001b[0mbddbsa\u001b[0m\u001b[0;34m,\u001b[0m \u001b[0mhist_data\u001b[0m\u001b[0;34m=\u001b[0m\u001b[0mhist_data\u001b[0m\u001b[0;34m)\u001b[0m\u001b[0;34m\u001b[0m\u001b[0;34m\u001b[0m\u001b[0m\n\u001b[0;32m----> 5\u001b[0;31m \u001b[0mcomplex\u001b[0m\u001b[0;34m.\u001b[0m\u001b[0mbfs_completion\u001b[0m\u001b[0;34m(\u001b[0m\u001b[0mvar_value\u001b[0m\u001b[0;34m=\u001b[0m\u001b[0;34m[\u001b[0m\u001b[0mInteger\u001b[0m\u001b[0;34m(\u001b[0m\u001b[0;36m10\u001b[0m\u001b[0;34m)\u001b[0m\u001b[0;34m]\u001b[0m\u001b[0;34m)\u001b[0m\u001b[0;34m\u001b[0m\u001b[0;34m\u001b[0m\u001b[0m\n\u001b[0m",
      "\u001b[0;32m/mnt/c/users/phili/SAGEMATH/cutgeneratingfunctionology/cutgeneratingfunctionology/igp/__init__.py\u001b[0m in \u001b[0;36mbfs_completion\u001b[0;34m(self, var_value, flip_ineq_step, check_completion, wall_crossing_method, goto_lower_dim, max_failings)\u001b[0m\n\u001b[1;32m   2404\u001b[0m                 \u001b[0mvar_value\u001b[0m \u001b[0;34m=\u001b[0m \u001b[0mlist\u001b[0m\u001b[0;34m(\u001b[0m\u001b[0mvar_value\u001b[0m\u001b[0;34m)\u001b[0m\u001b[0;34m\u001b[0m\u001b[0;34m\u001b[0m\u001b[0m\n\u001b[1;32m   2405\u001b[0m                 \u001b[0;32mif\u001b[0m \u001b[0;32mnot\u001b[0m \u001b[0mself\u001b[0m\u001b[0;34m.\u001b[0m\u001b[0mis_point_covered\u001b[0m\u001b[0;34m(\u001b[0m\u001b[0mvar_value\u001b[0m\u001b[0;34m)\u001b[0m\u001b[0;34m:\u001b[0m\u001b[0;34m\u001b[0m\u001b[0;34m\u001b[0m\u001b[0m\n\u001b[0;32m-> 2406\u001b[0;31m                     \u001b[0mself\u001b[0m\u001b[0;34m.\u001b[0m\u001b[0madd_new_component\u001b[0m\u001b[0;34m(\u001b[0m\u001b[0mvar_value\u001b[0m\u001b[0;34m,\u001b[0m \u001b[0mbddbsa\u001b[0m\u001b[0;34m=\u001b[0m\u001b[0mbddbsa\u001b[0m\u001b[0;34m,\u001b[0m \u001b[0mpolynomial_map\u001b[0m\u001b[0;34m=\u001b[0m\u001b[0mpolynomial_map\u001b[0m\u001b[0;34m,\u001b[0m \u001b[0mpos_poly\u001b[0m\u001b[0;34m=\u001b[0m\u001b[0mno_crossing\u001b[0m\u001b[0;34m,\u001b[0m \u001b[0mflip_ineq_step\u001b[0m\u001b[0;34m=\u001b[0m\u001b[0mflip_ineq_step\u001b[0m\u001b[0;34m,\u001b[0m \u001b[0mwall_crossing_method\u001b[0m\u001b[0;34m=\u001b[0m\u001b[0mwall_crossing_method\u001b[0m\u001b[0;34m,\u001b[0m \u001b[0mgoto_lower_dim\u001b[0m\u001b[0;34m=\u001b[0m\u001b[0mgoto_lower_dim\u001b[0m\u001b[0;34m,\u001b[0m \u001b[0mnum_eq\u001b[0m\u001b[0;34m=\u001b[0m\u001b[0mnum_eq\u001b[0m\u001b[0;34m)\u001b[0m\u001b[0;34m\u001b[0m\u001b[0;34m\u001b[0m\u001b[0m\n\u001b[0m\u001b[1;32m   2407\u001b[0m             \u001b[0mmax_num_eq\u001b[0m \u001b[0;34m=\u001b[0m \u001b[0mmax\u001b[0m\u001b[0;34m(\u001b[0m\u001b[0mself\u001b[0m\u001b[0;34m.\u001b[0m\u001b[0mpoints_to_test\u001b[0m\u001b[0;34m.\u001b[0m\u001b[0mkeys\u001b[0m\u001b[0;34m(\u001b[0m\u001b[0;34m)\u001b[0m\u001b[0;34m)\u001b[0m\u001b[0;34m\u001b[0m\u001b[0;34m\u001b[0m\u001b[0m\n\u001b[1;32m   2408\u001b[0m             \u001b[0mnum_eq\u001b[0m \u001b[0;34m+=\u001b[0m \u001b[0m_sage_const_1\u001b[0m\u001b[0;34m\u001b[0m\u001b[0;34m\u001b[0m\u001b[0m\n",
      "\u001b[0;32m/mnt/c/users/phili/SAGEMATH/cutgeneratingfunctionology/cutgeneratingfunctionology/igp/__init__.py\u001b[0m in \u001b[0;36madd_new_component\u001b[0;34m(self, var_value, bddbsa, polynomial_map, pos_poly, flip_ineq_step, wall_crossing_method, goto_lower_dim, num_eq)\u001b[0m\n\u001b[1;32m   2158\u001b[0m             \u001b[0;32mif\u001b[0m \u001b[0;32mnot\u001b[0m \u001b[0mnum_eq\u001b[0m \u001b[0;32min\u001b[0m \u001b[0mself\u001b[0m\u001b[0;34m.\u001b[0m\u001b[0mtested_points\u001b[0m\u001b[0;34m:\u001b[0m\u001b[0;34m\u001b[0m\u001b[0;34m\u001b[0m\u001b[0m\n\u001b[1;32m   2159\u001b[0m                 \u001b[0mself\u001b[0m\u001b[0;34m.\u001b[0m\u001b[0mtested_points\u001b[0m\u001b[0;34m[\u001b[0m\u001b[0mnum_eq\u001b[0m\u001b[0;34m]\u001b[0m \u001b[0;34m=\u001b[0m \u001b[0mset\u001b[0m\u001b[0;34m(\u001b[0m\u001b[0;34m[\u001b[0m\u001b[0;34m]\u001b[0m\u001b[0;34m)\u001b[0m\u001b[0;34m\u001b[0m\u001b[0;34m\u001b[0m\u001b[0m\n\u001b[0;32m-> 2160\u001b[0;31m         new_component = self._cell_class(self.family, var_value, \n\u001b[0m\u001b[1;32m   2161\u001b[0m                                          find_region_type=self.find_region_type, bddbsa=bddbsa, polynomial_map=polynomial_map)\n\u001b[1;32m   2162\u001b[0m \u001b[0;34m\u001b[0m\u001b[0m\n",
      "\u001b[0;32m/mnt/c/users/phili/SAGEMATH/sage-9.3.beta7/local/lib/python3.8/site-packages/sage/misc/classcall_metaclass.pyx\u001b[0m in \u001b[0;36msage.misc.classcall_metaclass.ClasscallMetaclass.__call__ (build/cythonized/sage/misc/classcall_metaclass.c:1761)\u001b[0;34m()\u001b[0m\n\u001b[1;32m    320\u001b[0m         \"\"\"\n\u001b[1;32m    321\u001b[0m         \u001b[0;32mif\u001b[0m \u001b[0mcls\u001b[0m\u001b[0;34m.\u001b[0m\u001b[0mclasscall\u001b[0m \u001b[0;32mis\u001b[0m \u001b[0;32mnot\u001b[0m \u001b[0;32mNone\u001b[0m\u001b[0;34m:\u001b[0m\u001b[0;34m\u001b[0m\u001b[0;34m\u001b[0m\u001b[0m\n\u001b[0;32m--> 322\u001b[0;31m             \u001b[0;32mreturn\u001b[0m \u001b[0mcls\u001b[0m\u001b[0;34m.\u001b[0m\u001b[0mclasscall\u001b[0m\u001b[0;34m(\u001b[0m\u001b[0mcls\u001b[0m\u001b[0;34m,\u001b[0m \u001b[0;34m*\u001b[0m\u001b[0margs\u001b[0m\u001b[0;34m,\u001b[0m \u001b[0;34m**\u001b[0m\u001b[0mkwds\u001b[0m\u001b[0;34m)\u001b[0m\u001b[0;34m\u001b[0m\u001b[0;34m\u001b[0m\u001b[0m\n\u001b[0m\u001b[1;32m    323\u001b[0m         \u001b[0;32melse\u001b[0m\u001b[0;34m:\u001b[0m\u001b[0;34m\u001b[0m\u001b[0;34m\u001b[0m\u001b[0m\n\u001b[1;32m    324\u001b[0m             \u001b[0;31m# Fast version of type.__call__(cls, *args, **kwds)\u001b[0m\u001b[0;34m\u001b[0m\u001b[0;34m\u001b[0m\u001b[0;34m\u001b[0m\u001b[0m\n",
      "\u001b[0;32m/mnt/c/users/phili/SAGEMATH/cutgeneratingfunctionology/cutgeneratingfunctionology/igp/__init__.py\u001b[0m in \u001b[0;36m__classcall__\u001b[0;34m(cls, family, var_value, find_region_type, bddbsa, polynomial_map)\u001b[0m\n\u001b[1;32m   1671\u001b[0m             \u001b[0mfamily\u001b[0m \u001b[0;34m=\u001b[0m \u001b[0mParametricFamily\u001b[0m\u001b[0;34m(\u001b[0m\u001b[0mfamily\u001b[0m\u001b[0;34m)\u001b[0m\u001b[0;34m\u001b[0m\u001b[0;34m\u001b[0m\u001b[0m\n\u001b[1;32m   1672\u001b[0m         \u001b[0mvar_value\u001b[0m \u001b[0;34m=\u001b[0m \u001b[0mtuple\u001b[0m\u001b[0;34m(\u001b[0m\u001b[0mvar_value\u001b[0m\u001b[0;34m)\u001b[0m\u001b[0;34m\u001b[0m\u001b[0;34m\u001b[0m\u001b[0m\n\u001b[0;32m-> 1673\u001b[0;31m         \u001b[0;32mreturn\u001b[0m \u001b[0msuper\u001b[0m\u001b[0;34m(\u001b[0m\u001b[0mProofCell\u001b[0m\u001b[0;34m,\u001b[0m \u001b[0mcls\u001b[0m\u001b[0;34m)\u001b[0m\u001b[0;34m.\u001b[0m\u001b[0m__classcall__\u001b[0m\u001b[0;34m(\u001b[0m\u001b[0mcls\u001b[0m\u001b[0;34m,\u001b[0m \u001b[0mfamily\u001b[0m\u001b[0;34m,\u001b[0m \u001b[0mvar_value\u001b[0m\u001b[0;34m,\u001b[0m \u001b[0mfind_region_type\u001b[0m\u001b[0;34m,\u001b[0m \u001b[0mbddbsa\u001b[0m\u001b[0;34m,\u001b[0m \u001b[0mpolynomial_map\u001b[0m\u001b[0;34m)\u001b[0m\u001b[0;34m\u001b[0m\u001b[0;34m\u001b[0m\u001b[0m\n\u001b[0m\u001b[1;32m   1674\u001b[0m \u001b[0;34m\u001b[0m\u001b[0m\n\u001b[1;32m   1675\u001b[0m     \u001b[0;34m@\u001b[0m\u001b[0mstaticmethod\u001b[0m\u001b[0;34m\u001b[0m\u001b[0;34m\u001b[0m\u001b[0m\n",
      "\u001b[0;32m/mnt/c/users/phili/SAGEMATH/cutgeneratingfunctionology/cutgeneratingfunctionology/igp/class_call.py\u001b[0m in \u001b[0;36m__classcall__\u001b[0;34m(cls, *args, **options)\u001b[0m\n\u001b[1;32m     12\u001b[0m     \u001b[0;34m@\u001b[0m\u001b[0mstaticmethod\u001b[0m\u001b[0;34m\u001b[0m\u001b[0;34m\u001b[0m\u001b[0m\n\u001b[1;32m     13\u001b[0m     \u001b[0;32mdef\u001b[0m \u001b[0m__classcall__\u001b[0m\u001b[0;34m(\u001b[0m\u001b[0mcls\u001b[0m\u001b[0;34m,\u001b[0m \u001b[0;34m*\u001b[0m\u001b[0margs\u001b[0m\u001b[0;34m,\u001b[0m \u001b[0;34m**\u001b[0m\u001b[0moptions\u001b[0m\u001b[0;34m)\u001b[0m\u001b[0;34m:\u001b[0m\u001b[0;34m\u001b[0m\u001b[0;34m\u001b[0m\u001b[0m\n\u001b[0;32m---> 14\u001b[0;31m         \u001b[0minstance\u001b[0m \u001b[0;34m=\u001b[0m \u001b[0mtypecall\u001b[0m\u001b[0;34m(\u001b[0m\u001b[0mcls\u001b[0m\u001b[0;34m,\u001b[0m \u001b[0;34m*\u001b[0m\u001b[0margs\u001b[0m\u001b[0;34m,\u001b[0m \u001b[0;34m**\u001b[0m\u001b[0moptions\u001b[0m\u001b[0;34m)\u001b[0m\u001b[0;34m\u001b[0m\u001b[0;34m\u001b[0m\u001b[0m\n\u001b[0m\u001b[1;32m     15\u001b[0m         \u001b[0;32massert\u001b[0m \u001b[0misinstance\u001b[0m\u001b[0;34m(\u001b[0m \u001b[0minstance\u001b[0m\u001b[0;34m,\u001b[0m \u001b[0mcls\u001b[0m \u001b[0;34m)\u001b[0m\u001b[0;34m\u001b[0m\u001b[0;34m\u001b[0m\u001b[0m\n\u001b[1;32m     16\u001b[0m         \u001b[0minstance\u001b[0m\u001b[0;34m.\u001b[0m\u001b[0m_init_args\u001b[0m \u001b[0;34m=\u001b[0m \u001b[0;34m(\u001b[0m\u001b[0mcls\u001b[0m\u001b[0;34m,\u001b[0m \u001b[0margs\u001b[0m\u001b[0;34m,\u001b[0m \u001b[0moptions\u001b[0m\u001b[0;34m)\u001b[0m\u001b[0;34m\u001b[0m\u001b[0;34m\u001b[0m\u001b[0m\n",
      "\u001b[0;32m/mnt/c/users/phili/SAGEMATH/sage-9.3.beta7/local/lib/python3.8/site-packages/sage/misc/classcall_metaclass.pyx\u001b[0m in \u001b[0;36msage.misc.classcall_metaclass.typecall (build/cythonized/sage/misc/classcall_metaclass.c:2223)\u001b[0;34m()\u001b[0m\n\u001b[1;32m    484\u001b[0m             \u001b[0mTypeError\u001b[0m\u001b[0;34m:\u001b[0m \u001b[0mArgument\u001b[0m \u001b[0;34m'cls'\u001b[0m \u001b[0mhas\u001b[0m \u001b[0mincorrect\u001b[0m \u001b[0mtype\u001b[0m \u001b[0;34m(\u001b[0m\u001b[0mexpected\u001b[0m \u001b[0mtype\u001b[0m\u001b[0;34m,\u001b[0m \u001b[0mgot\u001b[0m \u001b[0mclassobj\u001b[0m\u001b[0;34m)\u001b[0m\u001b[0;34m\u001b[0m\u001b[0;34m\u001b[0m\u001b[0m\n\u001b[1;32m    485\u001b[0m     \"\"\"\n\u001b[0;32m--> 486\u001b[0;31m     \u001b[0;32mreturn\u001b[0m \u001b[0;34m(\u001b[0m\u001b[0;34m<\u001b[0m\u001b[0mPyTypeObject\u001b[0m\u001b[0;34m*\u001b[0m\u001b[0;34m>\u001b[0m\u001b[0mtype\u001b[0m\u001b[0;34m)\u001b[0m\u001b[0;34m.\u001b[0m\u001b[0mtp_call\u001b[0m\u001b[0;34m(\u001b[0m\u001b[0mcls\u001b[0m\u001b[0;34m,\u001b[0m \u001b[0margs\u001b[0m\u001b[0;34m,\u001b[0m \u001b[0mkwds\u001b[0m\u001b[0;34m)\u001b[0m\u001b[0;34m\u001b[0m\u001b[0;34m\u001b[0m\u001b[0m\n\u001b[0m\u001b[1;32m    487\u001b[0m \u001b[0;34m\u001b[0m\u001b[0m\n\u001b[1;32m    488\u001b[0m \u001b[0;31m# Class for timing::\u001b[0m\u001b[0;34m\u001b[0m\u001b[0;34m\u001b[0m\u001b[0;34m\u001b[0m\u001b[0m\n",
      "\u001b[0;32m/mnt/c/users/phili/SAGEMATH/cutgeneratingfunctionology/cutgeneratingfunctionology/igp/__init__.py\u001b[0m in \u001b[0;36m__init__\u001b[0;34m(self, family, var_value, find_region_type, bddbsa, polynomial_map)\u001b[0m\n\u001b[1;32m   1758\u001b[0m             \u001b[0;34m(\u001b[0m\u001b[0;34m[\u001b[0m\u001b[0;34m-\u001b[0m\u001b[0;36m11\u001b[0m\u001b[0;34m*\u001b[0m\u001b[0mf\u001b[0m \u001b[0;34m+\u001b[0m \u001b[0;36m1\u001b[0m\u001b[0;34m,\u001b[0m \u001b[0;36m9\u001b[0m\u001b[0;34m*\u001b[0m\u001b[0mf\u001b[0m \u001b[0;34m-\u001b[0m \u001b[0;36m1\u001b[0m\u001b[0;34m]\u001b[0m\u001b[0;34m,\u001b[0m \u001b[0;34m[\u001b[0m\u001b[0mf\u001b[0m \u001b[0;34m-\u001b[0m \u001b[0mz\u001b[0m\u001b[0;34m]\u001b[0m\u001b[0;34m)\u001b[0m\u001b[0;34m\u001b[0m\u001b[0;34m\u001b[0m\u001b[0m\n\u001b[1;32m   1759\u001b[0m         \"\"\"\n\u001b[0;32m-> 1760\u001b[0;31m         \u001b[0mK\u001b[0m\u001b[0;34m,\u001b[0m \u001b[0mpt\u001b[0m\u001b[0;34m,\u001b[0m \u001b[0mtest_point\u001b[0m \u001b[0;34m=\u001b[0m \u001b[0mself\u001b[0m\u001b[0;34m.\u001b[0m\u001b[0m_construct_field_and_test_point\u001b[0m\u001b[0;34m(\u001b[0m\u001b[0mfamily\u001b[0m\u001b[0;34m,\u001b[0m \u001b[0mvar_value\u001b[0m\u001b[0;34m,\u001b[0m \u001b[0mpolynomial_map\u001b[0m\u001b[0;34m)\u001b[0m\u001b[0;34m\u001b[0m\u001b[0;34m\u001b[0m\u001b[0m\n\u001b[0m\u001b[1;32m   1761\u001b[0m         \u001b[0;32mtry\u001b[0m\u001b[0;34m:\u001b[0m\u001b[0;34m\u001b[0m\u001b[0;34m\u001b[0m\u001b[0m\n\u001b[1;32m   1762\u001b[0m             \u001b[0mh\u001b[0m \u001b[0;34m=\u001b[0m \u001b[0mfamily\u001b[0m\u001b[0;34m(\u001b[0m\u001b[0;34m**\u001b[0m\u001b[0mtest_point\u001b[0m\u001b[0;34m)\u001b[0m\u001b[0;34m\u001b[0m\u001b[0;34m\u001b[0m\u001b[0m\n",
      "\u001b[0;32m/mnt/c/users/phili/SAGEMATH/cutgeneratingfunctionology/cutgeneratingfunctionology/igp/__init__.py\u001b[0m in \u001b[0;36m_construct_field_and_test_point\u001b[0;34m(family, var_value, polynomial_map)\u001b[0m\n\u001b[1;32m   1720\u001b[0m             \u001b[0mpt\u001b[0m \u001b[0;34m=\u001b[0m \u001b[0mK\u001b[0m\u001b[0;34m.\u001b[0m\u001b[0mgens\u001b[0m\u001b[0;34m(\u001b[0m\u001b[0;34m)\u001b[0m\u001b[0;34m\u001b[0m\u001b[0;34m\u001b[0m\u001b[0m\n\u001b[1;32m   1721\u001b[0m         \u001b[0;32melse\u001b[0m\u001b[0;34m:\u001b[0m\u001b[0;34m\u001b[0m\u001b[0;34m\u001b[0m\u001b[0m\n\u001b[0;32m-> 1722\u001b[0;31m             \u001b[0mpt\u001b[0m \u001b[0;34m=\u001b[0m \u001b[0;34m[\u001b[0m\u001b[0mp\u001b[0m\u001b[0;34m(\u001b[0m\u001b[0;34m*\u001b[0m\u001b[0mK\u001b[0m\u001b[0;34m.\u001b[0m\u001b[0mgens\u001b[0m\u001b[0;34m(\u001b[0m\u001b[0;34m)\u001b[0m\u001b[0;34m)\u001b[0m \u001b[0;32mfor\u001b[0m \u001b[0mp\u001b[0m \u001b[0;32min\u001b[0m \u001b[0mpolynomial_map\u001b[0m\u001b[0;34m]\u001b[0m\u001b[0;34m\u001b[0m\u001b[0;34m\u001b[0m\u001b[0m\n\u001b[0m\u001b[1;32m   1723\u001b[0m             \u001b[0;32mfor\u001b[0m \u001b[0mi\u001b[0m \u001b[0;32min\u001b[0m \u001b[0mrange\u001b[0m\u001b[0;34m(\u001b[0m\u001b[0mlen\u001b[0m\u001b[0;34m(\u001b[0m\u001b[0mK\u001b[0m\u001b[0;34m.\u001b[0m\u001b[0mgens\u001b[0m\u001b[0;34m(\u001b[0m\u001b[0;34m)\u001b[0m\u001b[0;34m)\u001b[0m\u001b[0;34m)\u001b[0m\u001b[0;34m:\u001b[0m\u001b[0;34m\u001b[0m\u001b[0;34m\u001b[0m\u001b[0m\n\u001b[1;32m   1724\u001b[0m                 \u001b[0;32massert\u001b[0m \u001b[0mK\u001b[0m\u001b[0;34m.\u001b[0m\u001b[0mgens\u001b[0m\u001b[0;34m(\u001b[0m\u001b[0;34m)\u001b[0m\u001b[0;34m[\u001b[0m\u001b[0mi\u001b[0m\u001b[0;34m]\u001b[0m \u001b[0;34m==\u001b[0m \u001b[0mpolynomial_map\u001b[0m\u001b[0;34m[\u001b[0m\u001b[0mi\u001b[0m\u001b[0;34m]\u001b[0m\u001b[0;34m(\u001b[0m\u001b[0;34m*\u001b[0m\u001b[0mK\u001b[0m\u001b[0;34m.\u001b[0m\u001b[0mgens\u001b[0m\u001b[0;34m(\u001b[0m\u001b[0;34m)\u001b[0m\u001b[0;34m)\u001b[0m  \u001b[0;31m# record equations in K\u001b[0m\u001b[0;34m\u001b[0m\u001b[0;34m\u001b[0m\u001b[0m\n",
      "\u001b[0;32m/mnt/c/users/phili/SAGEMATH/cutgeneratingfunctionology/cutgeneratingfunctionology/igp/__init__.py\u001b[0m in \u001b[0;36m<listcomp>\u001b[0;34m(.0)\u001b[0m\n\u001b[1;32m   1720\u001b[0m             \u001b[0mpt\u001b[0m \u001b[0;34m=\u001b[0m \u001b[0mK\u001b[0m\u001b[0;34m.\u001b[0m\u001b[0mgens\u001b[0m\u001b[0;34m(\u001b[0m\u001b[0;34m)\u001b[0m\u001b[0;34m\u001b[0m\u001b[0;34m\u001b[0m\u001b[0m\n\u001b[1;32m   1721\u001b[0m         \u001b[0;32melse\u001b[0m\u001b[0;34m:\u001b[0m\u001b[0;34m\u001b[0m\u001b[0;34m\u001b[0m\u001b[0m\n\u001b[0;32m-> 1722\u001b[0;31m             \u001b[0mpt\u001b[0m \u001b[0;34m=\u001b[0m \u001b[0;34m[\u001b[0m\u001b[0mp\u001b[0m\u001b[0;34m(\u001b[0m\u001b[0;34m*\u001b[0m\u001b[0mK\u001b[0m\u001b[0;34m.\u001b[0m\u001b[0mgens\u001b[0m\u001b[0;34m(\u001b[0m\u001b[0;34m)\u001b[0m\u001b[0;34m)\u001b[0m \u001b[0;32mfor\u001b[0m \u001b[0mp\u001b[0m \u001b[0;32min\u001b[0m \u001b[0mpolynomial_map\u001b[0m\u001b[0;34m]\u001b[0m\u001b[0;34m\u001b[0m\u001b[0;34m\u001b[0m\u001b[0m\n\u001b[0m\u001b[1;32m   1723\u001b[0m             \u001b[0;32mfor\u001b[0m \u001b[0mi\u001b[0m \u001b[0;32min\u001b[0m \u001b[0mrange\u001b[0m\u001b[0;34m(\u001b[0m\u001b[0mlen\u001b[0m\u001b[0;34m(\u001b[0m\u001b[0mK\u001b[0m\u001b[0;34m.\u001b[0m\u001b[0mgens\u001b[0m\u001b[0;34m(\u001b[0m\u001b[0;34m)\u001b[0m\u001b[0;34m)\u001b[0m\u001b[0;34m)\u001b[0m\u001b[0;34m:\u001b[0m\u001b[0;34m\u001b[0m\u001b[0;34m\u001b[0m\u001b[0m\n\u001b[1;32m   1724\u001b[0m                 \u001b[0;32massert\u001b[0m \u001b[0mK\u001b[0m\u001b[0;34m.\u001b[0m\u001b[0mgens\u001b[0m\u001b[0;34m(\u001b[0m\u001b[0;34m)\u001b[0m\u001b[0;34m[\u001b[0m\u001b[0mi\u001b[0m\u001b[0;34m]\u001b[0m \u001b[0;34m==\u001b[0m \u001b[0mpolynomial_map\u001b[0m\u001b[0;34m[\u001b[0m\u001b[0mi\u001b[0m\u001b[0;34m]\u001b[0m\u001b[0;34m(\u001b[0m\u001b[0;34m*\u001b[0m\u001b[0mK\u001b[0m\u001b[0;34m.\u001b[0m\u001b[0mgens\u001b[0m\u001b[0;34m(\u001b[0m\u001b[0;34m)\u001b[0m\u001b[0;34m)\u001b[0m  \u001b[0;31m# record equations in K\u001b[0m\u001b[0;34m\u001b[0m\u001b[0;34m\u001b[0m\u001b[0m\n",
      "\u001b[0;32m/mnt/c/users/phili/SAGEMATH/sage-9.3.beta7/local/lib/python3.8/site-packages/sage/rings/polynomial/polynomial_rational_flint.pyx\u001b[0m in \u001b[0;36msage.rings.polynomial.polynomial_rational_flint.Polynomial_rational_flint.__call__ (build/cythonized/sage/rings/polynomial/polynomial_rational_flint.cpp:8797)\u001b[0;34m()\u001b[0m\n\u001b[1;32m    548\u001b[0m                 \u001b[0;32mreturn\u001b[0m \u001b[0macb_z\u001b[0m\u001b[0;34m\u001b[0m\u001b[0;34m\u001b[0m\u001b[0m\n\u001b[1;32m    549\u001b[0m \u001b[0;34m\u001b[0m\u001b[0m\n\u001b[0;32m--> 550\u001b[0;31m         \u001b[0;32mreturn\u001b[0m \u001b[0mPolynomial\u001b[0m\u001b[0;34m.\u001b[0m\u001b[0m__call__\u001b[0m\u001b[0;34m(\u001b[0m\u001b[0mself\u001b[0m\u001b[0;34m,\u001b[0m \u001b[0;34m*\u001b[0m\u001b[0mx\u001b[0m\u001b[0;34m,\u001b[0m \u001b[0;34m**\u001b[0m\u001b[0mkwds\u001b[0m\u001b[0;34m)\u001b[0m\u001b[0;34m\u001b[0m\u001b[0;34m\u001b[0m\u001b[0m\n\u001b[0m\u001b[1;32m    551\u001b[0m \u001b[0;34m\u001b[0m\u001b[0m\n\u001b[1;32m    552\u001b[0m     \u001b[0mcpdef\u001b[0m \u001b[0mPolynomial\u001b[0m \u001b[0mtruncate\u001b[0m\u001b[0;34m(\u001b[0m\u001b[0mself\u001b[0m\u001b[0;34m,\u001b[0m \u001b[0mlong\u001b[0m \u001b[0mn\u001b[0m\u001b[0;34m)\u001b[0m\u001b[0;34m:\u001b[0m\u001b[0;34m\u001b[0m\u001b[0;34m\u001b[0m\u001b[0m\n",
      "\u001b[0;32m/mnt/c/users/phili/SAGEMATH/sage-9.3.beta7/local/lib/python3.8/site-packages/sage/rings/polynomial/polynomial_element.pyx\u001b[0m in \u001b[0;36msage.rings.polynomial.polynomial_element.Polynomial.__call__ (build/cythonized/sage/rings/polynomial/polynomial_element.c:9717)\u001b[0;34m()\u001b[0m\n\u001b[1;32m    785\u001b[0m \u001b[0;34m\u001b[0m\u001b[0m\n\u001b[1;32m    786\u001b[0m         if d <= 0 or (isinstance(a, Element)\n\u001b[0;32m--> 787\u001b[0;31m                       and a.parent().is_exact() and a.is_zero()):\n\u001b[0m\u001b[1;32m    788\u001b[0m             \u001b[0;32mreturn\u001b[0m \u001b[0mcst\u001b[0m \u001b[0;31m# with the right parent thanks to the above coercion\u001b[0m\u001b[0;34m\u001b[0m\u001b[0;34m\u001b[0m\u001b[0m\n\u001b[1;32m    789\u001b[0m         \u001b[0;32melif\u001b[0m \u001b[0mparent\u001b[0m\u001b[0;34m(\u001b[0m\u001b[0ma\u001b[0m\u001b[0;34m)\u001b[0m \u001b[0;32mis\u001b[0m \u001b[0mpol\u001b[0m\u001b[0;34m.\u001b[0m\u001b[0m_parent\u001b[0m \u001b[0;32mand\u001b[0m \u001b[0ma\u001b[0m\u001b[0;34m.\u001b[0m\u001b[0mis_gen\u001b[0m\u001b[0;34m(\u001b[0m\u001b[0;34m)\u001b[0m\u001b[0;34m:\u001b[0m\u001b[0;34m\u001b[0m\u001b[0;34m\u001b[0m\u001b[0m\n",
      "\u001b[0;32m/mnt/c/users/phili/SAGEMATH/sage-9.3.beta7/local/lib/python3.8/site-packages/sage/structure/element.pyx\u001b[0m in \u001b[0;36msage.structure.element.Element.is_zero (build/cythonized/sage/structure/element.c:10178)\u001b[0;34m()\u001b[0m\n\u001b[1;32m   1061\u001b[0m             \u001b[0mimplement\u001b[0m\u001b[0;31m \u001b[0m\u001b[0;31m`\u001b[0m\u001b[0;31m`\u001b[0m\u001b[0m__nonzero__\u001b[0m\u001b[0;31m`\u001b[0m\u001b[0;31m`\u001b[0m \u001b[0minstead\u001b[0m\u001b[0;34m.\u001b[0m\u001b[0;34m\u001b[0m\u001b[0;34m\u001b[0m\u001b[0m\n\u001b[1;32m   1062\u001b[0m         \"\"\"\n\u001b[0;32m-> 1063\u001b[0;31m         \u001b[0;32mreturn\u001b[0m \u001b[0;32mnot\u001b[0m \u001b[0mself\u001b[0m\u001b[0;34m\u001b[0m\u001b[0;34m\u001b[0m\u001b[0m\n\u001b[0m\u001b[1;32m   1064\u001b[0m \u001b[0;34m\u001b[0m\u001b[0m\n\u001b[1;32m   1065\u001b[0m     \u001b[0;32mdef\u001b[0m \u001b[0m_cache_key\u001b[0m\u001b[0;34m(\u001b[0m\u001b[0mself\u001b[0m\u001b[0;34m)\u001b[0m\u001b[0;34m:\u001b[0m\u001b[0;34m\u001b[0m\u001b[0;34m\u001b[0m\u001b[0m\n",
      "\u001b[0;32m/mnt/c/users/phili/SAGEMATH/sage-9.3.beta7/local/lib/python3.8/site-packages/sage/structure/element.pyx\u001b[0m in \u001b[0;36msage.structure.element.Element.__nonzero__ (build/cythonized/sage/structure/element.c:10111)\u001b[0;34m()\u001b[0m\n\u001b[1;32m   1047\u001b[0m             \u001b[0;32mreturn\u001b[0m \u001b[0;32mTrue\u001b[0m \u001b[0;31m# by convention\u001b[0m\u001b[0;34m\u001b[0m\u001b[0;34m\u001b[0m\u001b[0m\n\u001b[1;32m   1048\u001b[0m \u001b[0;34m\u001b[0m\u001b[0m\n\u001b[0;32m-> 1049\u001b[0;31m         \u001b[0;32mreturn\u001b[0m \u001b[0mself\u001b[0m \u001b[0;34m!=\u001b[0m \u001b[0mzero\u001b[0m\u001b[0;34m\u001b[0m\u001b[0;34m\u001b[0m\u001b[0m\n\u001b[0m\u001b[1;32m   1050\u001b[0m \u001b[0;34m\u001b[0m\u001b[0m\n\u001b[1;32m   1051\u001b[0m     \u001b[0;32mdef\u001b[0m \u001b[0mis_zero\u001b[0m\u001b[0;34m(\u001b[0m\u001b[0mself\u001b[0m\u001b[0;34m)\u001b[0m\u001b[0;34m:\u001b[0m\u001b[0;34m\u001b[0m\u001b[0;34m\u001b[0m\u001b[0m\n",
      "\u001b[0;32m/mnt/c/users/phili/SAGEMATH/sage-9.3.beta7/local/lib/python3.8/site-packages/sage/structure/element.pyx\u001b[0m in \u001b[0;36msage.structure.element.Element.__richcmp__ (build/cythonized/sage/structure/element.c:10346)\u001b[0;34m()\u001b[0m\n\u001b[1;32m   1107\u001b[0m             \u001b[0;31m# an instance of Element. The explicit casts below make\u001b[0m\u001b[0;34m\u001b[0m\u001b[0;34m\u001b[0m\u001b[0;34m\u001b[0m\u001b[0m\n\u001b[1;32m   1108\u001b[0m             \u001b[0;31m# Cython generate optimized code for this call.\u001b[0m\u001b[0;34m\u001b[0m\u001b[0;34m\u001b[0m\u001b[0;34m\u001b[0m\u001b[0m\n\u001b[0;32m-> 1109\u001b[0;31m             \u001b[0;32mreturn\u001b[0m \u001b[0;34m(\u001b[0m\u001b[0;34m<\u001b[0m\u001b[0mElement\u001b[0m\u001b[0;34m>\u001b[0m\u001b[0mself\u001b[0m\u001b[0;34m)\u001b[0m\u001b[0;34m.\u001b[0m\u001b[0m_richcmp_\u001b[0m\u001b[0;34m(\u001b[0m\u001b[0mother\u001b[0m\u001b[0;34m,\u001b[0m \u001b[0mop\u001b[0m\u001b[0;34m)\u001b[0m\u001b[0;34m\u001b[0m\u001b[0;34m\u001b[0m\u001b[0m\n\u001b[0m\u001b[1;32m   1110\u001b[0m         \u001b[0;32melse\u001b[0m\u001b[0;34m:\u001b[0m\u001b[0;34m\u001b[0m\u001b[0;34m\u001b[0m\u001b[0m\n\u001b[1;32m   1111\u001b[0m             \u001b[0;32mreturn\u001b[0m \u001b[0mcoercion_model\u001b[0m\u001b[0;34m.\u001b[0m\u001b[0mrichcmp\u001b[0m\u001b[0;34m(\u001b[0m\u001b[0mself\u001b[0m\u001b[0;34m,\u001b[0m \u001b[0mother\u001b[0m\u001b[0;34m,\u001b[0m \u001b[0mop\u001b[0m\u001b[0;34m)\u001b[0m\u001b[0;34m\u001b[0m\u001b[0;34m\u001b[0m\u001b[0m\n",
      "\u001b[0;32m/mnt/c/users/phili/SAGEMATH/sage-9.3.beta7/local/lib/python3.8/site-packages/sage/structure/element.pyx\u001b[0m in \u001b[0;36msage.structure.element.Element._richcmp_ (build/cythonized/sage/structure/element.c:10452)\u001b[0;34m()\u001b[0m\n\u001b[1;32m   1111\u001b[0m             \u001b[0;32mreturn\u001b[0m \u001b[0mcoercion_model\u001b[0m\u001b[0;34m.\u001b[0m\u001b[0mrichcmp\u001b[0m\u001b[0;34m(\u001b[0m\u001b[0mself\u001b[0m\u001b[0;34m,\u001b[0m \u001b[0mother\u001b[0m\u001b[0;34m,\u001b[0m \u001b[0mop\u001b[0m\u001b[0;34m)\u001b[0m\u001b[0;34m\u001b[0m\u001b[0;34m\u001b[0m\u001b[0m\n\u001b[1;32m   1112\u001b[0m \u001b[0;34m\u001b[0m\u001b[0m\n\u001b[0;32m-> 1113\u001b[0;31m     \u001b[0mcpdef\u001b[0m \u001b[0m_richcmp_\u001b[0m\u001b[0;34m(\u001b[0m\u001b[0mleft\u001b[0m\u001b[0;34m,\u001b[0m \u001b[0mright\u001b[0m\u001b[0;34m,\u001b[0m \u001b[0mint\u001b[0m \u001b[0mop\u001b[0m\u001b[0;34m)\u001b[0m\u001b[0;34m:\u001b[0m\u001b[0;34m\u001b[0m\u001b[0;34m\u001b[0m\u001b[0m\n\u001b[0m\u001b[1;32m   1114\u001b[0m         r\"\"\"\n\u001b[1;32m   1115\u001b[0m         \u001b[0mBasic\u001b[0m \u001b[0mdefault\u001b[0m \u001b[0mimplementation\u001b[0m \u001b[0mof\u001b[0m \u001b[0mrich\u001b[0m \u001b[0mcomparisons\u001b[0m \u001b[0;32mfor\u001b[0m \u001b[0melements\u001b[0m \u001b[0;32mwith\u001b[0m\u001b[0;34m\u001b[0m\u001b[0;34m\u001b[0m\u001b[0m\n",
      "\u001b[0;32m/mnt/c/users/phili/SAGEMATH/cutgeneratingfunctionology/cutgeneratingfunctionology/spam/parametric_real_field_element.py\u001b[0m in \u001b[0;36m_richcmp_\u001b[0;34m(left, right, op)\u001b[0m\n\u001b[1;32m    151\u001b[0m                 \u001b[0mleft\u001b[0m\u001b[0;34m.\u001b[0m\u001b[0mparent\u001b[0m\u001b[0;34m(\u001b[0m\u001b[0;34m)\u001b[0m\u001b[0;34m.\u001b[0m\u001b[0massume_comparison\u001b[0m\u001b[0;34m(\u001b[0m\u001b[0mleft\u001b[0m\u001b[0;34m,\u001b[0m \u001b[0moperator\u001b[0m\u001b[0;34m.\u001b[0m\u001b[0mlt\u001b[0m\u001b[0;34m,\u001b[0m \u001b[0mright\u001b[0m\u001b[0;34m)\u001b[0m\u001b[0;34m\u001b[0m\u001b[0;34m\u001b[0m\u001b[0m\n\u001b[1;32m    152\u001b[0m             \u001b[0;32melse\u001b[0m\u001b[0;34m:\u001b[0m\u001b[0;34m\u001b[0m\u001b[0;34m\u001b[0m\u001b[0m\n\u001b[0;32m--> 153\u001b[0;31m                 \u001b[0mleft\u001b[0m\u001b[0;34m.\u001b[0m\u001b[0mparent\u001b[0m\u001b[0;34m(\u001b[0m\u001b[0;34m)\u001b[0m\u001b[0;34m.\u001b[0m\u001b[0massume_comparison\u001b[0m\u001b[0;34m(\u001b[0m\u001b[0mright\u001b[0m\u001b[0;34m,\u001b[0m \u001b[0moperator\u001b[0m\u001b[0;34m.\u001b[0m\u001b[0mlt\u001b[0m\u001b[0;34m,\u001b[0m \u001b[0mleft\u001b[0m\u001b[0;34m)\u001b[0m\u001b[0;34m\u001b[0m\u001b[0;34m\u001b[0m\u001b[0m\n\u001b[0m\u001b[1;32m    154\u001b[0m             \u001b[0;32mreturn\u001b[0m \u001b[0mrichcmp\u001b[0m\u001b[0;34m(\u001b[0m\u001b[0mleft\u001b[0m\u001b[0;34m.\u001b[0m\u001b[0mval\u001b[0m\u001b[0;34m(\u001b[0m\u001b[0;34m)\u001b[0m\u001b[0;34m,\u001b[0m \u001b[0mright\u001b[0m\u001b[0;34m.\u001b[0m\u001b[0mval\u001b[0m\u001b[0;34m(\u001b[0m\u001b[0;34m)\u001b[0m\u001b[0;34m,\u001b[0m \u001b[0mop\u001b[0m\u001b[0;34m)\u001b[0m\u001b[0;34m\u001b[0m\u001b[0;34m\u001b[0m\u001b[0m\n\u001b[1;32m    155\u001b[0m \u001b[0;34m\u001b[0m\u001b[0m\n",
      "\u001b[0;32m/mnt/c/users/phili/SAGEMATH/cutgeneratingfunctionology/cutgeneratingfunctionology/igp/__init__.py\u001b[0m in \u001b[0;36massume_comparison\u001b[0;34m(self, lhs, op, rhs)\u001b[0m\n\u001b[1;32m    962\u001b[0m                     \u001b[0;32mraise\u001b[0m \u001b[0mParametricRealFieldRefinementError\u001b[0m\u001b[0;34m(\u001b[0m\u001b[0;34m\"{} < 0 has several new factors: {}\"\u001b[0m\u001b[0;34m.\u001b[0m\u001b[0mformat\u001b[0m\u001b[0;34m(\u001b[0m\u001b[0mcomparison\u001b[0m\u001b[0;34m,\u001b[0m \u001b[0mlt_factors\u001b[0m\u001b[0;34m)\u001b[0m\u001b[0;34m)\u001b[0m\u001b[0;34m\u001b[0m\u001b[0;34m\u001b[0m\u001b[0m\n\u001b[1;32m    963\u001b[0m             \u001b[0;32mfor\u001b[0m \u001b[0mnew_fac\u001b[0m \u001b[0;32min\u001b[0m \u001b[0mlt_factors\u001b[0m\u001b[0;34m:\u001b[0m\u001b[0;34m\u001b[0m\u001b[0;34m\u001b[0m\u001b[0m\n\u001b[0;32m--> 964\u001b[0;31m                 \u001b[0mself\u001b[0m\u001b[0;34m.\u001b[0m\u001b[0mrecord_factor\u001b[0m\u001b[0;34m(\u001b[0m\u001b[0mnew_fac\u001b[0m\u001b[0;34m,\u001b[0m \u001b[0mop\u001b[0m\u001b[0;34m)\u001b[0m\u001b[0;34m\u001b[0m\u001b[0;34m\u001b[0m\u001b[0m\n\u001b[0m\u001b[1;32m    965\u001b[0m             \u001b[0;32mif\u001b[0m \u001b[0mlen\u001b[0m\u001b[0;34m(\u001b[0m\u001b[0munknown_factors\u001b[0m\u001b[0;34m)\u001b[0m \u001b[0;34m>\u001b[0m \u001b[0m_sage_const_1\u001b[0m \u001b[0;34m:\u001b[0m\u001b[0;34m\u001b[0m\u001b[0;34m\u001b[0m\u001b[0m\n\u001b[1;32m    966\u001b[0m                 \u001b[0;32mraise\u001b[0m \u001b[0mNotImplementedError\u001b[0m\u001b[0;34m(\u001b[0m\u001b[0;34m)\u001b[0m\u001b[0;34m\u001b[0m\u001b[0;34m\u001b[0m\u001b[0m\n",
      "\u001b[0;32m/mnt/c/users/phili/SAGEMATH/cutgeneratingfunctionology/cutgeneratingfunctionology/igp/__init__.py\u001b[0m in \u001b[0;36mrecord_factor\u001b[0;34m(self, fac, op)\u001b[0m\n\u001b[1;32m   1107\u001b[0m             \u001b[0;32mif\u001b[0m \u001b[0mdebug_new_factors\u001b[0m\u001b[0;34m:\u001b[0m\u001b[0;34m\u001b[0m\u001b[0;34m\u001b[0m\u001b[0m\n\u001b[1;32m   1108\u001b[0m                 \u001b[0;32mimport\u001b[0m \u001b[0mpdb\u001b[0m\u001b[0;34m\u001b[0m\u001b[0;34m\u001b[0m\u001b[0m\n\u001b[0;32m-> 1109\u001b[0;31m                 \u001b[0mpdb\u001b[0m\u001b[0;34m.\u001b[0m\u001b[0mset_trace\u001b[0m\u001b[0;34m(\u001b[0m\u001b[0;34m)\u001b[0m\u001b[0;34m\u001b[0m\u001b[0;34m\u001b[0m\u001b[0m\n\u001b[0m\u001b[1;32m   1110\u001b[0m \u001b[0;34m\u001b[0m\u001b[0m\n\u001b[1;32m   1111\u001b[0m     \u001b[0;32mdef\u001b[0m \u001b[0mmake_proof_cell\u001b[0m\u001b[0;34m(\u001b[0m\u001b[0mself\u001b[0m\u001b[0;34m,\u001b[0m \u001b[0;34m**\u001b[0m\u001b[0mopt\u001b[0m\u001b[0;34m)\u001b[0m\u001b[0;34m:\u001b[0m\u001b[0;34m\u001b[0m\u001b[0;34m\u001b[0m\u001b[0m\n",
      "\u001b[0;32m/usr/lib/python3.8/bdb.py\u001b[0m in \u001b[0;36mtrace_dispatch\u001b[0;34m(self, frame, event, arg)\u001b[0m\n\u001b[1;32m     90\u001b[0m             \u001b[0;32mreturn\u001b[0m \u001b[0mself\u001b[0m\u001b[0;34m.\u001b[0m\u001b[0mdispatch_call\u001b[0m\u001b[0;34m(\u001b[0m\u001b[0mframe\u001b[0m\u001b[0;34m,\u001b[0m \u001b[0marg\u001b[0m\u001b[0;34m)\u001b[0m\u001b[0;34m\u001b[0m\u001b[0;34m\u001b[0m\u001b[0m\n\u001b[1;32m     91\u001b[0m         \u001b[0;32mif\u001b[0m \u001b[0mevent\u001b[0m \u001b[0;34m==\u001b[0m \u001b[0;34m'return'\u001b[0m\u001b[0;34m:\u001b[0m\u001b[0;34m\u001b[0m\u001b[0;34m\u001b[0m\u001b[0m\n\u001b[0;32m---> 92\u001b[0;31m             \u001b[0;32mreturn\u001b[0m \u001b[0mself\u001b[0m\u001b[0;34m.\u001b[0m\u001b[0mdispatch_return\u001b[0m\u001b[0;34m(\u001b[0m\u001b[0mframe\u001b[0m\u001b[0;34m,\u001b[0m \u001b[0marg\u001b[0m\u001b[0;34m)\u001b[0m\u001b[0;34m\u001b[0m\u001b[0;34m\u001b[0m\u001b[0m\n\u001b[0m\u001b[1;32m     93\u001b[0m         \u001b[0;32mif\u001b[0m \u001b[0mevent\u001b[0m \u001b[0;34m==\u001b[0m \u001b[0;34m'exception'\u001b[0m\u001b[0;34m:\u001b[0m\u001b[0;34m\u001b[0m\u001b[0;34m\u001b[0m\u001b[0m\n\u001b[1;32m     94\u001b[0m             \u001b[0;32mreturn\u001b[0m \u001b[0mself\u001b[0m\u001b[0;34m.\u001b[0m\u001b[0mdispatch_exception\u001b[0m\u001b[0;34m(\u001b[0m\u001b[0mframe\u001b[0m\u001b[0;34m,\u001b[0m \u001b[0marg\u001b[0m\u001b[0;34m)\u001b[0m\u001b[0;34m\u001b[0m\u001b[0;34m\u001b[0m\u001b[0m\n",
      "\u001b[0;32m/usr/lib/python3.8/bdb.py\u001b[0m in \u001b[0;36mdispatch_return\u001b[0;34m(self, frame, arg)\u001b[0m\n\u001b[1;32m    152\u001b[0m             \u001b[0;32mfinally\u001b[0m\u001b[0;34m:\u001b[0m\u001b[0;34m\u001b[0m\u001b[0;34m\u001b[0m\u001b[0m\n\u001b[1;32m    153\u001b[0m                 \u001b[0mself\u001b[0m\u001b[0;34m.\u001b[0m\u001b[0mframe_returning\u001b[0m \u001b[0;34m=\u001b[0m \u001b[0;32mNone\u001b[0m\u001b[0;34m\u001b[0m\u001b[0;34m\u001b[0m\u001b[0m\n\u001b[0;32m--> 154\u001b[0;31m             \u001b[0;32mif\u001b[0m \u001b[0mself\u001b[0m\u001b[0;34m.\u001b[0m\u001b[0mquitting\u001b[0m\u001b[0;34m:\u001b[0m \u001b[0;32mraise\u001b[0m \u001b[0mBdbQuit\u001b[0m\u001b[0;34m\u001b[0m\u001b[0;34m\u001b[0m\u001b[0m\n\u001b[0m\u001b[1;32m    155\u001b[0m             \u001b[0;31m# The user issued a 'next' or 'until' command.\u001b[0m\u001b[0;34m\u001b[0m\u001b[0;34m\u001b[0m\u001b[0;34m\u001b[0m\u001b[0m\n\u001b[1;32m    156\u001b[0m             \u001b[0;32mif\u001b[0m \u001b[0mself\u001b[0m\u001b[0;34m.\u001b[0m\u001b[0mstopframe\u001b[0m \u001b[0;32mis\u001b[0m \u001b[0mframe\u001b[0m \u001b[0;32mand\u001b[0m \u001b[0mself\u001b[0m\u001b[0;34m.\u001b[0m\u001b[0mstoplineno\u001b[0m \u001b[0;34m!=\u001b[0m \u001b[0;34m-\u001b[0m\u001b[0;36m1\u001b[0m\u001b[0;34m:\u001b[0m\u001b[0;34m\u001b[0m\u001b[0;34m\u001b[0m\u001b[0m\n",
      "\u001b[0;31mBdbQuit\u001b[0m: "
     ]
    }
   ],
   "source": [
    "hist_data = ((5/3,2/3),(7/3,1/3),(1,3/4))\n",
    "bddbsa = BasicSemialgebraicSet_veronese(poly_ring=PolynomialRing(QQ, ['mu']))\n",
    "bddbsa.add_linear_constraint((-1,), 0, operator.lt)\n",
    "complex = SemialgebraicComplex(setup_portfolio_lp, ['mu'], find_region_type=solve_for_optimal_portfolio, bddbsa=bddbsa, hist_data=hist_data)\n",
    "complex.bfs_completion(var_value=[10])\n"
   ]
  },
  {
   "cell_type": "code",
   "execution_count": null,
   "metadata": {},
   "outputs": [],
   "source": [
    "complex"
   ]
  },
  {
   "cell_type": "code",
   "execution_count": null,
   "metadata": {},
   "outputs": [],
   "source": [
    "complex.components[1].bsa.lt_poly\n",
    "#check le, eq_poly to make sure they're empty\n",
    "#output interval, concrete value, optsol"
   ]
  },
  {
   "cell_type": "code",
   "execution_count": null,
   "metadata": {},
   "outputs": [],
   "source": [
    "(0, 8/7):   (0,0,1)\n",
    "(8/7, 9/7): (1,0,0)\n",
    "(9/7, 21/11):(1,0,0)\n",
    "(21/11,24/11):(1,0,0)\n",
    "(24/11,3): (0,1,0)\n",
    "(3,24/7): (0,1,0)\n",
    "(24/7,inf): (0,1,0)"
   ]
  }
 ],
 "metadata": {
  "kernelspec": {
   "display_name": "SageMath 9.3.beta6",
   "language": "sage",
   "name": "sagemath"
  },
  "language_info": {
   "codemirror_mode": {
    "name": "ipython",
    "version": 3
   },
   "file_extension": ".py",
   "mimetype": "text/x-python",
   "name": "python",
   "nbconvert_exporter": "python",
   "pygments_lexer": "ipython3",
   "version": "3.8.5"
  }
 },
 "nbformat": 4,
 "nbformat_minor": 4
}
