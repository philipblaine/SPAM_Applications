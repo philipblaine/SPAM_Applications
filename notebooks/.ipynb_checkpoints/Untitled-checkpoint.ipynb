{
 "cells": [
  {
   "cell_type": "code",
   "execution_count": 1,
   "metadata": {},
   "outputs": [],
   "source": [
    "A = ([1, 1], [3, 1])\n",
    "b = (1000, 1500)\n",
    "c = (10, 5)\n",
    "P = InteractiveLPProblem(A, b, c, [\"C\", \"B\"], variable_type=\">=\")"
   ]
  },
  {
   "cell_type": "code",
   "execution_count": 3,
   "metadata": {},
   "outputs": [],
   "source": [
    "%display typeset"
   ]
  },
  {
   "cell_type": "code",
   "execution_count": 4,
   "metadata": {},
   "outputs": [
    {
     "data": {
      "text/html": [
       "<html><script type=\"math/tex; mode=display\">\\newcommand{\\Bold}[1]{\\mathbf{#1}}\\begin{array}{l}\n",
       "\\begin{array}{lcrcrcl}\n",
       " \\max \\mspace{-6mu}&\\mspace{-6mu}  \\mspace{-6mu}&\\mspace{-6mu} 10 C \\mspace{-6mu}&\\mspace{-6mu} + \\mspace{-6mu}&\\mspace{-6mu} 5 B \\mspace{-6mu}&\\mspace{-6mu}  \\mspace{-6mu}&\\mspace{-6mu} \\\\\n",
       " \\mspace{-6mu}&\\mspace{-6mu}  \\mspace{-6mu}&\\mspace{-6mu} C \\mspace{-6mu}&\\mspace{-6mu} + \\mspace{-6mu}&\\mspace{-6mu} B \\mspace{-6mu}&\\mspace{-6mu} \\leq \\mspace{-6mu}&\\mspace{-6mu} 1000 \\\\\n",
       " \\mspace{-6mu}&\\mspace{-6mu}  \\mspace{-6mu}&\\mspace{-6mu} 3 C \\mspace{-6mu}&\\mspace{-6mu} + \\mspace{-6mu}&\\mspace{-6mu} B \\mspace{-6mu}&\\mspace{-6mu} \\leq \\mspace{-6mu}&\\mspace{-6mu} 1500 \\\\\n",
       "\\end{array} \\\\\n",
       "C, B \\geq 0\n",
       "\\end{array}</script></html>"
      ],
      "text/latex": [
       "\\begin{math}\n",
       "\\newcommand{\\Bold}[1]{\\mathbf{#1}}\\begin{array}{l}\n",
       "\\begin{array}{lcrcrcl}\n",
       " \\max \\mspace{-6mu}&\\mspace{-6mu}  \\mspace{-6mu}&\\mspace{-6mu} 10 C \\mspace{-6mu}&\\mspace{-6mu} + \\mspace{-6mu}&\\mspace{-6mu} 5 B \\mspace{-6mu}&\\mspace{-6mu}  \\mspace{-6mu}&\\mspace{-6mu} \\\\\n",
       " \\mspace{-6mu}&\\mspace{-6mu}  \\mspace{-6mu}&\\mspace{-6mu} C \\mspace{-6mu}&\\mspace{-6mu} + \\mspace{-6mu}&\\mspace{-6mu} B \\mspace{-6mu}&\\mspace{-6mu} \\leq \\mspace{-6mu}&\\mspace{-6mu} 1000 \\\\\n",
       " \\mspace{-6mu}&\\mspace{-6mu}  \\mspace{-6mu}&\\mspace{-6mu} 3 C \\mspace{-6mu}&\\mspace{-6mu} + \\mspace{-6mu}&\\mspace{-6mu} B \\mspace{-6mu}&\\mspace{-6mu} \\leq \\mspace{-6mu}&\\mspace{-6mu} 1500 \\\\\n",
       "\\end{array} \\\\\n",
       "C, B \\geq 0\n",
       "\\end{array}\n",
       "\\end{math}"
      ],
      "text/plain": [
       "LP problem (use typeset mode to see details)"
      ]
     },
     "execution_count": 4,
     "metadata": {},
     "output_type": "execute_result"
    }
   ],
   "source": [
    "P"
   ]
  },
  {
   "cell_type": "code",
   "execution_count": 6,
   "metadata": {},
   "outputs": [],
   "source": [
    "lp = P.standard_form()"
   ]
  },
  {
   "cell_type": "code",
   "execution_count": 9,
   "metadata": {},
   "outputs": [
    {
     "data": {
      "text/html": [
       "\\begin{equation*}\n",
       "\\renewcommand{\\arraystretch}{1.5} %notruncate\n",
       "\\begin{array}{|rcrcrcr|}\n",
       "\\hline\n",
       "x_{3} \\mspace{-6mu}&\\mspace{-6mu} = \\mspace{-6mu}&\\mspace{-6mu} 1000 \\mspace{-6mu}&\\mspace{-6mu} - \\mspace{-6mu}&\\color{green}\\mspace{-6mu} C \\mspace{-6mu}&\\mspace{-6mu} - \\mspace{-6mu}&\\mspace{-6mu} B\\\\\n",
       "\\color{red}x_{4} \\mspace{-6mu}&\\color{red}\\mspace{-6mu} = \\mspace{-6mu}&\\color{red}\\mspace{-6mu} 1500 \\mspace{-6mu}&\\color{red}\\mspace{-6mu} - \\mspace{-6mu}&\\color{blue}\\mspace{-6mu} 3 C \\mspace{-6mu}&\\color{red}\\mspace{-6mu} - \\mspace{-6mu}&\\color{red}\\mspace{-6mu} B\\\\\n",
       "\\hline\n",
       "z \\mspace{-6mu}&\\mspace{-6mu} = \\mspace{-6mu}&\\mspace{-6mu} 0 \\mspace{-6mu}&\\mspace{-6mu} + \\mspace{-6mu}&\\color{green}\\mspace{-6mu} 10 C \\mspace{-6mu}&\\mspace{-6mu} + \\mspace{-6mu}&\\mspace{-6mu} 5 B\\\\\n",
       "\\hline\n",
       "\\end{array}\n",
       "\\end{equation*}\n",
       "Entering: $C$. Leaving: $x_{4}$. \n",
       "\\begin{equation*}\n",
       "\\renewcommand{\\arraystretch}{1.5} %notruncate\n",
       "\\begin{array}{|rcrcrcr|}\n",
       "\\hline\n",
       "\\color{red}x_{3} \\mspace{-6mu}&\\color{red}\\mspace{-6mu} = \\mspace{-6mu}&\\color{red}\\mspace{-6mu} 500 \\mspace{-6mu}&\\color{red}\\mspace{-6mu} + \\mspace{-6mu}&\\color{red}\\mspace{-6mu} \\frac{1}{3} x_{4} \\mspace{-6mu}&\\color{red}\\mspace{-6mu} - \\mspace{-6mu}&\\color{blue}\\mspace{-6mu} \\frac{2}{3} B\\\\\n",
       "C \\mspace{-6mu}&\\mspace{-6mu} = \\mspace{-6mu}&\\mspace{-6mu} 500 \\mspace{-6mu}&\\mspace{-6mu} - \\mspace{-6mu}&\\mspace{-6mu} \\frac{1}{3} x_{4} \\mspace{-6mu}&\\mspace{-6mu} - \\mspace{-6mu}&\\color{green}\\mspace{-6mu} \\frac{1}{3} B\\\\\n",
       "\\hline\n",
       "z \\mspace{-6mu}&\\mspace{-6mu} = \\mspace{-6mu}&\\mspace{-6mu} 5000 \\mspace{-6mu}&\\mspace{-6mu} - \\mspace{-6mu}&\\mspace{-6mu} \\frac{10}{3} x_{4} \\mspace{-6mu}&\\mspace{-6mu} + \\mspace{-6mu}&\\color{green}\\mspace{-6mu} \\frac{5}{3} B\\\\\n",
       "\\hline\n",
       "\\end{array}\n",
       "\\end{equation*}\n",
       "Entering: $B$. Leaving: $x_{3}$. \n",
       "\\begin{equation*}\n",
       "\\renewcommand{\\arraystretch}{1.5} %notruncate\n",
       "\\begin{array}{|rcrcrcr|}\n",
       "\\hline\n",
       "B \\mspace{-6mu}&\\mspace{-6mu} = \\mspace{-6mu}&\\mspace{-6mu} 750 \\mspace{-6mu}&\\mspace{-6mu} + \\mspace{-6mu}&\\mspace{-6mu} \\frac{1}{2} x_{4} \\mspace{-6mu}&\\mspace{-6mu} - \\mspace{-6mu}&\\mspace{-6mu} \\frac{3}{2} x_{3}\\\\\n",
       "C \\mspace{-6mu}&\\mspace{-6mu} = \\mspace{-6mu}&\\mspace{-6mu} 250 \\mspace{-6mu}&\\mspace{-6mu} - \\mspace{-6mu}&\\mspace{-6mu} \\frac{1}{2} x_{4} \\mspace{-6mu}&\\mspace{-6mu} + \\mspace{-6mu}&\\mspace{-6mu} \\frac{1}{2} x_{3}\\\\\n",
       "\\hline\n",
       "z \\mspace{-6mu}&\\mspace{-6mu} = \\mspace{-6mu}&\\mspace{-6mu} 6250 \\mspace{-6mu}&\\mspace{-6mu} - \\mspace{-6mu}&\\mspace{-6mu} \\frac{5}{2} x_{4} \\mspace{-6mu}&\\mspace{-6mu} - \\mspace{-6mu}&\\mspace{-6mu} \\frac{5}{2} x_{3}\\\\\n",
       "\\hline\n",
       "\\end{array}\n",
       "\\end{equation*}\n",
       "The optimal value: $6250$. An optimal solution: $\\left(250,\\,750\\right)$."
      ],
      "text/plain": [
       "\\begin{equation*}\n",
       "\\renewcommand{\\arraystretch}{1.5} %notruncate\n",
       "\\begin{array}{|rcrcrcr|}\n",
       "\\hline\n",
       "x_{3} \\mspace{-6mu}&\\mspace{-6mu} = \\mspace{-6mu}&\\mspace{-6mu} 1000 \\mspace{-6mu}&\\mspace{-6mu} - \\mspace{-6mu}&\\color{green}\\mspace{-6mu} C \\mspace{-6mu}&\\mspace{-6mu} - \\mspace{-6mu}&\\mspace{-6mu} B\\\\\n",
       "\\color{red}x_{4} \\mspace{-6mu}&\\color{red}\\mspace{-6mu} = \\mspace{-6mu}&\\color{red}\\mspace{-6mu} 1500 \\mspace{-6mu}&\\color{red}\\mspace{-6mu} - \\mspace{-6mu}&\\color{blue}\\mspace{-6mu} 3 C \\mspace{-6mu}&\\color{red}\\mspace{-6mu} - \\mspace{-6mu}&\\color{red}\\mspace{-6mu} B\\\\\n",
       "\\hline\n",
       "z \\mspace{-6mu}&\\mspace{-6mu} = \\mspace{-6mu}&\\mspace{-6mu} 0 \\mspace{-6mu}&\\mspace{-6mu} + \\mspace{-6mu}&\\color{green}\\mspace{-6mu} 10 C \\mspace{-6mu}&\\mspace{-6mu} + \\mspace{-6mu}&\\mspace{-6mu} 5 B\\\\\n",
       "\\hline\n",
       "\\end{array}\n",
       "\\end{equation*}\n",
       "Entering: $C$. Leaving: $x_{4}$. \n",
       "\\begin{equation*}\n",
       "\\renewcommand{\\arraystretch}{1.5} %notruncate\n",
       "\\begin{array}{|rcrcrcr|}\n",
       "\\hline\n",
       "\\color{red}x_{3} \\mspace{-6mu}&\\color{red}\\mspace{-6mu} = \\mspace{-6mu}&\\color{red}\\mspace{-6mu} 500 \\mspace{-6mu}&\\color{red}\\mspace{-6mu} + \\mspace{-6mu}&\\color{red}\\mspace{-6mu} \\frac{1}{3} x_{4} \\mspace{-6mu}&\\color{red}\\mspace{-6mu} - \\mspace{-6mu}&\\color{blue}\\mspace{-6mu} \\frac{2}{3} B\\\\\n",
       "C \\mspace{-6mu}&\\mspace{-6mu} = \\mspace{-6mu}&\\mspace{-6mu} 500 \\mspace{-6mu}&\\mspace{-6mu} - \\mspace{-6mu}&\\mspace{-6mu} \\frac{1}{3} x_{4} \\mspace{-6mu}&\\mspace{-6mu} - \\mspace{-6mu}&\\color{green}\\mspace{-6mu} \\frac{1}{3} B\\\\\n",
       "\\hline\n",
       "z \\mspace{-6mu}&\\mspace{-6mu} = \\mspace{-6mu}&\\mspace{-6mu} 5000 \\mspace{-6mu}&\\mspace{-6mu} - \\mspace{-6mu}&\\mspace{-6mu} \\frac{10}{3} x_{4} \\mspace{-6mu}&\\mspace{-6mu} + \\mspace{-6mu}&\\color{green}\\mspace{-6mu} \\frac{5}{3} B\\\\\n",
       "\\hline\n",
       "\\end{array}\n",
       "\\end{equation*}\n",
       "Entering: $B$. Leaving: $x_{3}$. \n",
       "\\begin{equation*}\n",
       "\\renewcommand{\\arraystretch}{1.5} %notruncate\n",
       "\\begin{array}{|rcrcrcr|}\n",
       "\\hline\n",
       "B \\mspace{-6mu}&\\mspace{-6mu} = \\mspace{-6mu}&\\mspace{-6mu} 750 \\mspace{-6mu}&\\mspace{-6mu} + \\mspace{-6mu}&\\mspace{-6mu} \\frac{1}{2} x_{4} \\mspace{-6mu}&\\mspace{-6mu} - \\mspace{-6mu}&\\mspace{-6mu} \\frac{3}{2} x_{3}\\\\\n",
       "C \\mspace{-6mu}&\\mspace{-6mu} = \\mspace{-6mu}&\\mspace{-6mu} 250 \\mspace{-6mu}&\\mspace{-6mu} - \\mspace{-6mu}&\\mspace{-6mu} \\frac{1}{2} x_{4} \\mspace{-6mu}&\\mspace{-6mu} + \\mspace{-6mu}&\\mspace{-6mu} \\frac{1}{2} x_{3}\\\\\n",
       "\\hline\n",
       "z \\mspace{-6mu}&\\mspace{-6mu} = \\mspace{-6mu}&\\mspace{-6mu} 6250 \\mspace{-6mu}&\\mspace{-6mu} - \\mspace{-6mu}&\\mspace{-6mu} \\frac{5}{2} x_{4} \\mspace{-6mu}&\\mspace{-6mu} - \\mspace{-6mu}&\\mspace{-6mu} \\frac{5}{2} x_{3}\\\\\n",
       "\\hline\n",
       "\\end{array}\n",
       "\\end{equation*}\n",
       "The optimal value: $6250$. An optimal solution: $\\left(250,\\,750\\right)$."
      ]
     },
     "execution_count": 9,
     "metadata": {},
     "output_type": "execute_result"
    }
   ],
   "source": [
    "lp.run_simplex_method()"
   ]
  },
  {
   "cell_type": "code",
   "execution_count": null,
   "metadata": {},
   "outputs": [],
   "source": []
  }
 ],
 "metadata": {
  "kernelspec": {
   "display_name": "SageMath 9.3.beta6",
   "language": "sage",
   "name": "sagemath"
  },
  "language_info": {
   "codemirror_mode": {
    "name": "ipython",
    "version": 3
   },
   "file_extension": ".py",
   "mimetype": "text/x-python",
   "name": "python",
   "nbconvert_exporter": "python",
   "pygments_lexer": "ipython3",
   "version": "3.8.5"
  }
 },
 "nbformat": 4,
 "nbformat_minor": 4
}
