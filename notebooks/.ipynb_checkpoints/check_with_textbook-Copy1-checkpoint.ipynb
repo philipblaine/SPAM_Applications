{
 "cells": [
  {
   "cell_type": "code",
   "execution_count": 1,
   "metadata": {},
   "outputs": [],
   "source": [
    "load_attach_path(\"/mnt/c/users/phili/SAGEMATH/SPAM_Applications\")\n",
    "load(\"startup.sage\")\n"
   ]
  },
  {
   "cell_type": "code",
   "execution_count": 2,
   "metadata": {},
   "outputs": [
    {
     "name": "stderr",
     "output_type": "stream",
     "text": [
      "INFO: 2021-03-25 14:07:52,446 Initialized ParametricRealField(names = ['mu'], values = [10])\n"
     ]
    }
   ],
   "source": [
    "K.<mu> = ParametricRealField([10])"
   ]
  },
  {
   "cell_type": "code",
   "execution_count": 3,
   "metadata": {},
   "outputs": [],
   "source": [
    "A = ([1, 1, 1, 0, 0], [-1, -1, -1, 0, 0], [1/2, 1, 1/8, -1, 0], [-1/2, -1, -1/8, -1, 0], [-1/2, -1, -1/8, 0, -1], [1/2, 1, 1/8, 0, -1])\n",
    "b = (1, -1, 0, 0, 0, 0)\n",
    "c = (7/6*mu, 4/3*mu, 7/8*mu, -1/2, -1/2)\n",
    "#c = (7/6*10, 4/3*10, 7/8*10, -1/2, -1/2)\n",
    "P = InteractiveLPProblem(A, b, c, [\"x1\", \"x2\", \"x3\", \"y1\", \"y2\"], variable_type=\">=\", problem_type='max')"
   ]
  },
  {
   "cell_type": "code",
   "execution_count": 4,
   "metadata": {},
   "outputs": [],
   "source": [
    "%display typeset"
   ]
  },
  {
   "cell_type": "code",
   "execution_count": null,
   "metadata": {},
   "outputs": [
    {
     "name": "stderr",
     "output_type": "stream",
     "text": [
      "INFO: 2021-03-25 14:08:00,213 New constraint: -mu < 0\n"
     ]
    },
    {
     "name": "stdout",
     "output_type": "stream",
     "text": [
      "--Return--\n",
      "> /home/philipblaine/.sage/temp/DESKTOP-27I4PM7/544/parametric.sagey6ud14lw.py(1109)record_factor()->None\n",
      "-> pdb.set_trace()\n",
      "(Pdb) p mu\n",
      "*** NameError: name 'mu' is not defined\n",
      "(Pdb) up\n",
      "> /home/philipblaine/.sage/temp/DESKTOP-27I4PM7/544/parametric.sagey6ud14lw.py(964)assume_comparison()\n",
      "-> self.record_factor(new_fac, op)\n",
      "(Pdb) down\n",
      "> /home/philipblaine/.sage/temp/DESKTOP-27I4PM7/544/parametric.sagey6ud14lw.py(1109)record_factor()->None\n",
      "-> pdb.set_trace()\n",
      "(Pdb) down\n",
      "*** Newest frame\n",
      "(Pdb) up\n",
      "> /home/philipblaine/.sage/temp/DESKTOP-27I4PM7/544/parametric.sagey6ud14lw.py(964)assume_comparison()\n",
      "-> self.record_factor(new_fac, op)\n",
      "(Pdb) up\n",
      "> /mnt/c/users/phili/SAGEMATH/cutgeneratingfunctionology/cutgeneratingfunctionology/spam/parametric_real_field_element.py(151)_richcmp_()\n",
      "-> left.parent().assume_comparison(left, operator.lt, right)\n",
      "(Pdb) down\n",
      "> /home/philipblaine/.sage/temp/DESKTOP-27I4PM7/544/parametric.sagey6ud14lw.py(964)assume_comparison()\n",
      "-> self.record_factor(new_fac, op)\n",
      "(Pdb) dow\n",
      "*** NameError: name 'dow' is not defined\n",
      "(Pdb) down\n",
      "> /home/philipblaine/.sage/temp/DESKTOP-27I4PM7/544/parametric.sagey6ud14lw.py(1109)record_factor()->None\n",
      "-> pdb.set_trace()\n",
      "(Pdb) up\n",
      "> /home/philipblaine/.sage/temp/DESKTOP-27I4PM7/544/parametric.sagey6ud14lw.py(964)assume_comparison()\n",
      "-> self.record_factor(new_fac, op)\n",
      "(Pdb) p new_fac\n",
      "-mu\n",
      "(Pdb) p op\n",
      "<built-in function lt>\n",
      "(Pdb) p self\n",
      "ParametricRealField(names = ['mu'], values = [10])\n",
      "(Pdb) up\n",
      "> /mnt/c/users/phili/SAGEMATH/cutgeneratingfunctionology/cutgeneratingfunctionology/spam/parametric_real_field_element.py(151)_richcmp_()\n",
      "-> left.parent().assume_comparison(left, operator.lt, right)\n",
      "(Pdb) p left\n",
      "0\n",
      "(Pdb) p left.parent()\n",
      "ParametricRealField(names = ['mu'], values = [10])\n",
      "(Pdb) p operator\n",
      "<module 'operator' from '/usr/lib/python3.8/operator.py'>\n",
      "(Pdb) p right\n",
      "(7/6*mu)~\n",
      "(Pdb) up\n",
      "> /mnt/c/users/phili/SAGEMATH/sage-9.3.beta7/local/lib/python3.8/site-packages/sage/numerical/interactive_simplex_method.py(305)_latex_product()\n",
      "-> if c == 0:\n",
      "(Pdb) p c\n",
      "(7/6*mu)~\n",
      "(Pdb) up\n",
      "> /mnt/c/users/phili/SAGEMATH/sage-9.3.beta7/local/lib/python3.8/site-packages/sage/numerical/interactive_simplex_method.py(778)_latex_()\n",
      "-> lines.append(_latex_product(c, x, head=head, tail=tail) + r\"\\\\\")\n",
      "(Pdb) p c\n",
      "((7/6*mu)~, (4/3*mu)~, (7/8*mu)~, -1/2, -1/2)\n",
      "(Pdb) p x\n",
      "(x1, x2, x3, y1, y2)\n",
      "(Pdb) p head\n",
      "[' \\\\max']\n",
      "(Pdb) p tail\n",
      "['', '']\n",
      "(Pdb) p r\n",
      "*** NameError: name 'r' is not defined\n",
      "(Pdb) p lines\n",
      "['\\\\begin{array}{l}', '\\\\begin{array}{lcrcrcrcrcrcl}']\n",
      "(Pdb) up\n",
      "> /mnt/c/users/phili/SAGEMATH/sage-9.3.beta7/local/lib/python3.8/site-packages/sage/misc/latex.py(921)__call__()\n",
      "-> return LatexExpr(x._latex_())\n",
      "(Pdb) p x\n",
      "LP problem (use typeset mode to see details)\n",
      "(Pdb) up\n",
      "> /mnt/c/users/phili/SAGEMATH/sage-9.3.beta7/local/lib/python3.8/site-packages/sage/misc/latex.py(1949)eval()\n",
      "-> x = latex(x, combine_all=combine_all)\n",
      "(Pdb) p x\n",
      "LP problem (use typeset mode to see details)\n",
      "(Pdb) up\n",
      "> /mnt/c/users/phili/SAGEMATH/sage-9.3.beta7/local/lib/python3.8/site-packages/sage/repl/rich_output/backend_base.py(484)latex_formatter()\n",
      "-> mathjax = MathJax().eval(obj, mode='plain', combine_all=False)\n",
      "(Pdb) p obj\n",
      "LP problem (use typeset mode to see details)\n",
      "(Pdb) up\n",
      "> /mnt/c/users/phili/SAGEMATH/sage-9.3.beta7/local/lib/python3.8/site-packages/sage/repl/rich_output/display_manager.py(538)_preferred_text_formatter()\n",
      "-> out = self._backend.latex_formatter(obj, **kwds)\n",
      "(Pdb) p self\n",
      "The Sage display manager using the IPython notebook backend\n",
      "(Pdb) down\n",
      "> /mnt/c/users/phili/SAGEMATH/sage-9.3.beta7/local/lib/python3.8/site-packages/sage/repl/rich_output/backend_base.py(484)latex_formatter()\n",
      "-> mathjax = MathJax().eval(obj, mode='plain', combine_all=False)\n",
      "(Pdb) down\n",
      "> /mnt/c/users/phili/SAGEMATH/sage-9.3.beta7/local/lib/python3.8/site-packages/sage/misc/latex.py(1949)eval()\n",
      "-> x = latex(x, combine_all=combine_all)\n",
      "(Pdb) down\n",
      "> /mnt/c/users/phili/SAGEMATH/sage-9.3.beta7/local/lib/python3.8/site-packages/sage/misc/latex.py(921)__call__()\n",
      "-> return LatexExpr(x._latex_())\n",
      "(Pdb) down\n",
      "> /mnt/c/users/phili/SAGEMATH/sage-9.3.beta7/local/lib/python3.8/site-packages/sage/numerical/interactive_simplex_method.py(778)_latex_()\n",
      "-> lines.append(_latex_product(c, x, head=head, tail=tail) + r\"\\\\\")\n",
      "(Pdb) down\n",
      "> /mnt/c/users/phili/SAGEMATH/sage-9.3.beta7/local/lib/python3.8/site-packages/sage/numerical/interactive_simplex_method.py(305)_latex_product()\n",
      "-> if c == 0:\n",
      "(Pdb) down\n",
      "> /mnt/c/users/phili/SAGEMATH/cutgeneratingfunctionology/cutgeneratingfunctionology/spam/parametric_real_field_element.py(151)_richcmp_()\n",
      "-> left.parent().assume_comparison(left, operator.lt, right)\n",
      "(Pdb) p left\n",
      "0\n",
      "(Pdb) p right\n",
      "(7/6*mu)~\n",
      "(Pdb) up\n",
      "> /mnt/c/users/phili/SAGEMATH/sage-9.3.beta7/local/lib/python3.8/site-packages/sage/numerical/interactive_simplex_method.py(305)_latex_product()\n",
      "-> if c == 0:\n",
      "(Pdb) down\n",
      "> /mnt/c/users/phili/SAGEMATH/cutgeneratingfunctionology/cutgeneratingfunctionology/spam/parametric_real_field_element.py(151)_richcmp_()\n",
      "-> left.parent().assume_comparison(left, operator.lt, right)\n",
      "(Pdb) down\n",
      "> /home/philipblaine/.sage/temp/DESKTOP-27I4PM7/544/parametric.sagey6ud14lw.py(964)assume_comparison()\n",
      "-> self.record_factor(new_fac, op)\n",
      "(Pdb) p new_fac\n",
      "-mu\n",
      "(Pdb) p op\n",
      "<built-in function lt>\n",
      "(Pdb) up\n",
      "> /mnt/c/users/phili/SAGEMATH/cutgeneratingfunctionology/cutgeneratingfunctionology/spam/parametric_real_field_element.py(151)_richcmp_()\n",
      "-> left.parent().assume_comparison(left, operator.lt, right)\n",
      "(Pdb) p lt\n",
      "*** NameError: name 'lt' is not defined\n",
      "(Pdb) p operator\n",
      "<module 'operator' from '/usr/lib/python3.8/operator.py'>\n",
      "(Pdb) p right\n",
      "(7/6*mu)~\n",
      "(Pdb) p left\n",
      "0\n",
      "(Pdb) up\n",
      "> /mnt/c/users/phili/SAGEMATH/sage-9.3.beta7/local/lib/python3.8/site-packages/sage/numerical/interactive_simplex_method.py(305)_latex_product()\n",
      "-> if c == 0:\n",
      "(Pdb) p c\n",
      "(7/6*mu)~\n",
      "(Pdb) up\n",
      "> /mnt/c/users/phili/SAGEMATH/sage-9.3.beta7/local/lib/python3.8/site-packages/sage/numerical/interactive_simplex_method.py(778)_latex_()\n",
      "-> lines.append(_latex_product(c, x, head=head, tail=tail) + r\"\\\\\")\n",
      "(Pdb) p c\n",
      "((7/6*mu)~, (4/3*mu)~, (7/8*mu)~, -1/2, -1/2)\n"
     ]
    }
   ],
   "source": [
    "P"
   ]
  },
  {
   "cell_type": "code",
   "execution_count": null,
   "metadata": {},
   "outputs": [],
   "source": [
    "lp = P.standard_form()"
   ]
  },
  {
   "cell_type": "code",
   "execution_count": null,
   "metadata": {},
   "outputs": [],
   "source": [
    "lp.run_simplex_method()"
   ]
  },
  {
   "cell_type": "code",
   "execution_count": null,
   "metadata": {},
   "outputs": [],
   "source": [
    "FD = lp.final_dictionary()"
   ]
  },
  {
   "cell_type": "code",
   "execution_count": null,
   "metadata": {},
   "outputs": [],
   "source": [
    "FD"
   ]
  },
  {
   "cell_type": "code",
   "execution_count": null,
   "metadata": {},
   "outputs": [],
   "source": [
    "hist_data = ((5/3,2/3),(7/3,1/3),(1,3/4))\n",
    "bddbsa = BasicSemialgebraicSet_veronese(poly_ring=PolynomialRing(QQ, ['mu']))\n",
    "bddbsa.add_linear_constraint((-1,), 0, operator.lt)\n",
    "complex = SemialgebraicComplex(setup_portfolio_lp, ['mu'], find_region_type=solve_for_optimal_portfolio, bddbsa=bddbsa, hist_data=hist_data)\n",
    "complex.bfs_completion(var_value=[10])\n"
   ]
  },
  {
   "cell_type": "code",
   "execution_count": null,
   "metadata": {},
   "outputs": [],
   "source": [
    "complex"
   ]
  },
  {
   "cell_type": "code",
   "execution_count": null,
   "metadata": {},
   "outputs": [],
   "source": [
    "complex.components[1].bsa.lt_poly\n",
    "#check le, eq_poly to make sure they're empty\n",
    "#output interval, concrete value, optsol"
   ]
  },
  {
   "cell_type": "code",
   "execution_count": null,
   "metadata": {},
   "outputs": [],
   "source": [
    "(0, 8/7):   (0,0,1)\n",
    "(8/7, 9/7): (1,0,0)\n",
    "(9/7, 21/11):(1,0,0)\n",
    "(21/11,24/11):(1,0,0)\n",
    "(24/11,3): (0,1,0)\n",
    "(3,24/7): (0,1,0)\n",
    "(24/7,inf): (0,1,0)"
   ]
  }
 ],
 "metadata": {
  "kernelspec": {
   "display_name": "SageMath 9.3.beta6",
   "language": "sage",
   "name": "sagemath"
  },
  "language_info": {
   "codemirror_mode": {
    "name": "ipython",
    "version": 3
   },
   "file_extension": ".py",
   "mimetype": "text/x-python",
   "name": "python",
   "nbconvert_exporter": "python",
   "pygments_lexer": "ipython3",
   "version": "3.8.5"
  }
 },
 "nbformat": 4,
 "nbformat_minor": 4
}
