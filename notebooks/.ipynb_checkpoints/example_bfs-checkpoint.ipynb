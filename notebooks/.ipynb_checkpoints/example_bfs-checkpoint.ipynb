{
 "cells": [
  {
   "cell_type": "code",
   "execution_count": 1,
   "metadata": {},
   "outputs": [],
   "source": [
    "load_attach_path(\"/mnt/c/users/phili/SAGEMATH/SPAM_Applications\")\n",
    "load(\"startup.sage\")"
   ]
  },
  {
   "cell_type": "code",
   "execution_count": 2,
   "metadata": {},
   "outputs": [
    {
     "name": "stderr",
     "output_type": "stream",
     "text": [
      "INFO: 2021-03-22 18:07:52,487 Initialized ParametricRealField(names = ['mu'], values = [1])\n"
     ]
    }
   ],
   "source": [
    "K.<mu> = ParametricRealField([1])"
   ]
  },
  {
   "cell_type": "code",
   "execution_count": 3,
   "metadata": {},
   "outputs": [],
   "source": [
    "hist_data = ((1,1003/1000),(1044/1000,1015/1000),(1068/1000,1051/1000))"
   ]
  },
  {
   "cell_type": "code",
   "execution_count": 4,
   "metadata": {},
   "outputs": [],
   "source": [
    "n = len(hist_data)\n",
    "T = len(hist_data[0])\n",
    "lp = MixedIntegerLinearProgram(solver=(\"GLPK\",\"InteractiveLP\"),maximization=True, base_ring=mu.parent())\n",
    "x_var = lp.new_variable(nonnegative=True)\n",
    "x = [x_var[j] for j in range(n - 1)]\n",
    "x.append(1 - sum(x))\n",
    "lp.add_constraint(x[-1] >= 0)\n",
    "y = lp.new_variable(nonnegative=True)\n",
    "exp_return = [sum(r) / T for r in hist_data]\n",
    "for t in range(T):\n",
    "    dev = sum(x[j] * (hist_data[j][t] - exp_return[j]) for j in range(n))\n",
    "    lp.add_constraint(dev <= y[t])\n",
    "    lp.add_constraint(dev >= -y[t])\n",
    "reward = sum([x[j] * exp_return[j] for j in range(n)])\n",
    "risk = sum([y[t] for t in range(T)]) / T\n",
    "obj = mu * reward - risk\n",
    "f = obj.dict()\n",
    "h = lp.get_backend()\n",
    "d = f.pop(-1, h.zero())\n",
    "values = [f.get(i, h.zero()) for i in range(h.ncols())] \n",
    "h.set_objective(values, d)\n"
   ]
  },
  {
   "cell_type": "code",
   "execution_count": 5,
   "metadata": {},
   "outputs": [],
   "source": [
    "%display typeset"
   ]
  },
  {
   "cell_type": "code",
   "execution_count": 8,
   "metadata": {},
   "outputs": [
    {
     "name": "stderr",
     "output_type": "stream",
     "text": [
      "INFO: 2021-03-22 18:08:36,627 New constraint: mu - 500/29 < 0\n"
     ]
    },
    {
     "name": "stdout",
     "output_type": "stream",
     "text": [
      "Maximization:\n",
      "  (-29/500*mu)~ x1 (-3/100*mu)~ x2 -1/2 x3 -1/2 x4 + (2119/2000*mu)~ \n",
      "\n",
      "\n",
      "Constraints:\n",
      "  x1 + x2 <= 1\n",
      "  -1/100 x1 + 3/500 x2 - x3 <= -17/2000\n",
      "  1/100 x1 - 3/500 x2 - x3 <= 17/2000\n",
      "  1/100 x1 - 3/500 x2 - x4 <= 17/2000\n",
      "  -1/100 x1 + 3/500 x2 - x4 <= -17/2000\n",
      "Variables:\n",
      "  x1 = x_0 is a continuous variable (min=0, max=+oo)\n",
      "  x2 = x_1 is a continuous variable (min=0, max=+oo)\n",
      "  x3 = x_2 is a continuous variable (min=0, max=+oo)\n",
      "  x4 = x_3 is a continuous variable (min=0, max=+oo)\n"
     ]
    }
   ],
   "source": [
    "lp.show()"
   ]
  },
  {
   "cell_type": "code",
   "execution_count": 6,
   "metadata": {},
   "outputs": [
    {
     "name": "stderr",
     "output_type": "stream",
     "text": [
      "INFO: 2021-03-22 18:07:56,527 New constraint: -mu < 0\n",
      "INFO: 2021-03-22 18:07:56,528 New constraint: -mu + 5/58 < 0\n",
      "INFO: 2021-03-22 18:07:56,544 New constraint: -mu + 5/29 < 0\n"
     ]
    }
   ],
   "source": [
    "solution = lp.solve()"
   ]
  },
  {
   "cell_type": "code",
   "execution_count": 7,
   "metadata": {},
   "outputs": [
    {
     "data": {
      "text/html": [
       "<html><script type=\"math/tex; mode=display\">\\newcommand{\\Bold}[1]{\\mathbf{#1}}\\frac{2119}{2000} \\mu - \\frac{17}{2000}</script></html>"
      ],
      "text/latex": [
       "\\begin{math}\n",
       "\\newcommand{\\Bold}[1]{\\mathbf{#1}}\\frac{2119}{2000} \\mu - \\frac{17}{2000}\n",
       "\\end{math}"
      ],
      "text/plain": [
       "(2119/2000*mu - 17/2000)~"
      ]
     },
     "execution_count": 7,
     "metadata": {},
     "output_type": "execute_result"
    }
   ],
   "source": [
    "solution"
   ]
  },
  {
   "cell_type": "code",
   "execution_count": null,
   "metadata": {},
   "outputs": [],
   "source": [
    "opt_vals = solve_for_optimal_portfolio(K,lp)"
   ]
  },
  {
   "cell_type": "code",
   "execution_count": null,
   "metadata": {},
   "outputs": [],
   "source": [
    "lp = setup_portfolio_lp(hist_data,mu)"
   ]
  },
  {
   "cell_type": "code",
   "execution_count": null,
   "metadata": {},
   "outputs": [],
   "source": [
    "opt_vals"
   ]
  },
  {
   "cell_type": "code",
   "execution_count": null,
   "metadata": {},
   "outputs": [],
   "source": []
  }
 ],
 "metadata": {
  "kernelspec": {
   "display_name": "SageMath 9.3.beta6",
   "language": "sage",
   "name": "sagemath"
  },
  "language_info": {
   "codemirror_mode": {
    "name": "ipython",
    "version": 3
   },
   "file_extension": ".py",
   "mimetype": "text/x-python",
   "name": "python",
   "nbconvert_exporter": "python",
   "pygments_lexer": "ipython3",
   "version": "3.8.5"
  }
 },
 "nbformat": 4,
 "nbformat_minor": 4
}
