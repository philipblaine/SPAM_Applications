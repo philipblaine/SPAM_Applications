{
 "cells": [
  {
   "cell_type": "code",
   "execution_count": 13,
   "metadata": {},
   "outputs": [
    {
     "name": "stderr",
     "output_type": "stream",
     "text": [
      "INFO: 2021-02-25 15:52:28,046 Initialized ParametricRealField(names = ['mu'], values = [8])\n",
      "INFO: 2021-02-25 15:52:28,177 New constraint: -mu < 0\n",
      "INFO: 2021-02-25 15:52:28,178 New constraint: -mu + 4800/4813 < 0\n",
      "INFO: 2021-02-25 15:52:28,180 New constraint: mu - 24000/359 < 0\n",
      "INFO: 2021-02-25 15:52:28,181 New constraint: mu - 24000/481 < 0\n",
      "INFO: 2021-02-25 15:53:14,285 New constraint: mu - 124437259319/8536966368 < 0\n",
      "INFO: 2021-02-25 15:53:14,435 New constraint: -mu + 57167378345/19886594064 < 0\n",
      "INFO: 2021-02-25 15:53:14,436 New constraint: -mu + 411856974065/105269879076 < 0\n",
      "INFO: 2021-02-25 15:53:14,439 New constraint: -mu + 238839926455/39773188128 < 0\n",
      "INFO: 2021-02-25 15:53:48,278 New constraint: -mu + 156317/19681 < 0\n",
      "INFO: 2021-02-25 15:53:48,503 New constraint: mu - 512620/59043 < 0\n",
      "INFO: 2021-02-25 15:54:26,628 New constraint: mu - 6023/732 < 0\n"
     ]
    },
    {
     "name": "stdout",
     "output_type": "stream",
     "text": [
      "[732*mu - 6023, -19681*mu + 156317]\n"
     ]
    }
   ],
   "source": [
    "load_attach_path(\"/mnt/c/users/phili/SAGEMATH/SPAM_Applications\")\n",
    "\n",
    "load(\"startup.sage\")\n",
    "\n",
    "sol = portfolio_search(8)"
   ]
  },
  {
   "cell_type": "code",
   "execution_count": 12,
   "metadata": {},
   "outputs": [
    {
     "data": {
      "text/plain": [
       "[[mu == (6023/732)], [mu == (156317/19681)]]"
      ]
     },
     "execution_count": 12,
     "metadata": {},
     "output_type": "execute_result"
    }
   ],
   "source": [
    "sol\n"
   ]
  },
  {
   "cell_type": "code",
   "execution_count": 6,
   "metadata": {},
   "outputs": [
    {
     "ename": "ValueError",
     "evalue": "0 is not in list",
     "output_type": "error",
     "traceback": [
      "\u001b[0;31m---------------------------------------------------------------------------\u001b[0m",
      "\u001b[0;31mValueError\u001b[0m                                Traceback (most recent call last)",
      "\u001b[0;32m<ipython-input-6-bd83ec790cb7>\u001b[0m in \u001b[0;36m<module>\u001b[0;34m\u001b[0m\n\u001b[0;32m----> 1\u001b[0;31m \u001b[0msol\u001b[0m\u001b[0;34m.\u001b[0m\u001b[0mindex\u001b[0m\u001b[0;34m(\u001b[0m\u001b[0mInteger\u001b[0m\u001b[0;34m(\u001b[0m\u001b[0;36m0\u001b[0m\u001b[0;34m)\u001b[0m\u001b[0;34m)\u001b[0m\u001b[0;34m\u001b[0m\u001b[0;34m\u001b[0m\u001b[0m\n\u001b[0m",
      "\u001b[0;31mValueError\u001b[0m: 0 is not in list"
     ]
    }
   ],
   "source": []
  },
  {
   "cell_type": "code",
   "execution_count": null,
   "metadata": {},
   "outputs": [],
   "source": []
  }
 ],
 "metadata": {
  "kernelspec": {
   "display_name": "SageMath 9.3.beta6",
   "language": "sage",
   "name": "sagemath"
  },
  "language_info": {
   "codemirror_mode": {
    "name": "ipython",
    "version": 3
   },
   "file_extension": ".py",
   "mimetype": "text/x-python",
   "name": "python",
   "nbconvert_exporter": "python",
   "pygments_lexer": "ipython3",
   "version": "3.8.5"
  }
 },
 "nbformat": 4,
 "nbformat_minor": 4
}
