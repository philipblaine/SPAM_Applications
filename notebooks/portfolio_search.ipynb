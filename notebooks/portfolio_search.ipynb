{
 "cells": [
  {
   "cell_type": "code",
   "execution_count": null,
   "metadata": {},
   "outputs": [],
   "source": [
    "load_attach_path(\"/mnt/c/users/phili/SAGEMATH/SPAM_Applications\")\n",
    "\n",
    "load(\"startup.sage\")\n",
    "\n",
    "#sol = portfolio_search(8)"
   ]
  },
  {
   "cell_type": "code",
   "execution_count": null,
   "metadata": {},
   "outputs": [],
   "source": [
    "        K.<mu> = ParametricRealField([mu_value])\n",
    "        if base_ring is None:\n",
    "            base_ring = mu.parent()\n",
    "        p = MixedIntegerLinearProgram(solver=(\"GLPK\",\"InteractiveLP\"),maximization=True, base_ring=base_ring)\n",
    "        x = p.new_variable(integer=False, nonnegative=True)\n",
    "        num_cols = 9\n",
    "        col1 = [1,1003/1000,1005/1000,1007/1000,1002/1000,1001/1000,1005/1000,1004/1000,1004/1000,1008/1000,1007/1000,1002/1000,1002/1000,1002/1000,1002/1000,1,1002/1000,1004/1000,1004/1000,999/1000,997/1000,1007/1000,996/1000,1002/1000]; col2 = [1044/1000,1015/1000,1024/1000,1027/1000,1040/1000,995/1000,1044/1000,1060/1000,1,1030/1000,963/1000,1005/1000,960/1000,1035/1000,1047/1000,978/1000,1048/1000,1029/1000,1076/1000,1002/1000,1008/1000,958/1000,1056/1000,980/1000]; col3 = [1068/1000,1051/1000,1062/1000,980/1000,991/1000,969/1000,1086/1000,1043/1000,963/1000,949/1000,1034/1000,1022/1000,972/1000,1050/1000,1042/1000,908/1000,1146/1000,1018/1000,1015/1000,909/1000,1063/1000,1064/1000,1071/1000,1070/1000]; col4 = [1016/1000,1039/1000,994/1000,971/1000,1009/1000,1030/1000,1007/1000,1023/1000,1040/1000,1012/1000,1023/1000,995/1000,962/1000,1043/1000,1003/1000,1021/1000,1009/1000,1,1048/1000,1030/1000,1009/1000,983/1000,1016/1000,1012/1000]; col5 = [1035/1000,1046/1000,1008/1000,989/1000,1021/1000,997/1000,1024/1000,1028/1000,1038/1000,1011/1000,943/1000,999/1000,983/1000,1021/1000,1044/1000,1031/1000,1003/1000,1005/1000,1058/1000,986/1000,1017/1000,976/1000,1038/1000,974/1000]; col6 = [1032/1000,1047/1000,1010/1000,973/1000,1020/1000,989/1000,1028/1000,1040/1000,1040/1000,1070/1000,974/1000,995/1000,935/1000,987/1000,1023/1000,1002/1000,1034/1000,969/1000,1063/1000,977/1000,1002/1000,991/1000,1057/1000,987/1000]; col7 = [1004/1000,1028/1000,1021/1000,985/1000,1020/1000,1020/1000,991/1000,1018/1000,999/1000,1039/1000,1016/1000,1018/1000,1002/1000,1010/1000,1008/1000,1008/1000,1002/1000,1001/1000,1009/1000,996/1000,1014/1000,983/1000,1032/1000,981/1000]; col8 = [987/1000,1049/1000,1036/1000,1053/1000,996/1000,999/1000,1026/1000,1053/1000,985/1000,1028/1000,1048/1000,1023/1000,1016/1000,1016/1000,954/1000,1013/1000,1024/1000,1009/1000,999/1000,936/1000,1042/1000,1006/1000,1023/1000,1059/1000]; col9 = [1014/1000,1073/1000,1002/1000,977/1000,1030/1000,1007/1000,999/1000,1003/1000,1015/1000,1029/1000,1055/1000,1,979/1000,969/1000,987/1000,1012/1000,1013/1000,1035/1000,1012/1000,969/1000,995/1000,996/1000,1023/1000,994/1000]\n",
    "        r1sum = 0; r2sum=0;r3sum=0;r4sum=0;r5sum=0;r6sum=0;r7sum=0;r8sum=0;r9sum=0\n",
    "        for i in range(len(col1)):\n",
    "            r1sum += col1[i]\n",
    "        for j in range(len(col2)):\n",
    "            r2sum += col2[j]\n",
    "        for k in range(len(col3)):\n",
    "            r3sum += col3[k]\n",
    "        for ii in range(len(col4)):\n",
    "            r4sum += col4[ii]\n",
    "        for iii in range(len(col5)):\n",
    "            r5sum += col5[iii]\n",
    "        for jj in range(len(col6)):\n",
    "            r6sum += col6[jj]\n",
    "        for jjj in range(len(col7)):\n",
    "            r7sum += col7[jjj]\n",
    "        for kk in range(len(col8)):\n",
    "            r8sum += col8[kk]\n",
    "        for iiii in range(len(col9)):\n",
    "            r9sum += col9[iiii]\n",
    "        r1 = r1sum/24; r2 = r2sum/24; r3 = r3sum/24; r4 = r4sum/24; r5 = r5sum/24; r6 = r6sum/24; r7 = r7sum/24; r8 = r8sum/24; r9 = r9sum/24\n",
    "        x0 = 1 - x[1] - x[2] - x[3] - x[4] - x[5] - x[6] -x[7] - x[8]\n",
    "        p.add_constraint(x0 >= 0)\n",
    "        for t in range(9,33):\n",
    "            p.add_constraint(-x[t] <= x0*(col1[t-9]-r1) + x[1]*(col2[t-9]-r2) + x[2]*(col3[t-9]-r3) + x[3]*(col4[t-9]-r4)+ x[4]*(col5[t-9]-r5)+ x[5]*(col6[t-9]-r6)+ x[6]*(col7[t-9]-r7)+ x[7]*(col8[t-9]-r8)+ x[8]*(col9[t-9]-r9))\n",
    "        for tt in range(9,33):\n",
    "            p.add_constraint(x[tt] >= x0*(col1[tt-9]-r1) + x[1]*(col2[tt-9]-r2) + x[2]*(col3[tt-9]-r3) + x[3]*(col4[tt-9]-r4)+ x[4]*(col5[tt-9]-r5)+ x[5]*(col6[tt-9]-r6)+ x[6]*(col7[tt-9]-r7)+ x[7]*(col8[tt-9]-r8)+ x[8]*(col9[tt-9]-r9))\n",
    "        p.set_objective(mu*(x0*r1 + x[1]*r2 + x[2]*r3 + x[3]*r4 + x[4]*r5 + x[5]*r6 + x[6]*r7 + x[7]*r8 + x[8]*r9) - ((1/24) * sum([x[o] for o in range(9,33)])))\n",
    "        #p.solve()\n",
    "        #p.get_values(x[1],x[2], x[3], x[4], x[5], x[6], x[7], x[8])"
   ]
  },
  {
   "cell_type": "code",
   "execution_count": null,
   "metadata": {},
   "outputs": [],
   "source": [
    "def portfolio_search(mu_value):\n",
    "    K.<mu> = ParametricRealField([mu_value])\n",
    "    base_ring = mu.parent()\n",
    "    p = MixedIntegerLinearProgram(solver=(\"GLPK\",\"InteractiveLP\"),maximization=True, base_ring=base_ring)\n",
    "    x = p.new_variable(integer=False, nonnegative=True)\n",
    "    num_cols = 9\n",
    "    col1 = [1,1003/1000,1005/1000,1007/1000,1002/1000,1001/1000,1005/1000,1004/1000,1004/1000,1008/1000,1007/1000,1002/1000,1002/1000,1002/1000,1002/1000,1,1002/1000,1004/1000,1004/1000,999/1000,997/1000,1007/1000,996/1000,1002/1000]; col2 = [1044/1000,1015/1000,1024/1000,1027/1000,1040/1000,995/1000,1044/1000,1060/1000,1,1030/1000,963/1000,1005/1000,960/1000,1035/1000,1047/1000,978/1000,1048/1000,1029/1000,1076/1000,1002/1000,1008/1000,958/1000,1056/1000,980/1000]; col3 = [1068/1000,1051/1000,1062/1000,980/1000,991/1000,969/1000,1086/1000,1043/1000,963/1000,949/1000,1034/1000,1022/1000,972/1000,1050/1000,1042/1000,908/1000,1146/1000,1018/1000,1015/1000,909/1000,1063/1000,1064/1000,1071/1000,1070/1000]; col4 = [1016/1000,1039/1000,994/1000,971/1000,1009/1000,1030/1000,1007/1000,1023/1000,1040/1000,1012/1000,1023/1000,995/1000,962/1000,1043/1000,1003/1000,1021/1000,1009/1000,1,1048/1000,1030/1000,1009/1000,983/1000,1016/1000,1012/1000]; col5 = [1035/1000,1046/1000,1008/1000,989/1000,1021/1000,997/1000,1024/1000,1028/1000,1038/1000,1011/1000,943/1000,999/1000,983/1000,1021/1000,1044/1000,1031/1000,1003/1000,1005/1000,1058/1000,986/1000,1017/1000,976/1000,1038/1000,974/1000]; col6 = [1032/1000,1047/1000,1010/1000,973/1000,1020/1000,989/1000,1028/1000,1040/1000,1040/1000,1070/1000,974/1000,995/1000,935/1000,987/1000,1023/1000,1002/1000,1034/1000,969/1000,1063/1000,977/1000,1002/1000,991/1000,1057/1000,987/1000]; col7 = [1004/1000,1028/1000,1021/1000,985/1000,1020/1000,1020/1000,991/1000,1018/1000,999/1000,1039/1000,1016/1000,1018/1000,1002/1000,1010/1000,1008/1000,1008/1000,1002/1000,1001/1000,1009/1000,996/1000,1014/1000,983/1000,1032/1000,981/1000]; col8 = [987/1000,1049/1000,1036/1000,1053/1000,996/1000,999/1000,1026/1000,1053/1000,985/1000,1028/1000,1048/1000,1023/1000,1016/1000,1016/1000,954/1000,1013/1000,1024/1000,1009/1000,999/1000,936/1000,1042/1000,1006/1000,1023/1000,1059/1000]; col9 = [1014/1000,1073/1000,1002/1000,977/1000,1030/1000,1007/1000,999/1000,1003/1000,1015/1000,1029/1000,1055/1000,1,979/1000,969/1000,987/1000,1012/1000,1013/1000,1035/1000,1012/1000,969/1000,995/1000,996/1000,1023/1000,994/1000]\n",
    "    r1sum = 0; r2sum=0;r3sum=0;r4sum=0;r5sum=0;r6sum=0;r7sum=0;r8sum=0;r9sum=0\n",
    "    for i in range(len(col1)):\n",
    "        r1sum += col1[i]\n",
    "    for j in range(len(col2)):\n",
    "        r2sum += col2[j]\n",
    "    for k in range(len(col3)):\n",
    "        r3sum += col3[k]\n",
    "    for ii in range(len(col4)):\n",
    "        r4sum += col4[ii]\n",
    "    for iii in range(len(col5)):\n",
    "        r5sum += col5[iii]\n",
    "    for jj in range(len(col6)):\n",
    "        r6sum += col6[jj]\n",
    "    for jjj in range(len(col7)):\n",
    "        r7sum += col7[jjj]\n",
    "    for kk in range(len(col8)):\n",
    "        r8sum += col8[kk]\n",
    "    for iiii in range(len(col9)):\n",
    "        r9sum += col9[iiii]\n",
    "    r1 = r1sum/24; r2 = r2sum/24; r3 = r3sum/24; r4 = r4sum/24; r5 = r5sum/24; r6 = r6sum/24; r7 = r7sum/24; r8 = r8sum/24; r9 = r9sum/24\n",
    "    x0 = 1 - x[1] - x[2] - x[3] - x[4] - x[5] - x[6] -x[7] - x[8]\n",
    "    p.add_constraint(x0 >= 0)\n",
    "    for t in range(9,33):\n",
    "        p.add_constraint(-x[t] <= x0*(col1[t-9]-r1) + x[1]*(col2[t-9]-r2) + x[2]*(col3[t-9]-r3) + x[3]*(col4[t-9]-r4)+ x[4]*(col5[t-9]-r5)+ x[5]*(col6[t-9]-r6)+ x[6]*(col7[t-9]-r7)+ x[7]*(col8[t-9]-r8)+ x[8]*(col9[t-9]-r9))\n",
    "    for tt in range(9,33):\n",
    "        p.add_constraint(x[tt] >= x0*(col1[tt-9]-r1) + x[1]*(col2[tt-9]-r2) + x[2]*(col3[tt-9]-r3) + x[3]*(col4[tt-9]-r4)+ x[4]*(col5[tt-9]-r5)+ x[5]*(col6[tt-9]-r6)+ x[6]*(col7[tt-9]-r7)+ x[7]*(col8[tt-9]-r8)+ x[8]*(col9[tt-9]-r9))\n",
    "    p.set_objective(mu*(x0*r1 + x[1]*r2 + x[2]*r3 + x[3]*r4 + x[4]*r5 + x[5]*r6 + x[6]*r7 + x[7]*r8 + x[8]*r9) - ((1/24) * sum([x[o] for o in range(9,33)])))\n",
    "    p.solve()\n",
    "    p.get_values(x[1],x[2], x[3], x[4], x[5], x[6], x[7], x[8])\n",
    "    c = K.make_proof_cell()\n",
    "    bsa = c.bsa\n",
    "    return bsa\n",
    "        \n",
    "\n",
    "    "
   ]
  },
  {
   "cell_type": "code",
   "execution_count": null,
   "metadata": {},
   "outputs": [],
   "source": [
    "bsa = portfolio_search(3)"
   ]
  },
  {
   "cell_type": "code",
   "execution_count": null,
   "metadata": {},
   "outputs": [],
   "source": [
    "bsa"
   ]
  },
  {
   "cell_type": "code",
   "execution_count": null,
   "metadata": {},
   "outputs": [],
   "source": [
    "l = list(bsa.lt_poly())"
   ]
  },
  {
   "cell_type": "code",
   "execution_count": null,
   "metadata": {},
   "outputs": [],
   "source": [
    "l"
   ]
  },
  {
   "cell_type": "code",
   "execution_count": null,
   "metadata": {},
   "outputs": [],
   "source": [
    "l0 = l[0]"
   ]
  },
  {
   "cell_type": "code",
   "execution_count": null,
   "metadata": {},
   "outputs": [],
   "source": [
    "l0"
   ]
  },
  {
   "cell_type": "code",
   "execution_count": null,
   "metadata": {},
   "outputs": [],
   "source": [
    "l0; l0.parent()"
   ]
  },
  {
   "cell_type": "code",
   "execution_count": null,
   "metadata": {},
   "outputs": [],
   "source": [
    "type(l0)"
   ]
  },
  {
   "cell_type": "code",
   "execution_count": null,
   "metadata": {},
   "outputs": [],
   "source": [
    "l0.constant_coefficient()"
   ]
  },
  {
   "cell_type": "code",
   "execution_count": null,
   "metadata": {},
   "outputs": [],
   "source": [
    "l0.list?"
   ]
  },
  {
   "cell_type": "code",
   "execution_count": null,
   "metadata": {},
   "outputs": [],
   "source": [
    "l0.list()"
   ]
  },
  {
   "cell_type": "code",
   "execution_count": null,
   "metadata": {},
   "outputs": [],
   "source": [
    "l0.parent()"
   ]
  },
  {
   "cell_type": "code",
   "execution_count": null,
   "metadata": {},
   "outputs": [],
   "source": [
    "lroots = l0.roots()"
   ]
  },
  {
   "cell_type": "code",
   "execution_count": null,
   "metadata": {},
   "outputs": [],
   "source": [
    "lroots[0]"
   ]
  },
  {
   "cell_type": "code",
   "execution_count": null,
   "metadata": {},
   "outputs": [],
   "source": [
    "lroots[0][0]"
   ]
  },
  {
   "cell_type": "markdown",
   "metadata": {},
   "source": [
    "## "
   ]
  }
 ],
 "metadata": {
  "kernelspec": {
   "display_name": "SageMath 9.3.beta6",
   "language": "sage",
   "name": "sagemath"
  },
  "language_info": {
   "codemirror_mode": {
    "name": "ipython",
    "version": 3
   },
   "file_extension": ".py",
   "mimetype": "text/x-python",
   "name": "python",
   "nbconvert_exporter": "python",
   "pygments_lexer": "ipython3",
   "version": "3.8.5"
  }
 },
 "nbformat": 4,
 "nbformat_minor": 4
}
