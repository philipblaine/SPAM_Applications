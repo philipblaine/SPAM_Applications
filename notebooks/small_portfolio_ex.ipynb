{
 "cells": [
  {
   "cell_type": "code",
   "execution_count": 6,
   "metadata": {},
   "outputs": [
    {
     "name": "stderr",
     "output_type": "stream",
     "text": [
      "INFO: 2021-03-11 15:29:57,847 Initialized ParametricRealField(names = ['mu'], values = [1])\n"
     ]
    }
   ],
   "source": [
    "load_attach_path(\"/mnt/c/users/phili/SAGEMATH/SPAM_Applications\")\n",
    "load(\"startup.sage\")\n",
    "\n",
    "K.<mu> = ParametricRealField([1])"
   ]
  },
  {
   "cell_type": "code",
   "execution_count": 7,
   "metadata": {},
   "outputs": [],
   "source": [
    "hist_data = ((1,1003/1000),(1044/1000,1015/1000),(1068/1000,800/1000))"
   ]
  },
  {
   "cell_type": "code",
   "execution_count": 8,
   "metadata": {},
   "outputs": [],
   "source": [
    "n = len(hist_data)\n",
    "T = len(hist_data[0])\n",
    "lp = MixedIntegerLinearProgram(solver=(\"GLPK\", \"InteractiveLP\"),maximization=True, base_ring=mu.parent())\n",
    "x_var = lp.new_variable(nonnegative=True)\n",
    "x = [x_var[j] for j in range(n - 1)]\n",
    "x.append(1 - sum(x))\n",
    "lp.add_constraint(x[-1] >= 0)\n",
    "y = lp.new_variable(nonnegative=True)\n",
    "exp_return = [sum(r) / T for r in hist_data]\n",
    "for t in range(T):\n",
    "    dev = sum(x[j] * (hist_data[j][t] - exp_return[j]) for j in range(n))\n",
    "    lp.add_constraint(dev <= y[t])\n",
    "    lp.add_constraint(dev >= -y[t])\n",
    "reward = sum([x[j] * exp_return[j] for j in range(n)])\n",
    "risk = sum([y[t] for t in range(T)]) / T\n",
    "obj = mu * reward - risk\n",
    "f = obj.dict()\n",
    "h = lp.get_backend()\n",
    "d = f.pop(-1, h.zero())\n",
    "values = [f.get(i, h.zero()) for i in range(h.ncols())] \n",
    "h.set_objective(values, d)\n"
   ]
  },
  {
   "cell_type": "code",
   "execution_count": null,
   "metadata": {},
   "outputs": [],
   "source": [
    "reward"
   ]
  },
  {
   "cell_type": "code",
   "execution_count": null,
   "metadata": {},
   "outputs": [],
   "source": [
    "risk"
   ]
  },
  {
   "cell_type": "code",
   "execution_count": null,
   "metadata": {},
   "outputs": [],
   "source": [
    "exp_return"
   ]
  },
  {
   "cell_type": "code",
   "execution_count": null,
   "metadata": {},
   "outputs": [],
   "source": [
    "n"
   ]
  },
  {
   "cell_type": "code",
   "execution_count": null,
   "metadata": {},
   "outputs": [],
   "source": [
    "x"
   ]
  },
  {
   "cell_type": "code",
   "execution_count": 9,
   "metadata": {},
   "outputs": [
    {
     "name": "stderr",
     "output_type": "stream",
     "text": [
      "INFO: 2021-03-11 15:30:01,628 New constraint: -mu < 0\n",
      "INFO: 2021-03-11 15:30:01,629 New constraint: mu - 400/27 < 0\n",
      "INFO: 2021-03-11 15:30:01,631 New constraint: mu - 2000/191 < 0\n"
     ]
    },
    {
     "name": "stdout",
     "output_type": "stream",
     "text": [
      "Maximization:\n",
      "  (27/400*mu)~ x1 + (191/2000*mu)~ x2 -1/2 x3 -1/2 x4 + (467/500*mu)~ \n",
      "\n",
      "\n",
      "Constraints:\n",
      "  x1 + x2 <= 1\n",
      "  -271/2000 x1 - 239/2000 x2 - x3 <= -67/500\n",
      "  271/2000 x1 + 239/2000 x2 - x3 <= 67/500\n",
      "  271/2000 x1 + 239/2000 x2 - x4 <= 67/500\n",
      "  -271/2000 x1 - 239/2000 x2 - x4 <= -67/500\n",
      "Variables:\n",
      "  x1 = x_0 is a continuous variable (min=0, max=+oo)\n",
      "  x2 = x_1 is a continuous variable (min=0, max=+oo)\n",
      "  x3 = x_2 is a continuous variable (min=0, max=+oo)\n",
      "  x4 = x_3 is a continuous variable (min=0, max=+oo)\n"
     ]
    }
   ],
   "source": [
    "lp.show()"
   ]
  },
  {
   "cell_type": "code",
   "execution_count": null,
   "metadata": {},
   "outputs": [],
   "source": [
    "st.run_revised_simplex_method()"
   ]
  },
  {
   "cell_type": "code",
   "execution_count": null,
   "metadata": {},
   "outputs": [],
   "source": [
    "b = lp.get_backend()"
   ]
  },
  {
   "cell_type": "code",
   "execution_count": null,
   "metadata": {},
   "outputs": [],
   "source": [
    "p2 = b.interactive_lp_problem()"
   ]
  },
  {
   "cell_type": "code",
   "execution_count": null,
   "metadata": {},
   "outputs": [],
   "source": [
    "st = p2.standard_form()"
   ]
  },
  {
   "cell_type": "code",
   "execution_count": null,
   "metadata": {},
   "outputs": [],
   "source": [
    "st.run_revised_simplex_method()"
   ]
  },
  {
   "cell_type": "code",
   "execution_count": 10,
   "metadata": {},
   "outputs": [
    {
     "name": "stderr",
     "output_type": "stream",
     "text": [
      "INFO: 2021-03-11 15:30:05,469 New constraint: -mu + 2/7 < 0\n",
      "INFO: 2021-03-11 15:30:05,483 New constraint: -mu + 4/7 < 0\n"
     ]
    },
    {
     "data": {
      "text/plain": [
       "(2059/2000*mu - 29/2000)~"
      ]
     },
     "execution_count": 10,
     "metadata": {},
     "output_type": "execute_result"
    }
   ],
   "source": [
    "lp.solve()"
   ]
  },
  {
   "cell_type": "code",
   "execution_count": null,
   "metadata": {},
   "outputs": [],
   "source": []
  }
 ],
 "metadata": {
  "kernelspec": {
   "display_name": "SageMath 9.3.beta6",
   "language": "sage",
   "name": "sagemath"
  },
  "language_info": {
   "codemirror_mode": {
    "name": "ipython",
    "version": 3
   },
   "file_extension": ".py",
   "mimetype": "text/x-python",
   "name": "python",
   "nbconvert_exporter": "python",
   "pygments_lexer": "ipython3",
   "version": "3.8.5"
  }
 },
 "nbformat": 4,
 "nbformat_minor": 4
}
