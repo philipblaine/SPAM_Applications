{
 "cells": [
  {
   "cell_type": "code",
   "execution_count": 17,
   "metadata": {},
   "outputs": [
    {
     "name": "stderr",
     "output_type": "stream",
     "text": [
      "INFO: 2021-02-23 17:37:27,999 Initialized ParametricRealField(names = ['mu'], values = [375/376])\n",
      "INFO: 2021-02-23 17:37:28,060 New constraint: -mu < 0\n",
      "INFO: 2021-02-23 17:37:28,062 New constraint: -mu + 375/376 == 0\n"
     ]
    }
   ],
   "source": [
    "    load(\"startup.sage\")\n",
    "    \n",
    "    K.<mu> = ParametricRealField([375/376])\n",
    "\n",
    "    p = MixedIntegerLinearProgram(solver = (\"GLPK\", \"InteractiveLP\"), maximization=True, base_ring=K)  \n",
    "    x = p.new_variable(integer=False, nonnegative=True)\n",
    "    \n",
    "    #x0, x1, x2 are portfolio weights\n",
    "    #x3-x26 are constraint variables\n",
    "    #x27-75 are slack variables\n",
    "\n",
    "    num_cols = 3\n",
    "\n",
    "    col1 = [1,1003/1000,1005/1000]; col2 = [1044/1000,1015/1000,1024/1000]; col3 = [999/1000,1051/1000,1062/1000]\n",
    "\n",
    "\n",
    "    r1sum = 0; r2sum = 0; r3sum = 0\n",
    "\n",
    "    for i in range(len(col1)):\n",
    "        r1sum += col1[i]\n",
    "\n",
    "    for j in range(len(col2)):\n",
    "        r2sum += col2[j]\n",
    "\n",
    "    for k in range(len(col3)):\n",
    "        r3sum += col3[k]\n",
    "        \n",
    "\n",
    "    r1 = r1sum/len(col1); r2 = r2sum/len(col2); r3 = r3sum/len(col3)\n",
    "\n",
    "    x0 = 1 - x[2] - x[1]\n",
    "    \n",
    "    p.add_constraint(x0 >= 0)\n",
    "   \n",
    "    for t in range(3,6,1):\n",
    "        p.add_constraint((-x[t] <= (x0*(col1[t-3]-r1) + x[1]*(col2[t-3]-r2) + x[2]*(col3[t-3]-r3))))\n",
    "        \n",
    "    for t in range(3,6,1):\n",
    "        p.add_constraint((x[t] >= (x0*(col1[t-3]-r1) + x[1]*(col2[t-3]-r2) + x[2]*(col3[t-3]-r3))))\n",
    "\n",
    "  \n",
    "    p.set_objective(mu*(x0*r1 + x[1]*r2 + x[2]*r3) - ((1/len(col1)) * sum([x[o] for o in range(3,6,1)])))\n"
   ]
  },
  {
   "cell_type": "code",
   "execution_count": 18,
   "metadata": {},
   "outputs": [
    {
     "data": {
      "text/html": [
       "<html><script type=\"math/tex; mode=display\">\\newcommand{\\Bold}[1]{\\mathbf{#1}}\\frac{169011}{164000} \\mu - \\frac{787}{246000}</script></html>"
      ],
      "text/latex": [
       "\\begin{math}\n",
       "\\newcommand{\\Bold}[1]{\\mathbf{#1}}\\frac{169011}{164000} \\mu - \\frac{787}{246000}\n",
       "\\end{math}"
      ],
      "text/plain": [
       "(169011/164000*mu - 787/246000)~"
      ]
     },
     "execution_count": 18,
     "metadata": {},
     "output_type": "execute_result"
    }
   ],
   "source": [
    "%display latex\n",
    "p.solve()"
   ]
  },
  {
   "cell_type": "code",
   "execution_count": 16,
   "metadata": {},
   "outputs": [
    {
     "name": "stdout",
     "output_type": "stream",
     "text": [
      "Maximization:\n",
      "  (13/375*mu)~ x1 + (1/40*mu)~ x2 -1/3 x3 -1/3 x4 -1/3 x5 + (376/375*mu)~ \n",
      "\n",
      "\n",
      "Constraints:\n",
      "  x1 + x2 <= 1\n",
      "  107/3000 x1 - 19/1000 x2 - x3 <= -1/375\n",
      "  -1/75 x1 + 13/1000 x2 - x4 <= 1/3000\n",
      "  -67/3000 x1 + 3/500 x2 - x5 <= 7/3000\n",
      "  -107/3000 x1 + 19/1000 x2 - x3 <= 1/375\n",
      "  1/75 x1 - 13/1000 x2 - x4 <= -1/3000\n",
      "  67/3000 x1 - 3/500 x2 - x5 <= -7/3000\n",
      "Variables:\n",
      "  x1 = x_0 is a continuous variable (min=0, max=+oo)\n",
      "  x2 = x_1 is a continuous variable (min=0, max=+oo)\n",
      "  x3 = x_2 is a continuous variable (min=0, max=+oo)\n",
      "  x4 = x_3 is a continuous variable (min=0, max=+oo)\n",
      "  x5 = x_4 is a continuous variable (min=0, max=+oo)\n"
     ]
    }
   ],
   "source": [
    "p.show()"
   ]
  },
  {
   "cell_type": "code",
   "execution_count": null,
   "metadata": {},
   "outputs": [],
   "source": [
    "p.get_values(x[1],x[2])"
   ]
  },
  {
   "cell_type": "code",
   "execution_count": 2,
   "metadata": {},
   "outputs": [],
   "source": [
    "from sage.numerical.backends.generic_backend import get_solver\n",
    "h = p.get_backend()\n",
    "b = h.backends[0]\n",
    "bb = h.backends[1]"
   ]
  },
  {
   "cell_type": "code",
   "execution_count": null,
   "metadata": {},
   "outputs": [],
   "source": [
    "p.number_of_variables()"
   ]
  },
  {
   "cell_type": "code",
   "execution_count": 3,
   "metadata": {},
   "outputs": [],
   "source": [
    "lp = bb.interactive_lp_problem()\n",
    "st = lp.standard_form()\n"
   ]
  },
  {
   "cell_type": "code",
   "execution_count": 5,
   "metadata": {},
   "outputs": [
    {
     "data": {
      "text/html": [
       "<html><script type=\"math/tex; mode=display\">\\newcommand{\\Bold}[1]{\\mathbf{#1}}\\begin{array}{l}\n",
       "\\begin{array}{lcrcrcrcrcrcl}\n",
       " \\max \\mspace{-6mu}&\\mspace{-6mu}  \\mspace{-6mu}&\\mspace{-6mu} \\frac{13}{375} \\mu x_{1} \\mspace{-6mu}&\\mspace{-6mu} + \\mspace{-6mu}&\\mspace{-6mu} \\frac{1}{40} \\mu x_{2} \\mspace{-6mu}&\\mspace{-6mu} - \\mspace{-6mu}&\\mspace{-6mu} \\frac{1}{3} x_{3} \\mspace{-6mu}&\\mspace{-6mu} - \\mspace{-6mu}&\\mspace{-6mu} \\frac{1}{3} x_{4} \\mspace{-6mu}&\\mspace{-6mu} - \\mspace{-6mu}&\\mspace{-6mu} \\frac{1}{3} x_{5} \\mspace{-6mu}&\\mspace{-6mu} + \\mspace{-6mu}&\\mspace{-6mu} \\frac{376}{375} \\mu\\\\\n",
       " \\mspace{-6mu}&\\mspace{-6mu}  \\mspace{-6mu}&\\mspace{-6mu} x_{1} \\mspace{-6mu}&\\mspace{-6mu} + \\mspace{-6mu}&\\mspace{-6mu} x_{2} \\mspace{-6mu}&\\mspace{-6mu}  \\mspace{-6mu}&\\mspace{-6mu}  \\mspace{-6mu}&\\mspace{-6mu}  \\mspace{-6mu}&\\mspace{-6mu}  \\mspace{-6mu}&\\mspace{-6mu}  \\mspace{-6mu}&\\mspace{-6mu}  \\mspace{-6mu}&\\mspace{-6mu} \\leq \\mspace{-6mu}&\\mspace{-6mu} 1 \\\\\n",
       " \\mspace{-6mu}&\\mspace{-6mu}  \\mspace{-6mu}&\\mspace{-6mu} \\frac{107}{3000} x_{1} \\mspace{-6mu}&\\mspace{-6mu} - \\mspace{-6mu}&\\mspace{-6mu} \\frac{19}{1000} x_{2} \\mspace{-6mu}&\\mspace{-6mu} - \\mspace{-6mu}&\\mspace{-6mu} x_{3} \\mspace{-6mu}&\\mspace{-6mu}  \\mspace{-6mu}&\\mspace{-6mu}  \\mspace{-6mu}&\\mspace{-6mu}  \\mspace{-6mu}&\\mspace{-6mu}  \\mspace{-6mu}&\\mspace{-6mu} \\leq \\mspace{-6mu}&\\mspace{-6mu} -\\frac{1}{375} \\\\\n",
       " \\mspace{-6mu}&\\mspace{-6mu} - \\mspace{-6mu}&\\mspace{-6mu} \\frac{1}{75} x_{1} \\mspace{-6mu}&\\mspace{-6mu} + \\mspace{-6mu}&\\mspace{-6mu} \\frac{13}{1000} x_{2} \\mspace{-6mu}&\\mspace{-6mu}  \\mspace{-6mu}&\\mspace{-6mu}  \\mspace{-6mu}&\\mspace{-6mu} - \\mspace{-6mu}&\\mspace{-6mu} x_{4} \\mspace{-6mu}&\\mspace{-6mu}  \\mspace{-6mu}&\\mspace{-6mu}  \\mspace{-6mu}&\\mspace{-6mu} \\leq \\mspace{-6mu}&\\mspace{-6mu} \\frac{1}{3000} \\\\\n",
       " \\mspace{-6mu}&\\mspace{-6mu} - \\mspace{-6mu}&\\mspace{-6mu} \\frac{67}{3000} x_{1} \\mspace{-6mu}&\\mspace{-6mu} + \\mspace{-6mu}&\\mspace{-6mu} \\frac{3}{500} x_{2} \\mspace{-6mu}&\\mspace{-6mu}  \\mspace{-6mu}&\\mspace{-6mu}  \\mspace{-6mu}&\\mspace{-6mu}  \\mspace{-6mu}&\\mspace{-6mu}  \\mspace{-6mu}&\\mspace{-6mu} - \\mspace{-6mu}&\\mspace{-6mu} x_{5} \\mspace{-6mu}&\\mspace{-6mu} \\leq \\mspace{-6mu}&\\mspace{-6mu} \\frac{7}{3000} \\\\\n",
       " \\mspace{-6mu}&\\mspace{-6mu} - \\mspace{-6mu}&\\mspace{-6mu} \\frac{107}{3000} x_{1} \\mspace{-6mu}&\\mspace{-6mu} + \\mspace{-6mu}&\\mspace{-6mu} \\frac{19}{1000} x_{2} \\mspace{-6mu}&\\mspace{-6mu} - \\mspace{-6mu}&\\mspace{-6mu} x_{3} \\mspace{-6mu}&\\mspace{-6mu}  \\mspace{-6mu}&\\mspace{-6mu}  \\mspace{-6mu}&\\mspace{-6mu}  \\mspace{-6mu}&\\mspace{-6mu}  \\mspace{-6mu}&\\mspace{-6mu} \\leq \\mspace{-6mu}&\\mspace{-6mu} \\frac{1}{375} \\\\\n",
       " \\mspace{-6mu}&\\mspace{-6mu}  \\mspace{-6mu}&\\mspace{-6mu} \\frac{1}{75} x_{1} \\mspace{-6mu}&\\mspace{-6mu} - \\mspace{-6mu}&\\mspace{-6mu} \\frac{13}{1000} x_{2} \\mspace{-6mu}&\\mspace{-6mu}  \\mspace{-6mu}&\\mspace{-6mu}  \\mspace{-6mu}&\\mspace{-6mu} - \\mspace{-6mu}&\\mspace{-6mu} x_{4} \\mspace{-6mu}&\\mspace{-6mu}  \\mspace{-6mu}&\\mspace{-6mu}  \\mspace{-6mu}&\\mspace{-6mu} \\leq \\mspace{-6mu}&\\mspace{-6mu} -\\frac{1}{3000} \\\\\n",
       " \\mspace{-6mu}&\\mspace{-6mu}  \\mspace{-6mu}&\\mspace{-6mu} \\frac{67}{3000} x_{1} \\mspace{-6mu}&\\mspace{-6mu} - \\mspace{-6mu}&\\mspace{-6mu} \\frac{3}{500} x_{2} \\mspace{-6mu}&\\mspace{-6mu}  \\mspace{-6mu}&\\mspace{-6mu}  \\mspace{-6mu}&\\mspace{-6mu}  \\mspace{-6mu}&\\mspace{-6mu}  \\mspace{-6mu}&\\mspace{-6mu} - \\mspace{-6mu}&\\mspace{-6mu} x_{5} \\mspace{-6mu}&\\mspace{-6mu} \\leq \\mspace{-6mu}&\\mspace{-6mu} -\\frac{7}{3000} \\\\\n",
       "\\end{array} \\\\\n",
       "x_{1}, x_{2}, x_{3}, x_{4}, x_{5} \\geq 0\n",
       "\\end{array}</script></html>"
      ],
      "text/latex": [
       "\\begin{math}\n",
       "\\newcommand{\\Bold}[1]{\\mathbf{#1}}\\begin{array}{l}\n",
       "\\begin{array}{lcrcrcrcrcrcl}\n",
       " \\max \\mspace{-6mu}&\\mspace{-6mu}  \\mspace{-6mu}&\\mspace{-6mu} \\frac{13}{375} \\mu x_{1} \\mspace{-6mu}&\\mspace{-6mu} + \\mspace{-6mu}&\\mspace{-6mu} \\frac{1}{40} \\mu x_{2} \\mspace{-6mu}&\\mspace{-6mu} - \\mspace{-6mu}&\\mspace{-6mu} \\frac{1}{3} x_{3} \\mspace{-6mu}&\\mspace{-6mu} - \\mspace{-6mu}&\\mspace{-6mu} \\frac{1}{3} x_{4} \\mspace{-6mu}&\\mspace{-6mu} - \\mspace{-6mu}&\\mspace{-6mu} \\frac{1}{3} x_{5} \\mspace{-6mu}&\\mspace{-6mu} + \\mspace{-6mu}&\\mspace{-6mu} \\frac{376}{375} \\mu\\\\\n",
       " \\mspace{-6mu}&\\mspace{-6mu}  \\mspace{-6mu}&\\mspace{-6mu} x_{1} \\mspace{-6mu}&\\mspace{-6mu} + \\mspace{-6mu}&\\mspace{-6mu} x_{2} \\mspace{-6mu}&\\mspace{-6mu}  \\mspace{-6mu}&\\mspace{-6mu}  \\mspace{-6mu}&\\mspace{-6mu}  \\mspace{-6mu}&\\mspace{-6mu}  \\mspace{-6mu}&\\mspace{-6mu}  \\mspace{-6mu}&\\mspace{-6mu}  \\mspace{-6mu}&\\mspace{-6mu} \\leq \\mspace{-6mu}&\\mspace{-6mu} 1 \\\\\n",
       " \\mspace{-6mu}&\\mspace{-6mu}  \\mspace{-6mu}&\\mspace{-6mu} \\frac{107}{3000} x_{1} \\mspace{-6mu}&\\mspace{-6mu} - \\mspace{-6mu}&\\mspace{-6mu} \\frac{19}{1000} x_{2} \\mspace{-6mu}&\\mspace{-6mu} - \\mspace{-6mu}&\\mspace{-6mu} x_{3} \\mspace{-6mu}&\\mspace{-6mu}  \\mspace{-6mu}&\\mspace{-6mu}  \\mspace{-6mu}&\\mspace{-6mu}  \\mspace{-6mu}&\\mspace{-6mu}  \\mspace{-6mu}&\\mspace{-6mu} \\leq \\mspace{-6mu}&\\mspace{-6mu} -\\frac{1}{375} \\\\\n",
       " \\mspace{-6mu}&\\mspace{-6mu} - \\mspace{-6mu}&\\mspace{-6mu} \\frac{1}{75} x_{1} \\mspace{-6mu}&\\mspace{-6mu} + \\mspace{-6mu}&\\mspace{-6mu} \\frac{13}{1000} x_{2} \\mspace{-6mu}&\\mspace{-6mu}  \\mspace{-6mu}&\\mspace{-6mu}  \\mspace{-6mu}&\\mspace{-6mu} - \\mspace{-6mu}&\\mspace{-6mu} x_{4} \\mspace{-6mu}&\\mspace{-6mu}  \\mspace{-6mu}&\\mspace{-6mu}  \\mspace{-6mu}&\\mspace{-6mu} \\leq \\mspace{-6mu}&\\mspace{-6mu} \\frac{1}{3000} \\\\\n",
       " \\mspace{-6mu}&\\mspace{-6mu} - \\mspace{-6mu}&\\mspace{-6mu} \\frac{67}{3000} x_{1} \\mspace{-6mu}&\\mspace{-6mu} + \\mspace{-6mu}&\\mspace{-6mu} \\frac{3}{500} x_{2} \\mspace{-6mu}&\\mspace{-6mu}  \\mspace{-6mu}&\\mspace{-6mu}  \\mspace{-6mu}&\\mspace{-6mu}  \\mspace{-6mu}&\\mspace{-6mu}  \\mspace{-6mu}&\\mspace{-6mu} - \\mspace{-6mu}&\\mspace{-6mu} x_{5} \\mspace{-6mu}&\\mspace{-6mu} \\leq \\mspace{-6mu}&\\mspace{-6mu} \\frac{7}{3000} \\\\\n",
       " \\mspace{-6mu}&\\mspace{-6mu} - \\mspace{-6mu}&\\mspace{-6mu} \\frac{107}{3000} x_{1} \\mspace{-6mu}&\\mspace{-6mu} + \\mspace{-6mu}&\\mspace{-6mu} \\frac{19}{1000} x_{2} \\mspace{-6mu}&\\mspace{-6mu} - \\mspace{-6mu}&\\mspace{-6mu} x_{3} \\mspace{-6mu}&\\mspace{-6mu}  \\mspace{-6mu}&\\mspace{-6mu}  \\mspace{-6mu}&\\mspace{-6mu}  \\mspace{-6mu}&\\mspace{-6mu}  \\mspace{-6mu}&\\mspace{-6mu} \\leq \\mspace{-6mu}&\\mspace{-6mu} \\frac{1}{375} \\\\\n",
       " \\mspace{-6mu}&\\mspace{-6mu}  \\mspace{-6mu}&\\mspace{-6mu} \\frac{1}{75} x_{1} \\mspace{-6mu}&\\mspace{-6mu} - \\mspace{-6mu}&\\mspace{-6mu} \\frac{13}{1000} x_{2} \\mspace{-6mu}&\\mspace{-6mu}  \\mspace{-6mu}&\\mspace{-6mu}  \\mspace{-6mu}&\\mspace{-6mu} - \\mspace{-6mu}&\\mspace{-6mu} x_{4} \\mspace{-6mu}&\\mspace{-6mu}  \\mspace{-6mu}&\\mspace{-6mu}  \\mspace{-6mu}&\\mspace{-6mu} \\leq \\mspace{-6mu}&\\mspace{-6mu} -\\frac{1}{3000} \\\\\n",
       " \\mspace{-6mu}&\\mspace{-6mu}  \\mspace{-6mu}&\\mspace{-6mu} \\frac{67}{3000} x_{1} \\mspace{-6mu}&\\mspace{-6mu} - \\mspace{-6mu}&\\mspace{-6mu} \\frac{3}{500} x_{2} \\mspace{-6mu}&\\mspace{-6mu}  \\mspace{-6mu}&\\mspace{-6mu}  \\mspace{-6mu}&\\mspace{-6mu}  \\mspace{-6mu}&\\mspace{-6mu}  \\mspace{-6mu}&\\mspace{-6mu} - \\mspace{-6mu}&\\mspace{-6mu} x_{5} \\mspace{-6mu}&\\mspace{-6mu} \\leq \\mspace{-6mu}&\\mspace{-6mu} -\\frac{7}{3000} \\\\\n",
       "\\end{array} \\\\\n",
       "x_{1}, x_{2}, x_{3}, x_{4}, x_{5} \\geq 0\n",
       "\\end{array}\n",
       "\\end{math}"
      ],
      "text/plain": [
       "LP problem (use typeset mode to see details)"
      ]
     },
     "execution_count": 5,
     "metadata": {},
     "output_type": "execute_result"
    }
   ],
   "source": [
    "%display latex\n",
    "lp"
   ]
  },
  {
   "cell_type": "code",
   "execution_count": null,
   "metadata": {},
   "outputs": [],
   "source": [
    "h.ncols()\n"
   ]
  },
  {
   "cell_type": "code",
   "execution_count": null,
   "metadata": {},
   "outputs": [],
   "source": [
    "h.nrows()"
   ]
  },
  {
   "cell_type": "code",
   "execution_count": null,
   "metadata": {},
   "outputs": [],
   "source": [
    "st"
   ]
  },
  {
   "cell_type": "code",
   "execution_count": null,
   "metadata": {},
   "outputs": [],
   "source": [
    "dd = st.initial_dictionary()"
   ]
  },
  {
   "cell_type": "code",
   "execution_count": null,
   "metadata": {},
   "outputs": [],
   "source": [
    "d = st.final_revised_dictionary()\n"
   ]
  },
  {
   "cell_type": "code",
   "execution_count": null,
   "metadata": {},
   "outputs": [],
   "source": [
    "d"
   ]
  },
  {
   "cell_type": "code",
   "execution_count": null,
   "metadata": {},
   "outputs": [],
   "source": [
    "dd"
   ]
  },
  {
   "cell_type": "code",
   "execution_count": null,
   "metadata": {},
   "outputs": [],
   "source": [
    "d.is_feasible()"
   ]
  },
  {
   "cell_type": "code",
   "execution_count": null,
   "metadata": {},
   "outputs": [],
   "source": [
    "d.is_optimal()"
   ]
  },
  {
   "cell_type": "code",
   "execution_count": 9,
   "metadata": {},
   "outputs": [
    {
     "data": {
      "text/html": [
       "\\begin{equation*}\n",
       "%notruncate\n",
       "\\renewcommand{\\arraystretch}{1.500000}\n",
       "\\begin{array}{l}\n",
       "\\begin{array}{l|r|rrrrrrr||r||r|r|r}\n",
       "x_B & c_B &  &  &  & \\mspace{-16mu} B^{-1} &  &  &  & y & B^{-1} b & B^{-1} A_{x_{2}} & \\hbox{Ratio} \\\\\n",
       "\\hline\n",
       "x_{6} & 0 & 1 & -1 & 0 & 0 & 0 & 0 & 0 & 0 & \\frac{376}{375} & \\frac{1019}{1000} & \\frac{3008}{3057} \\\\\n",
       "x_{0} & -1 & 0 & -1 & 0 & 0 & 0 & 0 & 0 & 1 & \\frac{1}{375} & \\frac{19}{1000} & \\frac{8}{57} \\\\\n",
       "x_{8} & 0 & 0 & -1 & 1 & 0 & 0 & 0 & 0 & 0 & \\frac{3}{1000} & \\frac{4}{125} & \\frac{3}{32} \\\\\n",
       "x_{9} & 0 & 0 & -1 & 0 & 1 & 0 & 0 & 0 & 0 & \\frac{1}{200} & \\frac{1}{40} & \\frac{1}{5} \\\\\n",
       "x_{10} & 0 & 0 & -1 & 0 & 0 & 1 & 0 & 0 & 0 & \\frac{2}{375} & \\frac{19}{500} & \\frac{8}{57} \\\\\n",
       "x_{11} & 0 & 0 & -1 & 0 & 0 & 0 & 1 & 0 & 0 & \\frac{7}{3000} & \\frac{3}{500} & \\frac{7}{18} \\\\\n",
       "\\color{red} x_{12} & \\color{red} 0 & \\color{red} 0 & \\color{red} -1 & \\color{red} 0 & \\color{red} 0 & \\color{red} 0 & \\color{red} 0 & \\color{red} 1 & 0 & \\color{red} \\frac{1}{3000} & \\color{red} \\frac{13}{1000} & \\color{red} \\frac{1}{39} \\\\\n",
       "\\end{array}\\\\\n",
       "\\\\\n",
       "\\begin{array}{r|rrrrrr}\n",
       "x_N & x_{1} & \\color{green} x_{2} & x_{3} & x_{4} & x_{5} & x_{7} \\\\\n",
       "\\hline\n",
       "c_N^T & 0 & \\color{green} 0 & 0 & 0 & 0 & 0 \\\\\n",
       "\\hline\n",
       "y^T A_N & \\frac{107}{3000} & \\color{green} -\\frac{19}{1000} & -1 & 0 & 0 & 1 \\\\\n",
       "\\hline\n",
       "c_N^T - y^T A_N & -\\frac{107}{3000} & \\color{green} \\frac{19}{1000} & 1 & 0 & 0 & -1 \\\\\n",
       "\\end{array}\n",
       "\\end{array}\n",
       "\\end{equation*}\n",
       "Entering: $x_{2}$. Leaving: $x_{12}$. \n",
       "\\begin{equation*}\n",
       "B_\\mathrm{new}^{-1} = E^{-1} B_\\mathrm{old}^{-1} = \n",
       "\\left(\\begin{array}{rrrrrrr}\n",
       "1 & 0 & 0 & 0 & 0 & 0 & -\\frac{1019}{13} \\\\\n",
       "0 & 1 & 0 & 0 & 0 & 0 & -\\frac{19}{13} \\\\\n",
       "0 & 0 & 1 & 0 & 0 & 0 & -\\frac{32}{13} \\\\\n",
       "0 & 0 & 0 & 1 & 0 & 0 & -\\frac{25}{13} \\\\\n",
       "0 & 0 & 0 & 0 & 1 & 0 & -\\frac{38}{13} \\\\\n",
       "0 & 0 & 0 & 0 & 0 & 1 & -\\frac{6}{13} \\\\\n",
       "0 & 0 & 0 & 0 & 0 & 0 & \\frac{1000}{13}\n",
       "\\end{array}\\right)\n",
       "\\left(\\begin{array}{rrrrrrr}\n",
       "1 & -1 & 0 & 0 & 0 & 0 & 0 \\\\\n",
       "0 & -1 & 0 & 0 & 0 & 0 & 0 \\\\\n",
       "0 & -1 & 1 & 0 & 0 & 0 & 0 \\\\\n",
       "0 & -1 & 0 & 1 & 0 & 0 & 0 \\\\\n",
       "0 & -1 & 0 & 0 & 1 & 0 & 0 \\\\\n",
       "0 & -1 & 0 & 0 & 0 & 1 & 0 \\\\\n",
       "0 & -1 & 0 & 0 & 0 & 0 & 1\n",
       "\\end{array}\\right)\n",
       "\\end{equation*}\n",
       "\\begin{equation*}\n",
       "%notruncate\n",
       "\\renewcommand{\\arraystretch}{1.500000}\n",
       "\\begin{array}{l}\n",
       "\\begin{array}{l|r|rrrrrrr||r||r|r|r}\n",
       "x_B & c_B &  &  &  & \\mspace{-16mu} B^{-1} &  &  &  & y & B^{-1} b & B^{-1} A_{x_{5}} & \\hbox{Ratio} \\\\\n",
       "\\hline\n",
       "x_{6} & 0 & 1 & \\frac{1006}{13} & 0 & 0 & 0 & 0 & -\\frac{1019}{13} & 0 & \\frac{2539}{2600} & \\frac{1019}{13} & \\frac{2539}{203800} \\\\\n",
       "x_{0} & -1 & 0 & \\frac{6}{13} & 0 & 0 & 0 & 0 & -\\frac{19}{13} & -\\frac{6}{13} & \\frac{17}{7800} & \\frac{19}{13} & \\frac{17}{11400} \\\\\n",
       "\\color{red} x_{8} & \\color{red} 0 & \\color{red} 0 & \\color{red} \\frac{19}{13} & \\color{red} 1 & \\color{red} 0 & \\color{red} 0 & \\color{red} 0 & \\color{red} -\\frac{32}{13} & 0 & \\color{red} \\frac{17}{7800} & \\color{red} \\frac{32}{13} & \\color{red} \\frac{17}{19200} \\\\\n",
       "x_{9} & 0 & 0 & \\frac{12}{13} & 0 & 1 & 0 & 0 & -\\frac{25}{13} & 0 & \\frac{17}{3900} & \\frac{12}{13} & \\frac{17}{3600} \\\\\n",
       "x_{10} & 0 & 0 & \\frac{25}{13} & 0 & 0 & 1 & 0 & -\\frac{38}{13} & 0 & \\frac{17}{3900} & \\frac{38}{13} & \\frac{17}{11400} \\\\\n",
       "x_{11} & 0 & 0 & -\\frac{7}{13} & 0 & 0 & 0 & 1 & -\\frac{6}{13} & 0 & \\frac{17}{7800} & \\frac{6}{13} & \\frac{17}{3600} \\\\\n",
       "x_{2} & 0 & 0 & -\\frac{1000}{13} & 0 & 0 & 0 & 0 & \\frac{1000}{13} & \\frac{19}{13} & \\frac{1}{39} & -\\frac{1000}{13} \\\\\n",
       "\\end{array}\\\\\n",
       "\\\\\n",
       "\\begin{array}{r|rrrrrr}\n",
       "x_N & x_{1} & x_{3} & x_{4} & \\color{green} x_{5} & x_{7} & x_{12} \\\\\n",
       "\\hline\n",
       "c_N^T & 0 & 0 & 0 & \\color{green} 0 & 0 & 0 \\\\\n",
       "\\hline\n",
       "y^T A_N & \\frac{631}{39000} & \\frac{6}{13} & 0 & \\color{green} -\\frac{19}{13} & -\\frac{6}{13} & \\frac{19}{13} \\\\\n",
       "\\hline\n",
       "c_N^T - y^T A_N & -\\frac{631}{39000} & -\\frac{6}{13} & 0 & \\color{green} \\frac{19}{13} & \\frac{6}{13} & -\\frac{19}{13} \\\\\n",
       "\\end{array}\n",
       "\\end{array}\n",
       "\\end{equation*}\n",
       "Entering: $x_{5}$. Leaving: $x_{8}$. \n",
       "\\begin{equation*}\n",
       "B_\\mathrm{new}^{-1} = E^{-1} B_\\mathrm{old}^{-1} = \n",
       "\\left(\\begin{array}{rrrrrrr}\n",
       "1 & 0 & -\\frac{1019}{32} & 0 & 0 & 0 & 0 \\\\\n",
       "0 & 1 & -\\frac{19}{32} & 0 & 0 & 0 & 0 \\\\\n",
       "0 & 0 & \\frac{13}{32} & 0 & 0 & 0 & 0 \\\\\n",
       "0 & 0 & -\\frac{3}{8} & 1 & 0 & 0 & 0 \\\\\n",
       "0 & 0 & -\\frac{19}{16} & 0 & 1 & 0 & 0 \\\\\n",
       "0 & 0 & -\\frac{3}{16} & 0 & 0 & 1 & 0 \\\\\n",
       "0 & 0 & \\frac{125}{4} & 0 & 0 & 0 & 1\n",
       "\\end{array}\\right)\n",
       "\\left(\\begin{array}{rrrrrrr}\n",
       "1 & \\frac{1006}{13} & 0 & 0 & 0 & 0 & -\\frac{1019}{13} \\\\\n",
       "0 & \\frac{6}{13} & 0 & 0 & 0 & 0 & -\\frac{19}{13} \\\\\n",
       "0 & \\frac{19}{13} & 1 & 0 & 0 & 0 & -\\frac{32}{13} \\\\\n",
       "0 & \\frac{12}{13} & 0 & 1 & 0 & 0 & -\\frac{25}{13} \\\\\n",
       "0 & \\frac{25}{13} & 0 & 0 & 1 & 0 & -\\frac{38}{13} \\\\\n",
       "0 & -\\frac{7}{13} & 0 & 0 & 0 & 1 & -\\frac{6}{13} \\\\\n",
       "0 & -\\frac{1000}{13} & 0 & 0 & 0 & 0 & \\frac{1000}{13}\n",
       "\\end{array}\\right)\n",
       "\\end{equation*}\n",
       "\\begin{equation*}\n",
       "%notruncate\n",
       "\\renewcommand{\\arraystretch}{1.500000}\n",
       "\\begin{array}{l}\n",
       "\\begin{array}{l|r|rrrrrrr||r||r|r|r}\n",
       "x_B & c_B &  &  &  & \\mspace{-16mu} B^{-1} &  &  &  & y & B^{-1} b & B^{-1} A_{x_{3}} & \\hbox{Ratio} \\\\\n",
       "\\hline\n",
       "x_{6} & 0 & 1 & \\frac{987}{32} & -\\frac{1019}{32} & 0 & 0 & 0 & 0 & 0 & \\frac{17417}{19200} & -\\frac{987}{32} \\\\\n",
       "\\color{red} x_{0} & \\color{red} -1 & \\color{red} 0 & \\color{red} -\\frac{13}{32} & \\color{red} -\\frac{19}{32} & \\color{red} 0 & \\color{red} 0 & \\color{red} 0 & \\color{red} 0 & \\frac{13}{32} & \\color{red} \\frac{17}{19200} & \\color{red} \\frac{13}{32} & \\color{red} \\frac{17}{7800} \\\\\n",
       "x_{5} & 0 & 0 & \\frac{19}{32} & \\frac{13}{32} & 0 & 0 & 0 & -1 & \\frac{19}{32} & \\frac{17}{19200} & -\\frac{19}{32} \\\\\n",
       "x_{9} & 0 & 0 & \\frac{3}{8} & -\\frac{3}{8} & 1 & 0 & 0 & -1 & 0 & \\frac{17}{4800} & -\\frac{3}{8} \\\\\n",
       "x_{10} & 0 & 0 & \\frac{3}{16} & -\\frac{19}{16} & 0 & 1 & 0 & 0 & 0 & \\frac{17}{9600} & -\\frac{19}{16} \\\\\n",
       "x_{11} & 0 & 0 & -\\frac{13}{16} & -\\frac{3}{16} & 0 & 0 & 1 & 0 & 0 & \\frac{17}{9600} & \\frac{13}{16} & \\frac{17}{7800} \\\\\n",
       "x_{2} & 0 & 0 & -\\frac{125}{4} & \\frac{125}{4} & 0 & 0 & 0 & 0 & 0 & \\frac{3}{32} & \\frac{125}{4} & \\frac{3}{1000} \\\\\n",
       "\\end{array}\\\\\n",
       "\\\\\n",
       "\\begin{array}{r|rrrrrr}\n",
       "x_N & x_{1} & \\color{green} x_{3} & x_{4} & x_{7} & x_{8} & x_{12} \\\\\n",
       "\\hline\n",
       "c_N^T & 0 & \\color{green} 0 & 0 & 0 & 0 & 0 \\\\\n",
       "\\hline\n",
       "y^T A_N & \\frac{631}{96000} & \\color{green} -\\frac{13}{32} & -\\frac{19}{32} & \\frac{13}{32} & \\frac{19}{32} & 0 \\\\\n",
       "\\hline\n",
       "c_N^T - y^T A_N & -\\frac{631}{96000} & \\color{green} \\frac{13}{32} & \\frac{19}{32} & -\\frac{13}{32} & -\\frac{19}{32} & 0 \\\\\n",
       "\\end{array}\n",
       "\\end{array}\n",
       "\\end{equation*}\n",
       "Entering: $x_{3}$. Leaving: $x_{0}$. \n",
       "\\begin{equation*}\n",
       "B_\\mathrm{new}^{-1} = E^{-1} B_\\mathrm{old}^{-1} = \n",
       "\\left(\\begin{array}{rrrrrrr}\n",
       "1 & \\frac{987}{13} & 0 & 0 & 0 & 0 & 0 \\\\\n",
       "0 & \\frac{32}{13} & 0 & 0 & 0 & 0 & 0 \\\\\n",
       "0 & \\frac{19}{13} & 1 & 0 & 0 & 0 & 0 \\\\\n",
       "0 & \\frac{12}{13} & 0 & 1 & 0 & 0 & 0 \\\\\n",
       "0 & \\frac{38}{13} & 0 & 0 & 1 & 0 & 0 \\\\\n",
       "0 & -2 & 0 & 0 & 0 & 1 & 0 \\\\\n",
       "0 & -\\frac{1000}{13} & 0 & 0 & 0 & 0 & 1\n",
       "\\end{array}\\right)\n",
       "\\left(\\begin{array}{rrrrrrr}\n",
       "1 & \\frac{987}{32} & -\\frac{1019}{32} & 0 & 0 & 0 & 0 \\\\\n",
       "0 & -\\frac{13}{32} & -\\frac{19}{32} & 0 & 0 & 0 & 0 \\\\\n",
       "0 & \\frac{19}{32} & \\frac{13}{32} & 0 & 0 & 0 & -1 \\\\\n",
       "0 & \\frac{3}{8} & -\\frac{3}{8} & 1 & 0 & 0 & -1 \\\\\n",
       "0 & \\frac{3}{16} & -\\frac{19}{16} & 0 & 1 & 0 & 0 \\\\\n",
       "0 & -\\frac{13}{16} & -\\frac{3}{16} & 0 & 0 & 1 & 0 \\\\\n",
       "0 & -\\frac{125}{4} & \\frac{125}{4} & 0 & 0 & 0 & 0\n",
       "\\end{array}\\right)\n",
       "\\end{equation*}\n",
       "\\begin{equation*}\n",
       "%notruncate\n",
       "\\renewcommand{\\arraystretch}{1.500000}\n",
       "\\begin{array}{l}\n",
       "\\begin{array}{l|r|rrrrrrr||r||r|r|r}\n",
       "x_B & c_B &  &  &  & \\mspace{-16mu} B^{-1} &  &  &  & y & B^{-1} b & B^{-1} A_{x_{1}} & \\hbox{Ratio} \\\\\n",
       "\\hline\n",
       "\\color{red} x_{6} & \\color{red} 0 & \\color{red} 1 & \\color{red} 0 & \\color{red} -\\frac{1000}{13} & \\color{red} 0 & \\color{red} 0 & \\color{red} 0 & \\color{red} 0 & 0 & \\color{red} \\frac{38}{39} & \\color{red} \\frac{79}{39} & \\color{red} \\frac{38}{79} \\\\\n",
       "x_{3} & -\\frac{1}{3} & 0 & -1 & -\\frac{19}{13} & 0 & 0 & 0 & 0 & \\frac{1}{3} & \\frac{17}{7800} & -\\frac{631}{39000} \\\\\n",
       "x_{5} & -\\frac{1}{3} & 0 & 0 & -\\frac{6}{13} & 0 & 0 & 0 & -1 & \\frac{25}{13} \\mu + \\frac{25}{39} & \\frac{17}{7800} & -\\frac{631}{39000} \\\\\n",
       "x_{9} & 0 & 0 & 0 & -\\frac{12}{13} & 1 & 0 & 0 & -1 & 0 & \\frac{17}{3900} & -\\frac{631}{19500} \\\\\n",
       "x_{10} & 0 & 0 & -1 & -\\frac{38}{13} & 0 & 1 & 0 & 0 & 0 & \\frac{17}{3900} & -\\frac{631}{19500} \\\\\n",
       "x_{11} & 0 & 0 & 0 & 1 & 0 & 0 & 1 & 0 & 0 & 0 & 0 \\\\\n",
       "x_{2} & \\frac{1}{40} \\mu & 0 & 0 & \\frac{1000}{13} & 0 & 0 & 0 & 0 & \\frac{1}{3} & \\frac{1}{39} & -\\frac{40}{39} \\\\\n",
       "\\end{array}\\\\\n",
       "\\\\\n",
       "\\begin{array}{r|rrrrr}\n",
       "x_N & \\color{green} x_{1} & x_{4} & x_{7} & x_{8} & x_{12} \\\\\n",
       "\\hline\n",
       "c_N^T & \\color{green} \\frac{13}{375} \\mu & -\\frac{1}{3} & 0 & 0 & 0 \\\\\n",
       "\\hline\n",
       "y^T A_N & \\color{green} -\\frac{1}{39} \\mu + \\frac{631}{58500} & -\\frac{25}{13} \\mu - \\frac{25}{39} & \\frac{1}{3} & \\frac{25}{13} \\mu + \\frac{25}{39} & \\frac{1}{3} \\\\\n",
       "\\hline\n",
       "c_N^T - y^T A_N & \\color{green} \\frac{98}{1625} \\mu - \\frac{631}{58500} & \\frac{25}{13} \\mu + \\frac{4}{13} & -\\frac{1}{3} & -\\frac{25}{13} \\mu - \\frac{25}{39} & -\\frac{1}{3} \\\\\n",
       "\\end{array}\n",
       "\\end{array}\n",
       "\\end{equation*}\n",
       "Entering: $x_{1}$. Leaving: $x_{6}$. \n",
       "\\begin{equation*}\n",
       "B_\\mathrm{new}^{-1} = E^{-1} B_\\mathrm{old}^{-1} = \n",
       "\\left(\\begin{array}{rrrrrrr}\n",
       "\\frac{39}{79} & 0 & 0 & 0 & 0 & 0 & 0 \\\\\n",
       "\\frac{631}{79000} & 1 & 0 & 0 & 0 & 0 & 0 \\\\\n",
       "\\frac{631}{79000} & 0 & 1 & 0 & 0 & 0 & 0 \\\\\n",
       "\\frac{631}{39500} & 0 & 0 & 1 & 0 & 0 & 0 \\\\\n",
       "\\frac{631}{39500} & 0 & 0 & 0 & 1 & 0 & 0 \\\\\n",
       "0 & 0 & 0 & 0 & 0 & 1 & 0 \\\\\n",
       "\\frac{40}{79} & 0 & 0 & 0 & 0 & 0 & 1\n",
       "\\end{array}\\right)\n",
       "\\left(\\begin{array}{rrrrrrr}\n",
       "1 & 0 & -\\frac{1000}{13} & 0 & 0 & 0 & 0 \\\\\n",
       "0 & -1 & -\\frac{19}{13} & 0 & 0 & 0 & 0 \\\\\n",
       "0 & 0 & -\\frac{6}{13} & 0 & 0 & 0 & -1 \\\\\n",
       "0 & 0 & -\\frac{12}{13} & 1 & 0 & 0 & -1 \\\\\n",
       "0 & -1 & -\\frac{38}{13} & 0 & 1 & 0 & 0 \\\\\n",
       "0 & 0 & 1 & 0 & 0 & 1 & 0 \\\\\n",
       "0 & 0 & \\frac{1000}{13} & 0 & 0 & 0 & 0\n",
       "\\end{array}\\right)\n",
       "\\end{equation*}\n",
       "\\begin{equation*}\n",
       "%notruncate\n",
       "\\renewcommand{\\arraystretch}{1.500000}\n",
       "\\begin{array}{l}\n",
       "\\begin{array}{l|r|rrrrrrr||r||r|r|r}\n",
       "x_B & c_B &  &  &  & \\mspace{-16mu} B^{-1} &  &  &  & y & B^{-1} b & B^{-1} A_{x_{4}} & \\hbox{Ratio} \\\\\n",
       "\\hline\n",
       "x_{1} & \\frac{13}{375} \\mu & \\frac{39}{79} & 0 & -\\frac{3000}{79} & 0 & 0 & 0 & 0 & \\frac{294}{9875} \\mu - \\frac{631}{118500} & \\frac{38}{79} & \\frac{3000}{79} & \\frac{19}{1500} \\\\\n",
       "\\color{red} x_{3} & \\color{red} -\\frac{1}{3} & \\color{red} \\frac{631}{79000} & \\color{red} -1 & \\color{red} -\\frac{164}{79} & \\color{red} 0 & \\color{red} 0 & \\color{red} 0 & \\color{red} 0 & \\frac{1}{3} & \\color{red} \\frac{787}{79000} & \\color{red} \\frac{164}{79} & \\color{red} \\frac{787}{164000} \\\\\n",
       "x_{5} & -\\frac{1}{3} & \\frac{631}{79000} & 0 & -\\frac{85}{79} & 0 & 0 & 0 & -1 & -\\frac{29}{79} \\mu + \\frac{83}{79} & \\frac{787}{79000} & \\frac{85}{79} & \\frac{787}{85000} \\\\\n",
       "x_{9} & 0 & \\frac{631}{39500} & 0 & -\\frac{170}{79} & 1 & 0 & 0 & -1 & 0 & \\frac{787}{39500} & \\frac{170}{79} & \\frac{787}{85000} \\\\\n",
       "x_{10} & 0 & \\frac{631}{39500} & -1 & -\\frac{328}{79} & 0 & 1 & 0 & 0 & 0 & \\frac{787}{39500} & \\frac{328}{79} & \\frac{787}{164000} \\\\\n",
       "x_{11} & 0 & 0 & 0 & 1 & 0 & 0 & 1 & 0 & 0 & 0 & -2 \\\\\n",
       "x_{2} & \\frac{1}{40} \\mu & \\frac{40}{79} & 0 & \\frac{3000}{79} & 0 & 0 & 0 & 0 & \\frac{1}{3} & \\frac{41}{79} & -\\frac{3000}{79} \\\\\n",
       "\\end{array}\\\\\n",
       "\\\\\n",
       "\\begin{array}{r|rrrrr}\n",
       "x_N & \\color{green} x_{4} & x_{6} & x_{7} & x_{8} & x_{12} \\\\\n",
       "\\hline\n",
       "c_N^T & \\color{green} -\\frac{1}{3} & 0 & 0 & 0 & 0 \\\\\n",
       "\\hline\n",
       "y^T A_N & \\color{green} \\frac{29}{79} \\mu - \\frac{83}{79} & \\frac{294}{9875} \\mu - \\frac{631}{118500} & \\frac{1}{3} & -\\frac{29}{79} \\mu + \\frac{83}{79} & \\frac{1}{3} \\\\\n",
       "\\hline\n",
       "c_N^T - y^T A_N & \\color{green} -\\frac{29}{79} \\mu + \\frac{170}{237} & -\\frac{294}{9875} \\mu + \\frac{631}{118500} & -\\frac{1}{3} & \\frac{29}{79} \\mu - \\frac{83}{79} & -\\frac{1}{3} \\\\\n",
       "\\end{array}\n",
       "\\end{array}\n",
       "\\end{equation*}\n",
       "Entering: $x_{4}$. Leaving: $x_{3}$. \n",
       "\\begin{equation*}\n",
       "B_\\mathrm{new}^{-1} = E^{-1} B_\\mathrm{old}^{-1} = \n",
       "\\left(\\begin{array}{rrrrrrr}\n",
       "1 & -\\frac{750}{41} & 0 & 0 & 0 & 0 & 0 \\\\\n",
       "0 & \\frac{79}{164} & 0 & 0 & 0 & 0 & 0 \\\\\n",
       "0 & -\\frac{85}{164} & 1 & 0 & 0 & 0 & 0 \\\\\n",
       "0 & -\\frac{85}{82} & 0 & 1 & 0 & 0 & 0 \\\\\n",
       "0 & -2 & 0 & 0 & 1 & 0 & 0 \\\\\n",
       "0 & \\frac{79}{82} & 0 & 0 & 0 & 1 & 0 \\\\\n",
       "0 & \\frac{750}{41} & 0 & 0 & 0 & 0 & 1\n",
       "\\end{array}\\right)\n",
       "\\left(\\begin{array}{rrrrrrr}\n",
       "\\frac{39}{79} & 0 & -\\frac{3000}{79} & 0 & 0 & 0 & 0 \\\\\n",
       "\\frac{631}{79000} & -1 & -\\frac{164}{79} & 0 & 0 & 0 & 0 \\\\\n",
       "\\frac{631}{79000} & 0 & -\\frac{85}{79} & 0 & 0 & 0 & -1 \\\\\n",
       "\\frac{631}{39500} & 0 & -\\frac{170}{79} & 1 & 0 & 0 & -1 \\\\\n",
       "\\frac{631}{39500} & -1 & -\\frac{328}{79} & 0 & 1 & 0 & 0 \\\\\n",
       "0 & 0 & 1 & 0 & 0 & 1 & 0 \\\\\n",
       "\\frac{40}{79} & 0 & \\frac{3000}{79} & 0 & 0 & 0 & 0\n",
       "\\end{array}\\right)\n",
       "\\end{equation*}\n",
       "\\begin{equation*}\n",
       "%notruncate\n",
       "\\renewcommand{\\arraystretch}{1.500000}\n",
       "\\begin{array}{l}\n",
       "\\begin{array}{l|r|rrrrrrr||r||r}\n",
       "x_B & c_B &  &  &  & \\mspace{-16mu} B^{-1} &  &  &  & y & B^{-1} b \\\\\n",
       "\\hline\n",
       "x_{1} & \\frac{13}{375} \\mu & \\frac{57}{164} & \\frac{750}{41} & 0 & 0 & 0 & 0 & 0 & \\frac{4651}{164000} \\mu - \\frac{631}{246000} & \\frac{49}{164} \\\\\n",
       "x_{4} & -\\frac{1}{3} & \\frac{631}{164000} & -\\frac{79}{164} & -1 & 0 & 0 & 0 & 0 & \\frac{29}{164} \\mu - \\frac{1}{82} & \\frac{787}{164000} \\\\\n",
       "x_{5} & -\\frac{1}{3} & \\frac{631}{164000} & \\frac{85}{164} & 0 & 0 & 0 & 0 & -1 & \\frac{1}{3} & \\frac{787}{164000} \\\\\n",
       "x_{9} & 0 & \\frac{631}{82000} & \\frac{85}{82} & 0 & 1 & 0 & 0 & -1 & 0 & \\frac{787}{82000} \\\\\n",
       "x_{10} & 0 & 0 & 1 & 0 & 0 & 1 & 0 & 0 & 0 & 0 \\\\\n",
       "x_{11} & 0 & \\frac{631}{82000} & -\\frac{79}{82} & -1 & 0 & 0 & 1 & 0 & 0 & \\frac{787}{82000} \\\\\n",
       "x_{2} & \\frac{1}{40} \\mu & \\frac{107}{164} & -\\frac{750}{41} & 0 & 0 & 0 & 0 & 0 & \\frac{1}{3} & \\frac{115}{164} \\\\\n",
       "\\end{array}\\\\\n",
       "\\\\\n",
       "\\begin{array}{r|rrrrr}\n",
       "x_N & x_{3} & x_{6} & x_{7} & x_{8} & x_{12} \\\\\n",
       "\\hline\n",
       "c_N^T & -\\frac{1}{3} & 0 & 0 & 0 & 0 \\\\\n",
       "\\hline\n",
       "y^T A_N & -\\frac{29}{164} \\mu + \\frac{1}{82} & \\frac{4651}{164000} \\mu - \\frac{631}{246000} & \\frac{29}{164} \\mu - \\frac{1}{82} & \\frac{1}{3} & \\frac{1}{3} \\\\\n",
       "\\hline\n",
       "c_N^T - y^T A_N & \\frac{29}{164} \\mu - \\frac{85}{246} & -\\frac{4651}{164000} \\mu + \\frac{631}{246000} & -\\frac{29}{164} \\mu + \\frac{1}{82} & -\\frac{1}{3} & -\\frac{1}{3} \\\\\n",
       "\\end{array}\n",
       "\\end{array}\n",
       "\\end{equation*}\n",
       "The optimal value: $\\frac{169011}{164000} \\mu - \\frac{787}{246000}$. An optimal solution: $\\left(\\frac{49}{164},\\,\\frac{115}{164},\\,0,\\,\\frac{787}{164000},\\,\\frac{787}{164000}\\right)$."
      ],
      "text/plain": [
       "\\begin{equation*}\n",
       "%notruncate\n",
       "\\renewcommand{\\arraystretch}{1.500000}\n",
       "\\begin{array}{l}\n",
       "\\begin{array}{l|r|rrrrrrr||r||r|r|r}\n",
       "x_B & c_B &  &  &  & \\mspace{-16mu} B^{-1} &  &  &  & y & B^{-1} b & B^{-1} A_{x_{2}} & \\hbox{Ratio} \\\\\n",
       "\\hline\n",
       "x_{6} & 0 & 1 & -1 & 0 & 0 & 0 & 0 & 0 & 0 & \\frac{376}{375} & \\frac{1019}{1000} & \\frac{3008}{3057} \\\\\n",
       "x_{0} & -1 & 0 & -1 & 0 & 0 & 0 & 0 & 0 & 1 & \\frac{1}{375} & \\frac{19}{1000} & \\frac{8}{57} \\\\\n",
       "x_{8} & 0 & 0 & -1 & 1 & 0 & 0 & 0 & 0 & 0 & \\frac{3}{1000} & \\frac{4}{125} & \\frac{3}{32} \\\\\n",
       "x_{9} & 0 & 0 & -1 & 0 & 1 & 0 & 0 & 0 & 0 & \\frac{1}{200} & \\frac{1}{40} & \\frac{1}{5} \\\\\n",
       "x_{10} & 0 & 0 & -1 & 0 & 0 & 1 & 0 & 0 & 0 & \\frac{2}{375} & \\frac{19}{500} & \\frac{8}{57} \\\\\n",
       "x_{11} & 0 & 0 & -1 & 0 & 0 & 0 & 1 & 0 & 0 & \\frac{7}{3000} & \\frac{3}{500} & \\frac{7}{18} \\\\\n",
       "\\color{red} x_{12} & \\color{red} 0 & \\color{red} 0 & \\color{red} -1 & \\color{red} 0 & \\color{red} 0 & \\color{red} 0 & \\color{red} 0 & \\color{red} 1 & 0 & \\color{red} \\frac{1}{3000} & \\color{red} \\frac{13}{1000} & \\color{red} \\frac{1}{39} \\\\\n",
       "\\end{array}\\\\\n",
       "\\\\\n",
       "\\begin{array}{r|rrrrrr}\n",
       "x_N & x_{1} & \\color{green} x_{2} & x_{3} & x_{4} & x_{5} & x_{7} \\\\\n",
       "\\hline\n",
       "c_N^T & 0 & \\color{green} 0 & 0 & 0 & 0 & 0 \\\\\n",
       "\\hline\n",
       "y^T A_N & \\frac{107}{3000} & \\color{green} -\\frac{19}{1000} & -1 & 0 & 0 & 1 \\\\\n",
       "\\hline\n",
       "c_N^T - y^T A_N & -\\frac{107}{3000} & \\color{green} \\frac{19}{1000} & 1 & 0 & 0 & -1 \\\\\n",
       "\\end{array}\n",
       "\\end{array}\n",
       "\\end{equation*}\n",
       "Entering: $x_{2}$. Leaving: $x_{12}$. \n",
       "\\begin{equation*}\n",
       "B_\\mathrm{new}^{-1} = E^{-1} B_\\mathrm{old}^{-1} = \n",
       "\\left(\\begin{array}{rrrrrrr}\n",
       "1 & 0 & 0 & 0 & 0 & 0 & -\\frac{1019}{13} \\\\\n",
       "0 & 1 & 0 & 0 & 0 & 0 & -\\frac{19}{13} \\\\\n",
       "0 & 0 & 1 & 0 & 0 & 0 & -\\frac{32}{13} \\\\\n",
       "0 & 0 & 0 & 1 & 0 & 0 & -\\frac{25}{13} \\\\\n",
       "0 & 0 & 0 & 0 & 1 & 0 & -\\frac{38}{13} \\\\\n",
       "0 & 0 & 0 & 0 & 0 & 1 & -\\frac{6}{13} \\\\\n",
       "0 & 0 & 0 & 0 & 0 & 0 & \\frac{1000}{13}\n",
       "\\end{array}\\right)\n",
       "\\left(\\begin{array}{rrrrrrr}\n",
       "1 & -1 & 0 & 0 & 0 & 0 & 0 \\\\\n",
       "0 & -1 & 0 & 0 & 0 & 0 & 0 \\\\\n",
       "0 & -1 & 1 & 0 & 0 & 0 & 0 \\\\\n",
       "0 & -1 & 0 & 1 & 0 & 0 & 0 \\\\\n",
       "0 & -1 & 0 & 0 & 1 & 0 & 0 \\\\\n",
       "0 & -1 & 0 & 0 & 0 & 1 & 0 \\\\\n",
       "0 & -1 & 0 & 0 & 0 & 0 & 1\n",
       "\\end{array}\\right)\n",
       "\\end{equation*}\n",
       "\\begin{equation*}\n",
       "%notruncate\n",
       "\\renewcommand{\\arraystretch}{1.500000}\n",
       "\\begin{array}{l}\n",
       "\\begin{array}{l|r|rrrrrrr||r||r|r|r}\n",
       "x_B & c_B &  &  &  & \\mspace{-16mu} B^{-1} &  &  &  & y & B^{-1} b & B^{-1} A_{x_{5}} & \\hbox{Ratio} \\\\\n",
       "\\hline\n",
       "x_{6} & 0 & 1 & \\frac{1006}{13} & 0 & 0 & 0 & 0 & -\\frac{1019}{13} & 0 & \\frac{2539}{2600} & \\frac{1019}{13} & \\frac{2539}{203800} \\\\\n",
       "x_{0} & -1 & 0 & \\frac{6}{13} & 0 & 0 & 0 & 0 & -\\frac{19}{13} & -\\frac{6}{13} & \\frac{17}{7800} & \\frac{19}{13} & \\frac{17}{11400} \\\\\n",
       "\\color{red} x_{8} & \\color{red} 0 & \\color{red} 0 & \\color{red} \\frac{19}{13} & \\color{red} 1 & \\color{red} 0 & \\color{red} 0 & \\color{red} 0 & \\color{red} -\\frac{32}{13} & 0 & \\color{red} \\frac{17}{7800} & \\color{red} \\frac{32}{13} & \\color{red} \\frac{17}{19200} \\\\\n",
       "x_{9} & 0 & 0 & \\frac{12}{13} & 0 & 1 & 0 & 0 & -\\frac{25}{13} & 0 & \\frac{17}{3900} & \\frac{12}{13} & \\frac{17}{3600} \\\\\n",
       "x_{10} & 0 & 0 & \\frac{25}{13} & 0 & 0 & 1 & 0 & -\\frac{38}{13} & 0 & \\frac{17}{3900} & \\frac{38}{13} & \\frac{17}{11400} \\\\\n",
       "x_{11} & 0 & 0 & -\\frac{7}{13} & 0 & 0 & 0 & 1 & -\\frac{6}{13} & 0 & \\frac{17}{7800} & \\frac{6}{13} & \\frac{17}{3600} \\\\\n",
       "x_{2} & 0 & 0 & -\\frac{1000}{13} & 0 & 0 & 0 & 0 & \\frac{1000}{13} & \\frac{19}{13} & \\frac{1}{39} & -\\frac{1000}{13} \\\\\n",
       "\\end{array}\\\\\n",
       "\\\\\n",
       "\\begin{array}{r|rrrrrr}\n",
       "x_N & x_{1} & x_{3} & x_{4} & \\color{green} x_{5} & x_{7} & x_{12} \\\\\n",
       "\\hline\n",
       "c_N^T & 0 & 0 & 0 & \\color{green} 0 & 0 & 0 \\\\\n",
       "\\hline\n",
       "y^T A_N & \\frac{631}{39000} & \\frac{6}{13} & 0 & \\color{green} -\\frac{19}{13} & -\\frac{6}{13} & \\frac{19}{13} \\\\\n",
       "\\hline\n",
       "c_N^T - y^T A_N & -\\frac{631}{39000} & -\\frac{6}{13} & 0 & \\color{green} \\frac{19}{13} & \\frac{6}{13} & -\\frac{19}{13} \\\\\n",
       "\\end{array}\n",
       "\\end{array}\n",
       "\\end{equation*}\n",
       "Entering: $x_{5}$. Leaving: $x_{8}$. \n",
       "\\begin{equation*}\n",
       "B_\\mathrm{new}^{-1} = E^{-1} B_\\mathrm{old}^{-1} = \n",
       "\\left(\\begin{array}{rrrrrrr}\n",
       "1 & 0 & -\\frac{1019}{32} & 0 & 0 & 0 & 0 \\\\\n",
       "0 & 1 & -\\frac{19}{32} & 0 & 0 & 0 & 0 \\\\\n",
       "0 & 0 & \\frac{13}{32} & 0 & 0 & 0 & 0 \\\\\n",
       "0 & 0 & -\\frac{3}{8} & 1 & 0 & 0 & 0 \\\\\n",
       "0 & 0 & -\\frac{19}{16} & 0 & 1 & 0 & 0 \\\\\n",
       "0 & 0 & -\\frac{3}{16} & 0 & 0 & 1 & 0 \\\\\n",
       "0 & 0 & \\frac{125}{4} & 0 & 0 & 0 & 1\n",
       "\\end{array}\\right)\n",
       "\\left(\\begin{array}{rrrrrrr}\n",
       "1 & \\frac{1006}{13} & 0 & 0 & 0 & 0 & -\\frac{1019}{13} \\\\\n",
       "0 & \\frac{6}{13} & 0 & 0 & 0 & 0 & -\\frac{19}{13} \\\\\n",
       "0 & \\frac{19}{13} & 1 & 0 & 0 & 0 & -\\frac{32}{13} \\\\\n",
       "0 & \\frac{12}{13} & 0 & 1 & 0 & 0 & -\\frac{25}{13} \\\\\n",
       "0 & \\frac{25}{13} & 0 & 0 & 1 & 0 & -\\frac{38}{13} \\\\\n",
       "0 & -\\frac{7}{13} & 0 & 0 & 0 & 1 & -\\frac{6}{13} \\\\\n",
       "0 & -\\frac{1000}{13} & 0 & 0 & 0 & 0 & \\frac{1000}{13}\n",
       "\\end{array}\\right)\n",
       "\\end{equation*}\n",
       "\\begin{equation*}\n",
       "%notruncate\n",
       "\\renewcommand{\\arraystretch}{1.500000}\n",
       "\\begin{array}{l}\n",
       "\\begin{array}{l|r|rrrrrrr||r||r|r|r}\n",
       "x_B & c_B &  &  &  & \\mspace{-16mu} B^{-1} &  &  &  & y & B^{-1} b & B^{-1} A_{x_{3}} & \\hbox{Ratio} \\\\\n",
       "\\hline\n",
       "x_{6} & 0 & 1 & \\frac{987}{32} & -\\frac{1019}{32} & 0 & 0 & 0 & 0 & 0 & \\frac{17417}{19200} & -\\frac{987}{32} \\\\\n",
       "\\color{red} x_{0} & \\color{red} -1 & \\color{red} 0 & \\color{red} -\\frac{13}{32} & \\color{red} -\\frac{19}{32} & \\color{red} 0 & \\color{red} 0 & \\color{red} 0 & \\color{red} 0 & \\frac{13}{32} & \\color{red} \\frac{17}{19200} & \\color{red} \\frac{13}{32} & \\color{red} \\frac{17}{7800} \\\\\n",
       "x_{5} & 0 & 0 & \\frac{19}{32} & \\frac{13}{32} & 0 & 0 & 0 & -1 & \\frac{19}{32} & \\frac{17}{19200} & -\\frac{19}{32} \\\\\n",
       "x_{9} & 0 & 0 & \\frac{3}{8} & -\\frac{3}{8} & 1 & 0 & 0 & -1 & 0 & \\frac{17}{4800} & -\\frac{3}{8} \\\\\n",
       "x_{10} & 0 & 0 & \\frac{3}{16} & -\\frac{19}{16} & 0 & 1 & 0 & 0 & 0 & \\frac{17}{9600} & -\\frac{19}{16} \\\\\n",
       "x_{11} & 0 & 0 & -\\frac{13}{16} & -\\frac{3}{16} & 0 & 0 & 1 & 0 & 0 & \\frac{17}{9600} & \\frac{13}{16} & \\frac{17}{7800} \\\\\n",
       "x_{2} & 0 & 0 & -\\frac{125}{4} & \\frac{125}{4} & 0 & 0 & 0 & 0 & 0 & \\frac{3}{32} & \\frac{125}{4} & \\frac{3}{1000} \\\\\n",
       "\\end{array}\\\\\n",
       "\\\\\n",
       "\\begin{array}{r|rrrrrr}\n",
       "x_N & x_{1} & \\color{green} x_{3} & x_{4} & x_{7} & x_{8} & x_{12} \\\\\n",
       "\\hline\n",
       "c_N^T & 0 & \\color{green} 0 & 0 & 0 & 0 & 0 \\\\\n",
       "\\hline\n",
       "y^T A_N & \\frac{631}{96000} & \\color{green} -\\frac{13}{32} & -\\frac{19}{32} & \\frac{13}{32} & \\frac{19}{32} & 0 \\\\\n",
       "\\hline\n",
       "c_N^T - y^T A_N & -\\frac{631}{96000} & \\color{green} \\frac{13}{32} & \\frac{19}{32} & -\\frac{13}{32} & -\\frac{19}{32} & 0 \\\\\n",
       "\\end{array}\n",
       "\\end{array}\n",
       "\\end{equation*}\n",
       "Entering: $x_{3}$. Leaving: $x_{0}$. \n",
       "\\begin{equation*}\n",
       "B_\\mathrm{new}^{-1} = E^{-1} B_\\mathrm{old}^{-1} = \n",
       "\\left(\\begin{array}{rrrrrrr}\n",
       "1 & \\frac{987}{13} & 0 & 0 & 0 & 0 & 0 \\\\\n",
       "0 & \\frac{32}{13} & 0 & 0 & 0 & 0 & 0 \\\\\n",
       "0 & \\frac{19}{13} & 1 & 0 & 0 & 0 & 0 \\\\\n",
       "0 & \\frac{12}{13} & 0 & 1 & 0 & 0 & 0 \\\\\n",
       "0 & \\frac{38}{13} & 0 & 0 & 1 & 0 & 0 \\\\\n",
       "0 & -2 & 0 & 0 & 0 & 1 & 0 \\\\\n",
       "0 & -\\frac{1000}{13} & 0 & 0 & 0 & 0 & 1\n",
       "\\end{array}\\right)\n",
       "\\left(\\begin{array}{rrrrrrr}\n",
       "1 & \\frac{987}{32} & -\\frac{1019}{32} & 0 & 0 & 0 & 0 \\\\\n",
       "0 & -\\frac{13}{32} & -\\frac{19}{32} & 0 & 0 & 0 & 0 \\\\\n",
       "0 & \\frac{19}{32} & \\frac{13}{32} & 0 & 0 & 0 & -1 \\\\\n",
       "0 & \\frac{3}{8} & -\\frac{3}{8} & 1 & 0 & 0 & -1 \\\\\n",
       "0 & \\frac{3}{16} & -\\frac{19}{16} & 0 & 1 & 0 & 0 \\\\\n",
       "0 & -\\frac{13}{16} & -\\frac{3}{16} & 0 & 0 & 1 & 0 \\\\\n",
       "0 & -\\frac{125}{4} & \\frac{125}{4} & 0 & 0 & 0 & 0\n",
       "\\end{array}\\right)\n",
       "\\end{equation*}\n",
       "\\begin{equation*}\n",
       "%notruncate\n",
       "\\renewcommand{\\arraystretch}{1.500000}\n",
       "\\begin{array}{l}\n",
       "\\begin{array}{l|r|rrrrrrr||r||r|r|r}\n",
       "x_B & c_B &  &  &  & \\mspace{-16mu} B^{-1} &  &  &  & y & B^{-1} b & B^{-1} A_{x_{1}} & \\hbox{Ratio} \\\\\n",
       "\\hline\n",
       "\\color{red} x_{6} & \\color{red} 0 & \\color{red} 1 & \\color{red} 0 & \\color{red} -\\frac{1000}{13} & \\color{red} 0 & \\color{red} 0 & \\color{red} 0 & \\color{red} 0 & 0 & \\color{red} \\frac{38}{39} & \\color{red} \\frac{79}{39} & \\color{red} \\frac{38}{79} \\\\\n",
       "x_{3} & -\\frac{1}{3} & 0 & -1 & -\\frac{19}{13} & 0 & 0 & 0 & 0 & \\frac{1}{3} & \\frac{17}{7800} & -\\frac{631}{39000} \\\\\n",
       "x_{5} & -\\frac{1}{3} & 0 & 0 & -\\frac{6}{13} & 0 & 0 & 0 & -1 & \\frac{25}{13} \\mu + \\frac{25}{39} & \\frac{17}{7800} & -\\frac{631}{39000} \\\\\n",
       "x_{9} & 0 & 0 & 0 & -\\frac{12}{13} & 1 & 0 & 0 & -1 & 0 & \\frac{17}{3900} & -\\frac{631}{19500} \\\\\n",
       "x_{10} & 0 & 0 & -1 & -\\frac{38}{13} & 0 & 1 & 0 & 0 & 0 & \\frac{17}{3900} & -\\frac{631}{19500} \\\\\n",
       "x_{11} & 0 & 0 & 0 & 1 & 0 & 0 & 1 & 0 & 0 & 0 & 0 \\\\\n",
       "x_{2} & \\frac{1}{40} \\mu & 0 & 0 & \\frac{1000}{13} & 0 & 0 & 0 & 0 & \\frac{1}{3} & \\frac{1}{39} & -\\frac{40}{39} \\\\\n",
       "\\end{array}\\\\\n",
       "\\\\\n",
       "\\begin{array}{r|rrrrr}\n",
       "x_N & \\color{green} x_{1} & x_{4} & x_{7} & x_{8} & x_{12} \\\\\n",
       "\\hline\n",
       "c_N^T & \\color{green} \\frac{13}{375} \\mu & -\\frac{1}{3} & 0 & 0 & 0 \\\\\n",
       "\\hline\n",
       "y^T A_N & \\color{green} -\\frac{1}{39} \\mu + \\frac{631}{58500} & -\\frac{25}{13} \\mu - \\frac{25}{39} & \\frac{1}{3} & \\frac{25}{13} \\mu + \\frac{25}{39} & \\frac{1}{3} \\\\\n",
       "\\hline\n",
       "c_N^T - y^T A_N & \\color{green} \\frac{98}{1625} \\mu - \\frac{631}{58500} & \\frac{25}{13} \\mu + \\frac{4}{13} & -\\frac{1}{3} & -\\frac{25}{13} \\mu - \\frac{25}{39} & -\\frac{1}{3} \\\\\n",
       "\\end{array}\n",
       "\\end{array}\n",
       "\\end{equation*}\n",
       "Entering: $x_{1}$. Leaving: $x_{6}$. \n",
       "\\begin{equation*}\n",
       "B_\\mathrm{new}^{-1} = E^{-1} B_\\mathrm{old}^{-1} = \n",
       "\\left(\\begin{array}{rrrrrrr}\n",
       "\\frac{39}{79} & 0 & 0 & 0 & 0 & 0 & 0 \\\\\n",
       "\\frac{631}{79000} & 1 & 0 & 0 & 0 & 0 & 0 \\\\\n",
       "\\frac{631}{79000} & 0 & 1 & 0 & 0 & 0 & 0 \\\\\n",
       "\\frac{631}{39500} & 0 & 0 & 1 & 0 & 0 & 0 \\\\\n",
       "\\frac{631}{39500} & 0 & 0 & 0 & 1 & 0 & 0 \\\\\n",
       "0 & 0 & 0 & 0 & 0 & 1 & 0 \\\\\n",
       "\\frac{40}{79} & 0 & 0 & 0 & 0 & 0 & 1\n",
       "\\end{array}\\right)\n",
       "\\left(\\begin{array}{rrrrrrr}\n",
       "1 & 0 & -\\frac{1000}{13} & 0 & 0 & 0 & 0 \\\\\n",
       "0 & -1 & -\\frac{19}{13} & 0 & 0 & 0 & 0 \\\\\n",
       "0 & 0 & -\\frac{6}{13} & 0 & 0 & 0 & -1 \\\\\n",
       "0 & 0 & -\\frac{12}{13} & 1 & 0 & 0 & -1 \\\\\n",
       "0 & -1 & -\\frac{38}{13} & 0 & 1 & 0 & 0 \\\\\n",
       "0 & 0 & 1 & 0 & 0 & 1 & 0 \\\\\n",
       "0 & 0 & \\frac{1000}{13} & 0 & 0 & 0 & 0\n",
       "\\end{array}\\right)\n",
       "\\end{equation*}\n",
       "\\begin{equation*}\n",
       "%notruncate\n",
       "\\renewcommand{\\arraystretch}{1.500000}\n",
       "\\begin{array}{l}\n",
       "\\begin{array}{l|r|rrrrrrr||r||r|r|r}\n",
       "x_B & c_B &  &  &  & \\mspace{-16mu} B^{-1} &  &  &  & y & B^{-1} b & B^{-1} A_{x_{4}} & \\hbox{Ratio} \\\\\n",
       "\\hline\n",
       "x_{1} & \\frac{13}{375} \\mu & \\frac{39}{79} & 0 & -\\frac{3000}{79} & 0 & 0 & 0 & 0 & \\frac{294}{9875} \\mu - \\frac{631}{118500} & \\frac{38}{79} & \\frac{3000}{79} & \\frac{19}{1500} \\\\\n",
       "\\color{red} x_{3} & \\color{red} -\\frac{1}{3} & \\color{red} \\frac{631}{79000} & \\color{red} -1 & \\color{red} -\\frac{164}{79} & \\color{red} 0 & \\color{red} 0 & \\color{red} 0 & \\color{red} 0 & \\frac{1}{3} & \\color{red} \\frac{787}{79000} & \\color{red} \\frac{164}{79} & \\color{red} \\frac{787}{164000} \\\\\n",
       "x_{5} & -\\frac{1}{3} & \\frac{631}{79000} & 0 & -\\frac{85}{79} & 0 & 0 & 0 & -1 & -\\frac{29}{79} \\mu + \\frac{83}{79} & \\frac{787}{79000} & \\frac{85}{79} & \\frac{787}{85000} \\\\\n",
       "x_{9} & 0 & \\frac{631}{39500} & 0 & -\\frac{170}{79} & 1 & 0 & 0 & -1 & 0 & \\frac{787}{39500} & \\frac{170}{79} & \\frac{787}{85000} \\\\\n",
       "x_{10} & 0 & \\frac{631}{39500} & -1 & -\\frac{328}{79} & 0 & 1 & 0 & 0 & 0 & \\frac{787}{39500} & \\frac{328}{79} & \\frac{787}{164000} \\\\\n",
       "x_{11} & 0 & 0 & 0 & 1 & 0 & 0 & 1 & 0 & 0 & 0 & -2 \\\\\n",
       "x_{2} & \\frac{1}{40} \\mu & \\frac{40}{79} & 0 & \\frac{3000}{79} & 0 & 0 & 0 & 0 & \\frac{1}{3} & \\frac{41}{79} & -\\frac{3000}{79} \\\\\n",
       "\\end{array}\\\\\n",
       "\\\\\n",
       "\\begin{array}{r|rrrrr}\n",
       "x_N & \\color{green} x_{4} & x_{6} & x_{7} & x_{8} & x_{12} \\\\\n",
       "\\hline\n",
       "c_N^T & \\color{green} -\\frac{1}{3} & 0 & 0 & 0 & 0 \\\\\n",
       "\\hline\n",
       "y^T A_N & \\color{green} \\frac{29}{79} \\mu - \\frac{83}{79} & \\frac{294}{9875} \\mu - \\frac{631}{118500} & \\frac{1}{3} & -\\frac{29}{79} \\mu + \\frac{83}{79} & \\frac{1}{3} \\\\\n",
       "\\hline\n",
       "c_N^T - y^T A_N & \\color{green} -\\frac{29}{79} \\mu + \\frac{170}{237} & -\\frac{294}{9875} \\mu + \\frac{631}{118500} & -\\frac{1}{3} & \\frac{29}{79} \\mu - \\frac{83}{79} & -\\frac{1}{3} \\\\\n",
       "\\end{array}\n",
       "\\end{array}\n",
       "\\end{equation*}\n",
       "Entering: $x_{4}$. Leaving: $x_{3}$. \n",
       "\\begin{equation*}\n",
       "B_\\mathrm{new}^{-1} = E^{-1} B_\\mathrm{old}^{-1} = \n",
       "\\left(\\begin{array}{rrrrrrr}\n",
       "1 & -\\frac{750}{41} & 0 & 0 & 0 & 0 & 0 \\\\\n",
       "0 & \\frac{79}{164} & 0 & 0 & 0 & 0 & 0 \\\\\n",
       "0 & -\\frac{85}{164} & 1 & 0 & 0 & 0 & 0 \\\\\n",
       "0 & -\\frac{85}{82} & 0 & 1 & 0 & 0 & 0 \\\\\n",
       "0 & -2 & 0 & 0 & 1 & 0 & 0 \\\\\n",
       "0 & \\frac{79}{82} & 0 & 0 & 0 & 1 & 0 \\\\\n",
       "0 & \\frac{750}{41} & 0 & 0 & 0 & 0 & 1\n",
       "\\end{array}\\right)\n",
       "\\left(\\begin{array}{rrrrrrr}\n",
       "\\frac{39}{79} & 0 & -\\frac{3000}{79} & 0 & 0 & 0 & 0 \\\\\n",
       "\\frac{631}{79000} & -1 & -\\frac{164}{79} & 0 & 0 & 0 & 0 \\\\\n",
       "\\frac{631}{79000} & 0 & -\\frac{85}{79} & 0 & 0 & 0 & -1 \\\\\n",
       "\\frac{631}{39500} & 0 & -\\frac{170}{79} & 1 & 0 & 0 & -1 \\\\\n",
       "\\frac{631}{39500} & -1 & -\\frac{328}{79} & 0 & 1 & 0 & 0 \\\\\n",
       "0 & 0 & 1 & 0 & 0 & 1 & 0 \\\\\n",
       "\\frac{40}{79} & 0 & \\frac{3000}{79} & 0 & 0 & 0 & 0\n",
       "\\end{array}\\right)\n",
       "\\end{equation*}\n",
       "\\begin{equation*}\n",
       "%notruncate\n",
       "\\renewcommand{\\arraystretch}{1.500000}\n",
       "\\begin{array}{l}\n",
       "\\begin{array}{l|r|rrrrrrr||r||r}\n",
       "x_B & c_B &  &  &  & \\mspace{-16mu} B^{-1} &  &  &  & y & B^{-1} b \\\\\n",
       "\\hline\n",
       "x_{1} & \\frac{13}{375} \\mu & \\frac{57}{164} & \\frac{750}{41} & 0 & 0 & 0 & 0 & 0 & \\frac{4651}{164000} \\mu - \\frac{631}{246000} & \\frac{49}{164} \\\\\n",
       "x_{4} & -\\frac{1}{3} & \\frac{631}{164000} & -\\frac{79}{164} & -1 & 0 & 0 & 0 & 0 & \\frac{29}{164} \\mu - \\frac{1}{82} & \\frac{787}{164000} \\\\\n",
       "x_{5} & -\\frac{1}{3} & \\frac{631}{164000} & \\frac{85}{164} & 0 & 0 & 0 & 0 & -1 & \\frac{1}{3} & \\frac{787}{164000} \\\\\n",
       "x_{9} & 0 & \\frac{631}{82000} & \\frac{85}{82} & 0 & 1 & 0 & 0 & -1 & 0 & \\frac{787}{82000} \\\\\n",
       "x_{10} & 0 & 0 & 1 & 0 & 0 & 1 & 0 & 0 & 0 & 0 \\\\\n",
       "x_{11} & 0 & \\frac{631}{82000} & -\\frac{79}{82} & -1 & 0 & 0 & 1 & 0 & 0 & \\frac{787}{82000} \\\\\n",
       "x_{2} & \\frac{1}{40} \\mu & \\frac{107}{164} & -\\frac{750}{41} & 0 & 0 & 0 & 0 & 0 & \\frac{1}{3} & \\frac{115}{164} \\\\\n",
       "\\end{array}\\\\\n",
       "\\\\\n",
       "\\begin{array}{r|rrrrr}\n",
       "x_N & x_{3} & x_{6} & x_{7} & x_{8} & x_{12} \\\\\n",
       "\\hline\n",
       "c_N^T & -\\frac{1}{3} & 0 & 0 & 0 & 0 \\\\\n",
       "\\hline\n",
       "y^T A_N & -\\frac{29}{164} \\mu + \\frac{1}{82} & \\frac{4651}{164000} \\mu - \\frac{631}{246000} & \\frac{29}{164} \\mu - \\frac{1}{82} & \\frac{1}{3} & \\frac{1}{3} \\\\\n",
       "\\hline\n",
       "c_N^T - y^T A_N & \\frac{29}{164} \\mu - \\frac{85}{246} & -\\frac{4651}{164000} \\mu + \\frac{631}{246000} & -\\frac{29}{164} \\mu + \\frac{1}{82} & -\\frac{1}{3} & -\\frac{1}{3} \\\\\n",
       "\\end{array}\n",
       "\\end{array}\n",
       "\\end{equation*}\n",
       "The optimal value: $\\frac{169011}{164000} \\mu - \\frac{787}{246000}$. An optimal solution: $\\left(\\frac{49}{164},\\,\\frac{115}{164},\\,0,\\,\\frac{787}{164000},\\,\\frac{787}{164000}\\right)$."
      ]
     },
     "execution_count": 9,
     "metadata": {},
     "output_type": "execute_result"
    }
   ],
   "source": [
    "%display latex\n",
    "st.run_revised_simplex_method()"
   ]
  },
  {
   "cell_type": "code",
   "execution_count": null,
   "metadata": {},
   "outputs": [],
   "source": [
    "d.basic_solution()"
   ]
  },
  {
   "cell_type": "code",
   "execution_count": null,
   "metadata": {},
   "outputs": [],
   "source": [
    "st.n_variables()\n"
   ]
  },
  {
   "cell_type": "code",
   "execution_count": null,
   "metadata": {
    "scrolled": true
   },
   "outputs": [],
   "source": [
    "p.solve()"
   ]
  },
  {
   "cell_type": "code",
   "execution_count": 19,
   "metadata": {},
   "outputs": [
    {
     "name": "stderr",
     "output_type": "stream",
     "text": [
      "INFO: 2021-02-23 17:37:36,930 Initialized ParametricRealField(names = [mu], values = [375/376])\n",
      "INFO: 2021-02-23 17:37:36,933 Initialized ParametricRealField(names = [mu], values = [375/376])\n"
     ]
    }
   ],
   "source": [
    "c = K.make_proof_cell()"
   ]
  },
  {
   "cell_type": "code",
   "execution_count": 11,
   "metadata": {},
   "outputs": [
    {
     "data": {
      "text/html": [
       "<html><script type=\"math/tex; mode=display\">\\newcommand{\\Bold}[1]{\\mathbf{#1}}\\verb|BasicSemialgebraicSet_veronese(BasicSemialgebraicSet_polyhedral_ppl_NNC_Polyhedron(Constraint_System|\\phantom{\\verb!x!}\\verb|{-87*x0+170>0,|\\phantom{\\verb!x!}\\verb|376*x0-375>0},|\\phantom{\\verb!x!}\\verb|names=[x0]),|\\phantom{\\verb!x!}\\verb|polynomial_map=[mu])|</script></html>"
      ],
      "text/latex": [
       "\\begin{math}\n",
       "\\newcommand{\\Bold}[1]{\\mathbf{#1}}\\verb|BasicSemialgebraicSet_veronese(BasicSemialgebraicSet_polyhedral_ppl_NNC_Polyhedron(Constraint_System|\\phantom{\\verb!x!}\\verb|{-87*x0+170>0,|\\phantom{\\verb!x!}\\verb|376*x0-375>0},|\\phantom{\\verb!x!}\\verb|names=[x0]),|\\phantom{\\verb!x!}\\verb|polynomial_map=[mu])|\n",
       "\\end{math}"
      ],
      "text/plain": [
       "BasicSemialgebraicSet_veronese(BasicSemialgebraicSet_polyhedral_ppl_NNC_Polyhedron(Constraint_System {-87*x0+170>0, 376*x0-375>0}, names=[x0]), polynomial_map=[mu])"
      ]
     },
     "execution_count": 11,
     "metadata": {},
     "output_type": "execute_result"
    }
   ],
   "source": [
    "c.bsa"
   ]
  },
  {
   "cell_type": "code",
   "execution_count": null,
   "metadata": {},
   "outputs": [],
   "source": [
    "K.get_lt()"
   ]
  },
  {
   "cell_type": "code",
   "execution_count": 20,
   "metadata": {},
   "outputs": [],
   "source": [
    "bsa = c.bsa"
   ]
  },
  {
   "cell_type": "code",
   "execution_count": null,
   "metadata": {},
   "outputs": [],
   "source": []
  },
  {
   "cell_type": "code",
   "execution_count": 22,
   "metadata": {},
   "outputs": [
    {
     "data": {
      "text/html": [
       "<html><script type=\"math/tex; mode=display\">\\newcommand{\\Bold}[1]{\\mathbf{#1}}\\verb|BasicSemialgebraicSet_veronese(BasicSemialgebraicSet_polyhedral_ppl_NNC_Polyhedron(Constraint_System|\\phantom{\\verb!x!}\\verb|{376*x0-375==0},|\\phantom{\\verb!x!}\\verb|names=[x0]),|\\phantom{\\verb!x!}\\verb|polynomial_map=[mu])|</script></html>"
      ],
      "text/latex": [
       "\\begin{math}\n",
       "\\newcommand{\\Bold}[1]{\\mathbf{#1}}\\verb|BasicSemialgebraicSet_veronese(BasicSemialgebraicSet_polyhedral_ppl_NNC_Polyhedron(Constraint_System|\\phantom{\\verb!x!}\\verb|{376*x0-375==0},|\\phantom{\\verb!x!}\\verb|names=[x0]),|\\phantom{\\verb!x!}\\verb|polynomial_map=[mu])|\n",
       "\\end{math}"
      ],
      "text/plain": [
       "BasicSemialgebraicSet_veronese(BasicSemialgebraicSet_polyhedral_ppl_NNC_Polyhedron(Constraint_System {376*x0-375==0}, names=[x0]), polynomial_map=[mu])"
      ]
     },
     "execution_count": 22,
     "metadata": {},
     "output_type": "execute_result"
    }
   ],
   "source": [
    "bsa"
   ]
  },
  {
   "cell_type": "code",
   "execution_count": null,
   "metadata": {},
   "outputs": [],
   "source": []
  },
  {
   "cell_type": "code",
   "execution_count": 21,
   "metadata": {},
   "outputs": [
    {
     "data": {
      "text/html": [
       "<html><script type=\"math/tex; mode=display\">\\newcommand{\\Bold}[1]{\\mathbf{#1}}\\left[\\right]</script></html>"
      ],
      "text/latex": [
       "\\begin{math}\n",
       "\\newcommand{\\Bold}[1]{\\mathbf{#1}}\\left[\\right]\n",
       "\\end{math}"
      ],
      "text/plain": [
       "[]"
      ]
     },
     "execution_count": 21,
     "metadata": {},
     "output_type": "execute_result"
    }
   ],
   "source": [
    "list(bsa.lt_poly())"
   ]
  },
  {
   "cell_type": "code",
   "execution_count": null,
   "metadata": {},
   "outputs": [],
   "source": [
    "K.get_lt_factor()"
   ]
  },
  {
   "cell_type": "code",
   "execution_count": null,
   "metadata": {},
   "outputs": [],
   "source": [
    "complex = SemialgebraicComplex(portfolio, ['mu'], find_region_type=result_concrete_value, default_var_bound=(0,10))\n",
    "complex.bfs_completion(var_value=[1], flip_ineq_step=1/1000, check_completion=False,wall_crossing_method=\"heuristic\", goto_lower_dim=False)"
   ]
  },
  {
   "cell_type": "code",
   "execution_count": null,
   "metadata": {},
   "outputs": [],
   "source": [
    "complex.components"
   ]
  },
  {
   "cell_type": "code",
   "execution_count": null,
   "metadata": {},
   "outputs": [],
   "source": []
  }
 ],
 "metadata": {
  "kernelspec": {
   "display_name": "SageMath 9.3.beta6",
   "language": "sage",
   "name": "sagemath"
  },
  "language_info": {
   "codemirror_mode": {
    "name": "ipython",
    "version": 3
   },
   "file_extension": ".py",
   "mimetype": "text/x-python",
   "name": "python",
   "nbconvert_exporter": "python",
   "pygments_lexer": "ipython3",
   "version": "3.8.5"
  }
 },
 "nbformat": 4,
 "nbformat_minor": 4
}
