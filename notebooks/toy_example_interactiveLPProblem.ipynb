{
 "cells": [
  {
   "cell_type": "code",
   "execution_count": 1,
   "metadata": {},
   "outputs": [],
   "source": [
    "load_attach_path(\"/mnt/c/users/phili/SAGEMATH/SPAM_Applications\")\n",
    "load(\"startup.sage\")\n",
    "\n",
    "igp.debug_new_factors = False"
   ]
  },
  {
   "cell_type": "code",
   "execution_count": null,
   "metadata": {},
   "outputs": [],
   "source": [
    "K.<mu> = ParametricRealField([10])"
   ]
  },
  {
   "cell_type": "code",
   "execution_count": null,
   "metadata": {},
   "outputs": [],
   "source": [
    "A = ([1, 1, 1, 0, 0], [-1, -1, -1, 0, 0], [1/2, 1, 1/8, -1, 0], [-1/2, -1, -1/8, -1, 0], [-1/2, -1, -1/8, 0, -1], [1/2, 1, 1/8, 0, -1])\n",
    "b = (1, -1, 0, 0, 0, 0)\n",
    "c = (7/6*mu, 4/3*mu, 7/8*mu, -1/2, -1/2)\n",
    "#c = (7/6*10, 4/3*10, 7/8*10, -1/2, -1/2)\n",
    "P = InteractiveLPProblem(A, b, c, [\"x1\", \"x2\", \"x3\", \"y1\", \"y2\"], variable_type=\">=\", problem_type='max')"
   ]
  },
  {
   "cell_type": "code",
   "execution_count": null,
   "metadata": {},
   "outputs": [],
   "source": [
    "%display typeset"
   ]
  },
  {
   "cell_type": "code",
   "execution_count": null,
   "metadata": {},
   "outputs": [],
   "source": [
    "P"
   ]
  },
  {
   "cell_type": "code",
   "execution_count": null,
   "metadata": {},
   "outputs": [],
   "source": [
    "lp = P.standard_form()"
   ]
  },
  {
   "cell_type": "code",
   "execution_count": null,
   "metadata": {},
   "outputs": [],
   "source": [
    "lp.run_simplex_method()"
   ]
  },
  {
   "cell_type": "code",
   "execution_count": null,
   "metadata": {},
   "outputs": [],
   "source": [
    "FD = lp.final_dictionary()"
   ]
  },
  {
   "cell_type": "code",
   "execution_count": null,
   "metadata": {},
   "outputs": [],
   "source": [
    "FD"
   ]
  },
  {
   "cell_type": "code",
   "execution_count": 2,
   "metadata": {},
   "outputs": [
    {
     "name": "stderr",
     "output_type": "stream",
     "text": [
      "INFO: 2021-04-01 13:58:34,932 Initialized ParametricRealField(names = ['mu'], values = [10])\n",
      "INFO: 2021-04-01 13:58:34,947 New constraint: -mu < 0\n",
      "INFO: 2021-04-01 13:58:35,192 New constraint: -7*mu + 9 < 0\n",
      "INFO: 2021-04-01 13:58:35,195 New constraint: -11*mu + 21 < 0\n",
      "INFO: 2021-04-01 13:58:35,204 New constraint: -mu + 3 < 0\n",
      "INFO: 2021-04-01 13:58:35,268 Initialized ParametricRealField(names = ['mu'], values = [299/100])\n",
      "INFO: 2021-04-01 13:58:35,270 New constraint: -mu < 0\n",
      "INFO: 2021-04-01 13:58:35,304 New constraint: -7*mu + 9 < 0\n",
      "INFO: 2021-04-01 13:58:35,307 New constraint: -11*mu + 21 < 0\n",
      "INFO: 2021-04-01 13:58:35,316 New constraint: mu - 3 < 0\n",
      "INFO: 2021-04-01 13:58:35,327 Initialized ParametricRealField(names = ['mu'], values = [2099/1100])\n",
      "INFO: 2021-04-01 13:58:35,328 New constraint: -mu < 0\n",
      "INFO: 2021-04-01 13:58:35,363 New constraint: -7*mu + 9 < 0\n",
      "INFO: 2021-04-01 13:58:35,366 New constraint: 11*mu - 21 < 0\n",
      "INFO: 2021-04-01 13:58:35,387 Initialized ParametricRealField(names = ['mu'], values = [899/700])\n",
      "INFO: 2021-04-01 13:58:35,388 New constraint: -mu < 0\n",
      "INFO: 2021-04-01 13:58:35,424 New constraint: 7*mu - 9 < 0\n"
     ]
    }
   ],
   "source": [
    "hist_data = ((5/3,2/3),(7/3,1/3),(1,3/4))\n",
    "bddbsa = BasicSemialgebraicSet_veronese(poly_ring=PolynomialRing(QQ, ['mu']))\n",
    "bddbsa.add_linear_constraint((-1,), 0, operator.lt)\n",
    "complex = SemialgebraicComplex(setup_portfolio_lp, ['mu'], find_region_type=solve_for_optimal_portfolio, bddbsa=bddbsa, hist_data=hist_data)\n",
    "complex.bfs_completion(var_value=[10])\n"
   ]
  },
  {
   "cell_type": "code",
   "execution_count": 3,
   "metadata": {},
   "outputs": [
    {
     "data": {
      "text/plain": [
       "SemialgebraicComplex with 4 components"
      ]
     },
     "execution_count": 3,
     "metadata": {},
     "output_type": "execute_result"
    }
   ],
   "source": [
    "complex"
   ]
  },
  {
   "cell_type": "code",
   "execution_count": 61,
   "metadata": {},
   "outputs": [],
   "source": [
    "poly_0 = complex.components[0].sage_polyhedron()\n",
    "#check le, eq_poly to make sure they're empty\n",
    "#output interval, concrete value, optsol"
   ]
  },
  {
   "cell_type": "code",
   "execution_count": 40,
   "metadata": {},
   "outputs": [
    {
     "name": "stdout",
     "output_type": "stream",
     "text": [
      "(0, 1)\n",
      "(1, 0)\n",
      "(1, 0)\n",
      "(0, 0)\n"
     ]
    }
   ],
   "source": [
    "for c in complex.components:\n",
    "    print(c.region_type)"
   ]
  },
  {
   "cell_type": "code",
   "execution_count": 45,
   "metadata": {},
   "outputs": [
    {
     "data": {
      "image/png": "[encoded data removed]",
      "text/plain": [
       "Graphics object consisting of 2 graphics primitives"
      ]
     },
     "execution_count": 45,
     "metadata": {},
     "output_type": "execute_result"
    }
   ],
   "source": [
    "plot(complex.components[1].region_type)"
   ]
  },
  {
   "cell_type": "code",
   "execution_count": 64,
   "metadata": {},
   "outputs": [],
   "source": [
    "poly_0_ineq_list = poly_0.inequalities_list()"
   ]
  },
  {
   "cell_type": "code",
   "execution_count": 65,
   "metadata": {},
   "outputs": [
    {
     "data": {
      "text/plain": [
       "[[-3, 1]]"
      ]
     },
     "execution_count": 65,
     "metadata": {},
     "output_type": "execute_result"
    }
   ],
   "source": [
    "poly_0_ineq_list"
   ]
  },
  {
   "cell_type": "code",
   "execution_count": 70,
   "metadata": {},
   "outputs": [],
   "source": [
    "poly_0_bounds = []\n",
    "for ele in poly_0_ineq_list:\n",
    "    poly_0_bounds.append(ele[0]/-ele[1])"
   ]
  },
  {
   "cell_type": "code",
   "execution_count": 71,
   "metadata": {},
   "outputs": [
    {
     "data": {
      "text/plain": [
       "[3]"
      ]
     },
     "execution_count": 71,
     "metadata": {},
     "output_type": "execute_result"
    }
   ],
   "source": [
    "poly_0_bounds"
   ]
  },
  {
   "cell_type": "code",
   "execution_count": null,
   "metadata": {},
   "outputs": [],
   "source": [
    "plot(complex.components[1].region_type, xmin=poly_0_bounds)"
   ]
  },
  {
   "cell_type": "code",
   "execution_count": 21,
   "metadata": {},
   "outputs": [
    {
     "ename": "SyntaxError",
     "evalue": "only single target (not tuple) can be annotated (<ipython-input-21-8c239c8d2679>, line 1)",
     "output_type": "error",
     "traceback": [
      "\u001b[0;36m  File \u001b[0;32m\"<ipython-input-21-8c239c8d2679>\"\u001b[0;36m, line \u001b[0;32m1\u001b[0m\n\u001b[0;31m    (Integer(0), Integer(8)/Integer(7)):   (Integer(0),Integer(0),Integer(1))\u001b[0m\n\u001b[0m    ^\u001b[0m\n\u001b[0;31mSyntaxError\u001b[0m\u001b[0;31m:\u001b[0m only single target (not tuple) can be annotated\n"
     ]
    }
   ],
   "source": [
    "(0, 8/7):   (0,0,1)\n",
    "(8/7, 9/7): (1,0,0)\n",
    "(9/7, 21/11):(1,0,0)\n",
    "(21/11,24/11):(1,0,0)\n",
    "(24/11,3): (0,1,0)\n",
    "(3,24/7): (0,1,0)\n",
    "(24/7,inf): (0,1,0)"
   ]
  },
  {
   "cell_type": "code",
   "execution_count": null,
   "metadata": {},
   "outputs": [],
   "source": []
  }
 ],
 "metadata": {
  "kernelspec": {
   "display_name": "SageMath 9.3.beta6",
   "language": "sage",
   "name": "sagemath"
  },
  "language_info": {
   "codemirror_mode": {
    "name": "ipython",
    "version": 3
   },
   "file_extension": ".py",
   "mimetype": "text/x-python",
   "name": "python",
   "nbconvert_exporter": "python",
   "pygments_lexer": "ipython3",
   "version": "3.8.5"
  }
 },
 "nbformat": 4,
 "nbformat_minor": 4
}
