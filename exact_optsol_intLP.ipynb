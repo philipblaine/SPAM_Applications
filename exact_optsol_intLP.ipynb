{
 "cells": [
  {
   "cell_type": "code",
   "execution_count": 10,
   "metadata": {},
   "outputs": [],
   "source": [
    "import sys\n",
    "import numpy as np\n",
    "import cProfile\n",
    "from sage.numerical.interactive_simplex_method import *\n",
    "load_attach_path(\"/mnt/c/users/phili/SPAM_Applications\")\n",
    "load(\"startup.sage\")\n",
    "%display latex"
   ]
  },
  {
   "cell_type": "code",
   "execution_count": 11,
   "metadata": {},
   "outputs": [],
   "source": [
    "p = MixedIntegerLinearProgram(maximization=True, solver=\"GLPK\")\n",
    "w = p.new_variable(nonnegative=True)\n",
    "A = Matrix([[1/2,3/2],[3,1]])\n",
    "Y = vector(Matrix([[100,150]]))\n",
    "c = vector(Matrix([[10,5]]))\n",
    "p.add_constraint(A*w <= Y)\n",
    "p.set_objective(c)\n",
    "\n"
   ]
  },
  {
   "cell_type": "code",
   "execution_count": 12,
   "metadata": {},
   "outputs": [],
   "source": [
    "p.solver_parameter(\"simplex_or_intopt\",\"simplex_only\")\n",
    "p.solve()\n",
    "b = p.get_backend()\n",
    "basic_vars = []\n",
    "for i in range(p.number_of_variables()):\n",
    "    if b.get_col_stat(i) == 1:\n",
    "        basic_vars.append(i)\n",
    "for i in range(len(basic_vars)):\n",
    "    basic_vars[i] += 1\n",
    "\n",
    "\n"
   ]
  },
  {
   "cell_type": "code",
   "execution_count": 14,
   "metadata": {},
   "outputs": [
    {
     "data": {
      "text/html": [
       "<html><script type=\"math/tex; mode=display\">\\newcommand{\\Bold}[1]{\\mathbf{#1}}\\left(\\frac{225}{4},\\,\\frac{125}{4}\\right)</script></html>"
      ],
      "text/plain": [
       "(225/4, 125/4)"
      ]
     },
     "execution_count": 14,
     "metadata": {},
     "output_type": "execute_result"
    }
   ],
   "source": [
    "A = []\n",
    "Y = []\n",
    "c = []\n",
    "for i in range(len(p.constraints())):\n",
    "        \n",
    "    A_list = []\n",
    "\n",
    "    for j in range(len(p.constraints()[i][1][1])):\n",
    "            \n",
    "        A_list.append(Rational(p.constraints()[i][1][1][j]))\n",
    "            \n",
    "        \n",
    "    if A_list != []:\n",
    "        A.append(A_list)\n",
    "        \n",
    "        \n",
    "    if Rational(p.constraints()[i][2])!= 0:\n",
    "        Y.append(Rational(p.constraints()[i][2]))\n",
    "        \n",
    "A = Matrix(A)\n",
    "Y = Matrix(Y)\n",
    "        \n",
    "for j in range(p.number_of_variables()):\n",
    "    c.append(Rational(b.objective_coefficient(j)))\n",
    "P = InteractiveLPProblemStandardForm(A, Y, c)\n",
    "D = LPRevisedDictionary(P,[1,2])\n",
    "D.basic_solution()"
   ]
  },
  {
   "cell_type": "code",
   "execution_count": null,
   "metadata": {},
   "outputs": [],
   "source": []
  }
 ],
 "metadata": {
  "kernelspec": {
   "display_name": "SageMath 9.0",
   "language": "sage",
   "name": "sagemath"
  },
  "language_info": {
   "codemirror_mode": {
    "name": "ipython",
    "version": 3
   },
   "file_extension": ".py",
   "mimetype": "text/x-python",
   "name": "python",
   "nbconvert_exporter": "python",
   "pygments_lexer": "ipython3",
   "version": "3.8.5"
  }
 },
 "nbformat": 4,
 "nbformat_minor": 4
}
