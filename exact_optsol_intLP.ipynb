{
 "cells": [
  {
   "cell_type": "code",
   "execution_count": 1,
   "metadata": {},
   "outputs": [],
   "source": [
    "import sys\n",
    "import numpy as np\n",
    "import cProfile\n",
    "from sage.numerical.interactive_simplex_method import *\n",
    "sys.path.append(\"/mnt/c/users/phili/cutgeneratingfunctionology\")\n",
    "import cutgeneratingfunctionology.igp as igp; from cutgeneratingfunctionology.igp import *\n",
    "from sage.numerical.backends.generic_backend import get_solver\n",
    "load_attach_path(\"/mnt/c/users/phili/SPAM_Applications\")\n",
    "load(\"startup.sage\")\n",
    "%display latex"
   ]
  },
  {
   "cell_type": "code",
   "execution_count": null,
   "metadata": {},
   "outputs": [],
   "source": [
    "p = MixedIntegerLinearProgram(maximization=True, solver=\"GLPK\")\n",
    "w = p.new_variable()\n",
    "A = Matrix([[1/2,3/2],[3,1]])\n",
    "Y = vector(Matrix([[100,150]]))\n",
    "c = vector(Matrix([[10,5]]))\n",
    "p.add_constraint(A*w <= Y)\n",
    "p.set_objective(c)\n",
    "\n"
   ]
  },
  {
   "cell_type": "code",
   "execution_count": 2,
   "metadata": {},
   "outputs": [],
   "source": [
    "p = MixedIntegerLinearProgram(maximization=True,solver=\"GLPK\")\n",
    "w = p.new_variable(nonnegative=True)\n",
    "A = Matrix([[1,2,0],[0,-1,5]])\n",
    "Y = vector(Matrix([[4,8]]))\n",
    "c = vector(Matrix([[1,1,3]]))\n",
    "p.add_constraint(A*w <= Y)\n",
    "p.set_objective(c)"
   ]
  },
  {
   "cell_type": "code",
   "execution_count": 3,
   "metadata": {},
   "outputs": [],
   "source": [
    "p.solver_parameter(\"simplex_or_intopt\",\"simplex_only\")\n",
    "p.solve()\n",
    "b = p.get_backend()\n",
    "basic_vars = []\n",
    "for i in range(p.number_of_variables()):\n",
    "    if b.get_col_stat(i) == 1:\n",
    "        basic_vars.append(i)\n",
    "for i in range(len(basic_vars)):\n",
    "    basic_vars[i] += 1\n",
    "\n",
    "\n"
   ]
  },
  {
   "cell_type": "code",
   "execution_count": null,
   "metadata": {},
   "outputs": [],
   "source": [
    "A = []\n",
    "Y = []\n",
    "c = []\n",
    "\n",
    "for i in range(len(p.constraints())):\n",
    "        \n",
    "    A_list = []\n",
    "\n",
    "    for j in range(len(p.constraints()[i][1][1])):\n",
    "        \n",
    "        A_list.append(Rational(p.constraints()[i][1][1][j]))\n",
    "        \n",
    "    #if A_list != []:\n",
    "    A.append(A_list)\n",
    "        \n",
    "        \n",
    "    #if Rational(p.constraints()[i][2])!= 0:\n",
    "    Y.append(Rational(p.constraints()[i][2]))\n",
    "        \n",
    "A = Matrix(A)\n",
    "Y = Matrix(Y)\n",
    "\n",
    "        \n",
    "for j in range(p.number_of_variables()):\n",
    "    c.append(Rational(b.objective_coefficient(j)))\n",
    "    #print(c)\n",
    "print(A)\n",
    "print(c)\n"
   ]
  },
  {
   "cell_type": "code",
   "execution_count": 6,
   "metadata": {},
   "outputs": [
    {
     "data": {
      "text/html": [
       "<html><script type=\"math/tex; mode=display\">\\newcommand{\\Bold}[1]{\\mathbf{#1}}\\left(4,\\,0,\\,\\frac{8}{5}\\right)</script></html>"
      ],
      "text/plain": [
       "(4, 0, 8/5)"
      ]
     },
     "execution_count": 6,
     "metadata": {},
     "output_type": "execute_result"
    }
   ],
   "source": [
    "P = InteractiveLPProblemStandardForm(A, Y, c)\n",
    "D = LPRevisedDictionary(P,basic_vars)\n",
    "D.basic_solution()\n"
   ]
  },
  {
   "cell_type": "code",
   "execution_count": 5,
   "metadata": {},
   "outputs": [
    {
     "data": {
      "text/html": [
       "<html><script type=\"math/tex; mode=display\">\\newcommand{\\Bold}[1]{\\mathbf{#1}}\\left(4,\\,0,\\,\\frac{8}{5}\\right)</script></html>"
      ],
      "text/plain": [
       "(4, 0, 8/5)"
      ]
     },
     "execution_count": 5,
     "metadata": {},
     "output_type": "execute_result"
    }
   ],
   "source": [
    "load(\"exact_optsol_intLP.sage\")\n",
    "exact_optsol_intLP(p)"
   ]
  },
  {
   "cell_type": "code",
   "execution_count": null,
   "metadata": {},
   "outputs": [],
   "source": [
    "load(\"exact_optsol_solveright.sage\")\n",
    "exact_optsol_solveright(p)"
   ]
  },
  {
   "cell_type": "code",
   "execution_count": null,
   "metadata": {},
   "outputs": [],
   "source": [
    "load(\"exact_optsol_poly.sage\")\n",
    "load(\"poly_solve.sage\")\n",
    "load(\"poly_solve_methods.sage\")\n",
    "exact_optsol_poly(p)"
   ]
  },
  {
   "cell_type": "code",
   "execution_count": null,
   "metadata": {},
   "outputs": [],
   "source": [
    "A = random_matrix(QQ,100,100,num_bound=100,den_bound=100)\n",
    "Y = random_matrix(QQ,100,1,num_bound=100,den_bound=100)\n",
    "c = random_matrix(QQ,100,1,num_bound=100,den_bound=100)\n",
    "\n",
    "Y = vector(Y)\n",
    "\n",
    "\n",
    "for i in range(len(vector(c))):\n",
    "    if c[i] <= 0:\n",
    "        c[i] = 0\n",
    "        \n",
    "c = vector(c)\n",
    "c"
   ]
  },
  {
   "cell_type": "code",
   "execution_count": null,
   "metadata": {},
   "outputs": [],
   "source": [
    "lp = MixedIntegerLinearProgram(maximization=True,solver=\"GLPK\")\n",
    "x = lp.new_variable()\n",
    "lp.add_constraint(A*x <= Y)\n",
    "lp.set_objective(c)\n",
    "lp.number_of_variables()\n",
    "\n",
    "\n"
   ]
  },
  {
   "cell_type": "code",
   "execution_count": null,
   "metadata": {},
   "outputs": [],
   "source": [
    "load(\"exact_optsol_solveright.sage\")\n",
    "cProfile.run(\"exact_optsol_solveright(lp)\")\n"
   ]
  },
  {
   "cell_type": "code",
   "execution_count": null,
   "metadata": {},
   "outputs": [],
   "source": [
    "cProfile.run(\"exact_optsol_poly(lp)\")"
   ]
  },
  {
   "cell_type": "code",
   "execution_count": null,
   "metadata": {},
   "outputs": [],
   "source": [
    "load(\"exact_optsol_intLP.sage\")\n",
    "exact_optsol_intLP(lp, A, Y, c)"
   ]
  },
  {
   "cell_type": "code",
   "execution_count": null,
   "metadata": {},
   "outputs": [],
   "source": []
  }
 ],
 "metadata": {
  "kernelspec": {
   "display_name": "SageMath 9.0",
   "language": "sage",
   "name": "sagemath"
  },
  "language_info": {
   "codemirror_mode": {
    "name": "ipython",
    "version": 3
   },
   "file_extension": ".py",
   "mimetype": "text/x-python",
   "name": "python",
   "nbconvert_exporter": "python",
   "pygments_lexer": "ipython3",
   "version": "3.8.5"
  }
 },
 "nbformat": 4,
 "nbformat_minor": 4
}
