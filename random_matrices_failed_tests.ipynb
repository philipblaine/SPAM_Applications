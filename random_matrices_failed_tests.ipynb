{
 "cells": [
  {
   "cell_type": "code",
   "execution_count": null,
   "metadata": {},
   "outputs": [],
   "source": [
    "\"\"\"\n",
    "creates random matrices A, Y, c which define an inexact LP\n",
    "then attempts to use final basic variables from inexact LP\n",
    "to solve the exact LP using exact_optsol_intLP\n",
    "with InteractiveLP methods\n",
    "\n",
    "currently, ArithmeticError: self must be a square matrix\n",
    "whenever a feasible, bounded problem is created\n",
    "error examples below\n",
    "\n",
    "\"\"\"\n",
    "\n",
    "import sys\n",
    "import numpy as np\n",
    "import cProfile\n",
    "from sage.numerical.interactive_simplex_method import *\n",
    "sys.path.append(\"/mnt/c/users/phili/cutgeneratingfunctionology\")\n",
    "import cutgeneratingfunctionology.igp as igp; from cutgeneratingfunctionology.igp import *\n",
    "from sage.numerical.backends.generic_backend import get_solver\n",
    "load_attach_path(\"/mnt/c/users/phili/SPAM_Applications\")\n",
    "load(\"startup.sage\")\n",
    "%display latex"
   ]
  },
  {
   "cell_type": "code",
   "execution_count": null,
   "metadata": {},
   "outputs": [],
   "source": [
    "#ArithmeticError: self not square matrix\n",
    "#example 1\n",
    "\n",
    "c = (95/23, 1/100, 27/47, 1/100, 1/100, 5/16, 1/100, 1/100, 1/100, 1/100)\n",
    "\n",
    "Y = (8/29, 1/100, 1/100, 1/100, 92/33, 1/32, 1/100, 1/100, 53/91, 1/100)\n",
    "\n",
    "A = Matrix([[  37/7,  -1/11,  -3/11,  76/27,  37/14, -54/73, -47/51,  32/71,  91/12, -86/83],\n",
    "[ 60/37, -30/17,     -1,  -8/33, -79/76,   -3/8,  77/97,  17/86, -83/35, -94/97],\n",
    "[ 93/11,  16/31,  45/47, -25/28,    -25, -24/13,  36/35,    3/5, -46/93,     70],\n",
    "[  -7/2, -27/23, -35/51,  35/18,  -1/15, -38/59,  51/40,  80/13,  44/39, -37/95],\n",
    "[-25/24,    -18,  67/58,   4/23,  -17/4,  27/53,  43/29,  87/32,  43/21,  23/21],\n",
    "[-33/23, -29/17, -23/50,  59/41, -13/20,     -1,   -2/5, -97/81,  -13/9,   -8/5],\n",
    "[ 29/12, -62/91,   3/47,   12/5,    -17, -53/27,  -2/17,  57/64, -46/63, -19/22],\n",
    "[-90/91,  81/83, -64/19,  39/35, -35/19,  30/29,   -2/3,  11/14, -34/35, -32/35],\n",
    "[  -9/2,  65/41,  45/31, -43/94,  -1/34,  67/49, -52/73,   12/5,     -1, -78/95],\n",
    "[ 53/48, -42/97,     18,   9/23, -96/85,  89/27,  79/18, -70/37,  -7/22,  69/44]])\n"
   ]
  },
  {
   "cell_type": "code",
   "execution_count": null,
   "metadata": {},
   "outputs": [],
   "source": [
    "#ArithmeticError: self not square matrix\n",
    "#example 2\n",
    "\n",
    "c = (1/100, 5, 7/31, 1/100, 1/100, 11/8, 1/100, 1/100, 1/100, 72/37)\n",
    "\n",
    "Y = (39/53, 40/21, 1/100, 1/100, 20/13, 1/100, 1/100, 4/21, 1/100, 1/100)\n",
    "\n",
    "A = Matrix([[  31/46,   -17/4,  -65/29,   80/37,    -9/7,   55/54,  -56/89,   17/21,   85/18,  -49/22],\n",
    "[ -31/55,  -37/11,   27/47,  -29/82,   -49/6,   70/61,  -31/11,      25,   -31/6,   13/48],\n",
    "[ -81/76,  -65/79,  -42/11,   95/53,  -35/12,    21/4,   -1/37,   -3/19,  -51/44,      -8],\n",
    "[  -5/12,    10/9,    -1/3,  -39/11,  -33/32,  -12/47,   21/29,   -91/8,  -81/44,     8/9],\n",
    "[ -30/37,   86/79,  -63/74,  -29/53,    1/70,    47/4,   65/34,  -33/38,   -6/89,  -23/81],\n",
    "[-100/51,   59/90,   19/45,   68/61,    11/4,   97/90,   33/89,  -28/39,     1/6,   -11/7],\n",
    "[   -7/3,  -37/88,  -45/13,  -96/25,   53/18,   45/17,  -74/91,  -79/24,  -79/25,   11/19],\n",
    "[  -25/4,   46/41,   -5/88,   -8/11,   47/39,  -25/19,   -13/6,   17/20,     -34,  -97/33],\n",
    "[ -75/37,  -29/37,  -17/47,    5/22,   59/39,  -91/12,    -1/8,  -13/95,  -68/87,  -35/57],\n",
    "[   8/23,   13/19,   15/37,    1/24,  100/39,  -22/75,    9/14,   71/76,   13/21,     1/3]])"
   ]
  },
  {
   "cell_type": "code",
   "execution_count": null,
   "metadata": {},
   "outputs": [],
   "source": [
    "A = random_matrix(QQ,10,10,num_bound=100,den_bound=100)\n",
    "Y = random_matrix(QQ,10,1,num_bound=100,den_bound=100)\n",
    "c = random_matrix(QQ,10,1,num_bound=100,den_bound=100)\n",
    "\n",
    "Y = vector(Y)\n",
    "\"\"\"\n",
    "for i in range(len(vector(c))):\n",
    "    if c[i] <= 0:\n",
    "        c[i] = 1/100\n",
    "        \n",
    "for i in range(len(vector(Y))):\n",
    "    if Y[i] <= 0:\n",
    "        Y[i] = 1/100\n",
    "\"\"\"\n",
    "c = vector(c)\n",
    "print(c)\n",
    "print(Y)\n",
    "print(A)"
   ]
  },
  {
   "cell_type": "code",
   "execution_count": null,
   "metadata": {},
   "outputs": [],
   "source": [
    "lp = MixedIntegerLinearProgram(maximization=True,solver=\"GLPK\")\n",
    "x = lp.new_variable(nonnegative=True)\n",
    "lp.add_constraint(A*x <= Y)\n",
    "lp.set_objective(c)"
   ]
  },
  {
   "cell_type": "code",
   "execution_count": null,
   "metadata": {},
   "outputs": [],
   "source": [
    "load(\"exact_optsol_solveright.sage\")\n",
    "cProfile.run(\"exact_optsol_solveright(lp)\")\n"
   ]
  },
  {
   "cell_type": "code",
   "execution_count": null,
   "metadata": {},
   "outputs": [],
   "source": [
    "load(\"exact_optsol_poly.sage\")\n",
    "load(\"poly_solve.sage\")\n",
    "load(\"poly_solve_methods.sage\")\n",
    "cProfile.run(\"exact_optsol_poly(lp)\")"
   ]
  },
  {
   "cell_type": "code",
   "execution_count": null,
   "metadata": {},
   "outputs": [],
   "source": [
    "load(\"exact_optsol_intLP.sage\")\n",
    "cProfile.run(\"d = exact_optsol_intLP(lp)\")"
   ]
  },
  {
   "cell_type": "code",
   "execution_count": null,
   "metadata": {},
   "outputs": [],
   "source": [
    "d"
   ]
  },
  {
   "cell_type": "code",
   "execution_count": null,
   "metadata": {},
   "outputs": [],
   "source": [
    "\n"
   ]
  },
  {
   "cell_type": "code",
   "execution_count": null,
   "metadata": {},
   "outputs": [],
   "source": [
    "\n"
   ]
  },
  {
   "cell_type": "code",
   "execution_count": null,
   "metadata": {},
   "outputs": [],
   "source": []
  }
 ],
 "metadata": {
  "kernelspec": {
   "display_name": "SageMath 9.0",
   "language": "sage",
   "name": "sagemath"
  },
  "language_info": {
   "codemirror_mode": {
    "name": "ipython",
    "version": 3
   },
   "file_extension": ".py",
   "mimetype": "text/x-python",
   "name": "python",
   "nbconvert_exporter": "python",
   "pygments_lexer": "ipython3",
   "version": "3.8.5"
  }
 },
 "nbformat": 4,
 "nbformat_minor": 2
}
