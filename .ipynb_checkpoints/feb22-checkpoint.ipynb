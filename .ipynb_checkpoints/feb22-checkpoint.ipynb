{
 "cells": [
  {
   "cell_type": "code",
   "execution_count": 1,
   "metadata": {},
   "outputs": [
    {
     "name": "stderr",
     "output_type": "stream",
     "text": [
      "INFO: 2021-02-22 19:26:03,129 Initialized ParametricRealField(names = ['mu'], values = [1])\n",
      "INFO: 2021-02-22 19:26:03,413 New constraint: -mu < 0\n",
      "INFO: 2021-02-22 19:26:03,415 New constraint: -mu + 4800/4813 < 0\n",
      "INFO: 2021-02-22 19:26:03,416 New constraint: mu - 24000/359 < 0\n",
      "INFO: 2021-02-22 19:26:03,419 New constraint: mu - 24000/481 < 0\n"
     ]
    }
   ],
   "source": [
    "    load(\"startup.sage\")\n",
    "    \n",
    "    K.<mu> = ParametricRealField([1])\n",
    "      \n",
    "\n",
    "    if base_ring is None:\n",
    "        base_ring = mu.parent()\n",
    "\n",
    "    p2 = MixedIntegerLinearProgram(solver=(\"GLPK\", \"InteractiveLP\"),maximization=True, base_ring=K)\n",
    "\n",
    "    x = p2.new_variable(integer=False, nonnegative=True)\n",
    "    #x0, x1, x2, x3, x4, x5, x6, x7, x8 are portfolio weights\n",
    "    #x9-x32 are constraint variables\n",
    "\n",
    "    num_cols = 9\n",
    "\n",
    "    col1 = [1,1003/1000,1005/1000,1007/1000,1002/1000,1001/1000,1005/1000,1004/1000,1004/1000,1008/1000,1007/1000,1002/1000,1002/1000,1002/1000,1002/1000,1,1002/1000,1004/1000,1004/1000,999/1000,997/1000,1007/1000,996/1000,1002/1000]; col2 = [1044/1000,1015/1000,1024/1000,1027/1000,1040/1000,995/1000,1044/1000,1060/1000,1,1030/1000,963/1000,1005/1000,960/1000,1035/1000,1047/1000,978/1000,1048/1000,1029/1000,1076/1000,1002/1000,1008/1000,958/1000,1056/1000,980/1000]; col3 = [1068/1000,1051/1000,1062/1000,980/1000,991/1000,969/1000,1086/1000,1043/1000,963/1000,949/1000,1034/1000,1022/1000,972/1000,1050/1000,1042/1000,908/1000,1146/1000,1018/1000,1015/1000,909/1000,1063/1000,1064/1000,1071/1000,1070/1000]; col4 = [1016/1000,1039/1000,994/1000,971/1000,1009/1000,1030/1000,1007/1000,1023/1000,1040/1000,1012/1000,1023/1000,995/1000,962/1000,1043/1000,1003/1000,1021/1000,1009/1000,1,1048/1000,1030/1000,1009/1000,983/1000,1016/1000,1012/1000]; col5 = [1035/1000,1046/1000,1008/1000,989/1000,1021/1000,997/1000,1024/1000,1028/1000,1038/1000,1011/1000,943/1000,999/1000,983/1000,1021/1000,1044/1000,1031/1000,1003/1000,1005/1000,1058/1000,986/1000,1017/1000,976/1000,1038/1000,974/1000]; col6 = [1032/1000,1047/1000,1010/1000,973/1000,1020/1000,989/1000,1028/1000,1040/1000,1040/1000,1070/1000,974/1000,995/1000,935/1000,987/1000,1023/1000,1002/1000,1034/1000,969/1000,1063/1000,977/1000,1002/1000,991/1000,1057/1000,987/1000]; col7 = [1004/1000,1028/1000,1021/1000,985/1000,1020/1000,1020/1000,991/1000,1018/1000,999/1000,1039/1000,1016/1000,1018/1000,1002/1000,1010/1000,1008/1000,1008/1000,1002/1000,1001/1000,1009/1000,996/1000,1014/1000,983/1000,1032/1000,981/1000]; col8 = [987/1000,1049/1000,1036/1000,1053/1000,996/1000,999/1000,1026/1000,1053/1000,985/1000,1028/1000,1048/1000,1023/1000,1016/1000,1016/1000,954/1000,1013/1000,1024/1000,1009/1000,999/1000,936/1000,1042/1000,1006/1000,1023/1000,1059/1000]; col9 = [1014/1000,1073/1000,1002/1000,977/1000,1030/1000,1007/1000,999/1000,1003/1000,1015/1000,1029/1000,1055/1000,1,979/1000,969/1000,987/1000,1012/1000,1013/1000,1035/1000,1012/1000,969/1000,995/1000,996/1000,1023/1000,994/1000]\n",
    "\n",
    "    r1sum = 0; r2sum = 0; r3sum = 0; r4sum = 0; r5sum = 0; r6sum = 0; r7sum = 0; r8sum = 0; r9sum = 0\n",
    "\n",
    "    for i in range(len(col1)):\n",
    "        r1sum += col1[i]\n",
    "\n",
    "    for j in range(len(col2)):\n",
    "        r2sum += col2[j]\n",
    "\n",
    "    for k in range(len(col3)):\n",
    "        r3sum += col3[k]\n",
    "\n",
    "    for ii in range(len(col4)):\n",
    "        r4sum += col4[ii]\n",
    "\n",
    "    for iii in range(len(col5)):\n",
    "        r5sum += col5[iii]\n",
    "\n",
    "    for jj in range(len(col6)):\n",
    "        r6sum += col6[jj]\n",
    "\n",
    "    for jjj in range(len(col7)):\n",
    "        r7sum += col7[jjj]\n",
    "\n",
    "    for kk in range(len(col8)):\n",
    "        r8sum += col8[kk]\n",
    "\n",
    "    for iiii in range(len(col9)):\n",
    "        r9sum += col9[iiii]\n",
    "        \n",
    "\n",
    "    r1 = r1sum/24; r2 = r2sum/24; r3 = r3sum/24; r4 = r4sum/24; r5 = r5sum/24; r6 = r6sum/24; r7 = r7sum/24; r8 = r8sum/24; r9 = r9sum/24\n",
    "\n",
    "    #p2.add_constraint(x[0]+x[1]+x[2]+x[3]+x[4]+x[5]+x[6]+x[7]+x[8] == 1)\n",
    "    x0 = 1 - x[1] - x[2] - x[3] - x[4] - x[5] - x[6] -x[7] - x[8]\n",
    "    p2.add_constraint(x0 >= 0)\n",
    "\n",
    "    for t in range(9,33):\n",
    "        p2.add_constraint(-x[t] <= x0*(col1[t-9]-r1) + x[1]*(col2[t-9]-r2) + x[2]*(col3[t-9]-r3) + x[3]*(col4[t-9]-r4)+ x[4]*(col5[t-9]-r5)+ x[5]*(col6[t-9]-r6)+ x[6]*(col7[t-9]-r7)+ x[7]*(col8[t-9]-r8)+ x[8]*(col9[t-9]-r9))\n",
    "\n",
    "    for tt in range(9,33):\n",
    "        p2.add_constraint(x[tt] >= x0*(col1[tt-9]-r1) + x[1]*(col2[tt-9]-r2) + x[2]*(col3[tt-9]-r3) + x[3]*(col4[tt-9]-r4)+ x[4]*(col5[tt-9]-r5)+ x[5]*(col6[tt-9]-r6)+ x[6]*(col7[tt-9]-r7)+ x[7]*(col8[tt-9]-r8)+ x[8]*(col9[tt-9]-r9))\n",
    "\n",
    "\n",
    "    p2.set_objective(mu*(x0*r1 + x[1]*r2 + x[2]*r3 + x[3]*r4 + x[4]*r5 + x[5]*r6 + x[6]*r7 + x[7]*r8 + x[8]*r9) - ((1/24) * sum([x[o] for o in range(9,33)])))\n",
    "\n",
    "    \n",
    "    \n",
    "\n",
    "\t\t"
   ]
  },
  {
   "cell_type": "code",
   "execution_count": 2,
   "metadata": {},
   "outputs": [
    {
     "name": "stderr",
     "output_type": "stream",
     "text": [
      "INFO: 2021-02-22 19:26:42,511 New constraint: mu - 124437259319/8536966368 < 0\n",
      "INFO: 2021-02-22 19:26:42,626 New constraint: mu - 57167378345/19886594064 < 0\n",
      "INFO: 2021-02-22 19:26:42,628 New constraint: mu - 102275612335/85539411543 < 0\n",
      "INFO: 2021-02-22 19:26:42,631 New constraint: mu - 693699728915/684315292344 < 0\n",
      "INFO: 2021-02-22 19:26:44,702 New constraint: mu - 60220786501/59904238576 < 0\n",
      "INFO: 2021-02-22 19:26:55,958 New constraint: -mu + 745834169/747532712 < 0\n"
     ]
    },
    {
     "data": {
      "text/html": [
       "<html><script type=\"math/tex; mode=display\">\\newcommand{\\Bold}[1]{\\mathbf{#1}}\\frac{3522421153}{3473584000} \\mu - \\frac{1393093141}{133385625600}</script></html>"
      ],
      "text/latex": [
       "\\begin{math}\n",
       "\\newcommand{\\Bold}[1]{\\mathbf{#1}}\\frac{3522421153}{3473584000} \\mu - \\frac{1393093141}{133385625600}\n",
       "\\end{math}"
      ],
      "text/plain": [
       "(3522421153/3473584000*mu - 1393093141/133385625600)~"
      ]
     },
     "execution_count": 2,
     "metadata": {},
     "output_type": "execute_result"
    }
   ],
   "source": [
    "%display latex\n",
    "p2.solve()"
   ]
  },
  {
   "cell_type": "code",
   "execution_count": 3,
   "metadata": {},
   "outputs": [
    {
     "data": {
      "text/html": [
       "<html><script type=\"math/tex; mode=display\">\\newcommand{\\Bold}[1]{\\mathbf{#1}}\\left[\\frac{11887803}{55577344}, 0, \\frac{2959925}{6947168}, \\frac{1441065}{55577344}, 0, \\frac{4142437}{55577344}, \\frac{14426639}{55577344}, 0\\right]</script></html>"
      ],
      "text/latex": [
       "\\begin{math}\n",
       "\\newcommand{\\Bold}[1]{\\mathbf{#1}}\\left[\\frac{11887803}{55577344}, 0, \\frac{2959925}{6947168}, \\frac{1441065}{55577344}, 0, \\frac{4142437}{55577344}, \\frac{14426639}{55577344}, 0\\right]\n",
       "\\end{math}"
      ],
      "text/plain": [
       "[11887803/55577344,\n",
       " 0,\n",
       " 2959925/6947168,\n",
       " 1441065/55577344,\n",
       " 0,\n",
       " 4142437/55577344,\n",
       " 14426639/55577344,\n",
       " 0]"
      ]
     },
     "execution_count": 3,
     "metadata": {},
     "output_type": "execute_result"
    }
   ],
   "source": [
    "p2.get_values(x[1],x[2], x[3], x[4], x[5], x[6], x[7], x[8])"
   ]
  },
  {
   "cell_type": "code",
   "execution_count": 4,
   "metadata": {},
   "outputs": [],
   "source": [
    "from sage.numerical.backends.generic_backend import get_solver\n",
    "h = p2.get_backend()\n",
    "b = h.backends[0]\n",
    "bb = h.backends[1]"
   ]
  },
  {
   "cell_type": "code",
   "execution_count": null,
   "metadata": {},
   "outputs": [],
   "source": [
    "p2.number_of_variables()"
   ]
  },
  {
   "cell_type": "code",
   "execution_count": 5,
   "metadata": {},
   "outputs": [],
   "source": [
    "lp = bb.interactive_lp_problem()\n",
    "st = lp.standard_form()\n"
   ]
  },
  {
   "cell_type": "code",
   "execution_count": null,
   "metadata": {},
   "outputs": [],
   "source": [
    "lp"
   ]
  },
  {
   "cell_type": "code",
   "execution_count": null,
   "metadata": {},
   "outputs": [],
   "source": [
    "st.run_revised_simplex_method()"
   ]
  },
  {
   "cell_type": "code",
   "execution_count": 6,
   "metadata": {},
   "outputs": [],
   "source": [
    "c = K.make_proof_cell()"
   ]
  },
  {
   "cell_type": "code",
   "execution_count": 7,
   "metadata": {},
   "outputs": [
    {
     "data": {
      "text/html": [
       "<html><script type=\"math/tex; mode=display\">\\newcommand{\\Bold}[1]{\\mathbf{#1}}\\verb|BasicSemialgebraicSet_veronese(BasicSemialgebraicSet_polyhedral_ppl_NNC_Polyhedron(Constraint_System|\\phantom{\\verb!x!}\\verb|{-59904238576*x0+60220786501>0,|\\phantom{\\verb!x!}\\verb|747532712*x0-745834169>0},|\\phantom{\\verb!x!}\\verb|names=[x0]),|\\phantom{\\verb!x!}\\verb|polynomial_map=[mu])|</script></html>"
      ],
      "text/latex": [
       "\\begin{math}\n",
       "\\newcommand{\\Bold}[1]{\\mathbf{#1}}\\verb|BasicSemialgebraicSet_veronese(BasicSemialgebraicSet_polyhedral_ppl_NNC_Polyhedron(Constraint_System|\\phantom{\\verb!x!}\\verb|{-59904238576*x0+60220786501>0,|\\phantom{\\verb!x!}\\verb|747532712*x0-745834169>0},|\\phantom{\\verb!x!}\\verb|names=[x0]),|\\phantom{\\verb!x!}\\verb|polynomial_map=[mu])|\n",
       "\\end{math}"
      ],
      "text/plain": [
       "BasicSemialgebraicSet_veronese(BasicSemialgebraicSet_polyhedral_ppl_NNC_Polyhedron(Constraint_System {-59904238576*x0+60220786501>0, 747532712*x0-745834169>0}, names=[x0]), polynomial_map=[mu])"
      ]
     },
     "execution_count": 7,
     "metadata": {},
     "output_type": "execute_result"
    }
   ],
   "source": [
    "c.bsa"
   ]
  },
  {
   "cell_type": "code",
   "execution_count": null,
   "metadata": {},
   "outputs": [],
   "source": [
    "K.get_lt()"
   ]
  },
  {
   "cell_type": "code",
   "execution_count": 8,
   "metadata": {},
   "outputs": [],
   "source": [
    "bsa = c.bsa"
   ]
  },
  {
   "cell_type": "code",
   "execution_count": 9,
   "metadata": {},
   "outputs": [
    {
     "data": {
      "text/html": [
       "<html><script type=\"math/tex; mode=display\">\\newcommand{\\Bold}[1]{\\mathbf{#1}}\\left[59904238576 \\mu - 60220786501, -747532712 \\mu + 745834169\\right]</script></html>"
      ],
      "text/latex": [
       "\\begin{math}\n",
       "\\newcommand{\\Bold}[1]{\\mathbf{#1}}\\left[59904238576 \\mu - 60220786501, -747532712 \\mu + 745834169\\right]\n",
       "\\end{math}"
      ],
      "text/plain": [
       "[59904238576*mu - 60220786501, -747532712*mu + 745834169]"
      ]
     },
     "execution_count": 9,
     "metadata": {},
     "output_type": "execute_result"
    }
   ],
   "source": [
    "list(bsa.lt_poly())"
   ]
  },
  {
   "cell_type": "code",
   "execution_count": null,
   "metadata": {},
   "outputs": [],
   "source": [
    "K.get_lt_factor()"
   ]
  },
  {
   "cell_type": "code",
   "execution_count": 10,
   "metadata": {},
   "outputs": [
    {
     "name": "stderr",
     "output_type": "stream",
     "text": [
      "INFO: 2021-02-22 19:27:14,997 Initialized ParametricRealField(names = ['mu'], values = [1])\n",
      "INFO: 2021-02-22 19:27:14,998 New constraint: -mu < 0\n",
      "INFO: 2021-02-22 19:27:15,195 New constraint: -mu + 4800/4813 < 0\n",
      "INFO: 2021-02-22 19:29:49,211 New constraint: mu - 124437259319/8536966368 < 0\n",
      "INFO: 2021-02-22 19:29:49,550 New constraint: mu - 57167378345/19886594064 < 0\n",
      "INFO: 2021-02-22 19:29:49,551 New constraint: mu - 102275612335/85539411543 < 0\n",
      "INFO: 2021-02-22 19:29:49,554 New constraint: mu - 693699728915/684315292344 < 0\n",
      "INFO: 2021-02-22 19:29:56,870 New constraint: mu - 60220786501/59904238576 < 0\n",
      "INFO: 2021-02-22 19:30:41,099 New constraint: -mu + 745834169/747532712 < 0\n",
      "INFO: 2021-02-22 19:31:48,800 Initialized ParametricRealField(names = ['mu'], values = [30629/30468])\n",
      "INFO: 2021-02-22 19:31:48,801 New constraint: -mu < 0\n",
      "INFO: 2021-02-22 19:31:48,992 New constraint: -mu + 4800/4813 < 0\n",
      "INFO: 2021-02-22 19:34:24,576 New constraint: mu - 124437259319/8536966368 < 0\n",
      "INFO: 2021-02-22 19:34:24,916 New constraint: mu - 57167378345/19886594064 < 0\n",
      "INFO: 2021-02-22 19:34:24,918 New constraint: mu - 102275612335/85539411543 < 0\n",
      "INFO: 2021-02-22 19:34:24,920 New constraint: mu - 693699728915/684315292344 < 0\n",
      "INFO: 2021-02-22 19:34:32,383 New constraint: -mu + 60220786501/59904238576 < 0\n",
      "INFO: 2021-02-22 19:35:12,789 New constraint: mu - 35223765/34920233 < 0\n",
      "INFO: 2021-02-22 19:36:24,885 Initialized ParametricRealField(names = ['mu'], values = [38641/38729])\n",
      "INFO: 2021-02-22 19:36:24,886 New constraint: -mu < 0\n",
      "INFO: 2021-02-22 19:36:25,076 New constraint: -mu + 4800/4813 < 0\n",
      "INFO: 2021-02-22 19:39:01,087 New constraint: mu - 124437259319/8536966368 < 0\n",
      "INFO: 2021-02-22 19:39:01,429 New constraint: mu - 57167378345/19886594064 < 0\n",
      "INFO: 2021-02-22 19:39:01,431 New constraint: mu - 102275612335/85539411543 < 0\n",
      "INFO: 2021-02-22 19:39:01,434 New constraint: mu - 693699728915/684315292344 < 0\n",
      "INFO: 2021-02-22 19:39:08,855 New constraint: mu - 60220786501/59904238576 < 0\n",
      "INFO: 2021-02-22 19:39:53,574 New constraint: mu - 745834169/747532712 < 0\n",
      "INFO: 2021-02-22 19:41:01,936 Initialized ParametricRealField(names = ['mu'], values = [12533/12425])\n",
      "INFO: 2021-02-22 19:41:01,937 New constraint: -mu < 0\n",
      "INFO: 2021-02-22 19:41:02,135 New constraint: -mu + 4800/4813 < 0\n",
      "INFO: 2021-02-22 19:43:38,864 New constraint: mu - 124437259319/8536966368 < 0\n",
      "INFO: 2021-02-22 19:43:39,207 New constraint: mu - 57167378345/19886594064 < 0\n",
      "INFO: 2021-02-22 19:43:39,209 New constraint: mu - 102275612335/85539411543 < 0\n",
      "INFO: 2021-02-22 19:43:39,212 New constraint: mu - 693699728915/684315292344 < 0\n",
      "INFO: 2021-02-22 19:43:46,705 New constraint: -mu + 60220786501/59904238576 < 0\n",
      "INFO: 2021-02-22 19:44:27,349 New constraint: -mu + 35223765/34920233 < 0\n",
      "INFO: 2021-02-22 19:45:36,166 Initialized ParametricRealField(names = ['mu'], values = [34312/34405])\n",
      "INFO: 2021-02-22 19:45:36,167 New constraint: -mu < 0\n",
      "INFO: 2021-02-22 19:45:36,358 New constraint: mu - 4800/4813 < 0\n",
      "INFO: 2021-02-22 19:45:36,359 New constraint: -mu + 3000/3053 < 0\n",
      "INFO: 2021-02-22 19:45:36,361 New constraint: -mu + 4800/4859 < 0\n",
      "INFO: 2021-02-22 19:45:36,362 New constraint: -mu + 960/971 < 0\n",
      "INFO: 2021-02-22 19:45:36,363 New constraint: -mu + 4800/4849 < 0\n",
      "INFO: 2021-02-22 19:45:36,364 New constraint: -mu + 4800/4841 < 0\n",
      "INFO: 2021-02-22 19:45:36,365 New constraint: -mu + 6000/6047 < 0\n",
      "INFO: 2021-02-22 19:49:05,510 New constraint: -mu + 120635348435/121092199208 < 0\n",
      "INFO: 2021-02-22 19:50:14,384 Initialized ParametricRealField(names = ['mu'], values = [25946/25595])\n",
      "INFO: 2021-02-22 19:50:14,385 New constraint: -mu < 0\n",
      "INFO: 2021-02-22 19:50:14,575 New constraint: -mu + 4800/4813 < 0\n",
      "INFO: 2021-02-22 19:52:52,016 New constraint: mu - 124437259319/8536966368 < 0\n",
      "INFO: 2021-02-22 19:52:52,363 New constraint: mu - 57167378345/19886594064 < 0\n",
      "INFO: 2021-02-22 19:52:52,365 New constraint: mu - 102275612335/85539411543 < 0\n",
      "INFO: 2021-02-22 19:52:52,368 New constraint: -mu + 693699728915/684315292344 < 0\n",
      "INFO: 2021-02-22 19:52:56,090 New constraint: mu - 2404313241577/2368240646352 < 0\n",
      "INFO: 2021-02-22 19:54:49,604 Initialized ParametricRealField(names = ['mu'], values = [54132/54337])\n",
      "INFO: 2021-02-22 19:54:49,605 New constraint: -mu < 0\n",
      "INFO: 2021-02-22 19:54:49,873 New constraint: mu - 4800/4813 < 0\n",
      "INFO: 2021-02-22 19:54:49,875 New constraint: -mu + 3000/3053 < 0\n",
      "INFO: 2021-02-22 19:54:49,877 New constraint: -mu + 4800/4859 < 0\n",
      "INFO: 2021-02-22 19:54:49,878 New constraint: -mu + 960/971 < 0\n",
      "INFO: 2021-02-22 19:54:49,879 New constraint: -mu + 4800/4849 < 0\n",
      "INFO: 2021-02-22 19:54:49,880 New constraint: -mu + 4800/4841 < 0\n",
      "INFO: 2021-02-22 19:54:49,881 New constraint: -mu + 6000/6047 < 0\n",
      "INFO: 2021-02-22 19:58:19,173 New constraint: mu - 120635348435/121092199208 < 0\n",
      "INFO: 2021-02-22 19:59:20,621 Initialized ParametricRealField(names = ['mu'], values = [27394/26983])\n",
      "INFO: 2021-02-22 19:59:20,622 New constraint: -mu < 0\n",
      "INFO: 2021-02-22 19:59:20,887 New constraint: -mu + 4800/4813 < 0\n",
      "INFO: 2021-02-22 20:01:58,568 New constraint: mu - 124437259319/8536966368 < 0\n",
      "INFO: 2021-02-22 20:01:58,915 New constraint: mu - 57167378345/19886594064 < 0\n",
      "INFO: 2021-02-22 20:01:58,916 New constraint: mu - 102275612335/85539411543 < 0\n",
      "INFO: 2021-02-22 20:01:58,920 New constraint: -mu + 693699728915/684315292344 < 0\n",
      "INFO: 2021-02-22 20:02:02,678 New constraint: -mu + 2404313241577/2368240646352 < 0\n",
      "INFO: 2021-02-22 20:02:06,578 New constraint: mu - 213648703873/179712715728 < 0\n",
      "INFO: 2021-02-22 20:02:10,302 New constraint: mu - 1108202915/972279879 < 0\n",
      "INFO: 2021-02-22 20:02:14,025 New constraint: mu - 327215135/300519906 < 0\n",
      "INFO: 2021-02-22 20:02:17,750 New constraint: mu - 2399533/2250348 < 0\n",
      "INFO: 2021-02-22 20:02:21,119 New constraint: mu - 1728153785/1655863452 < 0\n",
      "INFO: 2021-02-22 20:02:58,778 New constraint: mu - 1607488765/1550176499 < 0\n",
      "INFO: 2021-02-22 20:03:29,151 New constraint: mu - 28073676377/27410652555 < 0\n",
      "INFO: 2021-02-22 20:03:56,751 Initialized ParametricRealField(names = ['mu'], values = [41991/42320])\n",
      "INFO: 2021-02-22 20:03:56,753 New constraint: -mu < 0\n",
      "INFO: 2021-02-22 20:03:56,941 New constraint: mu - 4800/4813 < 0\n",
      "INFO: 2021-02-22 20:03:56,943 New constraint: -mu + 3000/3053 < 0\n",
      "INFO: 2021-02-22 20:03:56,944 New constraint: -mu + 4800/4859 < 0\n",
      "INFO: 2021-02-22 20:03:56,945 New constraint: -mu + 960/971 < 0\n",
      "INFO: 2021-02-22 20:03:56,947 New constraint: -mu + 4800/4849 < 0\n",
      "INFO: 2021-02-22 20:03:56,948 New constraint: -mu + 4800/4841 < 0\n",
      "INFO: 2021-02-22 20:03:56,949 New constraint: mu - 6000/6047 < 0\n",
      "INFO: 2021-02-22 20:07:35,927 New constraint: -mu + 300523917/302975362 < 0\n",
      "INFO: 2021-02-22 20:08:29,915 Initialized ParametricRealField(names = ['mu'], values = [4954/4837])\n",
      "INFO: 2021-02-22 20:08:29,916 New constraint: -mu < 0\n",
      "INFO: 2021-02-22 20:08:30,106 New constraint: -mu + 4800/4813 < 0\n",
      "INFO: 2021-02-22 20:11:08,955 New constraint: mu - 124437259319/8536966368 < 0\n",
      "INFO: 2021-02-22 20:11:09,306 New constraint: mu - 57167378345/19886594064 < 0\n",
      "INFO: 2021-02-22 20:11:09,308 New constraint: mu - 102275612335/85539411543 < 0\n",
      "INFO: 2021-02-22 20:11:09,311 New constraint: -mu + 693699728915/684315292344 < 0\n",
      "INFO: 2021-02-22 20:11:13,068 New constraint: -mu + 2404313241577/2368240646352 < 0\n",
      "INFO: 2021-02-22 20:11:16,820 New constraint: mu - 213648703873/179712715728 < 0\n",
      "INFO: 2021-02-22 20:11:20,654 New constraint: mu - 1108202915/972279879 < 0\n",
      "INFO: 2021-02-22 20:11:24,399 New constraint: mu - 327215135/300519906 < 0\n",
      "INFO: 2021-02-22 20:11:28,136 New constraint: mu - 2399533/2250348 < 0\n",
      "INFO: 2021-02-22 20:11:31,530 New constraint: mu - 1728153785/1655863452 < 0\n",
      "INFO: 2021-02-22 20:12:09,415 New constraint: mu - 1607488765/1550176499 < 0\n",
      "INFO: 2021-02-22 20:12:39,980 New constraint: -mu + 28073676377/27410652555 < 0\n",
      "INFO: 2021-02-22 20:13:07,706 Initialized ParametricRealField(names = ['mu'], values = [28441/28673])\n",
      "INFO: 2021-02-22 20:13:07,707 New constraint: -mu < 0\n",
      "INFO: 2021-02-22 20:13:07,896 New constraint: mu - 4800/4813 < 0\n",
      "INFO: 2021-02-22 20:13:07,897 New constraint: -mu + 3000/3053 < 0\n",
      "INFO: 2021-02-22 20:13:07,899 New constraint: -mu + 4800/4859 < 0\n",
      "INFO: 2021-02-22 20:13:07,900 New constraint: -mu + 960/971 < 0\n"
     ]
    },
    {
     "name": "stderr",
     "output_type": "stream",
     "text": [
      "INFO: 2021-02-22 20:13:07,901 New constraint: -mu + 4800/4849 < 0\n",
      "INFO: 2021-02-22 20:13:07,902 New constraint: -mu + 4800/4841 < 0\n",
      "INFO: 2021-02-22 20:13:07,903 New constraint: mu - 6000/6047 < 0\n",
      "INFO: 2021-02-22 20:16:47,873 New constraint: mu - 300523917/302975362 < 0\n",
      "INFO: 2021-02-22 20:17:42,058 Initialized ParametricRealField(names = ['mu'], values = [42745/41221])\n",
      "INFO: 2021-02-22 20:17:42,060 New constraint: -mu < 0\n",
      "INFO: 2021-02-22 20:17:42,250 New constraint: -mu + 4800/4813 < 0\n",
      "INFO: 2021-02-22 20:20:22,003 New constraint: mu - 124437259319/8536966368 < 0\n",
      "INFO: 2021-02-22 20:20:22,356 New constraint: mu - 57167378345/19886594064 < 0\n",
      "INFO: 2021-02-22 20:20:22,358 New constraint: mu - 102275612335/85539411543 < 0\n",
      "INFO: 2021-02-22 20:20:22,361 New constraint: -mu + 693699728915/684315292344 < 0\n",
      "INFO: 2021-02-22 20:20:26,211 New constraint: -mu + 2404313241577/2368240646352 < 0\n",
      "INFO: 2021-02-22 20:20:30,002 New constraint: mu - 213648703873/179712715728 < 0\n",
      "INFO: 2021-02-22 20:20:33,767 New constraint: mu - 1108202915/972279879 < 0\n",
      "INFO: 2021-02-22 20:20:37,525 New constraint: mu - 327215135/300519906 < 0\n",
      "INFO: 2021-02-22 20:20:41,357 New constraint: mu - 2399533/2250348 < 0\n",
      "INFO: 2021-02-22 20:20:44,760 New constraint: mu - 1728153785/1655863452 < 0\n",
      "INFO: 2021-02-22 20:21:22,715 New constraint: -mu + 1607488765/1550176499 < 0\n",
      "INFO: 2021-02-22 20:22:12,402 New constraint: mu - 23183011/22275216 < 0\n",
      "INFO: 2021-02-22 20:22:28,907 Initialized ParametricRealField(names = ['mu'], values = [39561/39899])\n",
      "INFO: 2021-02-22 20:22:28,908 New constraint: -mu < 0\n",
      "INFO: 2021-02-22 20:22:29,097 New constraint: mu - 4800/4813 < 0\n",
      "INFO: 2021-02-22 20:22:29,098 New constraint: -mu + 3000/3053 < 0\n",
      "INFO: 2021-02-22 20:22:29,100 New constraint: -mu + 4800/4859 < 0\n",
      "INFO: 2021-02-22 20:22:29,101 New constraint: -mu + 960/971 < 0\n",
      "INFO: 2021-02-22 20:22:29,102 New constraint: -mu + 4800/4849 < 0\n",
      "INFO: 2021-02-22 20:22:29,103 New constraint: mu - 4800/4841 < 0\n",
      "INFO: 2021-02-22 20:27:04,352 Initialized ParametricRealField(names = ['mu'], values = [23699/22771])\n",
      "INFO: 2021-02-22 20:27:04,353 New constraint: -mu < 0\n",
      "INFO: 2021-02-22 20:27:04,543 New constraint: -mu + 4800/4813 < 0\n",
      "INFO: 2021-02-22 20:29:44,768 New constraint: mu - 124437259319/8536966368 < 0\n",
      "INFO: 2021-02-22 20:29:45,122 New constraint: mu - 57167378345/19886594064 < 0\n",
      "INFO: 2021-02-22 20:29:45,124 New constraint: mu - 102275612335/85539411543 < 0\n",
      "INFO: 2021-02-22 20:29:45,127 New constraint: -mu + 693699728915/684315292344 < 0\n",
      "INFO: 2021-02-22 20:29:48,996 New constraint: -mu + 2404313241577/2368240646352 < 0\n",
      "INFO: 2021-02-22 20:29:52,789 New constraint: mu - 213648703873/179712715728 < 0\n",
      "INFO: 2021-02-22 20:29:56,571 New constraint: mu - 1108202915/972279879 < 0\n",
      "INFO: 2021-02-22 20:30:00,375 New constraint: mu - 327215135/300519906 < 0\n",
      "INFO: 2021-02-22 20:30:04,150 New constraint: mu - 2399533/2250348 < 0\n",
      "INFO: 2021-02-22 20:30:07,654 New constraint: mu - 1728153785/1655863452 < 0\n",
      "INFO: 2021-02-22 20:30:45,841 New constraint: -mu + 1607488765/1550176499 < 0\n",
      "INFO: 2021-02-22 20:31:35,759 New constraint: -mu + 23183011/22275216 < 0\n",
      "INFO: 2021-02-22 20:31:52,332 Initialized ParametricRealField(names = ['mu'], values = [36923/37300])\n",
      "INFO: 2021-02-22 20:31:52,333 New constraint: -mu < 0\n",
      "INFO: 2021-02-22 20:31:52,523 New constraint: mu - 4800/4813 < 0\n",
      "INFO: 2021-02-22 20:31:52,524 New constraint: -mu + 3000/3053 < 0\n",
      "INFO: 2021-02-22 20:31:52,525 New constraint: -mu + 4800/4859 < 0\n",
      "INFO: 2021-02-22 20:31:52,526 New constraint: -mu + 960/971 < 0\n",
      "INFO: 2021-02-22 20:31:52,528 New constraint: mu - 4800/4849 < 0\n",
      "INFO: 2021-02-22 20:36:29,146 Initialized ParametricRealField(names = ['mu'], values = [14038/14199])\n",
      "INFO: 2021-02-22 20:36:29,148 New constraint: -mu < 0\n",
      "INFO: 2021-02-22 20:36:29,338 New constraint: mu - 4800/4813 < 0\n",
      "INFO: 2021-02-22 20:36:29,339 New constraint: -mu + 3000/3053 < 0\n",
      "INFO: 2021-02-22 20:36:29,340 New constraint: -mu + 4800/4859 < 0\n",
      "INFO: 2021-02-22 20:36:29,341 New constraint: mu - 960/971 < 0\n",
      "INFO: 2021-02-22 20:41:06,368 Initialized ParametricRealField(names = ['mu'], values = [50188/50805])\n",
      "INFO: 2021-02-22 20:41:06,369 New constraint: -mu < 0\n",
      "INFO: 2021-02-22 20:41:06,645 New constraint: mu - 4800/4813 < 0\n",
      "INFO: 2021-02-22 20:41:06,646 New constraint: -mu + 3000/3053 < 0\n",
      "INFO: 2021-02-22 20:41:06,648 New constraint: mu - 4800/4859 < 0\n",
      "INFO: 2021-02-22 20:41:06,650 New constraint: -mu + 1200/1219 < 0\n",
      "INFO: 2021-02-22 20:45:43,969 Initialized ParametricRealField(names = ['mu'], values = [46270/47003])\n",
      "INFO: 2021-02-22 20:45:43,970 New constraint: -mu < 0\n",
      "INFO: 2021-02-22 20:45:44,160 New constraint: mu - 4800/4813 < 0\n",
      "INFO: 2021-02-22 20:45:44,161 New constraint: -mu + 3000/3053 < 0\n",
      "INFO: 2021-02-22 20:45:44,163 New constraint: mu - 4800/4859 < 0\n",
      "INFO: 2021-02-22 20:45:44,165 New constraint: mu - 1200/1219 < 0\n",
      "INFO: 2021-02-22 20:50:22,011 Initialized ParametricRealField(names = ['mu'], values = [33503/34095])\n",
      "INFO: 2021-02-22 20:50:22,012 New constraint: -mu < 0\n",
      "INFO: 2021-02-22 20:50:22,202 New constraint: mu - 4800/4813 < 0\n",
      "INFO: 2021-02-22 20:50:22,203 New constraint: mu - 3000/3053 < 0\n",
      "INFO: 2021-02-22 20:50:22,204 New constraint: -mu + 4000/4091 < 0\n",
      "INFO: 2021-02-22 20:53:19,805 New constraint: -mu + 295218655/300519906 < 0\n",
      "INFO: 2021-02-22 20:55:01,044 Initialized ParametricRealField(names = ['mu'], values = [24670/25113])\n",
      "INFO: 2021-02-22 20:55:01,045 New constraint: -mu < 0\n",
      "INFO: 2021-02-22 20:55:01,234 New constraint: mu - 4800/4813 < 0\n",
      "INFO: 2021-02-22 20:55:01,235 New constraint: mu - 3000/3053 < 0\n",
      "INFO: 2021-02-22 20:55:01,236 New constraint: -mu + 4000/4091 < 0\n",
      "INFO: 2021-02-22 20:57:59,141 New constraint: mu - 295218655/300519906 < 0\n",
      "INFO: 2021-02-22 20:58:41,402 New constraint: -mu + 2204663816/2249690043 < 0\n",
      "INFO: 2021-02-22 20:59:40,423 Initialized ParametricRealField(names = ['mu'], values = [47593/48565])\n",
      "INFO: 2021-02-22 20:59:40,424 New constraint: -mu < 0\n",
      "INFO: 2021-02-22 20:59:40,703 New constraint: mu - 4800/4813 < 0\n",
      "INFO: 2021-02-22 20:59:40,705 New constraint: mu - 3000/3053 < 0\n",
      "INFO: 2021-02-22 20:59:40,706 New constraint: -mu + 4000/4091 < 0\n",
      "INFO: 2021-02-22 21:02:38,655 New constraint: mu - 295218655/300519906 < 0\n",
      "INFO: 2021-02-22 21:03:21,105 New constraint: mu - 2204663816/2249690043 < 0\n",
      "INFO: 2021-02-22 21:04:06,871 New constraint: -mu + 115577279/118089024 < 0\n"
     ]
    }
   ],
   "source": [
    "complex = SemialgebraicComplex(portfolio2, ['mu'], find_region_type=result_concrete_value, default_var_bound=(0,10))\n",
    "complex.bfs_completion(var_value=[1], flip_ineq_step=1/100, check_completion=False,wall_crossing_method=\"heuristic\", goto_lower_dim=False)"
   ]
  },
  {
   "cell_type": "code",
   "execution_count": 11,
   "metadata": {},
   "outputs": [
    {
     "name": "stdout",
     "output_type": "stream",
     "text": [
      "SemialgebraicComplexComponent(var_value=(1,), region_type=(0, 11887803/55577344, 0, 2959925/6947168, 1441065/55577344, 0, 4142437/55577344, 14426639/55577344, 0), polyhedral, 0 eqs, 2 strict-ins, 0 nonstrict-ins)\n",
      "SemialgebraicComplexComponent(var_value=(30629/30468,), region_type=(0, 11887803/55577344, 0, 2959925/6947168, 1441065/55577344, 0, 4142437/55577344, 14426639/55577344, 0), polyhedral, 0 eqs, 2 strict-ins, 0 nonstrict-ins)\n",
      "SemialgebraicComplexComponent(var_value=(38641/38729,), region_type=(0, 11887803/55577344, 0, 2959925/6947168, 1441065/55577344, 0, 4142437/55577344, 14426639/55577344, 0), polyhedral, 0 eqs, 2 strict-ins, 0 nonstrict-ins)\n",
      "SemialgebraicComplexComponent(var_value=(12533/12425,), region_type=(0, 11887803/55577344, 0, 2959925/6947168, 1441065/55577344, 0, 4142437/55577344, 14426639/55577344, 0), polyhedral, 0 eqs, 2 strict-ins, 0 nonstrict-ins)\n",
      "SemialgebraicComplexComponent(var_value=(34312/34405,), region_type=(0, 11887803/55577344, 0, 2959925/6947168, 1441065/55577344, 0, 4142437/55577344, 14426639/55577344, 0), polyhedral, 0 eqs, 2 strict-ins, 0 nonstrict-ins)\n",
      "SemialgebraicComplexComponent(var_value=(25946/25595,), region_type=(0, 11887803/55577344, 0, 2959925/6947168, 1441065/55577344, 0, 4142437/55577344, 14426639/55577344, 0), polyhedral, 0 eqs, 2 strict-ins, 0 nonstrict-ins)\n",
      "SemialgebraicComplexComponent(var_value=(54132/54337,), region_type=(0, 11887803/55577344, 0, 2959925/6947168, 1441065/55577344, 0, 4142437/55577344, 14426639/55577344, 0), polyhedral, 0 eqs, 2 strict-ins, 0 nonstrict-ins)\n",
      "SemialgebraicComplexComponent(var_value=(27394/26983,), region_type=(0, 11887803/55577344, 0, 2959925/6947168, 1441065/55577344, 0, 4142437/55577344, 14426639/55577344, 0), polyhedral, 0 eqs, 2 strict-ins, 0 nonstrict-ins)\n",
      "SemialgebraicComplexComponent(var_value=(41991/42320,), region_type=(0, 11887803/55577344, 0, 2959925/6947168, 1441065/55577344, 0, 4142437/55577344, 14426639/55577344, 0), polyhedral, 0 eqs, 2 strict-ins, 0 nonstrict-ins)\n",
      "SemialgebraicComplexComponent(var_value=(4954/4837,), region_type=(0, 11887803/55577344, 0, 2959925/6947168, 1441065/55577344, 0, 4142437/55577344, 14426639/55577344, 0), polyhedral, 0 eqs, 2 strict-ins, 0 nonstrict-ins)\n",
      "SemialgebraicComplexComponent(var_value=(28441/28673,), region_type=(0, 11887803/55577344, 0, 2959925/6947168, 1441065/55577344, 0, 4142437/55577344, 14426639/55577344, 0), polyhedral, 0 eqs, 2 strict-ins, 0 nonstrict-ins)\n",
      "SemialgebraicComplexComponent(var_value=(42745/41221,), region_type=(0, 11887803/55577344, 0, 2959925/6947168, 1441065/55577344, 0, 4142437/55577344, 14426639/55577344, 0), polyhedral, 0 eqs, 2 strict-ins, 0 nonstrict-ins)\n",
      "SemialgebraicComplexComponent(var_value=(39561/39899,), region_type=(0, 11887803/55577344, 0, 2959925/6947168, 1441065/55577344, 0, 4142437/55577344, 14426639/55577344, 0), polyhedral, 0 eqs, 2 strict-ins, 0 nonstrict-ins)\n",
      "SemialgebraicComplexComponent(var_value=(23699/22771,), region_type=(0, 11887803/55577344, 0, 2959925/6947168, 1441065/55577344, 0, 4142437/55577344, 14426639/55577344, 0), polyhedral, 0 eqs, 2 strict-ins, 0 nonstrict-ins)\n",
      "SemialgebraicComplexComponent(var_value=(36923/37300,), region_type=(0, 11887803/55577344, 0, 2959925/6947168, 1441065/55577344, 0, 4142437/55577344, 14426639/55577344, 0), polyhedral, 0 eqs, 2 strict-ins, 0 nonstrict-ins)\n",
      "SemialgebraicComplexComponent(var_value=(14038/14199,), region_type=(0, 11887803/55577344, 0, 2959925/6947168, 1441065/55577344, 0, 4142437/55577344, 14426639/55577344, 0), polyhedral, 0 eqs, 2 strict-ins, 0 nonstrict-ins)\n",
      "SemialgebraicComplexComponent(var_value=(50188/50805,), region_type=(0, 11887803/55577344, 0, 2959925/6947168, 1441065/55577344, 0, 4142437/55577344, 14426639/55577344, 0), polyhedral, 0 eqs, 2 strict-ins, 0 nonstrict-ins)\n",
      "SemialgebraicComplexComponent(var_value=(46270/47003,), region_type=(0, 11887803/55577344, 0, 2959925/6947168, 1441065/55577344, 0, 4142437/55577344, 14426639/55577344, 0), polyhedral, 0 eqs, 2 strict-ins, 0 nonstrict-ins)\n",
      "SemialgebraicComplexComponent(var_value=(33503/34095,), region_type=(0, 11887803/55577344, 0, 2959925/6947168, 1441065/55577344, 0, 4142437/55577344, 14426639/55577344, 0), polyhedral, 0 eqs, 2 strict-ins, 0 nonstrict-ins)\n",
      "SemialgebraicComplexComponent(var_value=(24670/25113,), region_type=(0, 11887803/55577344, 0, 2959925/6947168, 1441065/55577344, 0, 4142437/55577344, 14426639/55577344, 0), polyhedral, 0 eqs, 2 strict-ins, 0 nonstrict-ins)\n",
      "SemialgebraicComplexComponent(var_value=(47593/48565,), region_type=(0, 11887803/55577344, 0, 2959925/6947168, 1441065/55577344, 0, 4142437/55577344, 14426639/55577344, 0), polyhedral, 0 eqs, 2 strict-ins, 0 nonstrict-ins)\n"
     ]
    }
   ],
   "source": [
    "for i in complex.components:\n",
    "    print(i)"
   ]
  },
  {
   "cell_type": "code",
   "execution_count": null,
   "metadata": {},
   "outputs": [],
   "source": []
  }
 ],
 "metadata": {
  "kernelspec": {
   "display_name": "SageMath 9.3.beta6",
   "language": "sage",
   "name": "sagemath"
  },
  "language_info": {
   "codemirror_mode": {
    "name": "ipython",
    "version": 3
   },
   "file_extension": ".py",
   "mimetype": "text/x-python",
   "name": "python",
   "nbconvert_exporter": "python",
   "pygments_lexer": "ipython3",
   "version": "3.8.5"
  }
 },
 "nbformat": 4,
 "nbformat_minor": 4
}
